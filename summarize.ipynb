{
 "cells": [
  {
   "cell_type": "markdown",
   "metadata": {},
   "source": [
    "# Summarize"
   ]
  },
  {
   "cell_type": "markdown",
   "metadata": {},
   "source": [
    "## Import Libraries"
   ]
  },
  {
   "cell_type": "code",
   "execution_count": 1,
   "metadata": {},
   "outputs": [
    {
     "name": "stderr",
     "output_type": "stream",
     "text": [
      "/Users/bernd/Documents/Own_Projects/articles_summary/nlpenv/lib/python3.9/site-packages/tqdm/auto.py:21: TqdmWarning: IProgress not found. Please update jupyter and ipywidgets. See https://ipywidgets.readthedocs.io/en/stable/user_install.html\n",
      "  from .autonotebook import tqdm as notebook_tqdm\n"
     ]
    }
   ],
   "source": [
    "import boto3\n",
    "import pandas as pd\n",
    "from transformers import AutoTokenizer, AutoModelForSeq2SeqLM\n",
    "\n",
    "import importlib.util\n",
    "from botocore.exceptions import ClientError\n",
    "\n",
    "\n",
    "#from io import BytesIO\n",
    "from io import StringIO\n",
    "\n",
    "import configparser\n",
    "import sys\n",
    "import os"
   ]
  },
  {
   "cell_type": "markdown",
   "metadata": {},
   "source": [
    "## Functions"
   ]
  },
  {
   "cell_type": "markdown",
   "metadata": {},
   "source": [
    "### Create an aws session"
   ]
  },
  {
   "cell_type": "code",
   "execution_count": 2,
   "metadata": {},
   "outputs": [],
   "source": [
    "def create_aws_session(profile_name='py_admin'):\n",
    "    try:\n",
    "        session = boto3.Session(profile_name=profile_name)\n",
    "        return session\n",
    "    except Exception as e:\n",
    "        print(f\"Error creating session for profile {profile_name}: {e}\")\n",
    "        return None\n",
    "\n",
    "# Use the py_admin profile\n",
    "session = create_aws_session()\n",
    "\n",
    "\n",
    "# Initialize S3 client\n",
    "s3 = session.client('s3')"
   ]
  },
  {
   "cell_type": "markdown",
   "metadata": {},
   "source": [
    "### S3 Methods"
   ]
  },
  {
   "cell_type": "code",
   "execution_count": 3,
   "metadata": {},
   "outputs": [],
   "source": [
    "def download_csv_content_from_s3(bucket, key, encoding, s3_client):\n",
    "    \"\"\"\n",
    "    Downloads a CSV file from S3 and returns its content as a string.\n",
    "\n",
    "    Parameters:\n",
    "    bucket (str): The name of the S3 bucket.\n",
    "    key (str): The key (path) of the file in the S3 bucket.\n",
    "    encoding (str): csv encoding\n",
    "\n",
    "    s3_client has to be set as global variable in general code or passed to the function\n",
    "\n",
    "    Returns:\n",
    "    csv_content (str): The content of the CSV file.\n",
    "    encoding (str): the encoding which was used\n",
    "    \"\"\"\n",
    "\n",
    "    # Download the content of the csv file from s3    \n",
    "    try:\n",
    "        response = s3_client.get_object(Bucket=bucket, Key=key)\n",
    "    except ClientError as e:\n",
    "        error_dict = {\n",
    "            'function':'download_csv_content_from_s3',\n",
    "            'statusCode': 500,\n",
    "            'body': str(e)\n",
    "        }\n",
    "        print(error_dict)\n",
    "        return error_dict\n",
    "\n",
    "    # Apply the provided decoding\n",
    "    # if it does not work, try alternatives\n",
    "    try:        \n",
    "        csv_content = response['Body'].read().decode(encoding)        \n",
    "        return csv_content\n",
    "    except UnicodeDecodeError as e:\n",
    "        print(f\"Failed to decode with encoding {encoding}: {e}\")\n",
    "\n",
    "        # try alternative encodings\n",
    "        encodings = ['utf-8', 'latin1', 'iso-8859-1']        \n",
    "        for enconding in encodings:\n",
    "            print(f\"Trying the following encoding: {encoding}\")\n",
    "            csv_content = response['Body'].read().decode(encoding)\n",
    "        if csv_content=='':\n",
    "            raise ValueError('no available decoding method worked. No result returned')\n",
    "        else:\n",
    "            return csv_content  \n",
    "        \n"
   ]
  },
  {
   "cell_type": "markdown",
   "metadata": {},
   "source": [
    "### Import custom functions"
   ]
  },
  {
   "cell_type": "code",
   "execution_count": 18,
   "metadata": {},
   "outputs": [
    {
     "name": "stdout",
     "output_type": "stream",
     "text": [
      "Module csv_methods imported.\n"
     ]
    }
   ],
   "source": [
    "\"\"\"\n",
    "# Initialize S3 client\n",
    "#s3 = boto3.client('s3')\n",
    "s3 = session.client('s3')\n",
    "\n",
    "\n",
    "def import_module_from_s3(bucket, key, module_name):    \n",
    "    obj = s3.get_object(Bucket=bucket, Key=key)\n",
    "    code = obj['Body'].read()\n",
    "\n",
    "    # Create a temporary module and load the code\n",
    "    spec = importlib.util.spec_from_loader(module_name, loader=None)\n",
    "    module = importlib.util.module_from_spec(spec)\n",
    "    exec(code, module.__dict__)\n",
    "\n",
    "    # Register the module so it can be imported\n",
    "    sys.modules[module_name] = module\n",
    "\n",
    "    return module\n",
    "\n",
    "\n",
    "# get common methods location\n",
    "cm_bucket = 'cloudius-aurelius-config'\n",
    "cm_key = 'common_methods/csv_methods.py'\n",
    "#cm_bucket=os.getenv('CM_BUCKET')\n",
    "#cm_key=os.getenv('CM_KEY')\n",
    "\n",
    "cm = import_module_from_s3(bucket=cm_bucket,\\\n",
    "                           key=cm_key,\\\n",
    "                           module_name='csv_methods') \n",
    "\"\"\""
   ]
  },
  {
   "cell_type": "markdown",
   "metadata": {},
   "source": [
    "## Load Data"
   ]
  },
  {
   "cell_type": "code",
   "execution_count": 19,
   "metadata": {},
   "outputs": [],
   "source": [
    "\"\"\" OLD\n",
    "# set aws bucket and key \n",
    "aws_bucket = \"py-secnews-landing\"\n",
    "aws_key = \"news/1/ArchiveNews_2024-06-14:13:23_split.csv\"\n",
    "\n",
    "# download csv content\n",
    "csv_content = cm.download_csv_content_from_s3(bucket=aws_bucket,\\\n",
    "                key=aws_key,\\\n",
    "                encoding='utf-8',\\\n",
    "                s3_client=s3)\n",
    "\"\"\""
   ]
  },
  {
   "cell_type": "code",
   "execution_count": 5,
   "metadata": {},
   "outputs": [
    {
     "name": "stdout",
     "output_type": "stream",
     "text": [
      "\n",
      "\n",
      "----------------------\n",
      "Current folder: news/1/\n",
      "----------------------\n",
      "The following objects were found in folder path news/1/: {'ResponseMetadata': {'RequestId': '6KWM7RVQ0FN3B5VM', 'HostId': 'B5sB0J+stPvD16IxW1aELHpXN2nuEkuj4hlqlitOoyhqwekiaKPSy6TJDrLjo35wzSVzxVRV1UFbvpgdOUVVqoEZeRC/947i', 'HTTPStatusCode': 200, 'HTTPHeaders': {'x-amz-id-2': 'B5sB0J+stPvD16IxW1aELHpXN2nuEkuj4hlqlitOoyhqwekiaKPSy6TJDrLjo35wzSVzxVRV1UFbvpgdOUVVqoEZeRC/947i', 'x-amz-request-id': '6KWM7RVQ0FN3B5VM', 'date': 'Fri, 01 Nov 2024 08:31:57 GMT', 'x-amz-bucket-region': 'eu-north-1', 'content-type': 'application/xml', 'transfer-encoding': 'chunked', 'server': 'AmazonS3'}, 'RetryAttempts': 0}, 'IsTruncated': False, 'Contents': [{'Key': 'news/1/ArchiveNews_2024-06-14:13:23_split.csv', 'LastModified': datetime.datetime(2024, 6, 14, 13, 25, 13, tzinfo=tzutc()), 'ETag': '\"d1543bf4a370f394326dcf57e9f276b3\"', 'Size': 265558, 'StorageClass': 'STANDARD'}, {'Key': 'news/1/ArchiveNews_2024-06-15:06:34_split.csv', 'LastModified': datetime.datetime(2024, 6, 15, 6, 36, 16, tzinfo=tzutc()), 'ETag': '\"2d5b870dd6f6f31fc9bb61af7973c01f\"', 'Size': 267162, 'StorageClass': 'STANDARD'}, {'Key': 'news/1/ArchiveNews_2024-06-16:14:03_split.csv', 'LastModified': datetime.datetime(2024, 6, 16, 14, 5, 37, tzinfo=tzutc()), 'ETag': '\"f7aa1d8e51f72412505215a75e435b2a\"', 'Size': 261347, 'StorageClass': 'STANDARD'}, {'Key': 'news/1/ArchiveNews_2024-06-16:14:51_split.csv', 'LastModified': datetime.datetime(2024, 6, 16, 14, 53, 30, tzinfo=tzutc()), 'ETag': '\"f7aa1d8e51f72412505215a75e435b2a\"', 'Size': 261347, 'StorageClass': 'STANDARD'}, {'Key': 'news/1/ArchiveNews_2024-06-17:04:07_split.csv', 'LastModified': datetime.datetime(2024, 6, 17, 4, 8, 54, tzinfo=tzutc()), 'ETag': '\"f7aa1d8e51f72412505215a75e435b2a\"', 'Size': 261347, 'StorageClass': 'STANDARD'}, {'Key': 'news/1/ArchiveNews_2024-06-18:04:08_split.csv', 'LastModified': datetime.datetime(2024, 6, 18, 4, 9, 53, tzinfo=tzutc()), 'ETag': '\"b1fff3dfc1324394734b244d7094664a\"', 'Size': 255337, 'StorageClass': 'STANDARD'}, {'Key': 'news/1/ArchiveNews_2024-06-19:04:00_split.csv', 'LastModified': datetime.datetime(2024, 6, 19, 4, 2, 2, tzinfo=tzutc()), 'ETag': '\"94a07466cff3f04f2a8e563935207990\"', 'Size': 252446, 'StorageClass': 'STANDARD'}, {'Key': 'news/1/ArchiveNews_2024-06-20:04:00_split.csv', 'LastModified': datetime.datetime(2024, 6, 20, 4, 2, 25, tzinfo=tzutc()), 'ETag': '\"a4d6afc2a420f32b15df8bb257f7120d\"', 'Size': 255330, 'StorageClass': 'STANDARD'}, {'Key': 'news/1/ArchiveNews_2024-06-21:04:08_split.csv', 'LastModified': datetime.datetime(2024, 6, 21, 4, 9, 47, tzinfo=tzutc()), 'ETag': '\"194c47b3588d05ec170a960744a79970\"', 'Size': 249176, 'StorageClass': 'STANDARD'}, {'Key': 'news/1/ArchiveNews_2024-06-22:04:09_split.csv', 'LastModified': datetime.datetime(2024, 6, 22, 4, 10, 37, tzinfo=tzutc()), 'ETag': '\"1d013d46a7361f7b1c509440565e5180\"', 'Size': 246425, 'StorageClass': 'STANDARD'}, {'Key': 'news/1/ArchiveNews_2024-06-23:04:01_split.csv', 'LastModified': datetime.datetime(2024, 6, 23, 4, 3, 1, tzinfo=tzutc()), 'ETag': '\"45807272fb3db89934086b6b8e3f55eb\"', 'Size': 242948, 'StorageClass': 'STANDARD'}, {'Key': 'news/1/ArchiveNews_2024-06-24:04:00_split.csv', 'LastModified': datetime.datetime(2024, 6, 24, 4, 2, 48, tzinfo=tzutc()), 'ETag': '\"45807272fb3db89934086b6b8e3f55eb\"', 'Size': 242948, 'StorageClass': 'STANDARD'}, {'Key': 'news/1/ArchiveNews_2024-06-25:04:10_split.csv', 'LastModified': datetime.datetime(2024, 6, 25, 4, 12, 3, tzinfo=tzutc()), 'ETag': '\"6d66956a8a843c1462ab80afa59c0d05\"', 'Size': 240196, 'StorageClass': 'STANDARD'}, {'Key': 'news/1/ArchiveNews_2024-06-26:04:03_split.csv', 'LastModified': datetime.datetime(2024, 6, 26, 4, 5, 46, tzinfo=tzutc()), 'ETag': '\"b77b5f54c7cf5aa5a0ecf42792188152\"', 'Size': 236113, 'StorageClass': 'STANDARD'}, {'Key': 'news/1/ArchiveNews_2024-06-27:04:09_split.csv', 'LastModified': datetime.datetime(2024, 6, 27, 4, 11, 5, tzinfo=tzutc()), 'ETag': '\"b340165ceb488906be3e91d42badb8f4\"', 'Size': 234848, 'StorageClass': 'STANDARD'}, {'Key': 'news/1/ArchiveNews_2024-06-28:04:02_split.csv', 'LastModified': datetime.datetime(2024, 6, 28, 4, 3, 53, tzinfo=tzutc()), 'ETag': '\"8efaf6da105aec800b1df4532dbf5507\"', 'Size': 244804, 'StorageClass': 'STANDARD'}, {'Key': 'news/1/ArchiveNews_2024-06-29:04:00_split.csv', 'LastModified': datetime.datetime(2024, 6, 29, 4, 2, 15, tzinfo=tzutc()), 'ETag': '\"3d156737094cfc6bccefc8e0d11bfb0b\"', 'Size': 248168, 'StorageClass': 'STANDARD'}, {'Key': 'news/1/ArchiveNews_2024-06-30:04:02_split.csv', 'LastModified': datetime.datetime(2024, 6, 30, 4, 3, 48, tzinfo=tzutc()), 'ETag': '\"f88825d694e2c3b4f6dbc88ed147b480\"', 'Size': 246872, 'StorageClass': 'STANDARD'}, {'Key': 'news/1/ArchiveNews_2024-07-22:04:00_split.csv', 'LastModified': datetime.datetime(2024, 7, 22, 4, 2, 43, tzinfo=tzutc()), 'ETag': '\"53d6a70aeb553584f12e43a00b1e4c45\"', 'Size': 256438, 'StorageClass': 'STANDARD'}, {'Key': 'news/1/ArchiveNews_2024-07-23:04:00_split.csv', 'LastModified': datetime.datetime(2024, 7, 23, 4, 2, 16, tzinfo=tzutc()), 'ETag': '\"b7f860f30282bc5e817d3421eab07b46\"', 'Size': 267612, 'StorageClass': 'STANDARD'}, {'Key': 'news/1/ArchiveNews_2024-07-24:04:00_split.csv', 'LastModified': datetime.datetime(2024, 7, 24, 4, 2, 17, tzinfo=tzutc()), 'ETag': '\"f769f1bfab57b50ce187ebde66fdf03a\"', 'Size': 270416, 'StorageClass': 'STANDARD'}, {'Key': 'news/1/ArchiveNews_2024-07-25:04:04_split.csv', 'LastModified': datetime.datetime(2024, 7, 25, 4, 6, 30, tzinfo=tzutc()), 'ETag': '\"e7392ed05dcda9e366732a8c8af3e0d3\"', 'Size': 267707, 'StorageClass': 'STANDARD'}, {'Key': 'news/1/ArchiveNews_2024-07-26:04:11_split.csv', 'LastModified': datetime.datetime(2024, 7, 26, 4, 13, 33, tzinfo=tzutc()), 'ETag': '\"c67a7e93a757c3e38a5e9a7b2816ca1e\"', 'Size': 282021, 'StorageClass': 'STANDARD'}, {'Key': 'news/1/ArchiveNews_2024-07-27:04:08_split.csv', 'LastModified': datetime.datetime(2024, 7, 27, 4, 10, 32, tzinfo=tzutc()), 'ETag': '\"7568395fadc71f74dcef6b6078ab0c00\"', 'Size': 284794, 'StorageClass': 'STANDARD'}, {'Key': 'news/1/ArchiveNews_2024-07-28:04:06_split.csv', 'LastModified': datetime.datetime(2024, 7, 28, 4, 8, 14, tzinfo=tzutc()), 'ETag': '\"bda9049b5a2d289481b3d603a421c2f1\"', 'Size': 287139, 'StorageClass': 'STANDARD'}, {'Key': 'news/1/ArchiveNews_2024-07-29:04:08_split.csv', 'LastModified': datetime.datetime(2024, 7, 29, 4, 10, 20, tzinfo=tzutc()), 'ETag': '\"fd62d1fcbcbaadd4ba1d1ab4134d9338\"', 'Size': 289393, 'StorageClass': 'STANDARD'}, {'Key': 'news/1/ArchiveNews_2024-07-30:04:00_split.csv', 'LastModified': datetime.datetime(2024, 7, 30, 4, 2, 17, tzinfo=tzutc()), 'ETag': '\"fe778ef2dd3bc585ef79ba6cb1312ea1\"', 'Size': 298485, 'StorageClass': 'STANDARD'}, {'Key': 'news/1/ArchiveNews_2024-07-31:04:08_split.csv', 'LastModified': datetime.datetime(2024, 7, 31, 4, 9, 55, tzinfo=tzutc()), 'ETag': '\"4bdd4b2b406959a9a3504bb3f2ca7712\"', 'Size': 299394, 'StorageClass': 'STANDARD'}, {'Key': 'news/1/ArchiveNews_2024-10-10:05:03_split.csv', 'LastModified': datetime.datetime(2024, 10, 10, 5, 5, 32, tzinfo=tzutc()), 'ETag': '\"4bcf832530071f56e653a3b638fd6212\"', 'Size': 282790, 'StorageClass': 'STANDARD'}, {'Key': 'news/1/ArchiveNews_2024-10-11:05:08_split.csv', 'LastModified': datetime.datetime(2024, 10, 11, 5, 9, 49, tzinfo=tzutc()), 'ETag': '\"84e70bb4bd2b2557754e082a51fc911d\"', 'Size': 274127, 'StorageClass': 'STANDARD'}, {'Key': 'news/1/ArchiveNews_2024-10-12:05:01_split.csv', 'LastModified': datetime.datetime(2024, 10, 12, 5, 2, 48, tzinfo=tzutc()), 'ETag': '\"b49c10735a2dd0f9ddc04d4d4893028f\"', 'Size': 275224, 'StorageClass': 'STANDARD'}, {'Key': 'news/1/ArchiveNews_2024-10-14:05:01_split.csv', 'LastModified': datetime.datetime(2024, 10, 14, 5, 3, 7, tzinfo=tzutc()), 'ETag': '\"1fc48691ad0020b50d297739f349cd33\"', 'Size': 270799, 'StorageClass': 'STANDARD'}, {'Key': 'news/1/ArchiveNews_2024-10-15:05:01_split.csv', 'LastModified': datetime.datetime(2024, 10, 15, 5, 3, 2, tzinfo=tzutc()), 'ETag': '\"c38c13593eb8a7db95a98215e86e807b\"', 'Size': 282355, 'StorageClass': 'STANDARD'}, {'Key': 'news/1/ArchiveNews_2024-10-17:05:04_split.csv', 'LastModified': datetime.datetime(2024, 10, 17, 5, 6, 34, tzinfo=tzutc()), 'ETag': '\"7306af003ae8ae2a78acd79c404884b8\"', 'Size': 267616, 'StorageClass': 'STANDARD'}, {'Key': 'news/1/ArchiveNews_2024-10-20:05:03_split.csv', 'LastModified': datetime.datetime(2024, 10, 20, 5, 5, 9, tzinfo=tzutc()), 'ETag': '\"5c0c9cd8a4ef181f51dc6445377e473c\"', 'Size': 274670, 'StorageClass': 'STANDARD'}, {'Key': 'news/1/ArchiveNews_2024-10-25:05:00_split.csv', 'LastModified': datetime.datetime(2024, 10, 25, 5, 2, 13, tzinfo=tzutc()), 'ETag': '\"743f06f81cdc68358bd51560f4d02a5a\"', 'Size': 303792, 'StorageClass': 'STANDARD'}, {'Key': 'news/1/ArchiveNews_2024-10-26:05:00_split.csv', 'LastModified': datetime.datetime(2024, 10, 26, 5, 2, 8, tzinfo=tzutc()), 'ETag': '\"659403f228a32187b46888d41064490e\"', 'Size': 302920, 'StorageClass': 'STANDARD'}, {'Key': 'news/1/ArchiveNews_2024-10-27:05:00_split.csv', 'LastModified': datetime.datetime(2024, 10, 27, 5, 2, 14, tzinfo=tzutc()), 'ETag': '\"cd1c7655e8291acc3a7ee2c69ddb3dad\"', 'Size': 304981, 'StorageClass': 'STANDARD'}, {'Key': 'news/1/ArchiveNews_2024-10-28:05:00_split.csv', 'LastModified': datetime.datetime(2024, 10, 28, 5, 2, 13, tzinfo=tzutc()), 'ETag': '\"98cc43f1d8cff5bda501cf5f819ba6c0\"', 'Size': 304989, 'StorageClass': 'STANDARD'}, {'Key': 'news/1/ArchiveNews_2024-10-31:05:09_split.csv', 'LastModified': datetime.datetime(2024, 10, 31, 5, 11, 10, tzinfo=tzutc()), 'ETag': '\"126d30652c4d56b1fc2c667b1bc81548\"', 'Size': 314301, 'StorageClass': 'STANDARD'}, {'Key': 'news/1/ArchiveNews_2024-11-01:05:00_split.csv', 'LastModified': datetime.datetime(2024, 11, 1, 5, 2, 10, tzinfo=tzutc()), 'ETag': '\"9465c811bf5eb234c859918a3643e267\"', 'Size': 290282, 'StorageClass': 'STANDARD'}], 'Name': 'py-secnews-landing', 'Prefix': 'news/1/', 'MaxKeys': 1000, 'EncodingType': 'url', 'KeyCount': 41}\n",
      "File: news/1/ArchiveNews_2024-06-14:13:23_split.csv was appended to dataframe.\n",
      "File: news/1/ArchiveNews_2024-06-15:06:34_split.csv was appended to dataframe.\n",
      "File: news/1/ArchiveNews_2024-06-16:14:03_split.csv was appended to dataframe.\n",
      "File: news/1/ArchiveNews_2024-06-16:14:51_split.csv was appended to dataframe.\n",
      "File: news/1/ArchiveNews_2024-06-17:04:07_split.csv was appended to dataframe.\n",
      "File: news/1/ArchiveNews_2024-06-18:04:08_split.csv was appended to dataframe.\n",
      "File: news/1/ArchiveNews_2024-06-19:04:00_split.csv was appended to dataframe.\n",
      "File: news/1/ArchiveNews_2024-06-20:04:00_split.csv was appended to dataframe.\n",
      "File: news/1/ArchiveNews_2024-06-21:04:08_split.csv was appended to dataframe.\n",
      "File: news/1/ArchiveNews_2024-06-22:04:09_split.csv was appended to dataframe.\n",
      "File: news/1/ArchiveNews_2024-06-23:04:01_split.csv was appended to dataframe.\n",
      "File: news/1/ArchiveNews_2024-06-24:04:00_split.csv was appended to dataframe.\n",
      "File: news/1/ArchiveNews_2024-06-25:04:10_split.csv was appended to dataframe.\n",
      "File: news/1/ArchiveNews_2024-06-26:04:03_split.csv was appended to dataframe.\n",
      "File: news/1/ArchiveNews_2024-06-27:04:09_split.csv was appended to dataframe.\n",
      "File: news/1/ArchiveNews_2024-06-28:04:02_split.csv was appended to dataframe.\n",
      "File: news/1/ArchiveNews_2024-06-29:04:00_split.csv was appended to dataframe.\n",
      "File: news/1/ArchiveNews_2024-06-30:04:02_split.csv was appended to dataframe.\n",
      "File: news/1/ArchiveNews_2024-07-22:04:00_split.csv was appended to dataframe.\n",
      "File: news/1/ArchiveNews_2024-07-23:04:00_split.csv was appended to dataframe.\n",
      "File: news/1/ArchiveNews_2024-07-24:04:00_split.csv was appended to dataframe.\n",
      "File: news/1/ArchiveNews_2024-07-25:04:04_split.csv was appended to dataframe.\n",
      "File: news/1/ArchiveNews_2024-07-26:04:11_split.csv was appended to dataframe.\n",
      "File: news/1/ArchiveNews_2024-07-27:04:08_split.csv was appended to dataframe.\n",
      "File: news/1/ArchiveNews_2024-07-28:04:06_split.csv was appended to dataframe.\n",
      "File: news/1/ArchiveNews_2024-07-29:04:08_split.csv was appended to dataframe.\n",
      "File: news/1/ArchiveNews_2024-07-30:04:00_split.csv was appended to dataframe.\n",
      "File: news/1/ArchiveNews_2024-07-31:04:08_split.csv was appended to dataframe.\n",
      "File: news/1/ArchiveNews_2024-10-10:05:03_split.csv was appended to dataframe.\n",
      "File: news/1/ArchiveNews_2024-10-11:05:08_split.csv was appended to dataframe.\n",
      "File: news/1/ArchiveNews_2024-10-12:05:01_split.csv was appended to dataframe.\n",
      "File: news/1/ArchiveNews_2024-10-14:05:01_split.csv was appended to dataframe.\n",
      "File: news/1/ArchiveNews_2024-10-15:05:01_split.csv was appended to dataframe.\n",
      "File: news/1/ArchiveNews_2024-10-17:05:04_split.csv was appended to dataframe.\n",
      "File: news/1/ArchiveNews_2024-10-20:05:03_split.csv was appended to dataframe.\n",
      "File: news/1/ArchiveNews_2024-10-25:05:00_split.csv was appended to dataframe.\n",
      "File: news/1/ArchiveNews_2024-10-26:05:00_split.csv was appended to dataframe.\n",
      "File: news/1/ArchiveNews_2024-10-27:05:00_split.csv was appended to dataframe.\n",
      "File: news/1/ArchiveNews_2024-10-28:05:00_split.csv was appended to dataframe.\n",
      "File: news/1/ArchiveNews_2024-10-31:05:09_split.csv was appended to dataframe.\n",
      "File: news/1/ArchiveNews_2024-11-01:05:00_split.csv was appended to dataframe.\n",
      "\n",
      "\n",
      "----------------------\n",
      "Current folder: news/2/\n",
      "----------------------\n",
      "The following objects were found in folder path news/2/: {'ResponseMetadata': {'RequestId': 'V69R1FK25318M53Z', 'HostId': 'u74Nja8DYPYJQWU28Yk5YJESOZgtmSLRz8+nqGP+Qr39Tbaa738N33ONy9L7wcCIjSA2uDggKMInFnoh8UnxRvzAJVsCnhD9', 'HTTPStatusCode': 200, 'HTTPHeaders': {'x-amz-id-2': 'u74Nja8DYPYJQWU28Yk5YJESOZgtmSLRz8+nqGP+Qr39Tbaa738N33ONy9L7wcCIjSA2uDggKMInFnoh8UnxRvzAJVsCnhD9', 'x-amz-request-id': 'V69R1FK25318M53Z', 'date': 'Fri, 01 Nov 2024 08:32:05 GMT', 'x-amz-bucket-region': 'eu-north-1', 'content-type': 'application/xml', 'transfer-encoding': 'chunked', 'server': 'AmazonS3'}, 'RetryAttempts': 0}, 'IsTruncated': False, 'Contents': [{'Key': 'news/2/ArchiveNews_2024-06-14:13:23_split.csv', 'LastModified': datetime.datetime(2024, 6, 14, 13, 26, 35, tzinfo=tzutc()), 'ETag': '\"7827e0604056760b8e54bf910a10800f\"', 'Size': 45874, 'StorageClass': 'STANDARD'}, {'Key': 'news/2/ArchiveNews_2024-06-15:06:34_split.csv', 'LastModified': datetime.datetime(2024, 6, 15, 6, 37, 22, tzinfo=tzutc()), 'ETag': '\"bcf948afe7810684d9827caf79785f09\"', 'Size': 39629, 'StorageClass': 'STANDARD'}, {'Key': 'news/2/ArchiveNews_2024-06-16:14:03_split.csv', 'LastModified': datetime.datetime(2024, 6, 16, 14, 6, 28, tzinfo=tzutc()), 'ETag': '\"551cf80d83d41ddab25db1fe99d77215\"', 'Size': 28320, 'StorageClass': 'STANDARD'}, {'Key': 'news/2/ArchiveNews_2024-06-16:15:00_split.csv', 'LastModified': datetime.datetime(2024, 6, 16, 15, 2, 39, tzinfo=tzutc()), 'ETag': '\"2116ef1a55ffec4ca2aa836c2a129e22\"', 'Size': 29493, 'StorageClass': 'STANDARD'}, {'Key': 'news/2/ArchiveNews_2024-06-17:04:00_split.csv', 'LastModified': datetime.datetime(2024, 6, 17, 4, 3, 20, tzinfo=tzutc()), 'ETag': '\"501bde7e5af5afeed51525473f19e03f\"', 'Size': 2611, 'StorageClass': 'STANDARD'}, {'Key': 'news/2/ArchiveNews_2024-06-18:04:09_split.csv', 'LastModified': datetime.datetime(2024, 6, 18, 4, 12, 53, tzinfo=tzutc()), 'ETag': '\"41867bcb5070340d780bf52c3007aa67\"', 'Size': 35260, 'StorageClass': 'STANDARD'}, {'Key': 'news/2/ArchiveNews_2024-06-19:04:02_split.csv', 'LastModified': datetime.datetime(2024, 6, 19, 4, 6, tzinfo=tzutc()), 'ETag': '\"1966f4251a32ea384f58e39c717457ae\"', 'Size': 52540, 'StorageClass': 'STANDARD'}, {'Key': 'news/2/ArchiveNews_2024-06-20:04:01_split.csv', 'LastModified': datetime.datetime(2024, 6, 20, 4, 4, 7, tzinfo=tzutc()), 'ETag': '\"432772200dcf73ebc869f60f4b2abd85\"', 'Size': 29107, 'StorageClass': 'STANDARD'}, {'Key': 'news/2/ArchiveNews_2024-06-21:04:02_split.csv', 'LastModified': datetime.datetime(2024, 6, 21, 4, 5, 34, tzinfo=tzutc()), 'ETag': '\"95dd6e7bc9a3b8d4aa024b6717106d45\"', 'Size': 26134, 'StorageClass': 'STANDARD'}, {'Key': 'news/2/ArchiveNews_2024-06-22:04:07_split.csv', 'LastModified': datetime.datetime(2024, 6, 22, 4, 10, 48, tzinfo=tzutc()), 'ETag': '\"58932a524807edcc064cafa5dbe44219\"', 'Size': 44377, 'StorageClass': 'STANDARD'}, {'Key': 'news/2/ArchiveNews_2024-06-23:04:03_split.csv', 'LastModified': datetime.datetime(2024, 6, 23, 4, 5, 37, tzinfo=tzutc()), 'ETag': '\"4a30d9a61f0c84ec1046b0433fcdfa15\"', 'Size': 25928, 'StorageClass': 'STANDARD'}, {'Key': 'news/2/ArchiveNews_2024-06-24:04:01_split.csv', 'LastModified': datetime.datetime(2024, 6, 24, 4, 3, 42, tzinfo=tzutc()), 'ETag': '\"920d61ea046a30d3951ea27a635e1d34\"', 'Size': 6995, 'StorageClass': 'STANDARD'}, {'Key': 'news/2/ArchiveNews_2024-06-25:04:00_split.csv', 'LastModified': datetime.datetime(2024, 6, 25, 4, 4, 38, tzinfo=tzutc()), 'ETag': '\"98f48aa16b8856b0c9d1a1c2d752a378\"', 'Size': 16836, 'StorageClass': 'STANDARD'}, {'Key': 'news/2/ArchiveNews_2024-06-26:04:00_split.csv', 'LastModified': datetime.datetime(2024, 6, 26, 4, 3, 25, tzinfo=tzutc()), 'ETag': '\"4d334001f45eb6746da0c7e4f40cb162\"', 'Size': 31630, 'StorageClass': 'STANDARD'}, {'Key': 'news/2/ArchiveNews_2024-06-27:04:00_split.csv', 'LastModified': datetime.datetime(2024, 6, 27, 4, 3, 26, tzinfo=tzutc()), 'ETag': '\"4c581b3c6eef374f2fded721a61a9e46\"', 'Size': 43528, 'StorageClass': 'STANDARD'}, {'Key': 'news/2/ArchiveNews_2024-06-28:04:03_split.csv', 'LastModified': datetime.datetime(2024, 6, 28, 4, 6, 43, tzinfo=tzutc()), 'ETag': '\"0ec06c14b858360056bc4d7dd35eb21d\"', 'Size': 45259, 'StorageClass': 'STANDARD'}, {'Key': 'news/2/ArchiveNews_2024-06-29:04:00_split.csv', 'LastModified': datetime.datetime(2024, 6, 29, 4, 3, 8, tzinfo=tzutc()), 'ETag': '\"f03cc19c6b5876e8bab8322868a6f1f8\"', 'Size': 47672, 'StorageClass': 'STANDARD'}, {'Key': 'news/2/ArchiveNews_2024-06-30:04:00_split.csv', 'LastModified': datetime.datetime(2024, 6, 30, 4, 3, 13, tzinfo=tzutc()), 'ETag': '\"601bba801985ec5d91f4014477871117\"', 'Size': 21698, 'StorageClass': 'STANDARD'}, {'Key': 'news/2/ArchiveNews_2024-07-22:04:00_split.csv', 'LastModified': datetime.datetime(2024, 7, 22, 4, 3, 23, tzinfo=tzutc()), 'ETag': '\"cb945c435ac9d4f39039eb7a93e153d0\"', 'Size': 77, 'StorageClass': 'STANDARD'}, {'Key': 'news/2/ArchiveNews_2024-07-23:04:06_split.csv', 'LastModified': datetime.datetime(2024, 7, 23, 4, 9, 21, tzinfo=tzutc()), 'ETag': '\"7089fc54265d5cf28cdbcaee61c36f51\"', 'Size': 31672, 'StorageClass': 'STANDARD'}, {'Key': 'news/2/ArchiveNews_2024-07-24:04:02_split.csv', 'LastModified': datetime.datetime(2024, 7, 24, 4, 5, 55, tzinfo=tzutc()), 'ETag': '\"4e8bf648e080d015668e074415fde736\"', 'Size': 57649, 'StorageClass': 'STANDARD'}, {'Key': 'news/2/ArchiveNews_2024-07-25:04:01_split.csv', 'LastModified': datetime.datetime(2024, 7, 25, 4, 4, 47, tzinfo=tzutc()), 'ETag': '\"c9f6c9fe491b32c8e8e0f8e70f2f5f79\"', 'Size': 46444, 'StorageClass': 'STANDARD'}, {'Key': 'news/2/ArchiveNews_2024-07-26:04:10_split.csv', 'LastModified': datetime.datetime(2024, 7, 26, 4, 13, 31, tzinfo=tzutc()), 'ETag': '\"97f225cd9b25fe34a9c9c5c4e734750e\"', 'Size': 42561, 'StorageClass': 'STANDARD'}, {'Key': 'news/2/ArchiveNews_2024-07-27:04:01_split.csv', 'LastModified': datetime.datetime(2024, 7, 27, 4, 4, 27, tzinfo=tzutc()), 'ETag': '\"c7d19303406f326e82b2f4eadddfc2be\"', 'Size': 46777, 'StorageClass': 'STANDARD'}, {'Key': 'news/2/ArchiveNews_2024-07-28:04:07_split.csv', 'LastModified': datetime.datetime(2024, 7, 28, 4, 10, 8, tzinfo=tzutc()), 'ETag': '\"0a641aec1f8a4ddf7103b584d6819656\"', 'Size': 18143, 'StorageClass': 'STANDARD'}, {'Key': 'news/2/ArchiveNews_2024-07-29:04:01_split.csv', 'LastModified': datetime.datetime(2024, 7, 29, 4, 4, 3, tzinfo=tzutc()), 'ETag': '\"f300dd1ec8e98eba4eeb8d5f8f2e7b4a\"', 'Size': 3987, 'StorageClass': 'STANDARD'}, {'Key': 'news/2/ArchiveNews_2024-07-30:04:00_split.csv', 'LastModified': datetime.datetime(2024, 7, 30, 4, 3, 7, tzinfo=tzutc()), 'ETag': '\"b65b49a2036e4fc5aa32a14eb522645e\"', 'Size': 25052, 'StorageClass': 'STANDARD'}, {'Key': 'news/2/ArchiveNews_2024-07-31:04:10_split.csv', 'LastModified': datetime.datetime(2024, 7, 31, 4, 12, 37, tzinfo=tzutc()), 'ETag': '\"d06370cd81c924220f61dfd475c80801\"', 'Size': 30242, 'StorageClass': 'STANDARD'}, {'Key': 'news/2/ArchiveNews_2024-10-10:05:00_split.csv', 'LastModified': datetime.datetime(2024, 10, 10, 5, 3, 50, tzinfo=tzutc()), 'ETag': '\"8da840ad11ebea6a57191fa1c1f9ff84\"', 'Size': 51527, 'StorageClass': 'STANDARD'}, {'Key': 'news/2/ArchiveNews_2024-10-11:05:09_split.csv', 'LastModified': datetime.datetime(2024, 10, 11, 5, 13, 13, tzinfo=tzutc()), 'ETag': '\"e2348e172f111e760e786fe8411377ea\"', 'Size': 40758, 'StorageClass': 'STANDARD'}, {'Key': 'news/2/ArchiveNews_2024-10-12:05:11_split.csv', 'LastModified': datetime.datetime(2024, 10, 12, 5, 14, 13, tzinfo=tzutc()), 'ETag': '\"b68d0702027a95753510f546ef9f4ebe\"', 'Size': 24384, 'StorageClass': 'STANDARD'}, {'Key': 'news/2/ArchiveNews_2024-10-14:05:00_split.csv', 'LastModified': datetime.datetime(2024, 10, 14, 5, 2, 48, tzinfo=tzutc()), 'ETag': '\"cb945c435ac9d4f39039eb7a93e153d0\"', 'Size': 77, 'StorageClass': 'STANDARD'}, {'Key': 'news/2/ArchiveNews_2024-10-15:05:03_split.csv', 'LastModified': datetime.datetime(2024, 10, 15, 5, 6, 26, tzinfo=tzutc()), 'ETag': '\"a1215b47711fa4de774b09cc49eb80b3\"', 'Size': 26774, 'StorageClass': 'STANDARD'}, {'Key': 'news/2/ArchiveNews_2024-10-17:05:02_split.csv', 'LastModified': datetime.datetime(2024, 10, 17, 5, 4, 49, tzinfo=tzutc()), 'ETag': '\"c53a58b8ccb2896c56ab6bc37ef7c802\"', 'Size': 37308, 'StorageClass': 'STANDARD'}, {'Key': 'news/2/ArchiveNews_2024-10-20:05:00_split.csv', 'LastModified': datetime.datetime(2024, 10, 20, 5, 3, 18, tzinfo=tzutc()), 'ETag': '\"0f3591ada047087198721d222c49d5af\"', 'Size': 27918, 'StorageClass': 'STANDARD'}, {'Key': 'news/2/ArchiveNews_2024-10-25:05:00_split.csv', 'LastModified': datetime.datetime(2024, 10, 25, 5, 3, 46, tzinfo=tzutc()), 'ETag': '\"dc6c470861be710d0766be5d5df79556\"', 'Size': 44637, 'StorageClass': 'STANDARD'}, {'Key': 'news/2/ArchiveNews_2024-10-26:05:02_split.csv', 'LastModified': datetime.datetime(2024, 10, 26, 5, 5, 14, tzinfo=tzutc()), 'ETag': '\"0a547a15cbc79f2f9ffc004267ef740a\"', 'Size': 45781, 'StorageClass': 'STANDARD'}, {'Key': 'news/2/ArchiveNews_2024-10-27:05:08_split.csv', 'LastModified': datetime.datetime(2024, 10, 27, 5, 11, 22, tzinfo=tzutc()), 'ETag': '\"c1261aa1634d71b873a2b53bad5bfcdb\"', 'Size': 21272, 'StorageClass': 'STANDARD'}, {'Key': 'news/2/ArchiveNews_2024-10-28:05:01_split.csv', 'LastModified': datetime.datetime(2024, 10, 28, 5, 3, 44, tzinfo=tzutc()), 'ETag': '\"cb945c435ac9d4f39039eb7a93e153d0\"', 'Size': 77, 'StorageClass': 'STANDARD'}, {'Key': 'news/2/ArchiveNews_2024-10-31:05:00_split.csv', 'LastModified': datetime.datetime(2024, 10, 31, 5, 3, 28, tzinfo=tzutc()), 'ETag': '\"74d0e981fae7e91f171b365ef1050273\"', 'Size': 43366, 'StorageClass': 'STANDARD'}, {'Key': 'news/2/ArchiveNews_2024-11-01:05:04_split.csv', 'LastModified': datetime.datetime(2024, 11, 1, 5, 7, 32, tzinfo=tzutc()), 'ETag': '\"ad483e0ddce16c324a0c5fd79ff6c33d\"', 'Size': 48383, 'StorageClass': 'STANDARD'}], 'Name': 'py-secnews-landing', 'Prefix': 'news/2/', 'MaxKeys': 1000, 'EncodingType': 'url', 'KeyCount': 41}\n",
      "File: news/2/ArchiveNews_2024-06-14:13:23_split.csv was appended to dataframe.\n",
      "File: news/2/ArchiveNews_2024-06-15:06:34_split.csv was appended to dataframe.\n",
      "File: news/2/ArchiveNews_2024-06-16:14:03_split.csv was appended to dataframe.\n",
      "File: news/2/ArchiveNews_2024-06-16:15:00_split.csv was appended to dataframe.\n",
      "File: news/2/ArchiveNews_2024-06-17:04:00_split.csv was appended to dataframe.\n",
      "File: news/2/ArchiveNews_2024-06-18:04:09_split.csv was appended to dataframe.\n",
      "File: news/2/ArchiveNews_2024-06-19:04:02_split.csv was appended to dataframe.\n",
      "File: news/2/ArchiveNews_2024-06-20:04:01_split.csv was appended to dataframe.\n",
      "File: news/2/ArchiveNews_2024-06-21:04:02_split.csv was appended to dataframe.\n",
      "File: news/2/ArchiveNews_2024-06-22:04:07_split.csv was appended to dataframe.\n",
      "File: news/2/ArchiveNews_2024-06-23:04:03_split.csv was appended to dataframe.\n",
      "File: news/2/ArchiveNews_2024-06-24:04:01_split.csv was appended to dataframe.\n",
      "File: news/2/ArchiveNews_2024-06-25:04:00_split.csv was appended to dataframe.\n",
      "File: news/2/ArchiveNews_2024-06-26:04:00_split.csv was appended to dataframe.\n",
      "File: news/2/ArchiveNews_2024-06-27:04:00_split.csv was appended to dataframe.\n",
      "File: news/2/ArchiveNews_2024-06-28:04:03_split.csv was appended to dataframe.\n",
      "File: news/2/ArchiveNews_2024-06-29:04:00_split.csv was appended to dataframe.\n",
      "File: news/2/ArchiveNews_2024-06-30:04:00_split.csv was appended to dataframe.\n",
      "File: news/2/ArchiveNews_2024-07-22:04:00_split.csv was appended to dataframe.\n",
      "File: news/2/ArchiveNews_2024-07-23:04:06_split.csv was appended to dataframe.\n",
      "File: news/2/ArchiveNews_2024-07-24:04:02_split.csv was appended to dataframe.\n",
      "File: news/2/ArchiveNews_2024-07-25:04:01_split.csv was appended to dataframe.\n",
      "File: news/2/ArchiveNews_2024-07-26:04:10_split.csv was appended to dataframe.\n",
      "File: news/2/ArchiveNews_2024-07-27:04:01_split.csv was appended to dataframe.\n",
      "File: news/2/ArchiveNews_2024-07-28:04:07_split.csv was appended to dataframe.\n",
      "File: news/2/ArchiveNews_2024-07-29:04:01_split.csv was appended to dataframe.\n",
      "File: news/2/ArchiveNews_2024-07-30:04:00_split.csv was appended to dataframe.\n",
      "File: news/2/ArchiveNews_2024-07-31:04:10_split.csv was appended to dataframe.\n",
      "File: news/2/ArchiveNews_2024-10-10:05:00_split.csv was appended to dataframe.\n",
      "File: news/2/ArchiveNews_2024-10-11:05:09_split.csv was appended to dataframe.\n",
      "File: news/2/ArchiveNews_2024-10-12:05:11_split.csv was appended to dataframe.\n",
      "File: news/2/ArchiveNews_2024-10-14:05:00_split.csv was appended to dataframe.\n",
      "File: news/2/ArchiveNews_2024-10-15:05:03_split.csv was appended to dataframe.\n",
      "File: news/2/ArchiveNews_2024-10-17:05:02_split.csv was appended to dataframe.\n",
      "File: news/2/ArchiveNews_2024-10-20:05:00_split.csv was appended to dataframe.\n",
      "File: news/2/ArchiveNews_2024-10-25:05:00_split.csv was appended to dataframe.\n",
      "File: news/2/ArchiveNews_2024-10-26:05:02_split.csv was appended to dataframe.\n",
      "File: news/2/ArchiveNews_2024-10-27:05:08_split.csv was appended to dataframe.\n",
      "File: news/2/ArchiveNews_2024-10-28:05:01_split.csv was appended to dataframe.\n",
      "File: news/2/ArchiveNews_2024-10-31:05:00_split.csv was appended to dataframe.\n",
      "File: news/2/ArchiveNews_2024-11-01:05:04_split.csv was appended to dataframe.\n",
      "\n",
      "\n",
      "----------------------\n",
      "Current folder: news/3/\n",
      "----------------------\n",
      "The following objects were found in folder path news/3/: {'ResponseMetadata': {'RequestId': 'Z17WVA3VFDSS9CYG', 'HostId': 'TtPK5VoDJdTOVImWKQaYnfWAignZFkh62+A7z/g6BoNXJXeOePMLscY8pLM9Se+7Rt8qrTP82LyMB8HyBML7gAAPBYd5zxEG', 'HTTPStatusCode': 200, 'HTTPHeaders': {'x-amz-id-2': 'TtPK5VoDJdTOVImWKQaYnfWAignZFkh62+A7z/g6BoNXJXeOePMLscY8pLM9Se+7Rt8qrTP82LyMB8HyBML7gAAPBYd5zxEG', 'x-amz-request-id': 'Z17WVA3VFDSS9CYG', 'date': 'Fri, 01 Nov 2024 08:32:09 GMT', 'x-amz-bucket-region': 'eu-north-1', 'content-type': 'application/xml', 'transfer-encoding': 'chunked', 'server': 'AmazonS3'}, 'RetryAttempts': 0}, 'IsTruncated': False, 'Contents': [{'Key': 'news/3/ArchiveNews_2024-06-14:13:23_split.csv', 'LastModified': datetime.datetime(2024, 6, 14, 13, 23, 43, tzinfo=tzutc()), 'ETag': '\"ed75cbd505b4b8b9b5c7e049f9a80702\"', 'Size': 93022, 'StorageClass': 'STANDARD'}, {'Key': 'news/3/ArchiveNews_2024-06-15:06:34_split.csv', 'LastModified': datetime.datetime(2024, 6, 15, 6, 34, 39, tzinfo=tzutc()), 'ETag': '\"ed75cbd505b4b8b9b5c7e049f9a80702\"', 'Size': 93022, 'StorageClass': 'STANDARD'}, {'Key': 'news/3/ArchiveNews_2024-06-16:14:03_split.csv', 'LastModified': datetime.datetime(2024, 6, 16, 14, 4, 12, tzinfo=tzutc()), 'ETag': '\"fadc6b2f1c0342a9382bad0abb59933c\"', 'Size': 91600, 'StorageClass': 'STANDARD'}, {'Key': 'news/3/ArchiveNews_2024-06-16:14:52_split.csv', 'LastModified': datetime.datetime(2024, 6, 16, 14, 53, 2, tzinfo=tzutc()), 'ETag': '\"fadc6b2f1c0342a9382bad0abb59933c\"', 'Size': 91600, 'StorageClass': 'STANDARD'}, {'Key': 'news/3/ArchiveNews_2024-06-17:04:00_split.csv', 'LastModified': datetime.datetime(2024, 6, 17, 4, 0, 52, tzinfo=tzutc()), 'ETag': '\"fadc6b2f1c0342a9382bad0abb59933c\"', 'Size': 91600, 'StorageClass': 'STANDARD'}, {'Key': 'news/3/ArchiveNews_2024-06-18:04:00_split.csv', 'LastModified': datetime.datetime(2024, 6, 18, 4, 1, 14, tzinfo=tzutc()), 'ETag': '\"fadc6b2f1c0342a9382bad0abb59933c\"', 'Size': 91600, 'StorageClass': 'STANDARD'}, {'Key': 'news/3/ArchiveNews_2024-06-19:04:10_split.csv', 'LastModified': datetime.datetime(2024, 6, 19, 4, 10, 29, tzinfo=tzutc()), 'ETag': '\"fadc6b2f1c0342a9382bad0abb59933c\"', 'Size': 91600, 'StorageClass': 'STANDARD'}, {'Key': 'news/3/ArchiveNews_2024-06-20:04:04_split.csv', 'LastModified': datetime.datetime(2024, 6, 20, 4, 4, 36, tzinfo=tzutc()), 'ETag': '\"fadc6b2f1c0342a9382bad0abb59933c\"', 'Size': 91600, 'StorageClass': 'STANDARD'}, {'Key': 'news/3/ArchiveNews_2024-06-21:04:10_split.csv', 'LastModified': datetime.datetime(2024, 6, 21, 4, 10, 58, tzinfo=tzutc()), 'ETag': '\"e4760b116d3c2a0c26fc90115a5153c8\"', 'Size': 100488, 'StorageClass': 'STANDARD'}, {'Key': 'news/3/ArchiveNews_2024-06-22:04:07_split.csv', 'LastModified': datetime.datetime(2024, 6, 22, 4, 7, 37, tzinfo=tzutc()), 'ETag': '\"e4760b116d3c2a0c26fc90115a5153c8\"', 'Size': 100488, 'StorageClass': 'STANDARD'}, {'Key': 'news/3/ArchiveNews_2024-06-23:04:00_split.csv', 'LastModified': datetime.datetime(2024, 6, 23, 4, 0, 59, tzinfo=tzutc()), 'ETag': '\"19faa2017ba4e2cc445dfc0d88d6160d\"', 'Size': 100628, 'StorageClass': 'STANDARD'}, {'Key': 'news/3/ArchiveNews_2024-06-24:04:05_split.csv', 'LastModified': datetime.datetime(2024, 6, 24, 4, 5, 44, tzinfo=tzutc()), 'ETag': '\"19faa2017ba4e2cc445dfc0d88d6160d\"', 'Size': 100628, 'StorageClass': 'STANDARD'}, {'Key': 'news/3/ArchiveNews_2024-06-25:04:00_split.csv', 'LastModified': datetime.datetime(2024, 6, 25, 4, 0, 57, tzinfo=tzutc()), 'ETag': '\"19faa2017ba4e2cc445dfc0d88d6160d\"', 'Size': 100628, 'StorageClass': 'STANDARD'}, {'Key': 'news/3/ArchiveNews_2024-06-26:04:00_split.csv', 'LastModified': datetime.datetime(2024, 6, 26, 4, 0, 51, tzinfo=tzutc()), 'ETag': '\"19faa2017ba4e2cc445dfc0d88d6160d\"', 'Size': 100628, 'StorageClass': 'STANDARD'}, {'Key': 'news/3/ArchiveNews_2024-06-27:04:07_split.csv', 'LastModified': datetime.datetime(2024, 6, 27, 4, 8, 20, tzinfo=tzutc()), 'ETag': '\"19faa2017ba4e2cc445dfc0d88d6160d\"', 'Size': 100628, 'StorageClass': 'STANDARD'}, {'Key': 'news/3/ArchiveNews_2024-06-28:04:06_split.csv', 'LastModified': datetime.datetime(2024, 6, 28, 4, 6, 31, tzinfo=tzutc()), 'ETag': '\"19faa2017ba4e2cc445dfc0d88d6160d\"', 'Size': 100628, 'StorageClass': 'STANDARD'}, {'Key': 'news/3/ArchiveNews_2024-06-29:04:07_split.csv', 'LastModified': datetime.datetime(2024, 6, 29, 4, 7, 47, tzinfo=tzutc()), 'ETag': '\"19faa2017ba4e2cc445dfc0d88d6160d\"', 'Size': 100628, 'StorageClass': 'STANDARD'}, {'Key': 'news/3/ArchiveNews_2024-06-30:04:00_split.csv', 'LastModified': datetime.datetime(2024, 6, 30, 4, 0, 57, tzinfo=tzutc()), 'ETag': '\"19faa2017ba4e2cc445dfc0d88d6160d\"', 'Size': 100628, 'StorageClass': 'STANDARD'}, {'Key': 'news/3/ArchiveNews_2024-07-22:04:12_split.csv', 'LastModified': datetime.datetime(2024, 7, 22, 4, 13, tzinfo=tzutc()), 'ETag': '\"06cd7bcf48028a5948b8d3a478f95041\"', 'Size': 69423, 'StorageClass': 'STANDARD'}, {'Key': 'news/3/ArchiveNews_2024-07-23:04:09_split.csv', 'LastModified': datetime.datetime(2024, 7, 23, 4, 9, 52, tzinfo=tzutc()), 'ETag': '\"06cd7bcf48028a5948b8d3a478f95041\"', 'Size': 69423, 'StorageClass': 'STANDARD'}, {'Key': 'news/3/ArchiveNews_2024-07-24:04:09_split.csv', 'LastModified': datetime.datetime(2024, 7, 24, 4, 10, 19, tzinfo=tzutc()), 'ETag': '\"cf3044020697a1aa6b2e97d83ed9bcd5\"', 'Size': 71764, 'StorageClass': 'STANDARD'}, {'Key': 'news/3/ArchiveNews_2024-07-25:04:00_split.csv', 'LastModified': datetime.datetime(2024, 7, 25, 4, 1, 1, tzinfo=tzutc()), 'ETag': '\"a45bba48dc57acfec67a396f148b80ed\"', 'Size': 72931, 'StorageClass': 'STANDARD'}, {'Key': 'news/3/ArchiveNews_2024-07-26:04:00_split.csv', 'LastModified': datetime.datetime(2024, 7, 26, 4, 0, 59, tzinfo=tzutc()), 'ETag': '\"a45bba48dc57acfec67a396f148b80ed\"', 'Size': 72931, 'StorageClass': 'STANDARD'}, {'Key': 'news/3/ArchiveNews_2024-07-27:04:00_split.csv', 'LastModified': datetime.datetime(2024, 7, 27, 4, 1, 1, tzinfo=tzutc()), 'ETag': '\"5cf9951b561bffeb16c58227448f7d2f\"', 'Size': 72046, 'StorageClass': 'STANDARD'}, {'Key': 'news/3/ArchiveNews_2024-07-28:04:09_split.csv', 'LastModified': datetime.datetime(2024, 7, 28, 4, 10, 8, tzinfo=tzutc()), 'ETag': '\"5cf9951b561bffeb16c58227448f7d2f\"', 'Size': 72046, 'StorageClass': 'STANDARD'}, {'Key': 'news/3/ArchiveNews_2024-07-29:04:01_split.csv', 'LastModified': datetime.datetime(2024, 7, 29, 4, 1, 41, tzinfo=tzutc()), 'ETag': '\"5cf9951b561bffeb16c58227448f7d2f\"', 'Size': 72046, 'StorageClass': 'STANDARD'}, {'Key': 'news/3/ArchiveNews_2024-07-30:04:01_split.csv', 'LastModified': datetime.datetime(2024, 7, 30, 4, 1, 35, tzinfo=tzutc()), 'ETag': '\"5cf9951b561bffeb16c58227448f7d2f\"', 'Size': 72046, 'StorageClass': 'STANDARD'}, {'Key': 'news/3/ArchiveNews_2024-07-31:04:00_split.csv', 'LastModified': datetime.datetime(2024, 7, 31, 4, 1, 8, tzinfo=tzutc()), 'ETag': '\"5cf9951b561bffeb16c58227448f7d2f\"', 'Size': 72046, 'StorageClass': 'STANDARD'}, {'Key': 'news/3/ArchiveNews_2024-10-10:05:00_split.csv', 'LastModified': datetime.datetime(2024, 10, 10, 5, 1, 24, tzinfo=tzutc()), 'ETag': '\"eb434e910dc097b0fe988679abbaa8e3\"', 'Size': 100339, 'StorageClass': 'STANDARD'}, {'Key': 'news/3/ArchiveNews_2024-10-11:05:09_split.csv', 'LastModified': datetime.datetime(2024, 10, 11, 5, 10, 20, tzinfo=tzutc()), 'ETag': '\"eb434e910dc097b0fe988679abbaa8e3\"', 'Size': 100339, 'StorageClass': 'STANDARD'}, {'Key': 'news/3/ArchiveNews_2024-10-12:05:00_split.csv', 'LastModified': datetime.datetime(2024, 10, 12, 5, 1, 6, tzinfo=tzutc()), 'ETag': '\"eb434e910dc097b0fe988679abbaa8e3\"', 'Size': 100339, 'StorageClass': 'STANDARD'}, {'Key': 'news/3/ArchiveNews_2024-10-14:05:02_split.csv', 'LastModified': datetime.datetime(2024, 10, 14, 5, 3, 19, tzinfo=tzutc()), 'ETag': '\"eb434e910dc097b0fe988679abbaa8e3\"', 'Size': 100339, 'StorageClass': 'STANDARD'}, {'Key': 'news/3/ArchiveNews_2024-10-15:05:03_split.csv', 'LastModified': datetime.datetime(2024, 10, 15, 5, 3, 33, tzinfo=tzutc()), 'ETag': '\"eb434e910dc097b0fe988679abbaa8e3\"', 'Size': 100339, 'StorageClass': 'STANDARD'}, {'Key': 'news/3/ArchiveNews_2024-10-17:05:06_split.csv', 'LastModified': datetime.datetime(2024, 10, 17, 5, 6, 54, tzinfo=tzutc()), 'ETag': '\"eb434e910dc097b0fe988679abbaa8e3\"', 'Size': 100339, 'StorageClass': 'STANDARD'}, {'Key': 'news/3/ArchiveNews_2024-10-20:05:00_split.csv', 'LastModified': datetime.datetime(2024, 10, 20, 5, 1, tzinfo=tzutc()), 'ETag': '\"40c52ac322dd652f93220e020640d091\"', 'Size': 84467, 'StorageClass': 'STANDARD'}, {'Key': 'news/3/ArchiveNews_2024-10-25:05:09_split.csv', 'LastModified': datetime.datetime(2024, 10, 25, 5, 10, 14, tzinfo=tzutc()), 'ETag': '\"4a97fb102cc844a5d695b67666230d15\"', 'Size': 106541, 'StorageClass': 'STANDARD'}, {'Key': 'news/3/ArchiveNews_2024-10-26:05:01_split.csv', 'LastModified': datetime.datetime(2024, 10, 26, 5, 1, 49, tzinfo=tzutc()), 'ETag': '\"4a97fb102cc844a5d695b67666230d15\"', 'Size': 106541, 'StorageClass': 'STANDARD'}, {'Key': 'news/3/ArchiveNews_2024-10-27:05:00_split.csv', 'LastModified': datetime.datetime(2024, 10, 27, 5, 1, 4, tzinfo=tzutc()), 'ETag': '\"4a97fb102cc844a5d695b67666230d15\"', 'Size': 106541, 'StorageClass': 'STANDARD'}, {'Key': 'news/3/ArchiveNews_2024-10-28:05:00_split.csv', 'LastModified': datetime.datetime(2024, 10, 28, 5, 1, 3, tzinfo=tzutc()), 'ETag': '\"4a97fb102cc844a5d695b67666230d15\"', 'Size': 106541, 'StorageClass': 'STANDARD'}, {'Key': 'news/3/ArchiveNews_2024-10-31:05:11_split.csv', 'LastModified': datetime.datetime(2024, 10, 31, 5, 11, 40, tzinfo=tzutc()), 'ETag': '\"583a781ec81f39c333bd12be2d63e55b\"', 'Size': 109815, 'StorageClass': 'STANDARD'}, {'Key': 'news/3/ArchiveNews_2024-11-01:05:00_split.csv', 'LastModified': datetime.datetime(2024, 11, 1, 5, 1, 6, tzinfo=tzutc()), 'ETag': '\"583a781ec81f39c333bd12be2d63e55b\"', 'Size': 109815, 'StorageClass': 'STANDARD'}], 'Name': 'py-secnews-landing', 'Prefix': 'news/3/', 'MaxKeys': 1000, 'EncodingType': 'url', 'KeyCount': 41}\n",
      "File: news/3/ArchiveNews_2024-06-14:13:23_split.csv was appended to dataframe.\n",
      "File: news/3/ArchiveNews_2024-06-15:06:34_split.csv was appended to dataframe.\n",
      "File: news/3/ArchiveNews_2024-06-16:14:03_split.csv was appended to dataframe.\n",
      "File: news/3/ArchiveNews_2024-06-16:14:52_split.csv was appended to dataframe.\n",
      "File: news/3/ArchiveNews_2024-06-17:04:00_split.csv was appended to dataframe.\n",
      "File: news/3/ArchiveNews_2024-06-18:04:00_split.csv was appended to dataframe.\n",
      "File: news/3/ArchiveNews_2024-06-19:04:10_split.csv was appended to dataframe.\n",
      "File: news/3/ArchiveNews_2024-06-20:04:04_split.csv was appended to dataframe.\n",
      "File: news/3/ArchiveNews_2024-06-21:04:10_split.csv was appended to dataframe.\n",
      "File: news/3/ArchiveNews_2024-06-22:04:07_split.csv was appended to dataframe.\n",
      "File: news/3/ArchiveNews_2024-06-23:04:00_split.csv was appended to dataframe.\n",
      "File: news/3/ArchiveNews_2024-06-24:04:05_split.csv was appended to dataframe.\n",
      "File: news/3/ArchiveNews_2024-06-25:04:00_split.csv was appended to dataframe.\n",
      "File: news/3/ArchiveNews_2024-06-26:04:00_split.csv was appended to dataframe.\n",
      "File: news/3/ArchiveNews_2024-06-27:04:07_split.csv was appended to dataframe.\n",
      "File: news/3/ArchiveNews_2024-06-28:04:06_split.csv was appended to dataframe.\n",
      "File: news/3/ArchiveNews_2024-06-29:04:07_split.csv was appended to dataframe.\n",
      "File: news/3/ArchiveNews_2024-06-30:04:00_split.csv was appended to dataframe.\n",
      "File: news/3/ArchiveNews_2024-07-22:04:12_split.csv was appended to dataframe.\n",
      "File: news/3/ArchiveNews_2024-07-23:04:09_split.csv was appended to dataframe.\n",
      "File: news/3/ArchiveNews_2024-07-24:04:09_split.csv was appended to dataframe.\n",
      "File: news/3/ArchiveNews_2024-07-25:04:00_split.csv was appended to dataframe.\n",
      "File: news/3/ArchiveNews_2024-07-26:04:00_split.csv was appended to dataframe.\n",
      "File: news/3/ArchiveNews_2024-07-27:04:00_split.csv was appended to dataframe.\n",
      "File: news/3/ArchiveNews_2024-07-28:04:09_split.csv was appended to dataframe.\n",
      "File: news/3/ArchiveNews_2024-07-29:04:01_split.csv was appended to dataframe.\n",
      "File: news/3/ArchiveNews_2024-07-30:04:01_split.csv was appended to dataframe.\n",
      "File: news/3/ArchiveNews_2024-07-31:04:00_split.csv was appended to dataframe.\n",
      "File: news/3/ArchiveNews_2024-10-10:05:00_split.csv was appended to dataframe.\n",
      "File: news/3/ArchiveNews_2024-10-11:05:09_split.csv was appended to dataframe.\n",
      "File: news/3/ArchiveNews_2024-10-12:05:00_split.csv was appended to dataframe.\n",
      "File: news/3/ArchiveNews_2024-10-14:05:02_split.csv was appended to dataframe.\n",
      "File: news/3/ArchiveNews_2024-10-15:05:03_split.csv was appended to dataframe.\n",
      "File: news/3/ArchiveNews_2024-10-17:05:06_split.csv was appended to dataframe.\n",
      "File: news/3/ArchiveNews_2024-10-20:05:00_split.csv was appended to dataframe.\n",
      "File: news/3/ArchiveNews_2024-10-25:05:09_split.csv was appended to dataframe.\n",
      "File: news/3/ArchiveNews_2024-10-26:05:01_split.csv was appended to dataframe.\n",
      "File: news/3/ArchiveNews_2024-10-27:05:00_split.csv was appended to dataframe.\n",
      "File: news/3/ArchiveNews_2024-10-28:05:00_split.csv was appended to dataframe.\n",
      "File: news/3/ArchiveNews_2024-10-31:05:11_split.csv was appended to dataframe.\n",
      "File: news/3/ArchiveNews_2024-11-01:05:00_split.csv was appended to dataframe.\n",
      "\n",
      "\n",
      "----------------------\n",
      "Current folder: news/4/\n",
      "----------------------\n",
      "The following objects were found in folder path news/4/: {'ResponseMetadata': {'RequestId': 'FZ42RZ0FKV3JZKR3', 'HostId': 'C0w25oBDpohITBJOF5WOqj/qTHKfU/QiDc3ULX3RhR6IZZ2MY1dHe7rIdfWmqGW02bKkn/sn6EE=', 'HTTPStatusCode': 200, 'HTTPHeaders': {'x-amz-id-2': 'C0w25oBDpohITBJOF5WOqj/qTHKfU/QiDc3ULX3RhR6IZZ2MY1dHe7rIdfWmqGW02bKkn/sn6EE=', 'x-amz-request-id': 'FZ42RZ0FKV3JZKR3', 'date': 'Fri, 01 Nov 2024 08:32:14 GMT', 'x-amz-bucket-region': 'eu-north-1', 'content-type': 'application/xml', 'transfer-encoding': 'chunked', 'server': 'AmazonS3'}, 'RetryAttempts': 0}, 'IsTruncated': False, 'Contents': [{'Key': 'news/4/ArchiveNews_2024-06-16:14:51_split.csv', 'LastModified': datetime.datetime(2024, 6, 16, 14, 52, 16, tzinfo=tzutc()), 'ETag': '\"cb945c435ac9d4f39039eb7a93e153d0\"', 'Size': 77, 'StorageClass': 'STANDARD'}, {'Key': 'news/4/ArchiveNews_2024-06-17:04:00_split.csv', 'LastModified': datetime.datetime(2024, 6, 17, 4, 0, 54, tzinfo=tzutc()), 'ETag': '\"cb945c435ac9d4f39039eb7a93e153d0\"', 'Size': 77, 'StorageClass': 'STANDARD'}, {'Key': 'news/4/ArchiveNews_2024-06-18:04:00_split.csv', 'LastModified': datetime.datetime(2024, 6, 18, 4, 0, 48, tzinfo=tzutc()), 'ETag': '\"cb945c435ac9d4f39039eb7a93e153d0\"', 'Size': 77, 'StorageClass': 'STANDARD'}, {'Key': 'news/4/ArchiveNews_2024-06-19:04:02_split.csv', 'LastModified': datetime.datetime(2024, 6, 19, 4, 2, 28, tzinfo=tzutc()), 'ETag': '\"cb945c435ac9d4f39039eb7a93e153d0\"', 'Size': 77, 'StorageClass': 'STANDARD'}, {'Key': 'news/4/ArchiveNews_2024-06-20:04:00_split.csv', 'LastModified': datetime.datetime(2024, 6, 20, 4, 0, 57, tzinfo=tzutc()), 'ETag': '\"cb945c435ac9d4f39039eb7a93e153d0\"', 'Size': 77, 'StorageClass': 'STANDARD'}, {'Key': 'news/4/ArchiveNews_2024-06-21:04:00_split.csv', 'LastModified': datetime.datetime(2024, 6, 21, 4, 0, 46, tzinfo=tzutc()), 'ETag': '\"cb945c435ac9d4f39039eb7a93e153d0\"', 'Size': 77, 'StorageClass': 'STANDARD'}, {'Key': 'news/4/ArchiveNews_2024-06-22:04:00_split.csv', 'LastModified': datetime.datetime(2024, 6, 22, 4, 0, 47, tzinfo=tzutc()), 'ETag': '\"cb945c435ac9d4f39039eb7a93e153d0\"', 'Size': 77, 'StorageClass': 'STANDARD'}, {'Key': 'news/4/ArchiveNews_2024-06-23:04:07_split.csv', 'LastModified': datetime.datetime(2024, 6, 23, 4, 7, 27, tzinfo=tzutc()), 'ETag': '\"cb945c435ac9d4f39039eb7a93e153d0\"', 'Size': 77, 'StorageClass': 'STANDARD'}, {'Key': 'news/4/ArchiveNews_2024-06-24:04:00_split.csv', 'LastModified': datetime.datetime(2024, 6, 24, 4, 0, 48, tzinfo=tzutc()), 'ETag': '\"cb945c435ac9d4f39039eb7a93e153d0\"', 'Size': 77, 'StorageClass': 'STANDARD'}, {'Key': 'news/4/ArchiveNews_2024-06-25:04:12_split.csv', 'LastModified': datetime.datetime(2024, 6, 25, 4, 12, 29, tzinfo=tzutc()), 'ETag': '\"cb945c435ac9d4f39039eb7a93e153d0\"', 'Size': 77, 'StorageClass': 'STANDARD'}, {'Key': 'news/4/ArchiveNews_2024-06-26:04:03_split.csv', 'LastModified': datetime.datetime(2024, 6, 26, 4, 3, 50, tzinfo=tzutc()), 'ETag': '\"cb945c435ac9d4f39039eb7a93e153d0\"', 'Size': 77, 'StorageClass': 'STANDARD'}, {'Key': 'news/4/ArchiveNews_2024-06-27:04:11_split.csv', 'LastModified': datetime.datetime(2024, 6, 27, 4, 11, 31, tzinfo=tzutc()), 'ETag': '\"cb945c435ac9d4f39039eb7a93e153d0\"', 'Size': 77, 'StorageClass': 'STANDARD'}, {'Key': 'news/4/ArchiveNews_2024-06-28:04:05_split.csv', 'LastModified': datetime.datetime(2024, 6, 28, 4, 6, 3, tzinfo=tzutc()), 'ETag': '\"27c728a8a50172514dd1bfffeb4cd61f\"', 'Size': 1533, 'StorageClass': 'STANDARD'}, {'Key': 'news/4/ArchiveNews_2024-06-29:04:04_split.csv', 'LastModified': datetime.datetime(2024, 6, 29, 4, 5, 17, tzinfo=tzutc()), 'ETag': '\"4a0ca7eaca26666e3a3f6a2dac44973e\"', 'Size': 3800, 'StorageClass': 'STANDARD'}, {'Key': 'news/4/ArchiveNews_2024-06-30:04:01_split.csv', 'LastModified': datetime.datetime(2024, 6, 30, 4, 1, 23, tzinfo=tzutc()), 'ETag': '\"769bccccb76e47d1b7e206933006a7fa\"', 'Size': 3800, 'StorageClass': 'STANDARD'}, {'Key': 'news/4/ArchiveNews_2024-07-22:04:03_split.csv', 'LastModified': datetime.datetime(2024, 7, 22, 4, 3, 48, tzinfo=tzutc()), 'ETag': '\"67b70cc5afe43ce31abca23fe63b2474\"', 'Size': 1316, 'StorageClass': 'STANDARD'}, {'Key': 'news/4/ArchiveNews_2024-07-23:04:09_split.csv', 'LastModified': datetime.datetime(2024, 7, 23, 4, 10, 18, tzinfo=tzutc()), 'ETag': '\"ba64e7cc74e0ec6a30f1ec141f0f8ede\"', 'Size': 1326, 'StorageClass': 'STANDARD'}, {'Key': 'news/4/ArchiveNews_2024-07-24:04:10_split.csv', 'LastModified': datetime.datetime(2024, 7, 24, 4, 10, 56, tzinfo=tzutc()), 'ETag': '\"ba64e7cc74e0ec6a30f1ec141f0f8ede\"', 'Size': 1326, 'StorageClass': 'STANDARD'}, {'Key': 'news/4/ArchiveNews_2024-07-25:04:09_split.csv', 'LastModified': datetime.datetime(2024, 7, 25, 4, 10, 5, tzinfo=tzutc()), 'ETag': '\"ba64e7cc74e0ec6a30f1ec141f0f8ede\"', 'Size': 1326, 'StorageClass': 'STANDARD'}, {'Key': 'news/4/ArchiveNews_2024-07-26:04:11_split.csv', 'LastModified': datetime.datetime(2024, 7, 26, 4, 11, 51, tzinfo=tzutc()), 'ETag': '\"cb945c435ac9d4f39039eb7a93e153d0\"', 'Size': 77, 'StorageClass': 'STANDARD'}, {'Key': 'news/4/ArchiveNews_2024-07-27:04:01_split.csv', 'LastModified': datetime.datetime(2024, 7, 27, 4, 1, 34, tzinfo=tzutc()), 'ETag': '\"cb945c435ac9d4f39039eb7a93e153d0\"', 'Size': 77, 'StorageClass': 'STANDARD'}, {'Key': 'news/4/ArchiveNews_2024-07-28:04:09_split.csv', 'LastModified': datetime.datetime(2024, 7, 28, 4, 9, 43, tzinfo=tzutc()), 'ETag': '\"cb945c435ac9d4f39039eb7a93e153d0\"', 'Size': 77, 'StorageClass': 'STANDARD'}, {'Key': 'news/4/ArchiveNews_2024-07-29:04:10_split.csv', 'LastModified': datetime.datetime(2024, 7, 29, 4, 10, 46, tzinfo=tzutc()), 'ETag': '\"cb945c435ac9d4f39039eb7a93e153d0\"', 'Size': 77, 'StorageClass': 'STANDARD'}, {'Key': 'news/4/ArchiveNews_2024-07-30:04:08_split.csv', 'LastModified': datetime.datetime(2024, 7, 30, 4, 9, 10, tzinfo=tzutc()), 'ETag': '\"cb945c435ac9d4f39039eb7a93e153d0\"', 'Size': 77, 'StorageClass': 'STANDARD'}, {'Key': 'news/4/ArchiveNews_2024-07-31:04:07_split.csv', 'LastModified': datetime.datetime(2024, 7, 31, 4, 8, 12, tzinfo=tzutc()), 'ETag': '\"3f46d1aaafc78bc70ff992f3b9d7b9b1\"', 'Size': 2644, 'StorageClass': 'STANDARD'}, {'Key': 'news/4/ArchiveNews_2024-10-10:05:07_split.csv', 'LastModified': datetime.datetime(2024, 10, 10, 5, 8, 13, tzinfo=tzutc()), 'ETag': '\"b249d75d684f213b1416f60f61dcea70\"', 'Size': 4009, 'StorageClass': 'STANDARD'}, {'Key': 'news/4/ArchiveNews_2024-10-11:05:00_split.csv', 'LastModified': datetime.datetime(2024, 10, 11, 5, 1, 2, tzinfo=tzutc()), 'ETag': '\"74a99082da01eb330477c10ef62ec681\"', 'Size': 4335, 'StorageClass': 'STANDARD'}, {'Key': 'news/4/ArchiveNews_2024-10-12:05:10_split.csv', 'LastModified': datetime.datetime(2024, 10, 12, 5, 11, 15, tzinfo=tzutc()), 'ETag': '\"9222c453dc696822adb3ca3cce9e0180\"', 'Size': 3091, 'StorageClass': 'STANDARD'}, {'Key': 'news/4/ArchiveNews_2024-10-14:05:03_split.csv', 'LastModified': datetime.datetime(2024, 10, 14, 5, 3, 50, tzinfo=tzutc()), 'ETag': '\"7589373caf01644a8a075c202b2df6eb\"', 'Size': 1484, 'StorageClass': 'STANDARD'}, {'Key': 'news/4/ArchiveNews_2024-10-15:05:06_split.csv', 'LastModified': datetime.datetime(2024, 10, 15, 5, 6, 51, tzinfo=tzutc()), 'ETag': '\"7b71a815b953f29118537486504ffe7e\"', 'Size': 2806, 'StorageClass': 'STANDARD'}, {'Key': 'news/4/ArchiveNews_2024-10-17:05:05_split.csv', 'LastModified': datetime.datetime(2024, 10, 17, 5, 6, 21, tzinfo=tzutc()), 'ETag': '\"41956c4bdefb3671f95ade9b92621b33\"', 'Size': 1399, 'StorageClass': 'STANDARD'}, {'Key': 'news/4/ArchiveNews_2024-10-20:05:07_split.csv', 'LastModified': datetime.datetime(2024, 10, 20, 5, 7, 48, tzinfo=tzutc()), 'ETag': '\"41956c4bdefb3671f95ade9b92621b33\"', 'Size': 1399, 'StorageClass': 'STANDARD'}, {'Key': 'news/4/ArchiveNews_2024-10-25:05:10_split.csv', 'LastModified': datetime.datetime(2024, 10, 25, 5, 10, 40, tzinfo=tzutc()), 'ETag': '\"db59e1bb7d90d6ec167fee841ef1dfd7\"', 'Size': 1253, 'StorageClass': 'STANDARD'}, {'Key': 'news/4/ArchiveNews_2024-10-26:05:05_split.csv', 'LastModified': datetime.datetime(2024, 10, 26, 5, 5, 40, tzinfo=tzutc()), 'ETag': '\"cb945c435ac9d4f39039eb7a93e153d0\"', 'Size': 77, 'StorageClass': 'STANDARD'}, {'Key': 'news/4/ArchiveNews_2024-10-27:05:08_split.csv', 'LastModified': datetime.datetime(2024, 10, 27, 5, 8, 32, tzinfo=tzutc()), 'ETag': '\"d02f9837df38463ff3a11062d1d27533\"', 'Size': 1250, 'StorageClass': 'STANDARD'}, {'Key': 'news/4/ArchiveNews_2024-10-28:05:09_split.csv', 'LastModified': datetime.datetime(2024, 10, 28, 5, 10, 15, tzinfo=tzutc()), 'ETag': '\"d02f9837df38463ff3a11062d1d27533\"', 'Size': 1250, 'StorageClass': 'STANDARD'}, {'Key': 'news/4/ArchiveNews_2024-10-31:05:04_split.csv', 'LastModified': datetime.datetime(2024, 10, 31, 5, 4, 41, tzinfo=tzutc()), 'ETag': '\"6b510341e69610dfa74887a2b7c34e02\"', 'Size': 2406, 'StorageClass': 'STANDARD'}, {'Key': 'news/4/ArchiveNews_2024-11-01:05:03_split.csv', 'LastModified': datetime.datetime(2024, 11, 1, 5, 3, 57, tzinfo=tzutc()), 'ETag': '\"8a137f77f9e2fa98d50574dbe3d471dd\"', 'Size': 1233, 'StorageClass': 'STANDARD'}], 'Name': 'py-secnews-landing', 'Prefix': 'news/4/', 'MaxKeys': 1000, 'EncodingType': 'url', 'KeyCount': 38}\n",
      "File: news/4/ArchiveNews_2024-06-16:14:51_split.csv was appended to dataframe.\n",
      "File: news/4/ArchiveNews_2024-06-17:04:00_split.csv was appended to dataframe.\n",
      "File: news/4/ArchiveNews_2024-06-18:04:00_split.csv was appended to dataframe.\n",
      "File: news/4/ArchiveNews_2024-06-19:04:02_split.csv was appended to dataframe.\n",
      "File: news/4/ArchiveNews_2024-06-20:04:00_split.csv was appended to dataframe.\n",
      "File: news/4/ArchiveNews_2024-06-21:04:00_split.csv was appended to dataframe.\n",
      "File: news/4/ArchiveNews_2024-06-22:04:00_split.csv was appended to dataframe.\n",
      "File: news/4/ArchiveNews_2024-06-23:04:07_split.csv was appended to dataframe.\n",
      "File: news/4/ArchiveNews_2024-06-24:04:00_split.csv was appended to dataframe.\n",
      "File: news/4/ArchiveNews_2024-06-25:04:12_split.csv was appended to dataframe.\n",
      "File: news/4/ArchiveNews_2024-06-26:04:03_split.csv was appended to dataframe.\n",
      "File: news/4/ArchiveNews_2024-06-27:04:11_split.csv was appended to dataframe.\n",
      "File: news/4/ArchiveNews_2024-06-28:04:05_split.csv was appended to dataframe.\n",
      "File: news/4/ArchiveNews_2024-06-29:04:04_split.csv was appended to dataframe.\n",
      "File: news/4/ArchiveNews_2024-06-30:04:01_split.csv was appended to dataframe.\n",
      "File: news/4/ArchiveNews_2024-07-22:04:03_split.csv was appended to dataframe.\n",
      "File: news/4/ArchiveNews_2024-07-23:04:09_split.csv was appended to dataframe.\n",
      "File: news/4/ArchiveNews_2024-07-24:04:10_split.csv was appended to dataframe.\n",
      "File: news/4/ArchiveNews_2024-07-25:04:09_split.csv was appended to dataframe.\n",
      "File: news/4/ArchiveNews_2024-07-26:04:11_split.csv was appended to dataframe.\n",
      "File: news/4/ArchiveNews_2024-07-27:04:01_split.csv was appended to dataframe.\n",
      "File: news/4/ArchiveNews_2024-07-28:04:09_split.csv was appended to dataframe.\n",
      "File: news/4/ArchiveNews_2024-07-29:04:10_split.csv was appended to dataframe.\n",
      "File: news/4/ArchiveNews_2024-07-30:04:08_split.csv was appended to dataframe.\n",
      "File: news/4/ArchiveNews_2024-07-31:04:07_split.csv was appended to dataframe.\n",
      "File: news/4/ArchiveNews_2024-10-10:05:07_split.csv was appended to dataframe.\n",
      "File: news/4/ArchiveNews_2024-10-11:05:00_split.csv was appended to dataframe.\n",
      "File: news/4/ArchiveNews_2024-10-12:05:10_split.csv was appended to dataframe.\n",
      "File: news/4/ArchiveNews_2024-10-14:05:03_split.csv was appended to dataframe.\n",
      "File: news/4/ArchiveNews_2024-10-15:05:06_split.csv was appended to dataframe.\n",
      "File: news/4/ArchiveNews_2024-10-17:05:05_split.csv was appended to dataframe.\n",
      "File: news/4/ArchiveNews_2024-10-20:05:07_split.csv was appended to dataframe.\n",
      "File: news/4/ArchiveNews_2024-10-25:05:10_split.csv was appended to dataframe.\n",
      "File: news/4/ArchiveNews_2024-10-26:05:05_split.csv was appended to dataframe.\n",
      "File: news/4/ArchiveNews_2024-10-27:05:08_split.csv was appended to dataframe.\n",
      "File: news/4/ArchiveNews_2024-10-28:05:09_split.csv was appended to dataframe.\n",
      "File: news/4/ArchiveNews_2024-10-31:05:04_split.csv was appended to dataframe.\n",
      "File: news/4/ArchiveNews_2024-11-01:05:03_split.csv was appended to dataframe.\n",
      "\n",
      "\n",
      "----------------------\n",
      "Current folder: news/5/\n",
      "----------------------\n",
      "The following objects were found in folder path news/5/: {'ResponseMetadata': {'RequestId': 'TTPCF7RT1TABCA6F', 'HostId': 'Ny8H02Pf9ks8jdbkXLBzZ8Gx55ZiWefsz8W30mm3lee5izxS8Y8zu1/bu9H5E+/16kUIbnX2PoY=', 'HTTPStatusCode': 200, 'HTTPHeaders': {'x-amz-id-2': 'Ny8H02Pf9ks8jdbkXLBzZ8Gx55ZiWefsz8W30mm3lee5izxS8Y8zu1/bu9H5E+/16kUIbnX2PoY=', 'x-amz-request-id': 'TTPCF7RT1TABCA6F', 'date': 'Fri, 01 Nov 2024 08:32:17 GMT', 'x-amz-bucket-region': 'eu-north-1', 'content-type': 'application/xml', 'transfer-encoding': 'chunked', 'server': 'AmazonS3'}, 'RetryAttempts': 0}, 'IsTruncated': False, 'Contents': [{'Key': 'news/5/ArchiveNews_2024-06-16:14:03_split.csv', 'LastModified': datetime.datetime(2024, 6, 16, 14, 4, 28, tzinfo=tzutc()), 'ETag': '\"3e883a953d981057d7eef4a0a0b056ee\"', 'Size': 51952, 'StorageClass': 'STANDARD'}, {'Key': 'news/5/ArchiveNews_2024-06-16:15:01_split.csv', 'LastModified': datetime.datetime(2024, 6, 16, 15, 1, 42, tzinfo=tzutc()), 'ETag': '\"3e883a953d981057d7eef4a0a0b056ee\"', 'Size': 51952, 'StorageClass': 'STANDARD'}, {'Key': 'news/5/ArchiveNews_2024-06-17:04:06_split.csv', 'LastModified': datetime.datetime(2024, 6, 17, 4, 7, 12, tzinfo=tzutc()), 'ETag': '\"3e883a953d981057d7eef4a0a0b056ee\"', 'Size': 51952, 'StorageClass': 'STANDARD'}, {'Key': 'news/5/ArchiveNews_2024-06-18:04:07_split.csv', 'LastModified': datetime.datetime(2024, 6, 18, 4, 7, 41, tzinfo=tzutc()), 'ETag': '\"3e883a953d981057d7eef4a0a0b056ee\"', 'Size': 51952, 'StorageClass': 'STANDARD'}, {'Key': 'news/5/ArchiveNews_2024-06-19:04:09_split.csv', 'LastModified': datetime.datetime(2024, 6, 19, 4, 10, 2, tzinfo=tzutc()), 'ETag': '\"7ef4e7694e0741018ef143391b4a4343\"', 'Size': 54555, 'StorageClass': 'STANDARD'}, {'Key': 'news/5/ArchiveNews_2024-06-20:04:02_split.csv', 'LastModified': datetime.datetime(2024, 6, 20, 4, 3, 5, tzinfo=tzutc()), 'ETag': '\"92495798f0bb6269569f0a35feaf9a33\"', 'Size': 53933, 'StorageClass': 'STANDARD'}, {'Key': 'news/5/ArchiveNews_2024-06-21:04:09_split.csv', 'LastModified': datetime.datetime(2024, 6, 21, 4, 10, 32, tzinfo=tzutc()), 'ETag': '\"1ad2544510fe48bd69c039912d4848e9\"', 'Size': 53575, 'StorageClass': 'STANDARD'}, {'Key': 'news/5/ArchiveNews_2024-06-22:04:10_split.csv', 'LastModified': datetime.datetime(2024, 6, 22, 4, 11, 20, tzinfo=tzutc()), 'ETag': '\"0450e2a3bea9025ec29585828e5005c6\"', 'Size': 53519, 'StorageClass': 'STANDARD'}, {'Key': 'news/5/ArchiveNews_2024-06-23:04:00_split.csv', 'LastModified': datetime.datetime(2024, 6, 23, 4, 1, 6, tzinfo=tzutc()), 'ETag': '\"0450e2a3bea9025ec29585828e5005c6\"', 'Size': 53519, 'StorageClass': 'STANDARD'}, {'Key': 'news/5/ArchiveNews_2024-06-24:04:00_split.csv', 'LastModified': datetime.datetime(2024, 6, 24, 4, 1, 7, tzinfo=tzutc()), 'ETag': '\"0450e2a3bea9025ec29585828e5005c6\"', 'Size': 53519, 'StorageClass': 'STANDARD'}, {'Key': 'news/5/ArchiveNews_2024-06-25:04:08_split.csv', 'LastModified': datetime.datetime(2024, 6, 25, 4, 8, 42, tzinfo=tzutc()), 'ETag': '\"0450e2a3bea9025ec29585828e5005c6\"', 'Size': 53519, 'StorageClass': 'STANDARD'}, {'Key': 'news/5/ArchiveNews_2024-06-26:04:00_split.csv', 'LastModified': datetime.datetime(2024, 6, 26, 4, 1, 9, tzinfo=tzutc()), 'ETag': '\"0450e2a3bea9025ec29585828e5005c6\"', 'Size': 53519, 'StorageClass': 'STANDARD'}, {'Key': 'news/5/ArchiveNews_2024-06-27:04:00_split.csv', 'LastModified': datetime.datetime(2024, 6, 27, 4, 1, 7, tzinfo=tzutc()), 'ETag': '\"066c332ec6403d2eb9f6efc9254d1be4\"', 'Size': 51922, 'StorageClass': 'STANDARD'}, {'Key': 'news/5/ArchiveNews_2024-06-28:04:00_split.csv', 'LastModified': datetime.datetime(2024, 6, 28, 4, 1, 9, tzinfo=tzutc()), 'ETag': '\"71e66e6b83f3dd36bcd8bea5ee5a6aef\"', 'Size': 52058, 'StorageClass': 'STANDARD'}, {'Key': 'news/5/ArchiveNews_2024-06-29:04:05_split.csv', 'LastModified': datetime.datetime(2024, 6, 29, 4, 6, 2, tzinfo=tzutc()), 'ETag': '\"a0c23674c4a9938709598b05e41a62ff\"', 'Size': 52736, 'StorageClass': 'STANDARD'}, {'Key': 'news/5/ArchiveNews_2024-06-30:04:03_split.csv', 'LastModified': datetime.datetime(2024, 6, 30, 4, 3, 55, tzinfo=tzutc()), 'ETag': '\"a0c23674c4a9938709598b05e41a62ff\"', 'Size': 52736, 'StorageClass': 'STANDARD'}, {'Key': 'news/5/ArchiveNews_2024-07-22:04:03_split.csv', 'LastModified': datetime.datetime(2024, 7, 22, 4, 4, 30, tzinfo=tzutc()), 'ETag': '\"30f797c9b1596f2e07c4abc87f251085\"', 'Size': 50061, 'StorageClass': 'STANDARD'}, {'Key': 'news/5/ArchiveNews_2024-07-23:04:00_split.csv', 'LastModified': datetime.datetime(2024, 7, 23, 4, 1, 16, tzinfo=tzutc()), 'ETag': '\"30f797c9b1596f2e07c4abc87f251085\"', 'Size': 50061, 'StorageClass': 'STANDARD'}, {'Key': 'news/5/ArchiveNews_2024-07-24:04:09_split.csv', 'LastModified': datetime.datetime(2024, 7, 24, 4, 9, 48, tzinfo=tzutc()), 'ETag': '\"3e02a8d7b0e10d9f46531ba16fd5a65f\"', 'Size': 52228, 'StorageClass': 'STANDARD'}, {'Key': 'news/5/ArchiveNews_2024-07-25:04:00_split.csv', 'LastModified': datetime.datetime(2024, 7, 25, 4, 1, 6, tzinfo=tzutc()), 'ETag': '\"5d4871a2f4c01ea4ecc9713420adc80c\"', 'Size': 31705, 'StorageClass': 'STANDARD'}, {'Key': 'news/5/ArchiveNews_2024-07-26:04:01_split.csv', 'LastModified': datetime.datetime(2024, 7, 26, 4, 1, 41, tzinfo=tzutc()), 'ETag': '\"f414df770d81dac441c4a82dceed2560\"', 'Size': 52226, 'StorageClass': 'STANDARD'}, {'Key': 'news/5/ArchiveNews_2024-07-27:04:05_split.csv', 'LastModified': datetime.datetime(2024, 7, 27, 4, 6, 34, tzinfo=tzutc()), 'ETag': '\"4ab3e98748cf2fd6e00b84aec65462b2\"', 'Size': 52236, 'StorageClass': 'STANDARD'}, {'Key': 'news/5/ArchiveNews_2024-07-28:04:00_split.csv', 'LastModified': datetime.datetime(2024, 7, 28, 4, 1, 12, tzinfo=tzutc()), 'ETag': '\"4ab3e98748cf2fd6e00b84aec65462b2\"', 'Size': 52236, 'StorageClass': 'STANDARD'}, {'Key': 'news/5/ArchiveNews_2024-07-29:04:00_split.csv', 'LastModified': datetime.datetime(2024, 7, 29, 4, 1, 11, tzinfo=tzutc()), 'ETag': '\"4ab3e98748cf2fd6e00b84aec65462b2\"', 'Size': 52236, 'StorageClass': 'STANDARD'}, {'Key': 'news/5/ArchiveNews_2024-07-30:04:00_split.csv', 'LastModified': datetime.datetime(2024, 7, 30, 4, 1, 11, tzinfo=tzutc()), 'ETag': '\"bcc8f90b17e4b79c1b7937d288074b6c\"', 'Size': 52038, 'StorageClass': 'STANDARD'}, {'Key': 'news/5/ArchiveNews_2024-07-31:04:00_split.csv', 'LastModified': datetime.datetime(2024, 7, 31, 4, 1, 16, tzinfo=tzutc()), 'ETag': '\"03ce421b7e796d588d873b48d1dacd68\"', 'Size': 52188, 'StorageClass': 'STANDARD'}, {'Key': 'news/5/ArchiveNews_2024-10-10:05:00_split.csv', 'LastModified': datetime.datetime(2024, 10, 10, 5, 1, 44, tzinfo=tzutc()), 'ETag': '\"6d4373aff38e161e3c1a5faf95016086\"', 'Size': 53136, 'StorageClass': 'STANDARD'}, {'Key': 'news/5/ArchiveNews_2024-10-11:05:06_split.csv', 'LastModified': datetime.datetime(2024, 10, 11, 5, 7, 40, tzinfo=tzutc()), 'ETag': '\"3805a7112a2a6108390b28950e7aa8d1\"', 'Size': 53088, 'StorageClass': 'STANDARD'}, {'Key': 'news/5/ArchiveNews_2024-10-12:05:10_split.csv', 'LastModified': datetime.datetime(2024, 10, 12, 5, 11, 32, tzinfo=tzutc()), 'ETag': '\"3805a7112a2a6108390b28950e7aa8d1\"', 'Size': 53088, 'StorageClass': 'STANDARD'}, {'Key': 'news/5/ArchiveNews_2024-10-14:05:00_split.csv', 'LastModified': datetime.datetime(2024, 10, 14, 5, 1, 27, tzinfo=tzutc()), 'ETag': '\"7ae492596eeb63c234ed04aad9100340\"', 'Size': 49856, 'StorageClass': 'STANDARD'}, {'Key': 'news/5/ArchiveNews_2024-10-15:05:00_split.csv', 'LastModified': datetime.datetime(2024, 10, 15, 5, 1, 22, tzinfo=tzutc()), 'ETag': '\"3805a7112a2a6108390b28950e7aa8d1\"', 'Size': 53088, 'StorageClass': 'STANDARD'}, {'Key': 'news/5/ArchiveNews_2024-10-17:05:00_split.csv', 'LastModified': datetime.datetime(2024, 10, 17, 5, 1, 40, tzinfo=tzutc()), 'ETag': '\"d439a95505d1cf02e1f6fdaf7afcc9d2\"', 'Size': 50112, 'StorageClass': 'STANDARD'}, {'Key': 'news/5/ArchiveNews_2024-10-20:05:07_split.csv', 'LastModified': datetime.datetime(2024, 10, 20, 5, 8, 33, tzinfo=tzutc()), 'ETag': '\"a7e1557079996caa4cbbf033ae182bfb\"', 'Size': 54063, 'StorageClass': 'STANDARD'}, {'Key': 'news/5/ArchiveNews_2024-10-25:05:08_split.csv', 'LastModified': datetime.datetime(2024, 10, 25, 5, 9, 41, tzinfo=tzutc()), 'ETag': '\"3e086aa81d43074f0b759ea6bd63e0a2\"', 'Size': 54643, 'StorageClass': 'STANDARD'}, {'Key': 'news/5/ArchiveNews_2024-10-26:05:00_split.csv', 'LastModified': datetime.datetime(2024, 10, 26, 5, 1, 18, tzinfo=tzutc()), 'ETag': '\"5b985ae6f32dc605b15ba3cb369204d2\"', 'Size': 54165, 'StorageClass': 'STANDARD'}, {'Key': 'news/5/ArchiveNews_2024-10-27:05:08_split.csv', 'LastModified': datetime.datetime(2024, 10, 27, 5, 9, 13, tzinfo=tzutc()), 'ETag': '\"5b985ae6f32dc605b15ba3cb369204d2\"', 'Size': 54165, 'StorageClass': 'STANDARD'}, {'Key': 'news/5/ArchiveNews_2024-10-28:05:03_split.csv', 'LastModified': datetime.datetime(2024, 10, 28, 5, 4, 29, tzinfo=tzutc()), 'ETag': '\"5b985ae6f32dc605b15ba3cb369204d2\"', 'Size': 54165, 'StorageClass': 'STANDARD'}, {'Key': 'news/5/ArchiveNews_2024-10-31:05:03_split.csv', 'LastModified': datetime.datetime(2024, 10, 31, 5, 4, 15, tzinfo=tzutc()), 'ETag': '\"f2914a328145f6e58c405a5bf841688a\"', 'Size': 52294, 'StorageClass': 'STANDARD'}, {'Key': 'news/5/ArchiveNews_2024-11-01:05:10_split.csv', 'LastModified': datetime.datetime(2024, 11, 1, 5, 11, 2, tzinfo=tzutc()), 'ETag': '\"efe416539d77e022befd7534cb4fba28\"', 'Size': 55533, 'StorageClass': 'STANDARD'}], 'Name': 'py-secnews-landing', 'Prefix': 'news/5/', 'MaxKeys': 1000, 'EncodingType': 'url', 'KeyCount': 39}\n",
      "File: news/5/ArchiveNews_2024-06-16:14:03_split.csv was appended to dataframe.\n",
      "File: news/5/ArchiveNews_2024-06-16:15:01_split.csv was appended to dataframe.\n",
      "File: news/5/ArchiveNews_2024-06-17:04:06_split.csv was appended to dataframe.\n",
      "File: news/5/ArchiveNews_2024-06-18:04:07_split.csv was appended to dataframe.\n",
      "File: news/5/ArchiveNews_2024-06-19:04:09_split.csv was appended to dataframe.\n",
      "File: news/5/ArchiveNews_2024-06-20:04:02_split.csv was appended to dataframe.\n",
      "File: news/5/ArchiveNews_2024-06-21:04:09_split.csv was appended to dataframe.\n",
      "File: news/5/ArchiveNews_2024-06-22:04:10_split.csv was appended to dataframe.\n",
      "File: news/5/ArchiveNews_2024-06-23:04:00_split.csv was appended to dataframe.\n",
      "File: news/5/ArchiveNews_2024-06-24:04:00_split.csv was appended to dataframe.\n",
      "File: news/5/ArchiveNews_2024-06-25:04:08_split.csv was appended to dataframe.\n",
      "File: news/5/ArchiveNews_2024-06-26:04:00_split.csv was appended to dataframe.\n",
      "File: news/5/ArchiveNews_2024-06-27:04:00_split.csv was appended to dataframe.\n",
      "File: news/5/ArchiveNews_2024-06-28:04:00_split.csv was appended to dataframe.\n",
      "File: news/5/ArchiveNews_2024-06-29:04:05_split.csv was appended to dataframe.\n",
      "File: news/5/ArchiveNews_2024-06-30:04:03_split.csv was appended to dataframe.\n",
      "File: news/5/ArchiveNews_2024-07-22:04:03_split.csv was appended to dataframe.\n",
      "File: news/5/ArchiveNews_2024-07-23:04:00_split.csv was appended to dataframe.\n",
      "File: news/5/ArchiveNews_2024-07-24:04:09_split.csv was appended to dataframe.\n",
      "File: news/5/ArchiveNews_2024-07-25:04:00_split.csv was appended to dataframe.\n",
      "File: news/5/ArchiveNews_2024-07-26:04:01_split.csv was appended to dataframe.\n",
      "File: news/5/ArchiveNews_2024-07-27:04:05_split.csv was appended to dataframe.\n",
      "File: news/5/ArchiveNews_2024-07-28:04:00_split.csv was appended to dataframe.\n",
      "File: news/5/ArchiveNews_2024-07-29:04:00_split.csv was appended to dataframe.\n",
      "File: news/5/ArchiveNews_2024-07-30:04:00_split.csv was appended to dataframe.\n",
      "File: news/5/ArchiveNews_2024-07-31:04:00_split.csv was appended to dataframe.\n",
      "File: news/5/ArchiveNews_2024-10-10:05:00_split.csv was appended to dataframe.\n",
      "File: news/5/ArchiveNews_2024-10-11:05:06_split.csv was appended to dataframe.\n",
      "File: news/5/ArchiveNews_2024-10-12:05:10_split.csv was appended to dataframe.\n",
      "File: news/5/ArchiveNews_2024-10-14:05:00_split.csv was appended to dataframe.\n",
      "File: news/5/ArchiveNews_2024-10-15:05:00_split.csv was appended to dataframe.\n",
      "File: news/5/ArchiveNews_2024-10-17:05:00_split.csv was appended to dataframe.\n",
      "File: news/5/ArchiveNews_2024-10-20:05:07_split.csv was appended to dataframe.\n",
      "File: news/5/ArchiveNews_2024-10-25:05:08_split.csv was appended to dataframe.\n",
      "File: news/5/ArchiveNews_2024-10-26:05:00_split.csv was appended to dataframe.\n",
      "File: news/5/ArchiveNews_2024-10-27:05:08_split.csv was appended to dataframe.\n",
      "File: news/5/ArchiveNews_2024-10-28:05:03_split.csv was appended to dataframe.\n",
      "File: news/5/ArchiveNews_2024-10-31:05:03_split.csv was appended to dataframe.\n",
      "File: news/5/ArchiveNews_2024-11-01:05:10_split.csv was appended to dataframe.\n",
      "\n",
      "\n",
      "----------------------\n",
      "Current folder: news/6/\n",
      "----------------------\n",
      "The following objects were found in folder path news/6/: {'ResponseMetadata': {'RequestId': 'DZ8VM00WQW1X2WV5', 'HostId': '54vsKdy8woi4Omv+2KgaiA4PpT+ocV/Ha0zfBoRoyW8FS/WeulgRYTJVYWYGGzVbXMs6E0xYqkBXWk8XGm4WTiuWk71KF8VW', 'HTTPStatusCode': 200, 'HTTPHeaders': {'x-amz-id-2': '54vsKdy8woi4Omv+2KgaiA4PpT+ocV/Ha0zfBoRoyW8FS/WeulgRYTJVYWYGGzVbXMs6E0xYqkBXWk8XGm4WTiuWk71KF8VW', 'x-amz-request-id': 'DZ8VM00WQW1X2WV5', 'date': 'Fri, 01 Nov 2024 08:32:21 GMT', 'x-amz-bucket-region': 'eu-north-1', 'content-type': 'application/xml', 'transfer-encoding': 'chunked', 'server': 'AmazonS3'}, 'RetryAttempts': 0}, 'IsTruncated': False, 'Contents': [{'Key': 'news/6/ArchiveNews_2024-06-16:14:03_split.csv', 'LastModified': datetime.datetime(2024, 6, 16, 14, 3, 51, tzinfo=tzutc()), 'ETag': '\"cb945c435ac9d4f39039eb7a93e153d0\"', 'Size': 77, 'StorageClass': 'STANDARD'}, {'Key': 'news/6/ArchiveNews_2024-06-16:14:53_split.csv', 'LastModified': datetime.datetime(2024, 6, 16, 14, 53, 18, tzinfo=tzutc()), 'ETag': '\"cb945c435ac9d4f39039eb7a93e153d0\"', 'Size': 77, 'StorageClass': 'STANDARD'}, {'Key': 'news/6/ArchiveNews_2024-06-17:04:00_split.csv', 'LastModified': datetime.datetime(2024, 6, 17, 4, 0, 29, tzinfo=tzutc()), 'ETag': '\"cb945c435ac9d4f39039eb7a93e153d0\"', 'Size': 77, 'StorageClass': 'STANDARD'}, {'Key': 'news/6/ArchiveNews_2024-06-18:04:06_split.csv', 'LastModified': datetime.datetime(2024, 6, 18, 4, 6, 57, tzinfo=tzutc()), 'ETag': '\"cb945c435ac9d4f39039eb7a93e153d0\"', 'Size': 77, 'StorageClass': 'STANDARD'}, {'Key': 'news/6/ArchiveNews_2024-06-19:04:05_split.csv', 'LastModified': datetime.datetime(2024, 6, 19, 4, 5, 9, tzinfo=tzutc()), 'ETag': '\"cb945c435ac9d4f39039eb7a93e153d0\"', 'Size': 77, 'StorageClass': 'STANDARD'}, {'Key': 'news/6/ArchiveNews_2024-06-20:04:02_split.csv', 'LastModified': datetime.datetime(2024, 6, 20, 4, 2, 41, tzinfo=tzutc()), 'ETag': '\"cb945c435ac9d4f39039eb7a93e153d0\"', 'Size': 77, 'StorageClass': 'STANDARD'}, {'Key': 'news/6/ArchiveNews_2024-06-21:04:00_split.csv', 'LastModified': datetime.datetime(2024, 6, 21, 4, 0, 53, tzinfo=tzutc()), 'ETag': '\"cb945c435ac9d4f39039eb7a93e153d0\"', 'Size': 77, 'StorageClass': 'STANDARD'}, {'Key': 'news/6/ArchiveNews_2024-06-22:04:09_split.csv', 'LastModified': datetime.datetime(2024, 6, 22, 4, 9, 6, tzinfo=tzutc()), 'ETag': '\"cb945c435ac9d4f39039eb7a93e153d0\"', 'Size': 77, 'StorageClass': 'STANDARD'}, {'Key': 'news/6/ArchiveNews_2024-06-23:04:00_split.csv', 'LastModified': datetime.datetime(2024, 6, 23, 4, 0, 28, tzinfo=tzutc()), 'ETag': '\"cb945c435ac9d4f39039eb7a93e153d0\"', 'Size': 77, 'StorageClass': 'STANDARD'}, {'Key': 'news/6/ArchiveNews_2024-06-24:04:00_split.csv', 'LastModified': datetime.datetime(2024, 6, 24, 4, 0, 28, tzinfo=tzutc()), 'ETag': '\"cb945c435ac9d4f39039eb7a93e153d0\"', 'Size': 77, 'StorageClass': 'STANDARD'}, {'Key': 'news/6/ArchiveNews_2024-06-25:04:10_split.csv', 'LastModified': datetime.datetime(2024, 6, 25, 4, 10, 23, tzinfo=tzutc()), 'ETag': '\"cb945c435ac9d4f39039eb7a93e153d0\"', 'Size': 77, 'StorageClass': 'STANDARD'}, {'Key': 'news/6/ArchiveNews_2024-06-26:04:00_split.csv', 'LastModified': datetime.datetime(2024, 6, 26, 4, 0, 57, tzinfo=tzutc()), 'ETag': '\"cb945c435ac9d4f39039eb7a93e153d0\"', 'Size': 77, 'StorageClass': 'STANDARD'}, {'Key': 'news/6/ArchiveNews_2024-06-27:04:08_split.csv', 'LastModified': datetime.datetime(2024, 6, 27, 4, 8, 26, tzinfo=tzutc()), 'ETag': '\"cb945c435ac9d4f39039eb7a93e153d0\"', 'Size': 77, 'StorageClass': 'STANDARD'}, {'Key': 'news/6/ArchiveNews_2024-06-28:04:05_split.csv', 'LastModified': datetime.datetime(2024, 6, 28, 4, 5, 37, tzinfo=tzutc()), 'ETag': '\"cb945c435ac9d4f39039eb7a93e153d0\"', 'Size': 77, 'StorageClass': 'STANDARD'}, {'Key': 'news/6/ArchiveNews_2024-06-29:04:00_split.csv', 'LastModified': datetime.datetime(2024, 6, 29, 4, 0, 28, tzinfo=tzutc()), 'ETag': '\"cb945c435ac9d4f39039eb7a93e153d0\"', 'Size': 77, 'StorageClass': 'STANDARD'}, {'Key': 'news/6/ArchiveNews_2024-06-30:04:09_split.csv', 'LastModified': datetime.datetime(2024, 6, 30, 4, 9, 20, tzinfo=tzutc()), 'ETag': '\"cb945c435ac9d4f39039eb7a93e153d0\"', 'Size': 77, 'StorageClass': 'STANDARD'}, {'Key': 'news/6/ArchiveNews_2024-07-22:04:04_split.csv', 'LastModified': datetime.datetime(2024, 7, 22, 4, 4, 38, tzinfo=tzutc()), 'ETag': '\"cb945c435ac9d4f39039eb7a93e153d0\"', 'Size': 77, 'StorageClass': 'STANDARD'}, {'Key': 'news/6/ArchiveNews_2024-07-23:04:01_split.csv', 'LastModified': datetime.datetime(2024, 7, 23, 4, 1, 22, tzinfo=tzutc()), 'ETag': '\"cb945c435ac9d4f39039eb7a93e153d0\"', 'Size': 77, 'StorageClass': 'STANDARD'}, {'Key': 'news/6/ArchiveNews_2024-07-24:04:02_split.csv', 'LastModified': datetime.datetime(2024, 7, 24, 4, 2, 24, tzinfo=tzutc()), 'ETag': '\"cb945c435ac9d4f39039eb7a93e153d0\"', 'Size': 77, 'StorageClass': 'STANDARD'}, {'Key': 'news/6/ArchiveNews_2024-07-25:04:09_split.csv', 'LastModified': datetime.datetime(2024, 7, 25, 4, 9, 26, tzinfo=tzutc()), 'ETag': '\"cb945c435ac9d4f39039eb7a93e153d0\"', 'Size': 77, 'StorageClass': 'STANDARD'}, {'Key': 'news/6/ArchiveNews_2024-07-26:04:01_split.csv', 'LastModified': datetime.datetime(2024, 7, 26, 4, 1, 48, tzinfo=tzutc()), 'ETag': '\"cb945c435ac9d4f39039eb7a93e153d0\"', 'Size': 77, 'StorageClass': 'STANDARD'}, {'Key': 'news/6/ArchiveNews_2024-07-27:04:01_split.csv', 'LastModified': datetime.datetime(2024, 7, 27, 4, 1, 8, tzinfo=tzutc()), 'ETag': '\"cb945c435ac9d4f39039eb7a93e153d0\"', 'Size': 77, 'StorageClass': 'STANDARD'}, {'Key': 'news/6/ArchiveNews_2024-07-28:04:10_split.csv', 'LastModified': datetime.datetime(2024, 7, 28, 4, 10, 14, tzinfo=tzutc()), 'ETag': '\"cb945c435ac9d4f39039eb7a93e153d0\"', 'Size': 77, 'StorageClass': 'STANDARD'}, {'Key': 'news/6/ArchiveNews_2024-07-29:04:00_split.csv', 'LastModified': datetime.datetime(2024, 7, 29, 4, 0, 39, tzinfo=tzutc()), 'ETag': '\"cb945c435ac9d4f39039eb7a93e153d0\"', 'Size': 77, 'StorageClass': 'STANDARD'}, {'Key': 'news/6/ArchiveNews_2024-07-30:04:09_split.csv', 'LastModified': datetime.datetime(2024, 7, 30, 4, 9, 17, tzinfo=tzutc()), 'ETag': '\"cb945c435ac9d4f39039eb7a93e153d0\"', 'Size': 77, 'StorageClass': 'STANDARD'}, {'Key': 'news/6/ArchiveNews_2024-07-31:04:00_split.csv', 'LastModified': datetime.datetime(2024, 7, 31, 4, 0, 39, tzinfo=tzutc()), 'ETag': '\"cb945c435ac9d4f39039eb7a93e153d0\"', 'Size': 77, 'StorageClass': 'STANDARD'}, {'Key': 'news/6/ArchiveNews_2024-10-10:05:01_split.csv', 'LastModified': datetime.datetime(2024, 10, 10, 5, 1, 50, tzinfo=tzutc()), 'ETag': '\"cb945c435ac9d4f39039eb7a93e153d0\"', 'Size': 77, 'StorageClass': 'STANDARD'}, {'Key': 'news/6/ArchiveNews_2024-10-11:05:00_split.csv', 'LastModified': datetime.datetime(2024, 10, 11, 5, 0, 37, tzinfo=tzutc()), 'ETag': '\"cb945c435ac9d4f39039eb7a93e153d0\"', 'Size': 77, 'StorageClass': 'STANDARD'}, {'Key': 'news/6/ArchiveNews_2024-10-12:05:11_split.csv', 'LastModified': datetime.datetime(2024, 10, 12, 5, 11, 22, tzinfo=tzutc()), 'ETag': '\"cb945c435ac9d4f39039eb7a93e153d0\"', 'Size': 77, 'StorageClass': 'STANDARD'}, {'Key': 'news/6/ArchiveNews_2024-10-14:05:03_split.csv', 'LastModified': datetime.datetime(2024, 10, 14, 5, 3, 25, tzinfo=tzutc()), 'ETag': '\"cb945c435ac9d4f39039eb7a93e153d0\"', 'Size': 77, 'StorageClass': 'STANDARD'}, {'Key': 'news/6/ArchiveNews_2024-10-15:05:06_split.csv', 'LastModified': datetime.datetime(2024, 10, 15, 5, 6, 23, tzinfo=tzutc()), 'ETag': '\"cb945c435ac9d4f39039eb7a93e153d0\"', 'Size': 77, 'StorageClass': 'STANDARD'}, {'Key': 'news/6/ArchiveNews_2024-10-17:05:10_split.csv', 'LastModified': datetime.datetime(2024, 10, 17, 5, 10, 2, tzinfo=tzutc()), 'ETag': '\"cb945c435ac9d4f39039eb7a93e153d0\"', 'Size': 77, 'StorageClass': 'STANDARD'}, {'Key': 'news/6/ArchiveNews_2024-10-20:05:03_split.csv', 'LastModified': datetime.datetime(2024, 10, 20, 5, 3, 25, tzinfo=tzutc()), 'ETag': '\"cb945c435ac9d4f39039eb7a93e153d0\"', 'Size': 77, 'StorageClass': 'STANDARD'}, {'Key': 'news/6/ArchiveNews_2024-10-25:05:00_split.csv', 'LastModified': datetime.datetime(2024, 10, 25, 5, 0, 38, tzinfo=tzutc()), 'ETag': '\"cb945c435ac9d4f39039eb7a93e153d0\"', 'Size': 77, 'StorageClass': 'STANDARD'}, {'Key': 'news/6/ArchiveNews_2024-10-26:05:01_split.csv', 'LastModified': datetime.datetime(2024, 10, 26, 5, 1, 55, tzinfo=tzutc()), 'ETag': '\"cb945c435ac9d4f39039eb7a93e153d0\"', 'Size': 77, 'StorageClass': 'STANDARD'}, {'Key': 'news/6/ArchiveNews_2024-10-27:05:08_split.csv', 'LastModified': datetime.datetime(2024, 10, 27, 5, 8, 5, tzinfo=tzutc()), 'ETag': '\"cb945c435ac9d4f39039eb7a93e153d0\"', 'Size': 77, 'StorageClass': 'STANDARD'}, {'Key': 'news/6/ArchiveNews_2024-10-28:05:01_split.csv', 'LastModified': datetime.datetime(2024, 10, 28, 5, 1, 9, tzinfo=tzutc()), 'ETag': '\"cb945c435ac9d4f39039eb7a93e153d0\"', 'Size': 77, 'StorageClass': 'STANDARD'}, {'Key': 'news/6/ArchiveNews_2024-10-31:05:09_split.csv', 'LastModified': datetime.datetime(2024, 10, 31, 5, 9, 28, tzinfo=tzutc()), 'ETag': '\"cb945c435ac9d4f39039eb7a93e153d0\"', 'Size': 77, 'StorageClass': 'STANDARD'}, {'Key': 'news/6/ArchiveNews_2024-11-01:05:11_split.csv', 'LastModified': datetime.datetime(2024, 11, 1, 5, 11, 8, tzinfo=tzutc()), 'ETag': '\"cb945c435ac9d4f39039eb7a93e153d0\"', 'Size': 77, 'StorageClass': 'STANDARD'}], 'Name': 'py-secnews-landing', 'Prefix': 'news/6/', 'MaxKeys': 1000, 'EncodingType': 'url', 'KeyCount': 39}\n",
      "File: news/6/ArchiveNews_2024-06-16:14:03_split.csv was appended to dataframe.\n",
      "File: news/6/ArchiveNews_2024-06-16:14:53_split.csv was appended to dataframe.\n",
      "File: news/6/ArchiveNews_2024-06-17:04:00_split.csv was appended to dataframe.\n",
      "File: news/6/ArchiveNews_2024-06-18:04:06_split.csv was appended to dataframe.\n",
      "File: news/6/ArchiveNews_2024-06-19:04:05_split.csv was appended to dataframe.\n",
      "File: news/6/ArchiveNews_2024-06-20:04:02_split.csv was appended to dataframe.\n",
      "File: news/6/ArchiveNews_2024-06-21:04:00_split.csv was appended to dataframe.\n",
      "File: news/6/ArchiveNews_2024-06-22:04:09_split.csv was appended to dataframe.\n",
      "File: news/6/ArchiveNews_2024-06-23:04:00_split.csv was appended to dataframe.\n",
      "File: news/6/ArchiveNews_2024-06-24:04:00_split.csv was appended to dataframe.\n",
      "File: news/6/ArchiveNews_2024-06-25:04:10_split.csv was appended to dataframe.\n",
      "File: news/6/ArchiveNews_2024-06-26:04:00_split.csv was appended to dataframe.\n",
      "File: news/6/ArchiveNews_2024-06-27:04:08_split.csv was appended to dataframe.\n",
      "File: news/6/ArchiveNews_2024-06-28:04:05_split.csv was appended to dataframe.\n",
      "File: news/6/ArchiveNews_2024-06-29:04:00_split.csv was appended to dataframe.\n",
      "File: news/6/ArchiveNews_2024-06-30:04:09_split.csv was appended to dataframe.\n",
      "File: news/6/ArchiveNews_2024-07-22:04:04_split.csv was appended to dataframe.\n",
      "File: news/6/ArchiveNews_2024-07-23:04:01_split.csv was appended to dataframe.\n",
      "File: news/6/ArchiveNews_2024-07-24:04:02_split.csv was appended to dataframe.\n",
      "File: news/6/ArchiveNews_2024-07-25:04:09_split.csv was appended to dataframe.\n",
      "File: news/6/ArchiveNews_2024-07-26:04:01_split.csv was appended to dataframe.\n",
      "File: news/6/ArchiveNews_2024-07-27:04:01_split.csv was appended to dataframe.\n",
      "File: news/6/ArchiveNews_2024-07-28:04:10_split.csv was appended to dataframe.\n",
      "File: news/6/ArchiveNews_2024-07-29:04:00_split.csv was appended to dataframe.\n",
      "File: news/6/ArchiveNews_2024-07-30:04:09_split.csv was appended to dataframe.\n",
      "File: news/6/ArchiveNews_2024-07-31:04:00_split.csv was appended to dataframe.\n",
      "File: news/6/ArchiveNews_2024-10-10:05:01_split.csv was appended to dataframe.\n",
      "File: news/6/ArchiveNews_2024-10-11:05:00_split.csv was appended to dataframe.\n",
      "File: news/6/ArchiveNews_2024-10-12:05:11_split.csv was appended to dataframe.\n",
      "File: news/6/ArchiveNews_2024-10-14:05:03_split.csv was appended to dataframe.\n",
      "File: news/6/ArchiveNews_2024-10-15:05:06_split.csv was appended to dataframe.\n",
      "File: news/6/ArchiveNews_2024-10-17:05:10_split.csv was appended to dataframe.\n",
      "File: news/6/ArchiveNews_2024-10-20:05:03_split.csv was appended to dataframe.\n",
      "File: news/6/ArchiveNews_2024-10-25:05:00_split.csv was appended to dataframe.\n",
      "File: news/6/ArchiveNews_2024-10-26:05:01_split.csv was appended to dataframe.\n",
      "File: news/6/ArchiveNews_2024-10-27:05:08_split.csv was appended to dataframe.\n",
      "File: news/6/ArchiveNews_2024-10-28:05:01_split.csv was appended to dataframe.\n",
      "File: news/6/ArchiveNews_2024-10-31:05:09_split.csv was appended to dataframe.\n",
      "File: news/6/ArchiveNews_2024-11-01:05:11_split.csv was appended to dataframe.\n",
      "\n",
      "\n",
      "----------------------\n",
      "Current folder: news/7/\n",
      "----------------------\n",
      "The following objects were found in folder path news/7/: {'ResponseMetadata': {'RequestId': 'KC98GD1P034XJ6CQ', 'HostId': 'xpsDR225ckU9UUP5LmMNdkjYdEVtu1+nGhAgn0gFO5gwO1Szngu7ZoiuBD99ia55aSlcR3P/vRL4idKiO6OFrdAcMKima+wr', 'HTTPStatusCode': 200, 'HTTPHeaders': {'x-amz-id-2': 'xpsDR225ckU9UUP5LmMNdkjYdEVtu1+nGhAgn0gFO5gwO1Szngu7ZoiuBD99ia55aSlcR3P/vRL4idKiO6OFrdAcMKima+wr', 'x-amz-request-id': 'KC98GD1P034XJ6CQ', 'date': 'Fri, 01 Nov 2024 08:32:23 GMT', 'x-amz-bucket-region': 'eu-north-1', 'content-type': 'application/xml', 'transfer-encoding': 'chunked', 'server': 'AmazonS3'}, 'RetryAttempts': 0}, 'IsTruncated': False, 'Contents': [{'Key': 'news/7/ArchiveNews_2024-06-16:14:03_split.csv', 'LastModified': datetime.datetime(2024, 6, 16, 14, 9, 30, tzinfo=tzutc()), 'ETag': '\"cb945c435ac9d4f39039eb7a93e153d0\"', 'Size': 77, 'StorageClass': 'STANDARD'}, {'Key': 'news/7/ArchiveNews_2024-06-16:14:53_split.csv', 'LastModified': datetime.datetime(2024, 6, 16, 14, 59, 12, tzinfo=tzutc()), 'ETag': '\"cb945c435ac9d4f39039eb7a93e153d0\"', 'Size': 77, 'StorageClass': 'STANDARD'}, {'Key': 'news/7/ArchiveNews_2024-06-17:04:00_split.csv', 'LastModified': datetime.datetime(2024, 6, 17, 4, 6, 26, tzinfo=tzutc()), 'ETag': '\"cb945c435ac9d4f39039eb7a93e153d0\"', 'Size': 77, 'StorageClass': 'STANDARD'}, {'Key': 'news/7/ArchiveNews_2024-06-18:04:00_split.csv', 'LastModified': datetime.datetime(2024, 6, 18, 4, 6, 50, tzinfo=tzutc()), 'ETag': '\"cb945c435ac9d4f39039eb7a93e153d0\"', 'Size': 77, 'StorageClass': 'STANDARD'}, {'Key': 'news/7/ArchiveNews_2024-06-19:04:00_split.csv', 'LastModified': datetime.datetime(2024, 6, 19, 4, 7, 9, tzinfo=tzutc()), 'ETag': '\"cb945c435ac9d4f39039eb7a93e153d0\"', 'Size': 77, 'StorageClass': 'STANDARD'}, {'Key': 'news/7/ArchiveNews_2024-06-20:04:04_split.csv', 'LastModified': datetime.datetime(2024, 6, 20, 4, 10, 58, tzinfo=tzutc()), 'ETag': '\"cb945c435ac9d4f39039eb7a93e153d0\"', 'Size': 77, 'StorageClass': 'STANDARD'}, {'Key': 'news/7/ArchiveNews_2024-06-21:04:00_split.csv', 'LastModified': datetime.datetime(2024, 6, 21, 4, 7, 13, tzinfo=tzutc()), 'ETag': '\"cb945c435ac9d4f39039eb7a93e153d0\"', 'Size': 77, 'StorageClass': 'STANDARD'}, {'Key': 'news/7/ArchiveNews_2024-06-22:04:00_split.csv', 'LastModified': datetime.datetime(2024, 6, 22, 4, 7, 6, tzinfo=tzutc()), 'ETag': '\"cb945c435ac9d4f39039eb7a93e153d0\"', 'Size': 77, 'StorageClass': 'STANDARD'}, {'Key': 'news/7/ArchiveNews_2024-06-23:04:00_split.csv', 'LastModified': datetime.datetime(2024, 6, 23, 4, 7, 1, tzinfo=tzutc()), 'ETag': '\"cb945c435ac9d4f39039eb7a93e153d0\"', 'Size': 77, 'StorageClass': 'STANDARD'}, {'Key': 'news/7/ArchiveNews_2024-06-24:04:08_split.csv', 'LastModified': datetime.datetime(2024, 6, 24, 4, 14, 47, tzinfo=tzutc()), 'ETag': '\"cb945c435ac9d4f39039eb7a93e153d0\"', 'Size': 77, 'StorageClass': 'STANDARD'}, {'Key': 'news/7/ArchiveNews_2024-06-25:04:06_split.csv', 'LastModified': datetime.datetime(2024, 6, 25, 4, 14, 15, tzinfo=tzutc()), 'ETag': '\"cb945c435ac9d4f39039eb7a93e153d0\"', 'Size': 77, 'StorageClass': 'STANDARD'}, {'Key': 'news/7/ArchiveNews_2024-06-26:04:09_split.csv', 'LastModified': datetime.datetime(2024, 6, 26, 4, 16, 56, tzinfo=tzutc()), 'ETag': '\"cb945c435ac9d4f39039eb7a93e153d0\"', 'Size': 77, 'StorageClass': 'STANDARD'}, {'Key': 'news/7/ArchiveNews_2024-06-27:04:01_split.csv', 'LastModified': datetime.datetime(2024, 6, 27, 4, 7, 47, tzinfo=tzutc()), 'ETag': '\"cb945c435ac9d4f39039eb7a93e153d0\"', 'Size': 77, 'StorageClass': 'STANDARD'}, {'Key': 'news/7/ArchiveNews_2024-06-28:04:01_split.csv', 'LastModified': datetime.datetime(2024, 6, 28, 4, 8, 18, tzinfo=tzutc()), 'ETag': '\"cb945c435ac9d4f39039eb7a93e153d0\"', 'Size': 77, 'StorageClass': 'STANDARD'}, {'Key': 'news/7/ArchiveNews_2024-06-29:04:00_split.csv', 'LastModified': datetime.datetime(2024, 6, 29, 4, 7, 17, tzinfo=tzutc()), 'ETag': '\"cb945c435ac9d4f39039eb7a93e153d0\"', 'Size': 77, 'StorageClass': 'STANDARD'}, {'Key': 'news/7/ArchiveNews_2024-06-30:04:09_split.csv', 'LastModified': datetime.datetime(2024, 6, 30, 4, 15, 40, tzinfo=tzutc()), 'ETag': '\"cb945c435ac9d4f39039eb7a93e153d0\"', 'Size': 77, 'StorageClass': 'STANDARD'}, {'Key': 'news/7/ArchiveNews_2024-07-22:04:00_split.csv', 'LastModified': datetime.datetime(2024, 7, 22, 4, 6, 52, tzinfo=tzutc()), 'ETag': '\"cb945c435ac9d4f39039eb7a93e153d0\"', 'Size': 77, 'StorageClass': 'STANDARD'}, {'Key': 'news/7/ArchiveNews_2024-07-23:04:04_split.csv', 'LastModified': datetime.datetime(2024, 7, 23, 4, 11, 20, tzinfo=tzutc()), 'ETag': '\"5fad75ae409f720bc5629315af2315f3\"', 'Size': 4399, 'StorageClass': 'STANDARD'}, {'Key': 'news/7/ArchiveNews_2024-07-24:04:06_split.csv', 'LastModified': datetime.datetime(2024, 7, 24, 4, 12, 35, tzinfo=tzutc()), 'ETag': '\"cb945c435ac9d4f39039eb7a93e153d0\"', 'Size': 77, 'StorageClass': 'STANDARD'}, {'Key': 'news/7/ArchiveNews_2024-07-25:04:02_split.csv', 'LastModified': datetime.datetime(2024, 7, 25, 4, 9, 20, tzinfo=tzutc()), 'ETag': '\"cb945c435ac9d4f39039eb7a93e153d0\"', 'Size': 77, 'StorageClass': 'STANDARD'}, {'Key': 'news/7/ArchiveNews_2024-07-26:04:00_split.csv', 'LastModified': datetime.datetime(2024, 7, 26, 4, 7, 31, tzinfo=tzutc()), 'ETag': '\"cb945c435ac9d4f39039eb7a93e153d0\"', 'Size': 77, 'StorageClass': 'STANDARD'}, {'Key': 'news/7/ArchiveNews_2024-07-27:04:00_split.csv', 'LastModified': datetime.datetime(2024, 7, 27, 4, 7, 24, tzinfo=tzutc()), 'ETag': '\"d2aa184ec2d38f288bf05bca5a971367\"', 'Size': 12718, 'StorageClass': 'STANDARD'}, {'Key': 'news/7/ArchiveNews_2024-07-28:04:00_split.csv', 'LastModified': datetime.datetime(2024, 7, 28, 4, 7, 30, tzinfo=tzutc()), 'ETag': '\"d2aa184ec2d38f288bf05bca5a971367\"', 'Size': 12718, 'StorageClass': 'STANDARD'}, {'Key': 'news/7/ArchiveNews_2024-07-29:04:06_split.csv', 'LastModified': datetime.datetime(2024, 7, 29, 4, 12, 50, tzinfo=tzutc()), 'ETag': '\"cb945c435ac9d4f39039eb7a93e153d0\"', 'Size': 77, 'StorageClass': 'STANDARD'}, {'Key': 'news/7/ArchiveNews_2024-07-30:04:02_split.csv', 'LastModified': datetime.datetime(2024, 7, 30, 4, 8, 44, tzinfo=tzutc()), 'ETag': '\"cb945c435ac9d4f39039eb7a93e153d0\"', 'Size': 77, 'StorageClass': 'STANDARD'}, {'Key': 'news/7/ArchiveNews_2024-07-31:04:00_split.csv', 'LastModified': datetime.datetime(2024, 7, 31, 4, 7, 47, tzinfo=tzutc()), 'ETag': '\"cb945c435ac9d4f39039eb7a93e153d0\"', 'Size': 77, 'StorageClass': 'STANDARD'}, {'Key': 'news/7/ArchiveNews_2024-10-10:05:01_split.csv', 'LastModified': datetime.datetime(2024, 10, 10, 5, 8, 42, tzinfo=tzutc()), 'ETag': '\"cb945c435ac9d4f39039eb7a93e153d0\"', 'Size': 77, 'StorageClass': 'STANDARD'}, {'Key': 'news/7/ArchiveNews_2024-10-11:05:01_split.csv', 'LastModified': datetime.datetime(2024, 10, 11, 5, 6, 53, tzinfo=tzutc()), 'ETag': '\"cb945c435ac9d4f39039eb7a93e153d0\"', 'Size': 77, 'StorageClass': 'STANDARD'}, {'Key': 'news/7/ArchiveNews_2024-10-12:05:00_split.csv', 'LastModified': datetime.datetime(2024, 10, 12, 5, 6, 25, tzinfo=tzutc()), 'ETag': '\"cb945c435ac9d4f39039eb7a93e153d0\"', 'Size': 77, 'StorageClass': 'STANDARD'}, {'Key': 'news/7/ArchiveNews_2024-10-14:05:00_split.csv', 'LastModified': datetime.datetime(2024, 10, 14, 5, 7, 19, tzinfo=tzutc()), 'ETag': '\"cb945c435ac9d4f39039eb7a93e153d0\"', 'Size': 77, 'StorageClass': 'STANDARD'}, {'Key': 'news/7/ArchiveNews_2024-10-15:05:00_split.csv', 'LastModified': datetime.datetime(2024, 10, 15, 5, 7, 9, tzinfo=tzutc()), 'ETag': '\"ec15a74f705b1a26b00a4e2f6b4dfe73\"', 'Size': 8683, 'StorageClass': 'STANDARD'}, {'Key': 'news/7/ArchiveNews_2024-10-17:05:06_split.csv', 'LastModified': datetime.datetime(2024, 10, 17, 5, 12, 50, tzinfo=tzutc()), 'ETag': '\"cb945c435ac9d4f39039eb7a93e153d0\"', 'Size': 77, 'StorageClass': 'STANDARD'}, {'Key': 'news/7/ArchiveNews_2024-10-20:05:00_split.csv', 'LastModified': datetime.datetime(2024, 10, 20, 5, 6, 42, tzinfo=tzutc()), 'ETag': '\"cb945c435ac9d4f39039eb7a93e153d0\"', 'Size': 77, 'StorageClass': 'STANDARD'}, {'Key': 'news/7/ArchiveNews_2024-10-25:05:02_split.csv', 'LastModified': datetime.datetime(2024, 10, 25, 5, 8, 48, tzinfo=tzutc()), 'ETag': '\"cb945c435ac9d4f39039eb7a93e153d0\"', 'Size': 77, 'StorageClass': 'STANDARD'}, {'Key': 'news/7/ArchiveNews_2024-10-26:05:02_split.csv', 'LastModified': datetime.datetime(2024, 10, 26, 5, 8, 1, tzinfo=tzutc()), 'ETag': '\"cb945c435ac9d4f39039eb7a93e153d0\"', 'Size': 77, 'StorageClass': 'STANDARD'}, {'Key': 'news/7/ArchiveNews_2024-10-27:05:09_split.csv', 'LastModified': datetime.datetime(2024, 10, 27, 5, 15, 33, tzinfo=tzutc()), 'ETag': '\"cb945c435ac9d4f39039eb7a93e153d0\"', 'Size': 77, 'StorageClass': 'STANDARD'}, {'Key': 'news/7/ArchiveNews_2024-10-28:05:02_split.csv', 'LastModified': datetime.datetime(2024, 10, 28, 5, 9, 49, tzinfo=tzutc()), 'ETag': '\"cb945c435ac9d4f39039eb7a93e153d0\"', 'Size': 77, 'StorageClass': 'STANDARD'}, {'Key': 'news/7/ArchiveNews_2024-10-31:05:00_split.csv', 'LastModified': datetime.datetime(2024, 10, 31, 5, 11, 10, tzinfo=tzutc()), 'ETag': '\"cb945c435ac9d4f39039eb7a93e153d0\"', 'Size': 77, 'StorageClass': 'STANDARD'}, {'Key': 'news/7/ArchiveNews_2024-11-01:05:00_split.csv', 'LastModified': datetime.datetime(2024, 11, 1, 5, 10, 21, tzinfo=tzutc()), 'ETag': '\"cb945c435ac9d4f39039eb7a93e153d0\"', 'Size': 77, 'StorageClass': 'STANDARD'}], 'Name': 'py-secnews-landing', 'Prefix': 'news/7/', 'MaxKeys': 1000, 'EncodingType': 'url', 'KeyCount': 39}\n",
      "File: news/7/ArchiveNews_2024-06-16:14:03_split.csv was appended to dataframe.\n",
      "File: news/7/ArchiveNews_2024-06-16:14:53_split.csv was appended to dataframe.\n",
      "File: news/7/ArchiveNews_2024-06-17:04:00_split.csv was appended to dataframe.\n",
      "File: news/7/ArchiveNews_2024-06-18:04:00_split.csv was appended to dataframe.\n",
      "File: news/7/ArchiveNews_2024-06-19:04:00_split.csv was appended to dataframe.\n",
      "File: news/7/ArchiveNews_2024-06-20:04:04_split.csv was appended to dataframe.\n",
      "File: news/7/ArchiveNews_2024-06-21:04:00_split.csv was appended to dataframe.\n",
      "File: news/7/ArchiveNews_2024-06-22:04:00_split.csv was appended to dataframe.\n",
      "File: news/7/ArchiveNews_2024-06-23:04:00_split.csv was appended to dataframe.\n",
      "File: news/7/ArchiveNews_2024-06-24:04:08_split.csv was appended to dataframe.\n",
      "File: news/7/ArchiveNews_2024-06-25:04:06_split.csv was appended to dataframe.\n",
      "File: news/7/ArchiveNews_2024-06-26:04:09_split.csv was appended to dataframe.\n",
      "File: news/7/ArchiveNews_2024-06-27:04:01_split.csv was appended to dataframe.\n",
      "File: news/7/ArchiveNews_2024-06-28:04:01_split.csv was appended to dataframe.\n",
      "File: news/7/ArchiveNews_2024-06-29:04:00_split.csv was appended to dataframe.\n",
      "File: news/7/ArchiveNews_2024-06-30:04:09_split.csv was appended to dataframe.\n",
      "File: news/7/ArchiveNews_2024-07-22:04:00_split.csv was appended to dataframe.\n",
      "File: news/7/ArchiveNews_2024-07-23:04:04_split.csv was appended to dataframe.\n",
      "File: news/7/ArchiveNews_2024-07-24:04:06_split.csv was appended to dataframe.\n",
      "File: news/7/ArchiveNews_2024-07-25:04:02_split.csv was appended to dataframe.\n",
      "File: news/7/ArchiveNews_2024-07-26:04:00_split.csv was appended to dataframe.\n",
      "File: news/7/ArchiveNews_2024-07-27:04:00_split.csv was appended to dataframe.\n",
      "File: news/7/ArchiveNews_2024-07-28:04:00_split.csv was appended to dataframe.\n",
      "File: news/7/ArchiveNews_2024-07-29:04:06_split.csv was appended to dataframe.\n",
      "File: news/7/ArchiveNews_2024-07-30:04:02_split.csv was appended to dataframe.\n",
      "File: news/7/ArchiveNews_2024-07-31:04:00_split.csv was appended to dataframe.\n",
      "File: news/7/ArchiveNews_2024-10-10:05:01_split.csv was appended to dataframe.\n",
      "File: news/7/ArchiveNews_2024-10-11:05:01_split.csv was appended to dataframe.\n",
      "File: news/7/ArchiveNews_2024-10-12:05:00_split.csv was appended to dataframe.\n",
      "File: news/7/ArchiveNews_2024-10-14:05:00_split.csv was appended to dataframe.\n",
      "File: news/7/ArchiveNews_2024-10-15:05:00_split.csv was appended to dataframe.\n",
      "File: news/7/ArchiveNews_2024-10-17:05:06_split.csv was appended to dataframe.\n",
      "File: news/7/ArchiveNews_2024-10-20:05:00_split.csv was appended to dataframe.\n",
      "File: news/7/ArchiveNews_2024-10-25:05:02_split.csv was appended to dataframe.\n",
      "File: news/7/ArchiveNews_2024-10-26:05:02_split.csv was appended to dataframe.\n",
      "File: news/7/ArchiveNews_2024-10-27:05:09_split.csv was appended to dataframe.\n",
      "File: news/7/ArchiveNews_2024-10-28:05:02_split.csv was appended to dataframe.\n",
      "File: news/7/ArchiveNews_2024-10-31:05:00_split.csv was appended to dataframe.\n",
      "File: news/7/ArchiveNews_2024-11-01:05:00_split.csv was appended to dataframe.\n",
      "\n",
      "\n",
      "----------------------\n",
      "Current folder: news/8/\n",
      "----------------------\n",
      "The following objects were found in folder path news/8/: {'ResponseMetadata': {'RequestId': 'VHNS3FPAGGJ3WK8Q', 'HostId': 'io5gexSX+XcSuksfVJYasbYTDpkFeDnY70n04TYHP14UN4N/t02WngZ38MtNP0mGhhvo6XY2wHrvxe1CPvMYCnRZUlpINt1D', 'HTTPStatusCode': 200, 'HTTPHeaders': {'x-amz-id-2': 'io5gexSX+XcSuksfVJYasbYTDpkFeDnY70n04TYHP14UN4N/t02WngZ38MtNP0mGhhvo6XY2wHrvxe1CPvMYCnRZUlpINt1D', 'x-amz-request-id': 'VHNS3FPAGGJ3WK8Q', 'date': 'Fri, 01 Nov 2024 08:32:26 GMT', 'x-amz-bucket-region': 'eu-north-1', 'content-type': 'application/xml', 'transfer-encoding': 'chunked', 'server': 'AmazonS3'}, 'RetryAttempts': 0}, 'IsTruncated': False, 'Contents': [{'Key': 'news/8/ArchiveNews_2024-06-16:14:03_split.csv', 'LastModified': datetime.datetime(2024, 6, 16, 14, 11, 56, tzinfo=tzutc()), 'ETag': '\"cb945c435ac9d4f39039eb7a93e153d0\"', 'Size': 77, 'StorageClass': 'STANDARD'}, {'Key': 'news/8/ArchiveNews_2024-06-16:14:51_split.csv', 'LastModified': datetime.datetime(2024, 6, 16, 14, 59, 55, tzinfo=tzutc()), 'ETag': '\"cb945c435ac9d4f39039eb7a93e153d0\"', 'Size': 77, 'StorageClass': 'STANDARD'}, {'Key': 'news/8/ArchiveNews_2024-06-17:04:00_split.csv', 'LastModified': datetime.datetime(2024, 6, 17, 4, 8, 54, tzinfo=tzutc()), 'ETag': '\"cb945c435ac9d4f39039eb7a93e153d0\"', 'Size': 77, 'StorageClass': 'STANDARD'}, {'Key': 'news/8/ArchiveNews_2024-06-18:04:00_split.csv', 'LastModified': datetime.datetime(2024, 6, 18, 4, 8, 6, tzinfo=tzutc()), 'ETag': '\"cb945c435ac9d4f39039eb7a93e153d0\"', 'Size': 77, 'StorageClass': 'STANDARD'}, {'Key': 'news/8/ArchiveNews_2024-06-19:04:05_split.csv', 'LastModified': datetime.datetime(2024, 6, 19, 4, 13, 4, tzinfo=tzutc()), 'ETag': '\"cb945c435ac9d4f39039eb7a93e153d0\"', 'Size': 77, 'StorageClass': 'STANDARD'}, {'Key': 'news/8/ArchiveNews_2024-06-20:04:03_split.csv', 'LastModified': datetime.datetime(2024, 6, 20, 4, 11, 5, tzinfo=tzutc()), 'ETag': '\"cb945c435ac9d4f39039eb7a93e153d0\"', 'Size': 77, 'StorageClass': 'STANDARD'}, {'Key': 'news/8/ArchiveNews_2024-06-21:04:00_split.csv', 'LastModified': datetime.datetime(2024, 6, 21, 4, 8, 2, tzinfo=tzutc()), 'ETag': '\"cb945c435ac9d4f39039eb7a93e153d0\"', 'Size': 77, 'StorageClass': 'STANDARD'}, {'Key': 'news/8/ArchiveNews_2024-06-22:04:05_split.csv', 'LastModified': datetime.datetime(2024, 6, 22, 4, 13, 34, tzinfo=tzutc()), 'ETag': '\"cb945c435ac9d4f39039eb7a93e153d0\"', 'Size': 77, 'StorageClass': 'STANDARD'}, {'Key': 'news/8/ArchiveNews_2024-06-23:04:01_split.csv', 'LastModified': datetime.datetime(2024, 6, 23, 4, 9, 12, tzinfo=tzutc()), 'ETag': '\"cb945c435ac9d4f39039eb7a93e153d0\"', 'Size': 77, 'StorageClass': 'STANDARD'}, {'Key': 'news/8/ArchiveNews_2024-06-24:04:00_split.csv', 'LastModified': datetime.datetime(2024, 6, 24, 4, 8, 29, tzinfo=tzutc()), 'ETag': '\"cb945c435ac9d4f39039eb7a93e153d0\"', 'Size': 77, 'StorageClass': 'STANDARD'}, {'Key': 'news/8/ArchiveNews_2024-06-25:04:00_split.csv', 'LastModified': datetime.datetime(2024, 6, 25, 4, 7, 57, tzinfo=tzutc()), 'ETag': '\"cb945c435ac9d4f39039eb7a93e153d0\"', 'Size': 77, 'StorageClass': 'STANDARD'}, {'Key': 'news/8/ArchiveNews_2024-06-26:04:01_split.csv', 'LastModified': datetime.datetime(2024, 6, 26, 4, 8, 59, tzinfo=tzutc()), 'ETag': '\"cb945c435ac9d4f39039eb7a93e153d0\"', 'Size': 77, 'StorageClass': 'STANDARD'}, {'Key': 'news/8/ArchiveNews_2024-06-27:04:08_split.csv', 'LastModified': datetime.datetime(2024, 6, 27, 4, 16, 48, tzinfo=tzutc()), 'ETag': '\"cb945c435ac9d4f39039eb7a93e153d0\"', 'Size': 77, 'StorageClass': 'STANDARD'}, {'Key': 'news/8/ArchiveNews_2024-06-28:04:06_split.csv', 'LastModified': datetime.datetime(2024, 6, 28, 4, 14, 29, tzinfo=tzutc()), 'ETag': '\"cb945c435ac9d4f39039eb7a93e153d0\"', 'Size': 77, 'StorageClass': 'STANDARD'}, {'Key': 'news/8/ArchiveNews_2024-06-29:04:07_split.csv', 'LastModified': datetime.datetime(2024, 6, 29, 4, 15, 53, tzinfo=tzutc()), 'ETag': '\"cb945c435ac9d4f39039eb7a93e153d0\"', 'Size': 77, 'StorageClass': 'STANDARD'}, {'Key': 'news/8/ArchiveNews_2024-06-30:04:01_split.csv', 'LastModified': datetime.datetime(2024, 6, 30, 4, 10, 3, tzinfo=tzutc()), 'ETag': '\"cb945c435ac9d4f39039eb7a93e153d0\"', 'Size': 77, 'StorageClass': 'STANDARD'}, {'Key': 'news/8/ArchiveNews_2024-07-22:04:04_split.csv', 'LastModified': datetime.datetime(2024, 7, 22, 4, 12, 28, tzinfo=tzutc()), 'ETag': '\"cb945c435ac9d4f39039eb7a93e153d0\"', 'Size': 77, 'StorageClass': 'STANDARD'}, {'Key': 'news/8/ArchiveNews_2024-07-23:04:00_split.csv', 'LastModified': datetime.datetime(2024, 7, 23, 4, 8, 8, tzinfo=tzutc()), 'ETag': '\"cb945c435ac9d4f39039eb7a93e153d0\"', 'Size': 77, 'StorageClass': 'STANDARD'}, {'Key': 'news/8/ArchiveNews_2024-07-24:04:00_split.csv', 'LastModified': datetime.datetime(2024, 7, 24, 4, 8, 28, tzinfo=tzutc()), 'ETag': '\"cb945c435ac9d4f39039eb7a93e153d0\"', 'Size': 77, 'StorageClass': 'STANDARD'}, {'Key': 'news/8/ArchiveNews_2024-07-25:04:06_split.csv', 'LastModified': datetime.datetime(2024, 7, 25, 4, 15, 16, tzinfo=tzutc()), 'ETag': '\"cb945c435ac9d4f39039eb7a93e153d0\"', 'Size': 77, 'StorageClass': 'STANDARD'}, {'Key': 'news/8/ArchiveNews_2024-07-26:04:01_split.csv', 'LastModified': datetime.datetime(2024, 7, 26, 4, 10, 35, tzinfo=tzutc()), 'ETag': '\"cb945c435ac9d4f39039eb7a93e153d0\"', 'Size': 77, 'StorageClass': 'STANDARD'}, {'Key': 'news/8/ArchiveNews_2024-07-27:04:04_split.csv', 'LastModified': datetime.datetime(2024, 7, 27, 4, 12, 48, tzinfo=tzutc()), 'ETag': '\"cb945c435ac9d4f39039eb7a93e153d0\"', 'Size': 77, 'StorageClass': 'STANDARD'}, {'Key': 'news/8/ArchiveNews_2024-07-28:04:00_split.csv', 'LastModified': datetime.datetime(2024, 7, 28, 4, 9, 16, tzinfo=tzutc()), 'ETag': '\"cb945c435ac9d4f39039eb7a93e153d0\"', 'Size': 77, 'StorageClass': 'STANDARD'}, {'Key': 'news/8/ArchiveNews_2024-07-29:04:00_split.csv', 'LastModified': datetime.datetime(2024, 7, 29, 4, 8, 34, tzinfo=tzutc()), 'ETag': '\"cb945c435ac9d4f39039eb7a93e153d0\"', 'Size': 77, 'StorageClass': 'STANDARD'}, {'Key': 'news/8/ArchiveNews_2024-07-30:04:03_split.csv', 'LastModified': datetime.datetime(2024, 7, 30, 4, 11, 18, tzinfo=tzutc()), 'ETag': '\"cb945c435ac9d4f39039eb7a93e153d0\"', 'Size': 77, 'StorageClass': 'STANDARD'}, {'Key': 'news/8/ArchiveNews_2024-07-31:04:06_split.csv', 'LastModified': datetime.datetime(2024, 7, 31, 4, 14, 4, tzinfo=tzutc()), 'ETag': '\"cb945c435ac9d4f39039eb7a93e153d0\"', 'Size': 77, 'StorageClass': 'STANDARD'}, {'Key': 'news/8/ArchiveNews_2024-10-10:05:05_split.csv', 'LastModified': datetime.datetime(2024, 10, 10, 5, 13, 27, tzinfo=tzutc()), 'ETag': '\"cb945c435ac9d4f39039eb7a93e153d0\"', 'Size': 77, 'StorageClass': 'STANDARD'}, {'Key': 'news/8/ArchiveNews_2024-10-11:05:00_split.csv', 'LastModified': datetime.datetime(2024, 10, 11, 5, 8, 7, tzinfo=tzutc()), 'ETag': '\"4019e62c43975a201031b22c32efa05d\"', 'Size': 718, 'StorageClass': 'STANDARD'}, {'Key': 'news/8/ArchiveNews_2024-10-12:05:02_split.csv', 'LastModified': datetime.datetime(2024, 10, 12, 5, 10, 47, tzinfo=tzutc()), 'ETag': '\"cb945c435ac9d4f39039eb7a93e153d0\"', 'Size': 77, 'StorageClass': 'STANDARD'}, {'Key': 'news/8/ArchiveNews_2024-10-14:05:07_split.csv', 'LastModified': datetime.datetime(2024, 10, 14, 5, 15, 24, tzinfo=tzutc()), 'ETag': '\"cb945c435ac9d4f39039eb7a93e153d0\"', 'Size': 77, 'StorageClass': 'STANDARD'}, {'Key': 'news/8/ArchiveNews_2024-10-15:05:06_split.csv', 'LastModified': datetime.datetime(2024, 10, 15, 5, 14, 39, tzinfo=tzutc()), 'ETag': '\"cb945c435ac9d4f39039eb7a93e153d0\"', 'Size': 77, 'StorageClass': 'STANDARD'}, {'Key': 'news/8/ArchiveNews_2024-10-17:05:01_split.csv', 'LastModified': datetime.datetime(2024, 10, 17, 5, 9, 55, tzinfo=tzutc()), 'ETag': '\"af1815741bded8920dd6e020e9b14ce9\"', 'Size': 4233, 'StorageClass': 'STANDARD'}, {'Key': 'news/8/ArchiveNews_2024-10-20:05:06_split.csv', 'LastModified': datetime.datetime(2024, 10, 20, 5, 16, 5, tzinfo=tzutc()), 'ETag': '\"8ae20755b2a8c0599dbd2acd42568392\"', 'Size': 745, 'StorageClass': 'STANDARD'}, {'Key': 'news/8/ArchiveNews_2024-10-25:05:02_split.csv', 'LastModified': datetime.datetime(2024, 10, 25, 5, 9, 51, tzinfo=tzutc()), 'ETag': '\"cb945c435ac9d4f39039eb7a93e153d0\"', 'Size': 77, 'StorageClass': 'STANDARD'}, {'Key': 'news/8/ArchiveNews_2024-10-26:05:05_split.csv', 'LastModified': datetime.datetime(2024, 10, 26, 5, 13, 27, tzinfo=tzutc()), 'ETag': '\"84f0646f45fa952314f66cb408398ffe\"', 'Size': 10709, 'StorageClass': 'STANDARD'}, {'Key': 'news/8/ArchiveNews_2024-10-27:05:00_split.csv', 'LastModified': datetime.datetime(2024, 10, 27, 5, 8, 31, tzinfo=tzutc()), 'ETag': '\"cb945c435ac9d4f39039eb7a93e153d0\"', 'Size': 77, 'StorageClass': 'STANDARD'}, {'Key': 'news/8/ArchiveNews_2024-10-28:05:02_split.csv', 'LastModified': datetime.datetime(2024, 10, 28, 5, 9, 48, tzinfo=tzutc()), 'ETag': '\"0de8d53a2fc5a487bf1e10d7cc7d6c89\"', 'Size': 3817, 'StorageClass': 'STANDARD'}, {'Key': 'news/8/ArchiveNews_2024-10-31:05:04_split.csv', 'LastModified': datetime.datetime(2024, 10, 31, 5, 12, 56, tzinfo=tzutc()), 'ETag': '\"cb945c435ac9d4f39039eb7a93e153d0\"', 'Size': 77, 'StorageClass': 'STANDARD'}, {'Key': 'news/8/ArchiveNews_2024-11-01:05:01_split.csv', 'LastModified': datetime.datetime(2024, 11, 1, 5, 9, 42, tzinfo=tzutc()), 'ETag': '\"cb945c435ac9d4f39039eb7a93e153d0\"', 'Size': 77, 'StorageClass': 'STANDARD'}], 'Name': 'py-secnews-landing', 'Prefix': 'news/8/', 'MaxKeys': 1000, 'EncodingType': 'url', 'KeyCount': 39}\n",
      "File: news/8/ArchiveNews_2024-06-16:14:03_split.csv was appended to dataframe.\n",
      "File: news/8/ArchiveNews_2024-06-16:14:51_split.csv was appended to dataframe.\n",
      "File: news/8/ArchiveNews_2024-06-17:04:00_split.csv was appended to dataframe.\n",
      "File: news/8/ArchiveNews_2024-06-18:04:00_split.csv was appended to dataframe.\n",
      "File: news/8/ArchiveNews_2024-06-19:04:05_split.csv was appended to dataframe.\n",
      "File: news/8/ArchiveNews_2024-06-20:04:03_split.csv was appended to dataframe.\n",
      "File: news/8/ArchiveNews_2024-06-21:04:00_split.csv was appended to dataframe.\n",
      "File: news/8/ArchiveNews_2024-06-22:04:05_split.csv was appended to dataframe.\n",
      "File: news/8/ArchiveNews_2024-06-23:04:01_split.csv was appended to dataframe.\n",
      "File: news/8/ArchiveNews_2024-06-24:04:00_split.csv was appended to dataframe.\n",
      "File: news/8/ArchiveNews_2024-06-25:04:00_split.csv was appended to dataframe.\n",
      "File: news/8/ArchiveNews_2024-06-26:04:01_split.csv was appended to dataframe.\n",
      "File: news/8/ArchiveNews_2024-06-27:04:08_split.csv was appended to dataframe.\n",
      "File: news/8/ArchiveNews_2024-06-28:04:06_split.csv was appended to dataframe.\n",
      "File: news/8/ArchiveNews_2024-06-29:04:07_split.csv was appended to dataframe.\n",
      "File: news/8/ArchiveNews_2024-06-30:04:01_split.csv was appended to dataframe.\n",
      "File: news/8/ArchiveNews_2024-07-22:04:04_split.csv was appended to dataframe.\n",
      "File: news/8/ArchiveNews_2024-07-23:04:00_split.csv was appended to dataframe.\n",
      "File: news/8/ArchiveNews_2024-07-24:04:00_split.csv was appended to dataframe.\n",
      "File: news/8/ArchiveNews_2024-07-25:04:06_split.csv was appended to dataframe.\n",
      "File: news/8/ArchiveNews_2024-07-26:04:01_split.csv was appended to dataframe.\n",
      "File: news/8/ArchiveNews_2024-07-27:04:04_split.csv was appended to dataframe.\n",
      "File: news/8/ArchiveNews_2024-07-28:04:00_split.csv was appended to dataframe.\n",
      "File: news/8/ArchiveNews_2024-07-29:04:00_split.csv was appended to dataframe.\n",
      "File: news/8/ArchiveNews_2024-07-30:04:03_split.csv was appended to dataframe.\n",
      "File: news/8/ArchiveNews_2024-07-31:04:06_split.csv was appended to dataframe.\n",
      "File: news/8/ArchiveNews_2024-10-10:05:05_split.csv was appended to dataframe.\n",
      "File: news/8/ArchiveNews_2024-10-11:05:00_split.csv was appended to dataframe.\n",
      "File: news/8/ArchiveNews_2024-10-12:05:02_split.csv was appended to dataframe.\n",
      "File: news/8/ArchiveNews_2024-10-14:05:07_split.csv was appended to dataframe.\n",
      "File: news/8/ArchiveNews_2024-10-15:05:06_split.csv was appended to dataframe.\n",
      "File: news/8/ArchiveNews_2024-10-17:05:01_split.csv was appended to dataframe.\n",
      "File: news/8/ArchiveNews_2024-10-20:05:06_split.csv was appended to dataframe.\n",
      "File: news/8/ArchiveNews_2024-10-25:05:02_split.csv was appended to dataframe.\n",
      "File: news/8/ArchiveNews_2024-10-26:05:05_split.csv was appended to dataframe.\n",
      "File: news/8/ArchiveNews_2024-10-27:05:00_split.csv was appended to dataframe.\n",
      "File: news/8/ArchiveNews_2024-10-28:05:02_split.csv was appended to dataframe.\n",
      "File: news/8/ArchiveNews_2024-10-31:05:04_split.csv was appended to dataframe.\n",
      "File: news/8/ArchiveNews_2024-11-01:05:01_split.csv was appended to dataframe.\n",
      "\n",
      "\n",
      "----------------------\n",
      "Current folder: news/9/\n",
      "----------------------\n",
      "The following objects were found in folder path news/9/: {'ResponseMetadata': {'RequestId': 'X4KPZ40FVV4ZRHWY', 'HostId': 'UI4voW7lfs3vW4CvseEKILgcLZNlX01ulU+EpmlJ8hRKY8psykLHQCXokeooCA+uSgVjxl84uWrPU1DXQVnYEUrmjhsE8Faa', 'HTTPStatusCode': 200, 'HTTPHeaders': {'x-amz-id-2': 'UI4voW7lfs3vW4CvseEKILgcLZNlX01ulU+EpmlJ8hRKY8psykLHQCXokeooCA+uSgVjxl84uWrPU1DXQVnYEUrmjhsE8Faa', 'x-amz-request-id': 'X4KPZ40FVV4ZRHWY', 'date': 'Fri, 01 Nov 2024 08:32:29 GMT', 'x-amz-bucket-region': 'eu-north-1', 'content-type': 'application/xml', 'transfer-encoding': 'chunked', 'server': 'AmazonS3'}, 'RetryAttempts': 0}, 'IsTruncated': False, 'Contents': [{'Key': 'news/9/ArchiveNews_2024-06-16:14:03_split.csv', 'LastModified': datetime.datetime(2024, 6, 16, 14, 13, 8, tzinfo=tzutc()), 'ETag': '\"c403f63c82294d0c1f0c628d7d7651c9\"', 'Size': 1931, 'StorageClass': 'STANDARD'}, {'Key': 'news/9/ArchiveNews_2024-06-16:14:53_split.csv', 'LastModified': datetime.datetime(2024, 6, 16, 15, 3, 8, tzinfo=tzutc()), 'ETag': '\"c403f63c82294d0c1f0c628d7d7651c9\"', 'Size': 1931, 'StorageClass': 'STANDARD'}, {'Key': 'news/9/ArchiveNews_2024-06-17:04:03_split.csv', 'LastModified': datetime.datetime(2024, 6, 17, 4, 12, 22, tzinfo=tzutc()), 'ETag': '\"cb945c435ac9d4f39039eb7a93e153d0\"', 'Size': 77, 'StorageClass': 'STANDARD'}, {'Key': 'news/9/ArchiveNews_2024-06-18:04:01_split.csv', 'LastModified': datetime.datetime(2024, 6, 18, 4, 10, 25, tzinfo=tzutc()), 'ETag': '\"cb945c435ac9d4f39039eb7a93e153d0\"', 'Size': 77, 'StorageClass': 'STANDARD'}, {'Key': 'news/9/ArchiveNews_2024-06-19:04:06_split.csv', 'LastModified': datetime.datetime(2024, 6, 19, 4, 15, 19, tzinfo=tzutc()), 'ETag': '\"03a6ad1c04e7e62f07a105b6cf37e958\"', 'Size': 8463, 'StorageClass': 'STANDARD'}, {'Key': 'news/9/ArchiveNews_2024-06-20:04:02_split.csv', 'LastModified': datetime.datetime(2024, 6, 20, 4, 11, 59, tzinfo=tzutc()), 'ETag': '\"cb945c435ac9d4f39039eb7a93e153d0\"', 'Size': 77, 'StorageClass': 'STANDARD'}, {'Key': 'news/9/ArchiveNews_2024-06-21:04:07_split.csv', 'LastModified': datetime.datetime(2024, 6, 21, 4, 15, 42, tzinfo=tzutc()), 'ETag': '\"cb945c435ac9d4f39039eb7a93e153d0\"', 'Size': 77, 'StorageClass': 'STANDARD'}, {'Key': 'news/9/ArchiveNews_2024-06-22:04:00_split.csv', 'LastModified': datetime.datetime(2024, 6, 22, 4, 8, 59, tzinfo=tzutc()), 'ETag': '\"fd98f5d73638355b26d68e441e3537a8\"', 'Size': 1014, 'StorageClass': 'STANDARD'}, {'Key': 'news/9/ArchiveNews_2024-06-23:04:07_split.csv', 'LastModified': datetime.datetime(2024, 6, 23, 4, 16, 30, tzinfo=tzutc()), 'ETag': '\"cb945c435ac9d4f39039eb7a93e153d0\"', 'Size': 77, 'StorageClass': 'STANDARD'}, {'Key': 'news/9/ArchiveNews_2024-06-24:04:02_split.csv', 'LastModified': datetime.datetime(2024, 6, 24, 4, 11, 58, tzinfo=tzutc()), 'ETag': '\"b6fffabff74a86530d2a418e1751bab8\"', 'Size': 9651, 'StorageClass': 'STANDARD'}, {'Key': 'news/9/ArchiveNews_2024-06-25:04:04_split.csv', 'LastModified': datetime.datetime(2024, 6, 25, 4, 13, 42, tzinfo=tzutc()), 'ETag': '\"cb945c435ac9d4f39039eb7a93e153d0\"', 'Size': 77, 'StorageClass': 'STANDARD'}, {'Key': 'news/9/ArchiveNews_2024-06-26:04:01_split.csv', 'LastModified': datetime.datetime(2024, 6, 26, 4, 9, 35, tzinfo=tzutc()), 'ETag': '\"cb945c435ac9d4f39039eb7a93e153d0\"', 'Size': 77, 'StorageClass': 'STANDARD'}, {'Key': 'news/9/ArchiveNews_2024-06-27:04:00_split.csv', 'LastModified': datetime.datetime(2024, 6, 27, 4, 9, 26, tzinfo=tzutc()), 'ETag': '\"b6d043da09f338536d93638057877100\"', 'Size': 17832, 'StorageClass': 'STANDARD'}, {'Key': 'news/9/ArchiveNews_2024-06-28:04:06_split.csv', 'LastModified': datetime.datetime(2024, 6, 28, 4, 15, 9, tzinfo=tzutc()), 'ETag': '\"cb945c435ac9d4f39039eb7a93e153d0\"', 'Size': 77, 'StorageClass': 'STANDARD'}, {'Key': 'news/9/ArchiveNews_2024-06-29:04:02_split.csv', 'LastModified': datetime.datetime(2024, 6, 29, 4, 11, 29, tzinfo=tzutc()), 'ETag': '\"cb945c435ac9d4f39039eb7a93e153d0\"', 'Size': 77, 'StorageClass': 'STANDARD'}, {'Key': 'news/9/ArchiveNews_2024-06-30:04:03_split.csv', 'LastModified': datetime.datetime(2024, 6, 30, 4, 13, 18, tzinfo=tzutc()), 'ETag': '\"cb945c435ac9d4f39039eb7a93e153d0\"', 'Size': 77, 'StorageClass': 'STANDARD'}, {'Key': 'news/9/ArchiveNews_2024-07-22:04:04_split.csv', 'LastModified': datetime.datetime(2024, 7, 22, 4, 13, 44, tzinfo=tzutc()), 'ETag': '\"ef7ac88b645778d860799d624c97f675\"', 'Size': 1359, 'StorageClass': 'STANDARD'}, {'Key': 'news/9/ArchiveNews_2024-07-23:04:08_split.csv', 'LastModified': datetime.datetime(2024, 7, 23, 4, 17, 14, tzinfo=tzutc()), 'ETag': '\"cb945c435ac9d4f39039eb7a93e153d0\"', 'Size': 77, 'StorageClass': 'STANDARD'}, {'Key': 'news/9/ArchiveNews_2024-07-24:04:00_split.csv', 'LastModified': datetime.datetime(2024, 7, 24, 4, 9, 10, tzinfo=tzutc()), 'ETag': '\"cb945c435ac9d4f39039eb7a93e153d0\"', 'Size': 77, 'StorageClass': 'STANDARD'}, {'Key': 'news/9/ArchiveNews_2024-07-25:04:01_split.csv', 'LastModified': datetime.datetime(2024, 7, 25, 4, 9, 39, tzinfo=tzutc()), 'ETag': '\"cb945c435ac9d4f39039eb7a93e153d0\"', 'Size': 77, 'StorageClass': 'STANDARD'}, {'Key': 'news/9/ArchiveNews_2024-07-26:04:00_split.csv', 'LastModified': datetime.datetime(2024, 7, 26, 4, 9, 13, tzinfo=tzutc()), 'ETag': '\"cb945c435ac9d4f39039eb7a93e153d0\"', 'Size': 77, 'StorageClass': 'STANDARD'}, {'Key': 'news/9/ArchiveNews_2024-07-27:04:06_split.csv', 'LastModified': datetime.datetime(2024, 7, 27, 4, 15, 25, tzinfo=tzutc()), 'ETag': '\"e91926f0368d328accea660e37d42894\"', 'Size': 5800, 'StorageClass': 'STANDARD'}, {'Key': 'news/9/ArchiveNews_2024-07-28:04:09_split.csv', 'LastModified': datetime.datetime(2024, 7, 28, 4, 18, 38, tzinfo=tzutc()), 'ETag': '\"e91926f0368d328accea660e37d42894\"', 'Size': 5800, 'StorageClass': 'STANDARD'}, {'Key': 'news/9/ArchiveNews_2024-07-29:04:04_split.csv', 'LastModified': datetime.datetime(2024, 7, 29, 4, 13, 6, tzinfo=tzutc()), 'ETag': '\"cb945c435ac9d4f39039eb7a93e153d0\"', 'Size': 77, 'StorageClass': 'STANDARD'}, {'Key': 'news/9/ArchiveNews_2024-07-30:04:08_split.csv', 'LastModified': datetime.datetime(2024, 7, 30, 4, 17, 32, tzinfo=tzutc()), 'ETag': '\"cb945c435ac9d4f39039eb7a93e153d0\"', 'Size': 77, 'StorageClass': 'STANDARD'}, {'Key': 'news/9/ArchiveNews_2024-07-31:04:01_split.csv', 'LastModified': datetime.datetime(2024, 7, 31, 4, 9, 28, tzinfo=tzutc()), 'ETag': '\"cb945c435ac9d4f39039eb7a93e153d0\"', 'Size': 77, 'StorageClass': 'STANDARD'}, {'Key': 'news/9/ArchiveNews_2024-10-10:05:08_split.csv', 'LastModified': datetime.datetime(2024, 10, 10, 5, 18, 2, tzinfo=tzutc()), 'ETag': '\"cb945c435ac9d4f39039eb7a93e153d0\"', 'Size': 77, 'StorageClass': 'STANDARD'}, {'Key': 'news/9/ArchiveNews_2024-10-11:05:00_split.csv', 'LastModified': datetime.datetime(2024, 10, 11, 5, 9, 49, tzinfo=tzutc()), 'ETag': '\"cb945c435ac9d4f39039eb7a93e153d0\"', 'Size': 77, 'StorageClass': 'STANDARD'}, {'Key': 'news/9/ArchiveNews_2024-10-12:05:00_split.csv', 'LastModified': datetime.datetime(2024, 10, 12, 5, 8, 58, tzinfo=tzutc()), 'ETag': '\"cb945c435ac9d4f39039eb7a93e153d0\"', 'Size': 77, 'StorageClass': 'STANDARD'}, {'Key': 'news/9/ArchiveNews_2024-10-14:05:05_split.csv', 'LastModified': datetime.datetime(2024, 10, 14, 5, 14, 9, tzinfo=tzutc()), 'ETag': '\"cb945c435ac9d4f39039eb7a93e153d0\"', 'Size': 77, 'StorageClass': 'STANDARD'}, {'Key': 'news/9/ArchiveNews_2024-10-15:05:06_split.csv', 'LastModified': datetime.datetime(2024, 10, 15, 5, 16, 1, tzinfo=tzutc()), 'ETag': '\"cb945c435ac9d4f39039eb7a93e153d0\"', 'Size': 77, 'StorageClass': 'STANDARD'}, {'Key': 'news/9/ArchiveNews_2024-10-17:05:06_split.csv', 'LastModified': datetime.datetime(2024, 10, 17, 5, 15, 32, tzinfo=tzutc()), 'ETag': '\"e1a899fee16eb565f7c84029850c9ea7\"', 'Size': 8784, 'StorageClass': 'STANDARD'}, {'Key': 'news/9/ArchiveNews_2024-10-20:05:06_split.csv', 'LastModified': datetime.datetime(2024, 10, 20, 5, 16, 30, tzinfo=tzutc()), 'ETag': '\"cb945c435ac9d4f39039eb7a93e153d0\"', 'Size': 77, 'StorageClass': 'STANDARD'}, {'Key': 'news/9/ArchiveNews_2024-10-25:05:03_split.csv', 'LastModified': datetime.datetime(2024, 10, 25, 5, 12, 31, tzinfo=tzutc()), 'ETag': '\"cb945c435ac9d4f39039eb7a93e153d0\"', 'Size': 77, 'StorageClass': 'STANDARD'}, {'Key': 'news/9/ArchiveNews_2024-10-26:05:02_split.csv', 'LastModified': datetime.datetime(2024, 10, 26, 5, 11, 1, tzinfo=tzutc()), 'ETag': '\"2e62cb53fce34383a36935182f28ae40\"', 'Size': 10709, 'StorageClass': 'STANDARD'}, {'Key': 'news/9/ArchiveNews_2024-10-27:05:01_split.csv', 'LastModified': datetime.datetime(2024, 10, 27, 5, 9, 56, tzinfo=tzutc()), 'ETag': '\"cb945c435ac9d4f39039eb7a93e153d0\"', 'Size': 77, 'StorageClass': 'STANDARD'}, {'Key': 'news/9/ArchiveNews_2024-10-28:05:04_split.csv', 'LastModified': datetime.datetime(2024, 10, 28, 5, 13, 11, tzinfo=tzutc()), 'ETag': '\"e9ac4ca58cdec15d09d9e842e8ff8306\"', 'Size': 3817, 'StorageClass': 'STANDARD'}, {'Key': 'news/9/ArchiveNews_2024-10-31:05:00_split.csv', 'LastModified': datetime.datetime(2024, 10, 31, 5, 9, 21, tzinfo=tzutc()), 'ETag': '\"cb945c435ac9d4f39039eb7a93e153d0\"', 'Size': 77, 'StorageClass': 'STANDARD'}, {'Key': 'news/9/ArchiveNews_2024-11-01:05:07_split.csv', 'LastModified': datetime.datetime(2024, 11, 1, 5, 16, 22, tzinfo=tzutc()), 'ETag': '\"cb945c435ac9d4f39039eb7a93e153d0\"', 'Size': 77, 'StorageClass': 'STANDARD'}], 'Name': 'py-secnews-landing', 'Prefix': 'news/9/', 'MaxKeys': 1000, 'EncodingType': 'url', 'KeyCount': 39}\n",
      "File: news/9/ArchiveNews_2024-06-16:14:03_split.csv was appended to dataframe.\n",
      "File: news/9/ArchiveNews_2024-06-16:14:53_split.csv was appended to dataframe.\n",
      "File: news/9/ArchiveNews_2024-06-17:04:03_split.csv was appended to dataframe.\n",
      "File: news/9/ArchiveNews_2024-06-18:04:01_split.csv was appended to dataframe.\n",
      "File: news/9/ArchiveNews_2024-06-19:04:06_split.csv was appended to dataframe.\n",
      "File: news/9/ArchiveNews_2024-06-20:04:02_split.csv was appended to dataframe.\n",
      "File: news/9/ArchiveNews_2024-06-21:04:07_split.csv was appended to dataframe.\n",
      "File: news/9/ArchiveNews_2024-06-22:04:00_split.csv was appended to dataframe.\n",
      "File: news/9/ArchiveNews_2024-06-23:04:07_split.csv was appended to dataframe.\n",
      "File: news/9/ArchiveNews_2024-06-24:04:02_split.csv was appended to dataframe.\n",
      "File: news/9/ArchiveNews_2024-06-25:04:04_split.csv was appended to dataframe.\n",
      "File: news/9/ArchiveNews_2024-06-26:04:01_split.csv was appended to dataframe.\n",
      "File: news/9/ArchiveNews_2024-06-27:04:00_split.csv was appended to dataframe.\n",
      "File: news/9/ArchiveNews_2024-06-28:04:06_split.csv was appended to dataframe.\n",
      "File: news/9/ArchiveNews_2024-06-29:04:02_split.csv was appended to dataframe.\n",
      "File: news/9/ArchiveNews_2024-06-30:04:03_split.csv was appended to dataframe.\n",
      "File: news/9/ArchiveNews_2024-07-22:04:04_split.csv was appended to dataframe.\n",
      "File: news/9/ArchiveNews_2024-07-23:04:08_split.csv was appended to dataframe.\n",
      "File: news/9/ArchiveNews_2024-07-24:04:00_split.csv was appended to dataframe.\n",
      "File: news/9/ArchiveNews_2024-07-25:04:01_split.csv was appended to dataframe.\n",
      "File: news/9/ArchiveNews_2024-07-26:04:00_split.csv was appended to dataframe.\n",
      "File: news/9/ArchiveNews_2024-07-27:04:06_split.csv was appended to dataframe.\n",
      "File: news/9/ArchiveNews_2024-07-28:04:09_split.csv was appended to dataframe.\n",
      "File: news/9/ArchiveNews_2024-07-29:04:04_split.csv was appended to dataframe.\n",
      "File: news/9/ArchiveNews_2024-07-30:04:08_split.csv was appended to dataframe.\n",
      "File: news/9/ArchiveNews_2024-07-31:04:01_split.csv was appended to dataframe.\n",
      "File: news/9/ArchiveNews_2024-10-10:05:08_split.csv was appended to dataframe.\n",
      "File: news/9/ArchiveNews_2024-10-11:05:00_split.csv was appended to dataframe.\n",
      "File: news/9/ArchiveNews_2024-10-12:05:00_split.csv was appended to dataframe.\n",
      "File: news/9/ArchiveNews_2024-10-14:05:05_split.csv was appended to dataframe.\n",
      "File: news/9/ArchiveNews_2024-10-15:05:06_split.csv was appended to dataframe.\n",
      "File: news/9/ArchiveNews_2024-10-17:05:06_split.csv was appended to dataframe.\n",
      "File: news/9/ArchiveNews_2024-10-20:05:06_split.csv was appended to dataframe.\n",
      "File: news/9/ArchiveNews_2024-10-25:05:03_split.csv was appended to dataframe.\n",
      "File: news/9/ArchiveNews_2024-10-26:05:02_split.csv was appended to dataframe.\n",
      "File: news/9/ArchiveNews_2024-10-27:05:01_split.csv was appended to dataframe.\n",
      "File: news/9/ArchiveNews_2024-10-28:05:04_split.csv was appended to dataframe.\n",
      "File: news/9/ArchiveNews_2024-10-31:05:00_split.csv was appended to dataframe.\n",
      "File: news/9/ArchiveNews_2024-11-01:05:07_split.csv was appended to dataframe.\n",
      "\n",
      "\n",
      "----------------------\n",
      "Current folder: news/10/\n",
      "----------------------\n",
      "The following objects were found in folder path news/10/: {'ResponseMetadata': {'RequestId': 'JF84SP5QT132NDYG', 'HostId': '7fsFRVsfQfQA7SE6Xa8aOj6pYfqvK3iMH9M9p9MpnQl3lfmCH/1+JeFy1vTY36HBv16VQvBmbQAbgi+jirLTTQiWjldvCA20', 'HTTPStatusCode': 200, 'HTTPHeaders': {'x-amz-id-2': '7fsFRVsfQfQA7SE6Xa8aOj6pYfqvK3iMH9M9p9MpnQl3lfmCH/1+JeFy1vTY36HBv16VQvBmbQAbgi+jirLTTQiWjldvCA20', 'x-amz-request-id': 'JF84SP5QT132NDYG', 'date': 'Fri, 01 Nov 2024 08:32:33 GMT', 'x-amz-bucket-region': 'eu-north-1', 'content-type': 'application/xml', 'transfer-encoding': 'chunked', 'server': 'AmazonS3'}, 'RetryAttempts': 0}, 'IsTruncated': False, 'Contents': [{'Key': 'news/10/ArchiveNews_2024-06-16:14:03_split.csv', 'LastModified': datetime.datetime(2024, 6, 16, 14, 9, 20, tzinfo=tzutc()), 'ETag': '\"40e191f98b9ff5b6713fb5cea078cc3c\"', 'Size': 218484, 'StorageClass': 'STANDARD'}, {'Key': 'news/10/ArchiveNews_2024-06-16:15:01_split.csv', 'LastModified': datetime.datetime(2024, 6, 16, 15, 6, 46, tzinfo=tzutc()), 'ETag': '\"40e191f98b9ff5b6713fb5cea078cc3c\"', 'Size': 218484, 'StorageClass': 'STANDARD'}, {'Key': 'news/10/ArchiveNews_2024-06-17:04:09_split.csv', 'LastModified': datetime.datetime(2024, 6, 17, 4, 14, 24, tzinfo=tzutc()), 'ETag': '\"40e191f98b9ff5b6713fb5cea078cc3c\"', 'Size': 218484, 'StorageClass': 'STANDARD'}, {'Key': 'news/10/ArchiveNews_2024-06-18:04:09_split.csv', 'LastModified': datetime.datetime(2024, 6, 18, 4, 15, 13, tzinfo=tzutc()), 'ETag': '\"8776e588308ebfd3f21d25f0ec291270\"', 'Size': 230287, 'StorageClass': 'STANDARD'}, {'Key': 'news/10/ArchiveNews_2024-06-19:04:00_split.csv', 'LastModified': datetime.datetime(2024, 6, 19, 4, 5, 3, tzinfo=tzutc()), 'ETag': '\"5ccd53317c230d58ea34ada01f5fae93\"', 'Size': 238118, 'StorageClass': 'STANDARD'}, {'Key': 'news/10/ArchiveNews_2024-06-20:04:11_split.csv', 'LastModified': datetime.datetime(2024, 6, 20, 4, 16, 35, tzinfo=tzutc()), 'ETag': '\"082aede93716a20429dba615a0a012bf\"', 'Size': 222853, 'StorageClass': 'STANDARD'}, {'Key': 'news/10/ArchiveNews_2024-06-21:04:05_split.csv', 'LastModified': datetime.datetime(2024, 6, 21, 4, 10, 53, tzinfo=tzutc()), 'ETag': '\"cb04d11bf74bfbce4497f88fea707be4\"', 'Size': 237576, 'StorageClass': 'STANDARD'}, {'Key': 'news/10/ArchiveNews_2024-06-22:04:00_split.csv', 'LastModified': datetime.datetime(2024, 6, 22, 4, 5, 33, tzinfo=tzutc()), 'ETag': '\"d5887b3f5ec9bbaf5aaf2e98328e13fc\"', 'Size': 232047, 'StorageClass': 'STANDARD'}, {'Key': 'news/10/ArchiveNews_2024-06-23:04:07_split.csv', 'LastModified': datetime.datetime(2024, 6, 23, 4, 12, 43, tzinfo=tzutc()), 'ETag': '\"d5887b3f5ec9bbaf5aaf2e98328e13fc\"', 'Size': 232047, 'StorageClass': 'STANDARD'}, {'Key': 'news/10/ArchiveNews_2024-06-24:04:05_split.csv', 'LastModified': datetime.datetime(2024, 6, 24, 4, 11, 3, tzinfo=tzutc()), 'ETag': '\"6e6b5bc6308a77dc6c30a7feae37a590\"', 'Size': 239432, 'StorageClass': 'STANDARD'}, {'Key': 'news/10/ArchiveNews_2024-06-25:04:01_split.csv', 'LastModified': datetime.datetime(2024, 6, 25, 4, 6, 30, tzinfo=tzutc()), 'ETag': '\"fd5d852746d74cea3e9ba36f55bbdfa0\"', 'Size': 239552, 'StorageClass': 'STANDARD'}, {'Key': 'news/10/ArchiveNews_2024-06-26:04:05_split.csv', 'LastModified': datetime.datetime(2024, 6, 26, 4, 11, 7, tzinfo=tzutc()), 'ETag': '\"d508e9e76b9d1c2cd863b90917d2a8d0\"', 'Size': 235660, 'StorageClass': 'STANDARD'}, {'Key': 'news/10/ArchiveNews_2024-06-27:04:03_split.csv', 'LastModified': datetime.datetime(2024, 6, 27, 4, 9, 9, tzinfo=tzutc()), 'ETag': '\"7cc6ed266282adba927522677abf7261\"', 'Size': 244546, 'StorageClass': 'STANDARD'}, {'Key': 'news/10/ArchiveNews_2024-06-28:04:00_split.csv', 'LastModified': datetime.datetime(2024, 6, 28, 4, 5, 30, tzinfo=tzutc()), 'ETag': '\"eae3001defb4a3c59aec87531a0687e6\"', 'Size': 238716, 'StorageClass': 'STANDARD'}, {'Key': 'news/10/ArchiveNews_2024-06-29:04:06_split.csv', 'LastModified': datetime.datetime(2024, 6, 29, 4, 11, 36, tzinfo=tzutc()), 'ETag': '\"00ae522c41c2f852e998bc6e849be195\"', 'Size': 243975, 'StorageClass': 'STANDARD'}, {'Key': 'news/10/ArchiveNews_2024-06-30:04:04_split.csv', 'LastModified': datetime.datetime(2024, 6, 30, 4, 9, 13, tzinfo=tzutc()), 'ETag': '\"00ae522c41c2f852e998bc6e849be195\"', 'Size': 243975, 'StorageClass': 'STANDARD'}, {'Key': 'news/10/ArchiveNews_2024-07-22:04:06_split.csv', 'LastModified': datetime.datetime(2024, 7, 22, 4, 12, 34, tzinfo=tzutc()), 'ETag': '\"31207e1b401bd986e37df33cc250c6b3\"', 'Size': 237043, 'StorageClass': 'STANDARD'}, {'Key': 'news/10/ArchiveNews_2024-07-23:04:01_split.csv', 'LastModified': datetime.datetime(2024, 7, 23, 4, 6, 29, tzinfo=tzutc()), 'ETag': '\"d0c479ebddd130f6ac38f644874e560e\"', 'Size': 247603, 'StorageClass': 'STANDARD'}, {'Key': 'news/10/ArchiveNews_2024-07-24:04:10_split.csv', 'LastModified': datetime.datetime(2024, 7, 24, 4, 15, 57, tzinfo=tzutc()), 'ETag': '\"3f07d0cf4e2a4626d30bbe06c1d141a4\"', 'Size': 255072, 'StorageClass': 'STANDARD'}, {'Key': 'news/10/ArchiveNews_2024-07-25:04:09_split.csv', 'LastModified': datetime.datetime(2024, 7, 25, 4, 15, tzinfo=tzutc()), 'ETag': '\"051431d04f69e0794d55196498985ad3\"', 'Size': 266169, 'StorageClass': 'STANDARD'}, {'Key': 'news/10/ArchiveNews_2024-07-26:04:07_split.csv', 'LastModified': datetime.datetime(2024, 7, 26, 4, 12, 58, tzinfo=tzutc()), 'ETag': '\"dcaa1e3ec5489db554641fa9af7e1ce6\"', 'Size': 274678, 'StorageClass': 'STANDARD'}, {'Key': 'news/10/ArchiveNews_2024-07-27:04:00_split.csv', 'LastModified': datetime.datetime(2024, 7, 27, 4, 5, 53, tzinfo=tzutc()), 'ETag': '\"da2fe0e153f9f3a63f7df964b168eac5\"', 'Size': 261581, 'StorageClass': 'STANDARD'}, {'Key': 'news/10/ArchiveNews_2024-07-28:04:01_split.csv', 'LastModified': datetime.datetime(2024, 7, 28, 4, 6, 29, tzinfo=tzutc()), 'ETag': '\"da2fe0e153f9f3a63f7df964b168eac5\"', 'Size': 261581, 'StorageClass': 'STANDARD'}, {'Key': 'news/10/ArchiveNews_2024-07-29:04:00_split.csv', 'LastModified': datetime.datetime(2024, 7, 29, 4, 6, 1, tzinfo=tzutc()), 'ETag': '\"da2fe0e153f9f3a63f7df964b168eac5\"', 'Size': 261581, 'StorageClass': 'STANDARD'}, {'Key': 'news/10/ArchiveNews_2024-07-30:04:01_split.csv', 'LastModified': datetime.datetime(2024, 7, 30, 4, 6, 52, tzinfo=tzutc()), 'ETag': '\"c38903e3eb55d13e1c422a598b55fd16\"', 'Size': 268263, 'StorageClass': 'STANDARD'}, {'Key': 'news/10/ArchiveNews_2024-07-31:04:01_split.csv', 'LastModified': datetime.datetime(2024, 7, 31, 4, 6, 21, tzinfo=tzutc()), 'ETag': '\"09737fa038947bf84ba3c48db2c96599\"', 'Size': 249968, 'StorageClass': 'STANDARD'}, {'Key': 'news/10/ArchiveNews_2024-10-10:05:01_split.csv', 'LastModified': datetime.datetime(2024, 10, 10, 5, 7, 46, tzinfo=tzutc()), 'ETag': '\"0274c1bad79969c54dce16aa27c0a0ce\"', 'Size': 281615, 'StorageClass': 'STANDARD'}, {'Key': 'news/10/ArchiveNews_2024-10-11:05:07_split.csv', 'LastModified': datetime.datetime(2024, 10, 11, 5, 13, 14, tzinfo=tzutc()), 'ETag': '\"42f975e091b39ac51fe93414952a1af8\"', 'Size': 294679, 'StorageClass': 'STANDARD'}, {'Key': 'news/10/ArchiveNews_2024-10-12:05:06_split.csv', 'LastModified': datetime.datetime(2024, 10, 12, 5, 12, 21, tzinfo=tzutc()), 'ETag': '\"83bbd61d0eb7275f52bac3e979209705\"', 'Size': 289294, 'StorageClass': 'STANDARD'}, {'Key': 'news/10/ArchiveNews_2024-10-14:05:03_split.csv', 'LastModified': datetime.datetime(2024, 10, 14, 5, 8, 52, tzinfo=tzutc()), 'ETag': '\"83bbd61d0eb7275f52bac3e979209705\"', 'Size': 289294, 'StorageClass': 'STANDARD'}, {'Key': 'news/10/ArchiveNews_2024-10-15:05:00_split.csv', 'LastModified': datetime.datetime(2024, 10, 15, 5, 6, 17, tzinfo=tzutc()), 'ETag': '\"71bcea2895afd982ed2675c0783338f4\"', 'Size': 287957, 'StorageClass': 'STANDARD'}, {'Key': 'news/10/ArchiveNews_2024-10-17:05:00_split.csv', 'LastModified': datetime.datetime(2024, 10, 17, 5, 5, 54, tzinfo=tzutc()), 'ETag': '\"de084410322531c6c3bcb2010dac5265\"', 'Size': 282784, 'StorageClass': 'STANDARD'}, {'Key': 'news/10/ArchiveNews_2024-10-20:05:01_split.csv', 'LastModified': datetime.datetime(2024, 10, 20, 5, 6, 54, tzinfo=tzutc()), 'ETag': '\"ee8316ae3f8aae5a42f6b3450c2d8e35\"', 'Size': 258484, 'StorageClass': 'STANDARD'}, {'Key': 'news/10/ArchiveNews_2024-10-25:05:09_split.csv', 'LastModified': datetime.datetime(2024, 10, 25, 5, 15, 35, tzinfo=tzutc()), 'ETag': '\"7bee6e01d861c9a8de513412f7530ac8\"', 'Size': 259043, 'StorageClass': 'STANDARD'}, {'Key': 'news/10/ArchiveNews_2024-10-26:05:08_split.csv', 'LastModified': datetime.datetime(2024, 10, 26, 5, 13, 38, tzinfo=tzutc()), 'ETag': '\"c2e251122a5f115decb85c4561f8187c\"', 'Size': 286652, 'StorageClass': 'STANDARD'}, {'Key': 'news/10/ArchiveNews_2024-10-27:05:02_split.csv', 'LastModified': datetime.datetime(2024, 10, 27, 5, 7, 58, tzinfo=tzutc()), 'ETag': '\"1b7d31e55c2ef1a6bf01b309a011c4cc\"', 'Size': 285532, 'StorageClass': 'STANDARD'}, {'Key': 'news/10/ArchiveNews_2024-10-28:05:09_split.csv', 'LastModified': datetime.datetime(2024, 10, 28, 5, 15, 31, tzinfo=tzutc()), 'ETag': '\"1b7d31e55c2ef1a6bf01b309a011c4cc\"', 'Size': 285532, 'StorageClass': 'STANDARD'}, {'Key': 'news/10/ArchiveNews_2024-10-31:05:11_split.csv', 'LastModified': datetime.datetime(2024, 10, 31, 5, 17, 2, tzinfo=tzutc()), 'ETag': '\"3f0a12d5cb8315bdeb1ce20245456a02\"', 'Size': 281074, 'StorageClass': 'STANDARD'}, {'Key': 'news/10/ArchiveNews_2024-11-01:05:09_split.csv', 'LastModified': datetime.datetime(2024, 11, 1, 5, 15, 29, tzinfo=tzutc()), 'ETag': '\"c2807d493db99fbfd1542f035b4f8929\"', 'Size': 280813, 'StorageClass': 'STANDARD'}], 'Name': 'py-secnews-landing', 'Prefix': 'news/10/', 'MaxKeys': 1000, 'EncodingType': 'url', 'KeyCount': 39}\n",
      "File: news/10/ArchiveNews_2024-06-16:14:03_split.csv was appended to dataframe.\n",
      "File: news/10/ArchiveNews_2024-06-16:15:01_split.csv was appended to dataframe.\n",
      "File: news/10/ArchiveNews_2024-06-17:04:09_split.csv was appended to dataframe.\n",
      "File: news/10/ArchiveNews_2024-06-18:04:09_split.csv was appended to dataframe.\n",
      "File: news/10/ArchiveNews_2024-06-19:04:00_split.csv was appended to dataframe.\n",
      "File: news/10/ArchiveNews_2024-06-20:04:11_split.csv was appended to dataframe.\n",
      "File: news/10/ArchiveNews_2024-06-21:04:05_split.csv was appended to dataframe.\n",
      "File: news/10/ArchiveNews_2024-06-22:04:00_split.csv was appended to dataframe.\n",
      "File: news/10/ArchiveNews_2024-06-23:04:07_split.csv was appended to dataframe.\n",
      "File: news/10/ArchiveNews_2024-06-24:04:05_split.csv was appended to dataframe.\n",
      "File: news/10/ArchiveNews_2024-06-25:04:01_split.csv was appended to dataframe.\n",
      "File: news/10/ArchiveNews_2024-06-26:04:05_split.csv was appended to dataframe.\n",
      "File: news/10/ArchiveNews_2024-06-27:04:03_split.csv was appended to dataframe.\n",
      "File: news/10/ArchiveNews_2024-06-28:04:00_split.csv was appended to dataframe.\n",
      "File: news/10/ArchiveNews_2024-06-29:04:06_split.csv was appended to dataframe.\n",
      "File: news/10/ArchiveNews_2024-06-30:04:04_split.csv was appended to dataframe.\n",
      "File: news/10/ArchiveNews_2024-07-22:04:06_split.csv was appended to dataframe.\n",
      "File: news/10/ArchiveNews_2024-07-23:04:01_split.csv was appended to dataframe.\n",
      "File: news/10/ArchiveNews_2024-07-24:04:10_split.csv was appended to dataframe.\n",
      "File: news/10/ArchiveNews_2024-07-25:04:09_split.csv was appended to dataframe.\n",
      "File: news/10/ArchiveNews_2024-07-26:04:07_split.csv was appended to dataframe.\n",
      "File: news/10/ArchiveNews_2024-07-27:04:00_split.csv was appended to dataframe.\n",
      "File: news/10/ArchiveNews_2024-07-28:04:01_split.csv was appended to dataframe.\n",
      "File: news/10/ArchiveNews_2024-07-29:04:00_split.csv was appended to dataframe.\n",
      "File: news/10/ArchiveNews_2024-07-30:04:01_split.csv was appended to dataframe.\n",
      "File: news/10/ArchiveNews_2024-07-31:04:01_split.csv was appended to dataframe.\n",
      "File: news/10/ArchiveNews_2024-10-10:05:01_split.csv was appended to dataframe.\n",
      "File: news/10/ArchiveNews_2024-10-11:05:07_split.csv was appended to dataframe.\n",
      "File: news/10/ArchiveNews_2024-10-12:05:06_split.csv was appended to dataframe.\n",
      "File: news/10/ArchiveNews_2024-10-14:05:03_split.csv was appended to dataframe.\n",
      "File: news/10/ArchiveNews_2024-10-15:05:00_split.csv was appended to dataframe.\n",
      "File: news/10/ArchiveNews_2024-10-17:05:00_split.csv was appended to dataframe.\n",
      "File: news/10/ArchiveNews_2024-10-20:05:01_split.csv was appended to dataframe.\n",
      "File: news/10/ArchiveNews_2024-10-25:05:09_split.csv was appended to dataframe.\n",
      "File: news/10/ArchiveNews_2024-10-26:05:08_split.csv was appended to dataframe.\n",
      "File: news/10/ArchiveNews_2024-10-27:05:02_split.csv was appended to dataframe.\n",
      "File: news/10/ArchiveNews_2024-10-28:05:09_split.csv was appended to dataframe.\n",
      "File: news/10/ArchiveNews_2024-10-31:05:11_split.csv was appended to dataframe.\n",
      "File: news/10/ArchiveNews_2024-11-01:05:09_split.csv was appended to dataframe.\n",
      "\n",
      "\n",
      "----------------------\n",
      "Current folder: news/11/\n",
      "----------------------\n",
      "The following objects were found in folder path news/11/: {'ResponseMetadata': {'RequestId': 'BGBAKBJ21ETV3D0R', 'HostId': 'YxCjsofQQNioNEroh27/wAyTBrFpJFE4Y1dYdthHhhCTCZcmajOTs3+aNxniCtaCTTr6ZpR1Ys8=', 'HTTPStatusCode': 200, 'HTTPHeaders': {'x-amz-id-2': 'YxCjsofQQNioNEroh27/wAyTBrFpJFE4Y1dYdthHhhCTCZcmajOTs3+aNxniCtaCTTr6ZpR1Ys8=', 'x-amz-request-id': 'BGBAKBJ21ETV3D0R', 'date': 'Fri, 01 Nov 2024 08:32:41 GMT', 'x-amz-bucket-region': 'eu-north-1', 'content-type': 'application/xml', 'transfer-encoding': 'chunked', 'server': 'AmazonS3'}, 'RetryAttempts': 0}, 'IsTruncated': False, 'Contents': [{'Key': 'news/11/ArchiveNews_2024-06-16:14:03_split.csv', 'LastModified': datetime.datetime(2024, 6, 16, 14, 5, 10, tzinfo=tzutc()), 'ETag': '\"4f3e58a77620af0018a6a69db4703e44\"', 'Size': 38370, 'StorageClass': 'STANDARD'}, {'Key': 'news/11/ArchiveNews_2024-06-16:14:59_split.csv', 'LastModified': datetime.datetime(2024, 6, 16, 15, 0, 51, tzinfo=tzutc()), 'ETag': '\"1e274bc5ed8463484b63b89ca6e0c96e\"', 'Size': 38428, 'StorageClass': 'STANDARD'}, {'Key': 'news/11/ArchiveNews_2024-06-17:04:08_split.csv', 'LastModified': datetime.datetime(2024, 6, 17, 4, 10, 23, tzinfo=tzutc()), 'ETag': '\"47f1ffc8e26fc9af9a5dc487d54c12b9\"', 'Size': 38500, 'StorageClass': 'STANDARD'}, {'Key': 'news/11/ArchiveNews_2024-06-18:04:07_split.csv', 'LastModified': datetime.datetime(2024, 6, 18, 4, 9, 49, tzinfo=tzutc()), 'ETag': '\"39046fd962b2ce2b2e522bf73d6c9f25\"', 'Size': 38439, 'StorageClass': 'STANDARD'}, {'Key': 'news/11/ArchiveNews_2024-06-19:04:07_split.csv', 'LastModified': datetime.datetime(2024, 6, 19, 4, 9, 20, tzinfo=tzutc()), 'ETag': '\"7441a7ae270e25c002118f78ac22524e\"', 'Size': 35665, 'StorageClass': 'STANDARD'}, {'Key': 'news/11/ArchiveNews_2024-06-20:04:00_split.csv', 'LastModified': datetime.datetime(2024, 6, 20, 4, 2, 34, tzinfo=tzutc()), 'ETag': '\"0c9f5ce8eac884b0524f81e719874b05\"', 'Size': 35589, 'StorageClass': 'STANDARD'}, {'Key': 'news/11/ArchiveNews_2024-06-21:04:00_split.csv', 'LastModified': datetime.datetime(2024, 6, 21, 4, 2, 31, tzinfo=tzutc()), 'ETag': '\"a0d288dc414975b04bfe5cda35a0270b\"', 'Size': 35718, 'StorageClass': 'STANDARD'}, {'Key': 'news/11/ArchiveNews_2024-06-22:04:10_split.csv', 'LastModified': datetime.datetime(2024, 6, 22, 4, 12, 23, tzinfo=tzutc()), 'ETag': '\"c369145fc62505de8fe3f32b562b6cf4\"', 'Size': 35600, 'StorageClass': 'STANDARD'}, {'Key': 'news/11/ArchiveNews_2024-06-23:04:05_split.csv', 'LastModified': datetime.datetime(2024, 6, 23, 4, 7, 12, tzinfo=tzutc()), 'ETag': '\"48fefaf0ef70cf5bc9082636e9bc485b\"', 'Size': 35737, 'StorageClass': 'STANDARD'}, {'Key': 'news/11/ArchiveNews_2024-06-24:04:03_split.csv', 'LastModified': datetime.datetime(2024, 6, 24, 4, 5, 14, tzinfo=tzutc()), 'ETag': '\"92c4b74a5975cbb7a4887b2800a4be7a\"', 'Size': 35593, 'StorageClass': 'STANDARD'}, {'Key': 'news/11/ArchiveNews_2024-06-25:04:08_split.csv', 'LastModified': datetime.datetime(2024, 6, 25, 4, 10, 16, tzinfo=tzutc()), 'ETag': '\"a93b557e9af0d00d6e18297764adde77\"', 'Size': 35731, 'StorageClass': 'STANDARD'}, {'Key': 'news/11/ArchiveNews_2024-06-26:04:09_split.csv', 'LastModified': datetime.datetime(2024, 6, 26, 4, 10, 37, tzinfo=tzutc()), 'ETag': '\"c4b9e06253e987f679c9c5695c86a65d\"', 'Size': 35802, 'StorageClass': 'STANDARD'}, {'Key': 'news/11/ArchiveNews_2024-06-27:04:09_split.csv', 'LastModified': datetime.datetime(2024, 6, 27, 4, 11, 21, tzinfo=tzutc()), 'ETag': '\"aeea6c7749d4dd079da3c375c65f9a3a\"', 'Size': 35525, 'StorageClass': 'STANDARD'}, {'Key': 'news/11/ArchiveNews_2024-06-28:04:00_split.csv', 'LastModified': datetime.datetime(2024, 6, 28, 4, 2, 2, tzinfo=tzutc()), 'ETag': '\"0ede1df98c4930607f09ba01e6d329a1\"', 'Size': 35665, 'StorageClass': 'STANDARD'}, {'Key': 'news/11/ArchiveNews_2024-06-29:04:03_split.csv', 'LastModified': datetime.datetime(2024, 6, 29, 4, 4, 52, tzinfo=tzutc()), 'ETag': '\"7b8990861dd01d35eba54f4c616eee24\"', 'Size': 35659, 'StorageClass': 'STANDARD'}, {'Key': 'news/11/ArchiveNews_2024-06-30:04:00_split.csv', 'LastModified': datetime.datetime(2024, 6, 30, 4, 2, 4, tzinfo=tzutc()), 'ETag': '\"09ebe55e8bf845c469e414da91750b53\"', 'Size': 35662, 'StorageClass': 'STANDARD'}, {'Key': 'news/11/ArchiveNews_2024-07-22:04:02_split.csv', 'LastModified': datetime.datetime(2024, 7, 22, 4, 4, 31, tzinfo=tzutc()), 'ETag': '\"e418c08b6b362ebd522de0ac216726bd\"', 'Size': 35652, 'StorageClass': 'STANDARD'}, {'Key': 'news/11/ArchiveNews_2024-07-23:04:02_split.csv', 'LastModified': datetime.datetime(2024, 7, 23, 4, 4, 44, tzinfo=tzutc()), 'ETag': '\"86f492733bc292ef218598484edaf9ec\"', 'Size': 35807, 'StorageClass': 'STANDARD'}, {'Key': 'news/11/ArchiveNews_2024-07-24:04:08_split.csv', 'LastModified': datetime.datetime(2024, 7, 24, 4, 10, 30, tzinfo=tzutc()), 'ETag': '\"95a5a30cf10e517898a59ed6ac580fba\"', 'Size': 35598, 'StorageClass': 'STANDARD'}, {'Key': 'news/11/ArchiveNews_2024-07-25:04:00_split.csv', 'LastModified': datetime.datetime(2024, 7, 25, 4, 2, 37, tzinfo=tzutc()), 'ETag': '\"aeea6c7749d4dd079da3c375c65f9a3a\"', 'Size': 35525, 'StorageClass': 'STANDARD'}, {'Key': 'news/11/ArchiveNews_2024-07-26:04:09_split.csv', 'LastModified': datetime.datetime(2024, 7, 26, 4, 11, 25, tzinfo=tzutc()), 'ETag': '\"aeea6c7749d4dd079da3c375c65f9a3a\"', 'Size': 35525, 'StorageClass': 'STANDARD'}, {'Key': 'news/11/ArchiveNews_2024-07-27:04:07_split.csv', 'LastModified': datetime.datetime(2024, 7, 27, 4, 8, 49, tzinfo=tzutc()), 'ETag': '\"b8a75c9fe25f1c35623eaa9841aa2816\"', 'Size': 40544, 'StorageClass': 'STANDARD'}, {'Key': 'news/11/ArchiveNews_2024-07-28:04:08_split.csv', 'LastModified': datetime.datetime(2024, 7, 28, 4, 9, 39, tzinfo=tzutc()), 'ETag': '\"f2f5025a578642e24d8d42b54f805771\"', 'Size': 40615, 'StorageClass': 'STANDARD'}, {'Key': 'news/11/ArchiveNews_2024-07-29:04:10_split.csv', 'LastModified': datetime.datetime(2024, 7, 29, 4, 12, 21, tzinfo=tzutc()), 'ETag': '\"41ae8a68f59539c6e7ee21b545cbf842\"', 'Size': 40742, 'StorageClass': 'STANDARD'}, {'Key': 'news/11/ArchiveNews_2024-07-30:04:06_split.csv', 'LastModified': datetime.datetime(2024, 7, 30, 4, 8, 29, tzinfo=tzutc()), 'ETag': '\"2794b88838ba2efbf47db416a816458f\"', 'Size': 40671, 'StorageClass': 'STANDARD'}, {'Key': 'news/11/ArchiveNews_2024-07-31:04:09_split.csv', 'LastModified': datetime.datetime(2024, 7, 31, 4, 11, 7, tzinfo=tzutc()), 'ETag': '\"0e16b6a95d75ca3c406404c3662cfb4c\"', 'Size': 40626, 'StorageClass': 'STANDARD'}, {'Key': 'news/11/ArchiveNews_2024-10-10:05:08_split.csv', 'LastModified': datetime.datetime(2024, 10, 10, 5, 10, 10, tzinfo=tzutc()), 'ETag': '\"c3959c52fb3f24e7b90fff5fa56635a5\"', 'Size': 35795, 'StorageClass': 'STANDARD'}, {'Key': 'news/11/ArchiveNews_2024-10-11:05:10_split.csv', 'LastModified': datetime.datetime(2024, 10, 11, 5, 11, 46, tzinfo=tzutc()), 'ETag': '\"462c90b32624168b2beb1b1fae712b1c\"', 'Size': 35653, 'StorageClass': 'STANDARD'}, {'Key': 'news/11/ArchiveNews_2024-10-12:05:09_split.csv', 'LastModified': datetime.datetime(2024, 10, 12, 5, 10, 48, tzinfo=tzutc()), 'ETag': '\"aeea6c7749d4dd079da3c375c65f9a3a\"', 'Size': 35525, 'StorageClass': 'STANDARD'}, {'Key': 'news/11/ArchiveNews_2024-10-14:05:03_split.csv', 'LastModified': datetime.datetime(2024, 10, 14, 5, 5, 44, tzinfo=tzutc()), 'ETag': '\"0d47c0ef3526e7aa7a5784e2c97fac3f\"', 'Size': 35646, 'StorageClass': 'STANDARD'}, {'Key': 'news/11/ArchiveNews_2024-10-15:05:07_split.csv', 'LastModified': datetime.datetime(2024, 10, 15, 5, 9, 9, tzinfo=tzutc()), 'ETag': '\"75217da0b355036991f1e1ed1ec2fcaf\"', 'Size': 35599, 'StorageClass': 'STANDARD'}, {'Key': 'news/11/ArchiveNews_2024-10-17:05:00_split.csv', 'LastModified': datetime.datetime(2024, 10, 17, 5, 2, 1, tzinfo=tzutc()), 'ETag': '\"aeea6c7749d4dd079da3c375c65f9a3a\"', 'Size': 35525, 'StorageClass': 'STANDARD'}, {'Key': 'news/11/ArchiveNews_2024-10-20:05:05_split.csv', 'LastModified': datetime.datetime(2024, 10, 20, 5, 7, 22, tzinfo=tzutc()), 'ETag': '\"74c0cd56442b37b4c1b4fbe57a790e59\"', 'Size': 35799, 'StorageClass': 'STANDARD'}, {'Key': 'news/11/ArchiveNews_2024-10-25:05:00_split.csv', 'LastModified': datetime.datetime(2024, 10, 25, 5, 2, 9, tzinfo=tzutc()), 'ETag': '\"af00ca1de48845224f6077f440750b73\"', 'Size': 35725, 'StorageClass': 'STANDARD'}, {'Key': 'news/11/ArchiveNews_2024-10-26:05:00_split.csv', 'LastModified': datetime.datetime(2024, 10, 26, 5, 2, 7, tzinfo=tzutc()), 'ETag': '\"3b55aba59f36571571481b3806b09b01\"', 'Size': 35786, 'StorageClass': 'STANDARD'}, {'Key': 'news/11/ArchiveNews_2024-10-27:05:10_split.csv', 'LastModified': datetime.datetime(2024, 10, 27, 5, 11, 33, tzinfo=tzutc()), 'ETag': '\"ee68d623234a3278f07842536f4b6818\"', 'Size': 39723, 'StorageClass': 'STANDARD'}, {'Key': 'news/11/ArchiveNews_2024-10-28:05:00_split.csv', 'LastModified': datetime.datetime(2024, 10, 28, 5, 2, 8, tzinfo=tzutc()), 'ETag': '\"db962c1409bfa81fb0e3de082b78d6dc\"', 'Size': 42638, 'StorageClass': 'STANDARD'}, {'Key': 'news/11/ArchiveNews_2024-10-31:05:11_split.csv', 'LastModified': datetime.datetime(2024, 10, 31, 5, 13, 9, tzinfo=tzutc()), 'ETag': '\"75091f805c671668f26943fe402e27ac\"', 'Size': 42603, 'StorageClass': 'STANDARD'}, {'Key': 'news/11/ArchiveNews_2024-11-01:05:02_split.csv', 'LastModified': datetime.datetime(2024, 11, 1, 5, 3, 32, tzinfo=tzutc()), 'ETag': '\"0d248586bc3e3496b568af16ed0c8eb4\"', 'Size': 35720, 'StorageClass': 'STANDARD'}], 'Name': 'py-secnews-landing', 'Prefix': 'news/11/', 'MaxKeys': 1000, 'EncodingType': 'url', 'KeyCount': 39}\n",
      "File: news/11/ArchiveNews_2024-06-16:14:03_split.csv was appended to dataframe.\n",
      "File: news/11/ArchiveNews_2024-06-16:14:59_split.csv was appended to dataframe.\n",
      "File: news/11/ArchiveNews_2024-06-17:04:08_split.csv was appended to dataframe.\n",
      "File: news/11/ArchiveNews_2024-06-18:04:07_split.csv was appended to dataframe.\n",
      "File: news/11/ArchiveNews_2024-06-19:04:07_split.csv was appended to dataframe.\n",
      "File: news/11/ArchiveNews_2024-06-20:04:00_split.csv was appended to dataframe.\n",
      "File: news/11/ArchiveNews_2024-06-21:04:00_split.csv was appended to dataframe.\n",
      "File: news/11/ArchiveNews_2024-06-22:04:10_split.csv was appended to dataframe.\n",
      "File: news/11/ArchiveNews_2024-06-23:04:05_split.csv was appended to dataframe.\n",
      "File: news/11/ArchiveNews_2024-06-24:04:03_split.csv was appended to dataframe.\n",
      "File: news/11/ArchiveNews_2024-06-25:04:08_split.csv was appended to dataframe.\n",
      "File: news/11/ArchiveNews_2024-06-26:04:09_split.csv was appended to dataframe.\n",
      "File: news/11/ArchiveNews_2024-06-27:04:09_split.csv was appended to dataframe.\n",
      "File: news/11/ArchiveNews_2024-06-28:04:00_split.csv was appended to dataframe.\n",
      "File: news/11/ArchiveNews_2024-06-29:04:03_split.csv was appended to dataframe.\n",
      "File: news/11/ArchiveNews_2024-06-30:04:00_split.csv was appended to dataframe.\n",
      "File: news/11/ArchiveNews_2024-07-22:04:02_split.csv was appended to dataframe.\n",
      "File: news/11/ArchiveNews_2024-07-23:04:02_split.csv was appended to dataframe.\n",
      "File: news/11/ArchiveNews_2024-07-24:04:08_split.csv was appended to dataframe.\n",
      "File: news/11/ArchiveNews_2024-07-25:04:00_split.csv was appended to dataframe.\n",
      "File: news/11/ArchiveNews_2024-07-26:04:09_split.csv was appended to dataframe.\n",
      "File: news/11/ArchiveNews_2024-07-27:04:07_split.csv was appended to dataframe.\n",
      "File: news/11/ArchiveNews_2024-07-28:04:08_split.csv was appended to dataframe.\n",
      "File: news/11/ArchiveNews_2024-07-29:04:10_split.csv was appended to dataframe.\n",
      "File: news/11/ArchiveNews_2024-07-30:04:06_split.csv was appended to dataframe.\n",
      "File: news/11/ArchiveNews_2024-07-31:04:09_split.csv was appended to dataframe.\n",
      "File: news/11/ArchiveNews_2024-10-10:05:08_split.csv was appended to dataframe.\n",
      "File: news/11/ArchiveNews_2024-10-11:05:10_split.csv was appended to dataframe.\n",
      "File: news/11/ArchiveNews_2024-10-12:05:09_split.csv was appended to dataframe.\n",
      "File: news/11/ArchiveNews_2024-10-14:05:03_split.csv was appended to dataframe.\n",
      "File: news/11/ArchiveNews_2024-10-15:05:07_split.csv was appended to dataframe.\n",
      "File: news/11/ArchiveNews_2024-10-17:05:00_split.csv was appended to dataframe.\n",
      "File: news/11/ArchiveNews_2024-10-20:05:05_split.csv was appended to dataframe.\n",
      "File: news/11/ArchiveNews_2024-10-25:05:00_split.csv was appended to dataframe.\n",
      "File: news/11/ArchiveNews_2024-10-26:05:00_split.csv was appended to dataframe.\n",
      "File: news/11/ArchiveNews_2024-10-27:05:10_split.csv was appended to dataframe.\n",
      "File: news/11/ArchiveNews_2024-10-28:05:00_split.csv was appended to dataframe.\n",
      "File: news/11/ArchiveNews_2024-10-31:05:11_split.csv was appended to dataframe.\n",
      "File: news/11/ArchiveNews_2024-11-01:05:02_split.csv was appended to dataframe.\n"
     ]
    }
   ],
   "source": [
    "def merge_csvs_in_folders(bucket, base_folder, s3_client, delimiter=\",\", encoding=\"utf-8\"):\n",
    "    merged_dataframes = []\n",
    "    \n",
    "    # List all folders in the base path\n",
    "    for folder_num in range(1, 12):  # Folders 1 to 11\n",
    "        folder_path = f\"{base_folder}{folder_num}/\"\n",
    "        \n",
    "        # List all CSV files in the current folder\n",
    "        response = s3_client.list_objects_v2(Bucket=bucket, Prefix=folder_path)\n",
    "        \n",
    "        print('\\n\\n----------------------')\n",
    "        print(f'Current folder: {folder_path}')\n",
    "        print('----------------------')\n",
    "        print(f'The following objects were found in folder path {folder_path}: {response}')\n",
    "        \n",
    "        # Iterate through the CSV files in the folder\n",
    "        for obj in response.get('Contents', []):\n",
    "            if obj['Key'].endswith('.csv'):\n",
    "                # Download and load the CSV file into a DataFrame\n",
    "                #csv_obj = s3_client.get_object(Bucket=bucket, Key=obj['Key'])\n",
    "                #csv_content = csv_obj['Body'].read()\n",
    "\n",
    "\n",
    "                current_file = obj['Key']\n",
    "                csv_content = download_csv_content_from_s3(bucket=bucket,\\\n",
    "                                                           key=current_file,\\\n",
    "                                                           encoding=encoding,\\\n",
    "                                                           s3_client=s3_client)\n",
    "                try:\n",
    "                    df = pd.read_csv(StringIO(csv_content),sep=delimiter)\n",
    "                \n",
    "                    # Append to the list of dataframes to merge\n",
    "                    merged_dataframes.append(df)\n",
    "                    print(f\"File: {current_file} was appended to dataframe.\")\n",
    "                except Exception as e:\n",
    "                    print(f\"Error reading CSV file: {e}\")   \n",
    "                \n",
    "                \n",
    "\n",
    "    # Concatenate all DataFrames into one\n",
    "    combined_df = pd.concat(merged_dataframes, ignore_index=True)\n",
    "    return combined_df\n",
    "\n",
    "\n",
    "\n",
    "# Define bucket name and base folder path\n",
    "bucket_name = 'py-secnews-landing'\n",
    "base_folder = 'news/'\n",
    "\n",
    "# Execute the function and merge the CSVs\n",
    "df = merge_csvs_in_folders(bucket=bucket_name,\\\n",
    "                           base_folder=base_folder,\\\n",
    "                           s3_client=s3)\n",
    "\n",
    "# Optional: Save to a CSV (local or upload to S3)\n",
    "# merged_df.to_csv('merged_output.csv', index=False)\n"
   ]
  },
  {
   "cell_type": "code",
   "execution_count": 23,
   "metadata": {},
   "outputs": [],
   "source": [
    "#meta_dict={'delimiter':','}\n",
    "#df = csv_str_to_df(csv_content=csv_content,\\\n",
    "#                      metadata_dict=meta_dict)"
   ]
  },
  {
   "cell_type": "code",
   "execution_count": 6,
   "metadata": {},
   "outputs": [
    {
     "data": {
      "text/html": [
       "<div>\n",
       "<style scoped>\n",
       "    .dataframe tbody tr th:only-of-type {\n",
       "        vertical-align: middle;\n",
       "    }\n",
       "\n",
       "    .dataframe tbody tr th {\n",
       "        vertical-align: top;\n",
       "    }\n",
       "\n",
       "    .dataframe thead th {\n",
       "        text-align: right;\n",
       "    }\n",
       "</style>\n",
       "<table border=\"1\" class=\"dataframe\">\n",
       "  <thead>\n",
       "    <tr style=\"text-align: right;\">\n",
       "      <th></th>\n",
       "      <th>source_id</th>\n",
       "      <th>time_publish</th>\n",
       "      <th>author</th>\n",
       "      <th>title</th>\n",
       "      <th>news_summary</th>\n",
       "      <th>news_text</th>\n",
       "      <th>news_url</th>\n",
       "      <th>crawl_id</th>\n",
       "    </tr>\n",
       "  </thead>\n",
       "  <tbody>\n",
       "    <tr>\n",
       "      <th>0</th>\n",
       "      <td>6</td>\n",
       "      <td>NaN</td>\n",
       "      <td>[\"Jun\", \"The Hacker News\"]</td>\n",
       "      <td>Learn to Secure Petabyte-Scale Data in a Webin...</td>\n",
       "      <td>NaN</td>\n",
       "      <td>Data is growing faster than ever. Remember whe...</td>\n",
       "      <td>https://thehackernews.com/2024/06/learn-to-sec...</td>\n",
       "      <td>1</td>\n",
       "    </tr>\n",
       "    <tr>\n",
       "      <th>1</th>\n",
       "      <td>6</td>\n",
       "      <td>NaN</td>\n",
       "      <td>[\"Jun\", \"The Hacker News\"]</td>\n",
       "      <td>Why Regulated Industries are Turning to Milita...</td>\n",
       "      <td>NaN</td>\n",
       "      <td>As cyber threats loom large and data breaches ...</td>\n",
       "      <td>https://thehackernews.com/2024/06/why-regulate...</td>\n",
       "      <td>1</td>\n",
       "    </tr>\n",
       "    <tr>\n",
       "      <th>2</th>\n",
       "      <td>6</td>\n",
       "      <td>NaN</td>\n",
       "      <td>[\"Jun\"]</td>\n",
       "      <td>ZKTeco Biometric System Found Vulnerable to 24...</td>\n",
       "      <td>NaN</td>\n",
       "      <td>An analysis of a hybrid biometric access syste...</td>\n",
       "      <td>https://thehackernews.com/2024/06/zkteco-biome...</td>\n",
       "      <td>1</td>\n",
       "    </tr>\n",
       "    <tr>\n",
       "      <th>3</th>\n",
       "      <td>6</td>\n",
       "      <td>NaN</td>\n",
       "      <td>[\"Jun\"]</td>\n",
       "      <td>North Korean Hackers Target Brazilian Fintech ...</td>\n",
       "      <td>NaN</td>\n",
       "      <td>Threat actors linked to North Korea have accou...</td>\n",
       "      <td>https://thehackernews.com/2024/06/north-korean...</td>\n",
       "      <td>1</td>\n",
       "    </tr>\n",
       "    <tr>\n",
       "      <th>4</th>\n",
       "      <td>6</td>\n",
       "      <td>NaN</td>\n",
       "      <td>[\"Jun\"]</td>\n",
       "      <td>Microsoft Delays AI-Powered Recall Feature for...</td>\n",
       "      <td>NaN</td>\n",
       "      <td>Microsoft on Thursday revealed that it's delay...</td>\n",
       "      <td>https://thehackernews.com/2024/06/microsoft-de...</td>\n",
       "      <td>1</td>\n",
       "    </tr>\n",
       "  </tbody>\n",
       "</table>\n",
       "</div>"
      ],
      "text/plain": [
       "  source_id time_publish                      author  \\\n",
       "0         6          NaN  [\"Jun\", \"The Hacker News\"]   \n",
       "1         6          NaN  [\"Jun\", \"The Hacker News\"]   \n",
       "2         6          NaN                     [\"Jun\"]   \n",
       "3         6          NaN                     [\"Jun\"]   \n",
       "4         6          NaN                     [\"Jun\"]   \n",
       "\n",
       "                                               title news_summary  \\\n",
       "0  Learn to Secure Petabyte-Scale Data in a Webin...          NaN   \n",
       "1  Why Regulated Industries are Turning to Milita...          NaN   \n",
       "2  ZKTeco Biometric System Found Vulnerable to 24...          NaN   \n",
       "3  North Korean Hackers Target Brazilian Fintech ...          NaN   \n",
       "4  Microsoft Delays AI-Powered Recall Feature for...          NaN   \n",
       "\n",
       "                                           news_text  \\\n",
       "0  Data is growing faster than ever. Remember whe...   \n",
       "1  As cyber threats loom large and data breaches ...   \n",
       "2  An analysis of a hybrid biometric access syste...   \n",
       "3  Threat actors linked to North Korea have accou...   \n",
       "4  Microsoft on Thursday revealed that it's delay...   \n",
       "\n",
       "                                            news_url crawl_id  \n",
       "0  https://thehackernews.com/2024/06/learn-to-sec...        1  \n",
       "1  https://thehackernews.com/2024/06/why-regulate...        1  \n",
       "2  https://thehackernews.com/2024/06/zkteco-biome...        1  \n",
       "3  https://thehackernews.com/2024/06/north-korean...        1  \n",
       "4  https://thehackernews.com/2024/06/microsoft-de...        1  "
      ]
     },
     "execution_count": 6,
     "metadata": {},
     "output_type": "execute_result"
    }
   ],
   "source": [
    "df.head(5)"
   ]
  },
  {
   "cell_type": "code",
   "execution_count": 59,
   "metadata": {},
   "outputs": [
    {
     "data": {
      "text/plain": [
       "(5861, 8)"
      ]
     },
     "execution_count": 59,
     "metadata": {},
     "output_type": "execute_result"
    }
   ],
   "source": [
    "df.shape"
   ]
  },
  {
   "cell_type": "code",
   "execution_count": 7,
   "metadata": {},
   "outputs": [
    {
     "data": {
      "text/plain": [
       "source_id\n",
       "6     2050\n",
       "7      410\n",
       "9       16\n",
       "10      27\n",
       "11     283\n",
       "13     410\n",
       "45      32\n",
       "50     771\n",
       "71       6\n",
       "72       4\n",
       "73       2\n",
       "75       4\n",
       "76       5\n",
       "77       6\n",
       "79       4\n",
       "80    1560\n",
       "81     390\n",
       "83      14\n",
       "Name: news_text, dtype: int64"
      ]
     },
     "execution_count": 7,
     "metadata": {},
     "output_type": "execute_result"
    }
   ],
   "source": [
    "df['news_text'].groupby(df['source_id']).count()"
   ]
  },
  {
   "cell_type": "code",
   "execution_count": 8,
   "metadata": {},
   "outputs": [
    {
     "name": "stdout",
     "output_type": "stream",
     "text": [
      "The threat actor known as Commando Cat has been linked to an ongoing cryptojacking attack campaign that leverages poorly secured Docker instances to deploy cryptocurrency miners for financial gain.\n",
      "\n",
      "\"The attackers used the cmd.cat/chattr docker image container that retrieves the payload from their own command-and-control (C&C) infrastructure,\" Trend Micro researchers Sunil Bharti and Shubham Singh said in a Thursday analysis.\n",
      "\n",
      "Commando Cat, so named for its use of the open-source Commando project to generate a benign container, was first documented earlier this year by Cado Security.\n",
      "\n",
      "The attacks are characterized by the targeting of misconfigured Docker remote API servers to deploy a Docker image named cmd.cat/chattr, which is then used as a basis to instantiate a container and break out of its confines using the chroot command, and gain access to the host operating system.\n",
      "\n",
      "The final step entails retrieving the malicious miner binary using a curl or wget command from a C&C server (\"leetdbs.anondns[.]net/z\") by means of a shell script. The binary is suspected to be ZiggyStarTux, an open-source IRC bot based on the Kaiten (aka Tsunami) malware.\n",
      "\n",
      "\"The significance of this attack campaign lies in its use of Docker images to deploy cryptojacking scripts on compromised systems,\" the researchers said. \"This tactic allows attackers to exploit vulnerabilities in Docker configurations while evading detection by security software.\"\n",
      "\n",
      "The disclosure comes as Akamai revealed that years-old security flaws in ThinkPHP applications (e.g., CVE-2018-20062 and CVE-2019-9082) are being exploited by a suspected Chinese-speaking threat actor to deliver a web shell dubbed Dama as part of a campaign that has been underway since October 17, 2023.\n",
      "\n",
      "\"The exploit attempts to retrieve additional obfuscated code from another compromised ThinkPHP server to gain initial foothold,\" Akamai researchers Ron Mankivsky and Maxim Zavodchik said. \"After successfully exploiting the system, the attackers will install a Chinese language web shell named Dama to maintain persistent access to the server.\"\n",
      "\n",
      "The web shell is equipped with several advanced capabilities to gather system data, upload files, scan network ports, escalate privileges, and navigate the file system, the latter of which enables threat actors to perform operations like file editing, deletion, and timestamp modification for obfuscation purposes.\n",
      "\n",
      "\"The recent attacks originated by a Chinese-speaking adversary highlight an ongoing trend of attackers using a fully fledged web shell, designed for advanced victim control,\" the researchers noted. \"Interestingly, not all targeted customers were using ThinkPHP, which suggests that the attackers may be indiscriminately targeting a broad range of systems.\"\n"
     ]
    }
   ],
   "source": [
    "# store input data\n",
    "article = df['news_text'][100]\n",
    "print(article)"
   ]
  },
  {
   "cell_type": "markdown",
   "metadata": {},
   "source": [
    "## Apply Model"
   ]
  },
  {
   "cell_type": "code",
   "execution_count": 9,
   "metadata": {},
   "outputs": [],
   "source": [
    "# initialize model\n",
    "def model_init(model_name=\"t5-small\"):\n",
    "    tokenizer = AutoTokenizer.from_pretrained(model_name)\n",
    "    model = AutoModelForSeq2SeqLM.from_pretrained(model_name)\n",
    "    return tokenizer, model\n",
    "tokenizer, model = model_init(\"t5-small\")"
   ]
  },
  {
   "cell_type": "code",
   "execution_count": 11,
   "metadata": {},
   "outputs": [],
   "source": [
    "def apply_model(input_text, model):\n",
    "    \"\"\"\n",
    "    Creates a summary of a given input text with a given model\n",
    "    input_text (str): input text to apply the model on\n",
    "    model (transformers.models): the model initialized with model_init\n",
    "    \"\"\"\n",
    "\n",
    "    preview = input_text[0:10]\n",
    "    print(f'\\n\\nCurrent input_text: {preview}')\n",
    "    print('Creating input ids.')\n",
    "    input_ids = tokenizer.encode( \"summarize: \" + input_text,\n",
    "        return_tensors=\"pt\",\\\n",
    "        max_length=512,\\\n",
    "        truncation=True)\n",
    "    \n",
    "    print('Encoding')\n",
    "    summary_ids = model.generate(input_ids, max_length=150)\n",
    "\n",
    "    print('Decoding')\n",
    "    summary = tokenizer.decode(\n",
    "        summary_ids[0],\\\n",
    "        skip_special_tokens=True)\n",
    "\n",
    "    return summary\n"
   ]
  },
  {
   "cell_type": "code",
   "execution_count": 66,
   "metadata": {},
   "outputs": [
    {
     "data": {
      "text/plain": [
       "(1, 8)"
      ]
     },
     "execution_count": 66,
     "metadata": {},
     "output_type": "execute_result"
    }
   ],
   "source": [
    "#df_out = df.iloc[0:1,]\n",
    "#df_out['summary'] = df_out.apply(lambda x: apply_model(input_text=x['news_text'], model=model), axis=1)\n",
    "#df_out.shape"
   ]
  },
  {
   "cell_type": "code",
   "execution_count": 12,
   "metadata": {},
   "outputs": [
    {
     "name": "stdout",
     "output_type": "stream",
     "text": [
      "\n",
      "\n",
      "Current input_text: Data is gr\n",
      "Creating input ids.\n",
      "Encoding\n",
      "Decoding\n",
      "\n",
      "\n",
      "Current input_text: As cyber t\n",
      "Creating input ids.\n",
      "Encoding\n",
      "Decoding\n",
      "\n",
      "\n",
      "Current input_text: An analysi\n",
      "Creating input ids.\n",
      "Encoding\n",
      "Decoding\n",
      "\n",
      "\n",
      "Current input_text: Threat act\n",
      "Creating input ids.\n",
      "Encoding\n",
      "Decoding\n",
      "\n",
      "\n",
      "Current input_text: Microsoft \n",
      "Creating input ids.\n",
      "Encoding\n",
      "Decoding\n",
      "\n",
      "\n",
      "Current input_text: The securi\n",
      "Creating input ids.\n",
      "Encoding\n",
      "Decoding\n",
      "\n",
      "\n",
      "Current input_text: The threat\n",
      "Creating input ids.\n",
      "Encoding\n",
      "Decoding\n",
      "\n",
      "\n",
      "Current input_text: Recent sup\n",
      "Creating input ids.\n",
      "Encoding\n",
      "Decoding\n",
      "\n",
      "\n",
      "Current input_text: Threat act\n",
      "Creating input ids.\n",
      "Encoding\n",
      "Decoding\n",
      "\n",
      "\n",
      "Current input_text: The nascen\n",
      "Creating input ids.\n",
      "Encoding\n",
      "Decoding\n",
      "\n",
      "\n",
      "Current input_text: The Cyber \n",
      "Creating input ids.\n",
      "Encoding\n",
      "Decoding\n",
      "\n",
      "\n",
      "Current input_text: Google has\n",
      "Creating input ids.\n",
      "Encoding\n",
      "Decoding\n",
      "\n",
      "\n",
      "Current input_text: A previous\n",
      "Creating input ids.\n",
      "Encoding\n",
      "Decoding\n",
      "\n",
      "\n",
      "Current input_text: Cybersecur\n",
      "Creating input ids.\n",
      "Encoding\n",
      "Decoding\n",
      "\n",
      "\n",
      "Current input_text: Last week,\n",
      "Creating input ids.\n",
      "Encoding\n",
      "Decoding\n",
      "\n",
      "\n",
      "Current input_text: Threat act\n",
      "Creating input ids.\n",
      "Encoding\n",
      "Decoding\n",
      "\n",
      "\n",
      "Current input_text: Cybersecur\n",
      "Creating input ids.\n",
      "Encoding\n",
      "Decoding\n",
      "\n",
      "\n",
      "Current input_text: State-spon\n",
      "Creating input ids.\n",
      "Encoding\n",
      "Decoding\n",
      "\n",
      "\n",
      "Current input_text: Microsoft \n",
      "Creating input ids.\n",
      "Encoding\n",
      "Decoding\n",
      "\n",
      "\n",
      "Current input_text: Managed se\n",
      "Creating input ids.\n",
      "Encoding\n",
      "Decoding\n",
      "\n",
      "\n",
      "Current input_text: Cybersecur\n",
      "Creating input ids.\n",
      "Encoding\n",
      "Decoding\n",
      "\n",
      "\n",
      "Current input_text: One of the\n",
      "Creating input ids.\n",
      "Encoding\n",
      "Decoding\n",
      "\n",
      "\n",
      "Current input_text: Apple has \n",
      "Creating input ids.\n",
      "Encoding\n",
      "Decoding\n",
      "\n",
      "\n",
      "Current input_text: Cybersecur\n",
      "Creating input ids.\n",
      "Encoding\n",
      "Decoding\n",
      "\n",
      "\n",
      "Current input_text: As many as\n",
      "Creating input ids.\n",
      "Encoding\n",
      "Decoding\n",
      "\n",
      "\n",
      "Current input_text: Arm is war\n",
      "Creating input ids.\n",
      "Encoding\n",
      "Decoding\n",
      "\n",
      "\n",
      "Current input_text: Cybersecur\n",
      "Creating input ids.\n",
      "Encoding\n",
      "Decoding\n",
      "\n",
      "\n",
      "Current input_text: Staying Sh\n",
      "Creating input ids.\n",
      "Encoding\n",
      "Decoding\n",
      "\n",
      "\n",
      "Current input_text: Microsoft \n",
      "Creating input ids.\n",
      "Encoding\n",
      "Decoding\n",
      "\n",
      "\n",
      "Current input_text: Google has\n",
      "Creating input ids.\n",
      "Encoding\n",
      "Decoding\n",
      "\n",
      "\n",
      "Current input_text: Cybersecur\n",
      "Creating input ids.\n",
      "Encoding\n",
      "Decoding\n",
      "\n",
      "\n",
      "Current input_text: Details ha\n",
      "Creating input ids.\n",
      "Encoding\n",
      "Decoding\n",
      "\n",
      "\n",
      "Current input_text: Microsoft \n",
      "Creating input ids.\n",
      "Encoding\n",
      "Decoding\n",
      "\n",
      "\n",
      "Current input_text: 2023 was a\n",
      "Creating input ids.\n",
      "Encoding\n",
      "Decoding\n",
      "\n",
      "\n",
      "Current input_text: Cybersecur\n",
      "Creating input ids.\n",
      "Encoding\n",
      "Decoding\n",
      "\n",
      "\n",
      "Current input_text: Traditiona\n",
      "Creating input ids.\n",
      "Encoding\n",
      "Decoding\n",
      "\n",
      "\n",
      "Current input_text: Google is \n",
      "Creating input ids.\n",
      "Encoding\n",
      "Decoding\n",
      "\n",
      "\n",
      "Current input_text: The U.S. F\n",
      "Creating input ids.\n",
      "Encoding\n",
      "Decoding\n",
      "\n",
      "\n",
      "Current input_text: The Comput\n",
      "Creating input ids.\n",
      "Encoding\n",
      "Decoding\n",
      "\n",
      "\n",
      "Current input_text: The threat\n",
      "Creating input ids.\n",
      "Encoding\n",
      "Decoding\n",
      "\n",
      "\n",
      "Current input_text: Muhstik bo\n",
      "Creating input ids.\n",
      "Encoding\n",
      "Decoding\n",
      "\n",
      "\n",
      "Current input_text: Learn abou\n",
      "Creating input ids.\n",
      "Encoding\n",
      "Decoding\n",
      "\n",
      "\n",
      "Current input_text: Tom works \n",
      "Creating input ids.\n",
      "Encoding\n",
      "Decoding\n",
      "\n",
      "\n",
      "Current input_text: Threat act\n",
      "Creating input ids.\n",
      "Encoding\n",
      "Decoding\n",
      "\n",
      "\n",
      "Current input_text: Google has\n",
      "Creating input ids.\n",
      "Encoding\n",
      "Decoding\n",
      "\n",
      "\n",
      "Current input_text: Cybersecur\n",
      "Creating input ids.\n",
      "Encoding\n",
      "Decoding\n",
      "\n",
      "\n",
      "Current input_text: An unnamed\n",
      "Creating input ids.\n",
      "Encoding\n",
      "Decoding\n",
      "\n",
      "\n",
      "Current input_text: Early in 2\n",
      "Creating input ids.\n",
      "Encoding\n",
      "Decoding\n",
      "\n",
      "\n",
      "Current input_text: An analysi\n",
      "Creating input ids.\n",
      "Encoding\n",
      "Decoding\n",
      "\n",
      "\n",
      "Current input_text: Zyxel has \n",
      "Creating input ids.\n",
      "Encoding\n",
      "Decoding\n",
      "\n",
      "\n",
      "Current input_text: 2.5 millio\n",
      "Creating input ids.\n",
      "Encoding\n",
      "Decoding\n",
      "\n",
      "\n",
      "Current input_text: Researcher\n",
      "Creating input ids.\n",
      "Encoding\n",
      "Decoding\n",
      "\n",
      "\n",
      "Current input_text: Targeted a\n",
      "Creating input ids.\n",
      "Encoding\n",
      "Decoding\n",
      "\n",
      "\n",
      "Current input_text: Lockbit is\n",
      "Creating input ids.\n",
      "Encoding\n",
      "Decoding\n",
      "\n",
      "\n",
      "Current input_text: New resear\n",
      "Creating input ids.\n",
      "Encoding\n",
      "Decoding\n",
      "\n",
      "\n",
      "Current input_text: Twitter is\n",
      "Creating input ids.\n",
      "Encoding\n",
      "Decoding\n",
      "\n",
      "\n",
      "Current input_text: CISA is wa\n",
      "Creating input ids.\n",
      "Encoding\n",
      "Decoding\n",
      "\n",
      "\n",
      "Current input_text: Fake trave\n",
      "Creating input ids.\n",
      "Encoding\n",
      "Decoding\n",
      "\n",
      "\n",
      "Current input_text: Separate f\n",
      "Creating input ids.\n",
      "Encoding\n",
      "Decoding\n",
      "\n",
      "\n",
      "Current input_text: An insuffi\n",
      "Creating input ids.\n",
      "Encoding\n",
      "Decoding\n",
      "\n",
      "\n",
      "Current input_text: Google's p\n",
      "Creating input ids.\n",
      "Encoding\n",
      "Decoding\n",
      "\n",
      "\n",
      "Current input_text: Data is gr\n",
      "Creating input ids.\n",
      "Encoding\n",
      "Decoding\n",
      "\n",
      "\n",
      "Current input_text: As cyber t\n",
      "Creating input ids.\n",
      "Encoding\n",
      "Decoding\n",
      "\n",
      "\n",
      "Current input_text: An analysi\n",
      "Creating input ids.\n",
      "Encoding\n",
      "Decoding\n",
      "\n",
      "\n",
      "Current input_text: Threat act\n",
      "Creating input ids.\n",
      "Encoding\n",
      "Decoding\n",
      "\n",
      "\n",
      "Current input_text: Microsoft \n",
      "Creating input ids.\n",
      "Encoding\n",
      "Decoding\n",
      "\n",
      "\n",
      "Current input_text: The securi\n",
      "Creating input ids.\n",
      "Encoding\n",
      "Decoding\n",
      "\n",
      "\n",
      "Current input_text: The threat\n",
      "Creating input ids.\n",
      "Encoding\n",
      "Decoding\n",
      "\n",
      "\n",
      "Current input_text: Recent sup\n",
      "Creating input ids.\n",
      "Encoding\n",
      "Decoding\n",
      "\n",
      "\n",
      "Current input_text: Threat act\n",
      "Creating input ids.\n",
      "Encoding\n",
      "Decoding\n",
      "\n",
      "\n",
      "Current input_text: The nascen\n",
      "Creating input ids.\n",
      "Encoding\n",
      "Decoding\n",
      "\n",
      "\n",
      "Current input_text: The Cyber \n",
      "Creating input ids.\n",
      "Encoding\n",
      "Decoding\n",
      "\n",
      "\n",
      "Current input_text: Google has\n",
      "Creating input ids.\n",
      "Encoding\n",
      "Decoding\n",
      "\n",
      "\n",
      "Current input_text: A previous\n",
      "Creating input ids.\n",
      "Encoding\n",
      "Decoding\n",
      "\n",
      "\n",
      "Current input_text: Cybersecur\n",
      "Creating input ids.\n",
      "Encoding\n",
      "Decoding\n",
      "\n",
      "\n",
      "Current input_text: Last week,\n",
      "Creating input ids.\n",
      "Encoding\n",
      "Decoding\n",
      "\n",
      "\n",
      "Current input_text: Threat act\n",
      "Creating input ids.\n",
      "Encoding\n",
      "Decoding\n",
      "\n",
      "\n",
      "Current input_text: Cybersecur\n",
      "Creating input ids.\n",
      "Encoding\n",
      "Decoding\n",
      "\n",
      "\n",
      "Current input_text: State-spon\n",
      "Creating input ids.\n",
      "Encoding\n",
      "Decoding\n",
      "\n",
      "\n",
      "Current input_text: Microsoft \n",
      "Creating input ids.\n",
      "Encoding\n",
      "Decoding\n",
      "\n",
      "\n",
      "Current input_text: Managed se\n",
      "Creating input ids.\n",
      "Encoding\n",
      "Decoding\n",
      "\n",
      "\n",
      "Current input_text: Cybersecur\n",
      "Creating input ids.\n",
      "Encoding\n",
      "Decoding\n",
      "\n",
      "\n",
      "Current input_text: One of the\n",
      "Creating input ids.\n",
      "Encoding\n",
      "Decoding\n",
      "\n",
      "\n",
      "Current input_text: Apple has \n",
      "Creating input ids.\n",
      "Encoding\n",
      "Decoding\n",
      "\n",
      "\n",
      "Current input_text: Cybersecur\n",
      "Creating input ids.\n",
      "Encoding\n",
      "Decoding\n",
      "\n",
      "\n",
      "Current input_text: As many as\n",
      "Creating input ids.\n",
      "Encoding\n",
      "Decoding\n",
      "\n",
      "\n",
      "Current input_text: Arm is war\n",
      "Creating input ids.\n",
      "Encoding\n",
      "Decoding\n",
      "\n",
      "\n",
      "Current input_text: Cybersecur\n",
      "Creating input ids.\n",
      "Encoding\n",
      "Decoding\n",
      "\n",
      "\n",
      "Current input_text: Staying Sh\n",
      "Creating input ids.\n",
      "Encoding\n",
      "Decoding\n",
      "\n",
      "\n",
      "Current input_text: Microsoft \n",
      "Creating input ids.\n",
      "Encoding\n",
      "Decoding\n",
      "\n",
      "\n",
      "Current input_text: Google has\n",
      "Creating input ids.\n",
      "Encoding\n",
      "Decoding\n",
      "\n",
      "\n",
      "Current input_text: Cybersecur\n",
      "Creating input ids.\n",
      "Encoding\n",
      "Decoding\n",
      "\n",
      "\n",
      "Current input_text: Details ha\n",
      "Creating input ids.\n",
      "Encoding\n",
      "Decoding\n",
      "\n",
      "\n",
      "Current input_text: Microsoft \n",
      "Creating input ids.\n",
      "Encoding\n",
      "Decoding\n",
      "\n",
      "\n",
      "Current input_text: 2023 was a\n",
      "Creating input ids.\n",
      "Encoding\n",
      "Decoding\n",
      "\n",
      "\n",
      "Current input_text: Cybersecur\n",
      "Creating input ids.\n",
      "Encoding\n",
      "Decoding\n",
      "\n",
      "\n",
      "Current input_text: Traditiona\n",
      "Creating input ids.\n",
      "Encoding\n",
      "Decoding\n",
      "\n",
      "\n",
      "Current input_text: Google is \n",
      "Creating input ids.\n",
      "Encoding\n",
      "Decoding\n",
      "\n",
      "\n",
      "Current input_text: The U.S. F\n",
      "Creating input ids.\n",
      "Encoding\n",
      "Decoding\n",
      "\n",
      "\n",
      "Current input_text: The Comput\n",
      "Creating input ids.\n",
      "Encoding\n",
      "Decoding\n",
      "\n",
      "\n",
      "Current input_text: The threat\n",
      "Creating input ids.\n",
      "Encoding\n",
      "Decoding\n",
      "\n",
      "\n",
      "Current input_text: Muhstik bo\n",
      "Creating input ids.\n",
      "Encoding\n",
      "Decoding\n",
      "\n",
      "\n",
      "Current input_text: Learn abou\n",
      "Creating input ids.\n",
      "Encoding\n",
      "Decoding\n",
      "\n",
      "\n",
      "Current input_text: Tom works \n",
      "Creating input ids.\n",
      "Encoding\n",
      "Decoding\n",
      "\n",
      "\n",
      "Current input_text: Threat act\n",
      "Creating input ids.\n",
      "Encoding\n",
      "Decoding\n",
      "\n",
      "\n",
      "Current input_text: Google has\n",
      "Creating input ids.\n",
      "Encoding\n",
      "Decoding\n",
      "\n",
      "\n",
      "Current input_text: Cybersecur\n",
      "Creating input ids.\n",
      "Encoding\n",
      "Decoding\n",
      "\n",
      "\n",
      "Current input_text: An unnamed\n",
      "Creating input ids.\n",
      "Encoding\n",
      "Decoding\n",
      "\n",
      "\n",
      "Current input_text: Early in 2\n",
      "Creating input ids.\n",
      "Encoding\n",
      "Decoding\n",
      "\n",
      "\n",
      "Current input_text: An analysi\n",
      "Creating input ids.\n",
      "Encoding\n",
      "Decoding\n",
      "\n",
      "\n",
      "Current input_text: 2.5 millio\n",
      "Creating input ids.\n",
      "Encoding\n",
      "Decoding\n",
      "\n",
      "\n",
      "Current input_text: Researcher\n",
      "Creating input ids.\n",
      "Encoding\n",
      "Decoding\n",
      "\n",
      "\n",
      "Current input_text: Targeted a\n",
      "Creating input ids.\n",
      "Encoding\n",
      "Decoding\n",
      "\n",
      "\n",
      "Current input_text: Lockbit is\n",
      "Creating input ids.\n",
      "Encoding\n",
      "Decoding\n",
      "\n",
      "\n",
      "Current input_text: New resear\n",
      "Creating input ids.\n",
      "Encoding\n",
      "Decoding\n",
      "\n",
      "\n",
      "Current input_text: Twitter is\n",
      "Creating input ids.\n",
      "Encoding\n",
      "Decoding\n",
      "\n",
      "\n",
      "Current input_text: CISA is wa\n",
      "Creating input ids.\n",
      "Encoding\n",
      "Decoding\n",
      "\n",
      "\n",
      "Current input_text: Fake trave\n",
      "Creating input ids.\n",
      "Encoding\n",
      "Decoding\n",
      "\n",
      "\n",
      "Current input_text: Separate f\n",
      "Creating input ids.\n",
      "Encoding\n",
      "Decoding\n",
      "\n",
      "\n",
      "Current input_text: An insuffi\n",
      "Creating input ids.\n",
      "Encoding\n",
      "Decoding\n",
      "\n",
      "\n",
      "Current input_text: Law enforc\n",
      "Creating input ids.\n",
      "Encoding\n",
      "Decoding\n",
      "\n",
      "\n",
      "Current input_text: Pakistan h\n",
      "Creating input ids.\n",
      "Encoding\n",
      "Decoding\n",
      "\n",
      "\n",
      "Current input_text: A suspecte\n",
      "Creating input ids.\n",
      "Encoding\n",
      "Decoding\n",
      "\n",
      "\n",
      "Current input_text: Meta on Fr\n",
      "Creating input ids.\n",
      "Encoding\n",
      "Decoding\n",
      "\n",
      "\n",
      "Current input_text: Google's p\n",
      "Creating input ids.\n",
      "Encoding\n",
      "Decoding\n",
      "\n",
      "\n",
      "Current input_text: Data is gr\n",
      "Creating input ids.\n",
      "Encoding\n",
      "Decoding\n",
      "\n",
      "\n",
      "Current input_text: As cyber t\n",
      "Creating input ids.\n",
      "Encoding\n",
      "Decoding\n",
      "\n",
      "\n",
      "Current input_text: An analysi\n",
      "Creating input ids.\n",
      "Encoding\n",
      "Decoding\n",
      "\n",
      "\n",
      "Current input_text: Threat act\n",
      "Creating input ids.\n",
      "Encoding\n",
      "Decoding\n",
      "\n",
      "\n",
      "Current input_text: Microsoft \n",
      "Creating input ids.\n",
      "Encoding\n",
      "Decoding\n",
      "\n",
      "\n",
      "Current input_text: The securi\n",
      "Creating input ids.\n",
      "Encoding\n",
      "Decoding\n",
      "\n",
      "\n",
      "Current input_text: The threat\n",
      "Creating input ids.\n",
      "Encoding\n",
      "Decoding\n",
      "\n",
      "\n",
      "Current input_text: Recent sup\n",
      "Creating input ids.\n",
      "Encoding\n",
      "Decoding\n",
      "\n",
      "\n",
      "Current input_text: Threat act\n",
      "Creating input ids.\n",
      "Encoding\n",
      "Decoding\n",
      "\n",
      "\n",
      "Current input_text: The nascen\n",
      "Creating input ids.\n",
      "Encoding\n",
      "Decoding\n",
      "\n",
      "\n",
      "Current input_text: The Cyber \n",
      "Creating input ids.\n",
      "Encoding\n",
      "Decoding\n",
      "\n",
      "\n",
      "Current input_text: Google has\n",
      "Creating input ids.\n",
      "Encoding\n",
      "Decoding\n",
      "\n",
      "\n",
      "Current input_text: A previous\n",
      "Creating input ids.\n",
      "Encoding\n",
      "Decoding\n",
      "\n",
      "\n",
      "Current input_text: Cybersecur\n",
      "Creating input ids.\n",
      "Encoding\n",
      "Decoding\n",
      "\n",
      "\n",
      "Current input_text: Last week,\n",
      "Creating input ids.\n",
      "Encoding\n",
      "Decoding\n",
      "\n",
      "\n",
      "Current input_text: Threat act\n",
      "Creating input ids.\n",
      "Encoding\n",
      "Decoding\n",
      "\n",
      "\n",
      "Current input_text: Cybersecur\n",
      "Creating input ids.\n",
      "Encoding\n",
      "Decoding\n",
      "\n",
      "\n",
      "Current input_text: State-spon\n",
      "Creating input ids.\n",
      "Encoding\n",
      "Decoding\n",
      "\n",
      "\n",
      "Current input_text: Microsoft \n",
      "Creating input ids.\n",
      "Encoding\n",
      "Decoding\n",
      "\n",
      "\n",
      "Current input_text: Managed se\n",
      "Creating input ids.\n",
      "Encoding\n",
      "Decoding\n",
      "\n",
      "\n",
      "Current input_text: Cybersecur\n",
      "Creating input ids.\n",
      "Encoding\n",
      "Decoding\n",
      "\n",
      "\n",
      "Current input_text: One of the\n",
      "Creating input ids.\n",
      "Encoding\n",
      "Decoding\n",
      "\n",
      "\n",
      "Current input_text: Apple has \n",
      "Creating input ids.\n",
      "Encoding\n",
      "Decoding\n",
      "\n",
      "\n",
      "Current input_text: Cybersecur\n",
      "Creating input ids.\n",
      "Encoding\n",
      "Decoding\n",
      "\n",
      "\n",
      "Current input_text: As many as\n",
      "Creating input ids.\n",
      "Encoding\n",
      "Decoding\n",
      "\n",
      "\n",
      "Current input_text: Arm is war\n",
      "Creating input ids.\n",
      "Encoding\n",
      "Decoding\n",
      "\n",
      "\n",
      "Current input_text: Cybersecur\n",
      "Creating input ids.\n",
      "Encoding\n",
      "Decoding\n",
      "\n",
      "\n",
      "Current input_text: Staying Sh\n",
      "Creating input ids.\n",
      "Encoding\n",
      "Decoding\n",
      "\n",
      "\n",
      "Current input_text: Microsoft \n",
      "Creating input ids.\n",
      "Encoding\n",
      "Decoding\n",
      "\n",
      "\n",
      "Current input_text: Google has\n",
      "Creating input ids.\n",
      "Encoding\n",
      "Decoding\n",
      "\n",
      "\n",
      "Current input_text: Cybersecur\n",
      "Creating input ids.\n",
      "Encoding\n",
      "Decoding\n",
      "\n",
      "\n",
      "Current input_text: Details ha\n",
      "Creating input ids.\n",
      "Encoding\n",
      "Decoding\n",
      "\n",
      "\n",
      "Current input_text: Microsoft \n",
      "Creating input ids.\n",
      "Encoding\n",
      "Decoding\n",
      "\n",
      "\n",
      "Current input_text: 2023 was a\n",
      "Creating input ids.\n",
      "Encoding\n",
      "Decoding\n",
      "\n",
      "\n",
      "Current input_text: Cybersecur\n",
      "Creating input ids.\n",
      "Encoding\n",
      "Decoding\n",
      "\n",
      "\n",
      "Current input_text: Traditiona\n",
      "Creating input ids.\n",
      "Encoding\n",
      "Decoding\n",
      "\n",
      "\n",
      "Current input_text: Google is \n",
      "Creating input ids.\n",
      "Encoding\n",
      "Decoding\n",
      "\n",
      "\n",
      "Current input_text: The U.S. F\n",
      "Creating input ids.\n",
      "Encoding\n",
      "Decoding\n",
      "\n",
      "\n",
      "Current input_text: The Comput\n",
      "Creating input ids.\n",
      "Encoding\n",
      "Decoding\n",
      "\n",
      "\n",
      "Current input_text: The threat\n",
      "Creating input ids.\n",
      "Encoding\n",
      "Decoding\n",
      "\n",
      "\n",
      "Current input_text: Muhstik bo\n",
      "Creating input ids.\n",
      "Encoding\n",
      "Decoding\n",
      "\n",
      "\n",
      "Current input_text: Learn abou\n",
      "Creating input ids.\n",
      "Encoding\n",
      "Decoding\n",
      "\n",
      "\n",
      "Current input_text: Tom works \n",
      "Creating input ids.\n",
      "Encoding\n",
      "Decoding\n",
      "\n",
      "\n",
      "Current input_text: Threat act\n",
      "Creating input ids.\n",
      "Encoding\n",
      "Decoding\n",
      "\n",
      "\n",
      "Current input_text: Google has\n",
      "Creating input ids.\n",
      "Encoding\n",
      "Decoding\n",
      "\n",
      "\n",
      "Current input_text: 2.5 millio\n",
      "Creating input ids.\n",
      "Encoding\n",
      "Decoding\n",
      "\n",
      "\n",
      "Current input_text: Researcher\n",
      "Creating input ids.\n",
      "Encoding\n",
      "Decoding\n",
      "\n",
      "\n",
      "Current input_text: Targeted a\n",
      "Creating input ids.\n",
      "Encoding\n",
      "Decoding\n",
      "\n",
      "\n",
      "Current input_text: Lockbit is\n",
      "Creating input ids.\n",
      "Encoding\n",
      "Decoding\n",
      "\n",
      "\n",
      "Current input_text: New resear\n",
      "Creating input ids.\n",
      "Encoding\n",
      "Decoding\n",
      "\n",
      "\n",
      "Current input_text: Twitter is\n",
      "Creating input ids.\n",
      "Encoding\n",
      "Decoding\n",
      "\n",
      "\n",
      "Current input_text: CISA is wa\n",
      "Creating input ids.\n",
      "Encoding\n",
      "Decoding\n",
      "\n",
      "\n",
      "Current input_text: Fake trave\n",
      "Creating input ids.\n",
      "Encoding\n",
      "Decoding\n",
      "\n",
      "\n",
      "Current input_text: Separate f\n",
      "Creating input ids.\n",
      "Encoding\n",
      "Decoding\n",
      "\n",
      "\n",
      "Current input_text: An insuffi\n",
      "Creating input ids.\n",
      "Encoding\n",
      "Decoding\n",
      "\n",
      "\n",
      "Current input_text: Law enforc\n",
      "Creating input ids.\n",
      "Encoding\n",
      "Decoding\n",
      "\n",
      "\n",
      "Current input_text: Pakistan h\n",
      "Creating input ids.\n",
      "Encoding\n",
      "Decoding\n",
      "\n",
      "\n",
      "Current input_text: A suspecte\n",
      "Creating input ids.\n",
      "Encoding\n",
      "Decoding\n",
      "\n",
      "\n",
      "Current input_text: Meta on Fr\n",
      "Creating input ids.\n",
      "Encoding\n",
      "Decoding\n",
      "\n",
      "\n",
      "Current input_text: Google's p\n",
      "Creating input ids.\n",
      "Encoding\n",
      "Decoding\n",
      "\n",
      "\n",
      "Current input_text: Data is gr\n",
      "Creating input ids.\n",
      "Encoding\n",
      "Decoding\n",
      "\n",
      "\n",
      "Current input_text: As cyber t\n",
      "Creating input ids.\n",
      "Encoding\n",
      "Decoding\n",
      "\n",
      "\n",
      "Current input_text: An analysi\n",
      "Creating input ids.\n",
      "Encoding\n",
      "Decoding\n",
      "\n",
      "\n",
      "Current input_text: Threat act\n",
      "Creating input ids.\n",
      "Encoding\n",
      "Decoding\n",
      "\n",
      "\n",
      "Current input_text: Microsoft \n",
      "Creating input ids.\n",
      "Encoding\n",
      "Decoding\n",
      "\n",
      "\n",
      "Current input_text: The securi\n",
      "Creating input ids.\n",
      "Encoding\n",
      "Decoding\n",
      "\n",
      "\n",
      "Current input_text: The threat\n",
      "Creating input ids.\n",
      "Encoding\n",
      "Decoding\n",
      "\n",
      "\n",
      "Current input_text: Recent sup\n",
      "Creating input ids.\n",
      "Encoding\n",
      "Decoding\n",
      "\n",
      "\n",
      "Current input_text: Threat act\n",
      "Creating input ids.\n",
      "Encoding\n",
      "Decoding\n",
      "\n",
      "\n",
      "Current input_text: The nascen\n",
      "Creating input ids.\n",
      "Encoding\n",
      "Decoding\n",
      "\n",
      "\n",
      "Current input_text: The Cyber \n",
      "Creating input ids.\n",
      "Encoding\n",
      "Decoding\n",
      "\n",
      "\n",
      "Current input_text: Google has\n",
      "Creating input ids.\n",
      "Encoding\n",
      "Decoding\n",
      "\n",
      "\n",
      "Current input_text: A previous\n",
      "Creating input ids.\n",
      "Encoding\n",
      "Decoding\n",
      "\n",
      "\n",
      "Current input_text: Cybersecur\n",
      "Creating input ids.\n",
      "Encoding\n",
      "Decoding\n",
      "\n",
      "\n",
      "Current input_text: Last week,\n",
      "Creating input ids.\n",
      "Encoding\n",
      "Decoding\n",
      "\n",
      "\n",
      "Current input_text: Threat act\n",
      "Creating input ids.\n",
      "Encoding\n",
      "Decoding\n",
      "\n",
      "\n",
      "Current input_text: Cybersecur\n",
      "Creating input ids.\n",
      "Encoding\n",
      "Decoding\n",
      "\n",
      "\n",
      "Current input_text: State-spon\n",
      "Creating input ids.\n",
      "Encoding\n",
      "Decoding\n",
      "\n",
      "\n",
      "Current input_text: Microsoft \n",
      "Creating input ids.\n",
      "Encoding\n",
      "Decoding\n",
      "\n",
      "\n",
      "Current input_text: Managed se\n",
      "Creating input ids.\n",
      "Encoding\n",
      "Decoding\n",
      "\n",
      "\n",
      "Current input_text: Cybersecur\n",
      "Creating input ids.\n",
      "Encoding\n",
      "Decoding\n",
      "\n",
      "\n",
      "Current input_text: One of the\n",
      "Creating input ids.\n",
      "Encoding\n",
      "Decoding\n",
      "\n",
      "\n",
      "Current input_text: Apple has \n",
      "Creating input ids.\n",
      "Encoding\n",
      "Decoding\n",
      "\n",
      "\n",
      "Current input_text: Cybersecur\n",
      "Creating input ids.\n",
      "Encoding\n",
      "Decoding\n",
      "\n",
      "\n",
      "Current input_text: As many as\n",
      "Creating input ids.\n",
      "Encoding\n",
      "Decoding\n",
      "\n",
      "\n",
      "Current input_text: Arm is war\n",
      "Creating input ids.\n",
      "Encoding\n",
      "Decoding\n",
      "\n",
      "\n",
      "Current input_text: Cybersecur\n",
      "Creating input ids.\n",
      "Encoding\n",
      "Decoding\n",
      "\n",
      "\n",
      "Current input_text: Staying Sh\n",
      "Creating input ids.\n",
      "Encoding\n",
      "Decoding\n",
      "\n",
      "\n",
      "Current input_text: Microsoft \n",
      "Creating input ids.\n",
      "Encoding\n",
      "Decoding\n",
      "\n",
      "\n",
      "Current input_text: Google has\n",
      "Creating input ids.\n",
      "Encoding\n",
      "Decoding\n",
      "\n",
      "\n",
      "Current input_text: Cybersecur\n",
      "Creating input ids.\n",
      "Encoding\n",
      "Decoding\n",
      "\n",
      "\n",
      "Current input_text: Details ha\n",
      "Creating input ids.\n",
      "Encoding\n",
      "Decoding\n",
      "\n",
      "\n",
      "Current input_text: Microsoft \n",
      "Creating input ids.\n",
      "Encoding\n",
      "Decoding\n",
      "\n",
      "\n",
      "Current input_text: 2023 was a\n",
      "Creating input ids.\n",
      "Encoding\n",
      "Decoding\n",
      "\n",
      "\n",
      "Current input_text: Cybersecur\n",
      "Creating input ids.\n",
      "Encoding\n",
      "Decoding\n",
      "\n",
      "\n",
      "Current input_text: Traditiona\n",
      "Creating input ids.\n",
      "Encoding\n",
      "Decoding\n",
      "\n",
      "\n",
      "Current input_text: Google is \n",
      "Creating input ids.\n",
      "Encoding\n",
      "Decoding\n",
      "\n",
      "\n",
      "Current input_text: The U.S. F\n",
      "Creating input ids.\n",
      "Encoding\n",
      "Decoding\n",
      "\n",
      "\n",
      "Current input_text: The Comput\n",
      "Creating input ids.\n",
      "Encoding\n",
      "Decoding\n",
      "\n",
      "\n",
      "Current input_text: The threat\n",
      "Creating input ids.\n",
      "Encoding\n",
      "Decoding\n",
      "\n",
      "\n",
      "Current input_text: Muhstik bo\n",
      "Creating input ids.\n",
      "Encoding\n",
      "Decoding\n",
      "\n",
      "\n",
      "Current input_text: Learn abou\n",
      "Creating input ids.\n",
      "Encoding\n",
      "Decoding\n",
      "\n",
      "\n",
      "Current input_text: Tom works \n",
      "Creating input ids.\n",
      "Encoding\n",
      "Decoding\n",
      "\n",
      "\n",
      "Current input_text: Threat act\n",
      "Creating input ids.\n",
      "Encoding\n",
      "Decoding\n",
      "\n",
      "\n",
      "Current input_text: Google has\n",
      "Creating input ids.\n",
      "Encoding\n",
      "Decoding\n",
      "\n",
      "\n",
      "Current input_text: 2.5 millio\n",
      "Creating input ids.\n",
      "Encoding\n",
      "Decoding\n",
      "\n",
      "\n",
      "Current input_text: Researcher\n",
      "Creating input ids.\n",
      "Encoding\n",
      "Decoding\n",
      "\n",
      "\n",
      "Current input_text: Targeted a\n",
      "Creating input ids.\n",
      "Encoding\n",
      "Decoding\n",
      "\n",
      "\n",
      "Current input_text: Lockbit is\n",
      "Creating input ids.\n",
      "Encoding\n",
      "Decoding\n",
      "\n",
      "\n",
      "Current input_text: New resear\n",
      "Creating input ids.\n",
      "Encoding\n",
      "Decoding\n",
      "\n",
      "\n",
      "Current input_text: Twitter is\n",
      "Creating input ids.\n",
      "Encoding\n",
      "Decoding\n",
      "\n",
      "\n",
      "Current input_text: CISA is wa\n",
      "Creating input ids.\n",
      "Encoding\n",
      "Decoding\n",
      "\n",
      "\n",
      "Current input_text: Fake trave\n",
      "Creating input ids.\n",
      "Encoding\n",
      "Decoding\n",
      "\n",
      "\n",
      "Current input_text: Separate f\n",
      "Creating input ids.\n",
      "Encoding\n",
      "Decoding\n",
      "\n",
      "\n",
      "Current input_text: An insuffi\n",
      "Creating input ids.\n",
      "Encoding\n",
      "Decoding\n",
      "\n",
      "\n",
      "Current input_text: Law enforc\n",
      "Creating input ids.\n",
      "Encoding\n",
      "Decoding\n",
      "\n",
      "\n",
      "Current input_text: Pakistan h\n",
      "Creating input ids.\n",
      "Encoding\n",
      "Decoding\n",
      "\n",
      "\n",
      "Current input_text: A suspecte\n",
      "Creating input ids.\n",
      "Encoding\n",
      "Decoding\n",
      "\n",
      "\n",
      "Current input_text: Meta on Fr\n",
      "Creating input ids.\n",
      "Encoding\n",
      "Decoding\n",
      "\n",
      "\n",
      "Current input_text: Google's p\n",
      "Creating input ids.\n",
      "Encoding\n",
      "Decoding\n",
      "\n",
      "\n",
      "Current input_text: Data is gr\n",
      "Creating input ids.\n",
      "Encoding\n",
      "Decoding\n",
      "\n",
      "\n",
      "Current input_text: As cyber t\n",
      "Creating input ids.\n",
      "Encoding\n",
      "Decoding\n",
      "\n",
      "\n",
      "Current input_text: An analysi\n",
      "Creating input ids.\n",
      "Encoding\n",
      "Decoding\n",
      "\n",
      "\n",
      "Current input_text: Threat act\n",
      "Creating input ids.\n",
      "Encoding\n",
      "Decoding\n",
      "\n",
      "\n",
      "Current input_text: Microsoft \n",
      "Creating input ids.\n",
      "Encoding\n",
      "Decoding\n",
      "\n",
      "\n",
      "Current input_text: The securi\n",
      "Creating input ids.\n",
      "Encoding\n",
      "Decoding\n",
      "\n",
      "\n",
      "Current input_text: The threat\n",
      "Creating input ids.\n",
      "Encoding\n",
      "Decoding\n",
      "\n",
      "\n",
      "Current input_text: Recent sup\n",
      "Creating input ids.\n",
      "Encoding\n",
      "Decoding\n",
      "\n",
      "\n",
      "Current input_text: Threat act\n",
      "Creating input ids.\n",
      "Encoding\n",
      "Decoding\n",
      "\n",
      "\n",
      "Current input_text: The nascen\n",
      "Creating input ids.\n",
      "Encoding\n",
      "Decoding\n",
      "\n",
      "\n",
      "Current input_text: The Cyber \n",
      "Creating input ids.\n",
      "Encoding\n",
      "Decoding\n",
      "\n",
      "\n",
      "Current input_text: Google has\n",
      "Creating input ids.\n",
      "Encoding\n",
      "Decoding\n",
      "\n",
      "\n",
      "Current input_text: A previous\n",
      "Creating input ids.\n",
      "Encoding\n",
      "Decoding\n",
      "\n",
      "\n",
      "Current input_text: Cybersecur\n",
      "Creating input ids.\n",
      "Encoding\n",
      "Decoding\n",
      "\n",
      "\n",
      "Current input_text: Last week,\n",
      "Creating input ids.\n",
      "Encoding\n",
      "Decoding\n",
      "\n",
      "\n",
      "Current input_text: Threat act\n",
      "Creating input ids.\n",
      "Encoding\n",
      "Decoding\n",
      "\n",
      "\n",
      "Current input_text: Cybersecur\n",
      "Creating input ids.\n",
      "Encoding\n",
      "Decoding\n",
      "\n",
      "\n",
      "Current input_text: State-spon\n",
      "Creating input ids.\n",
      "Encoding\n",
      "Decoding\n",
      "\n",
      "\n",
      "Current input_text: Microsoft \n",
      "Creating input ids.\n",
      "Encoding\n",
      "Decoding\n",
      "\n",
      "\n",
      "Current input_text: Managed se\n",
      "Creating input ids.\n",
      "Encoding\n",
      "Decoding\n",
      "\n",
      "\n",
      "Current input_text: Cybersecur\n",
      "Creating input ids.\n",
      "Encoding\n",
      "Decoding\n",
      "\n",
      "\n",
      "Current input_text: One of the\n",
      "Creating input ids.\n",
      "Encoding\n",
      "Decoding\n",
      "\n",
      "\n",
      "Current input_text: Apple has \n",
      "Creating input ids.\n",
      "Encoding\n",
      "Decoding\n",
      "\n",
      "\n",
      "Current input_text: Cybersecur\n",
      "Creating input ids.\n",
      "Encoding\n",
      "Decoding\n",
      "\n",
      "\n",
      "Current input_text: As many as\n",
      "Creating input ids.\n",
      "Encoding\n",
      "Decoding\n",
      "\n",
      "\n",
      "Current input_text: Arm is war\n",
      "Creating input ids.\n",
      "Encoding\n",
      "Decoding\n",
      "\n",
      "\n",
      "Current input_text: Cybersecur\n",
      "Creating input ids.\n",
      "Encoding\n",
      "Decoding\n",
      "\n",
      "\n",
      "Current input_text: Staying Sh\n",
      "Creating input ids.\n",
      "Encoding\n",
      "Decoding\n",
      "\n",
      "\n",
      "Current input_text: Microsoft \n",
      "Creating input ids.\n",
      "Encoding\n",
      "Decoding\n",
      "\n",
      "\n",
      "Current input_text: Google has\n",
      "Creating input ids.\n",
      "Encoding\n",
      "Decoding\n",
      "\n",
      "\n",
      "Current input_text: Cybersecur\n",
      "Creating input ids.\n",
      "Encoding\n",
      "Decoding\n",
      "\n",
      "\n",
      "Current input_text: Details ha\n",
      "Creating input ids.\n",
      "Encoding\n",
      "Decoding\n",
      "\n",
      "\n",
      "Current input_text: Microsoft \n",
      "Creating input ids.\n",
      "Encoding\n",
      "Decoding\n",
      "\n",
      "\n",
      "Current input_text: 2023 was a\n",
      "Creating input ids.\n",
      "Encoding\n",
      "Decoding\n",
      "\n",
      "\n",
      "Current input_text: Cybersecur\n",
      "Creating input ids.\n",
      "Encoding\n",
      "Decoding\n",
      "\n",
      "\n",
      "Current input_text: Traditiona\n",
      "Creating input ids.\n",
      "Encoding\n",
      "Decoding\n",
      "\n",
      "\n",
      "Current input_text: Google is \n",
      "Creating input ids.\n",
      "Encoding\n",
      "Decoding\n",
      "\n",
      "\n",
      "Current input_text: The U.S. F\n",
      "Creating input ids.\n",
      "Encoding\n",
      "Decoding\n",
      "\n",
      "\n",
      "Current input_text: The Comput\n",
      "Creating input ids.\n",
      "Encoding\n",
      "Decoding\n",
      "\n",
      "\n",
      "Current input_text: The threat\n",
      "Creating input ids.\n",
      "Encoding\n",
      "Decoding\n",
      "\n",
      "\n",
      "Current input_text: Muhstik bo\n",
      "Creating input ids.\n",
      "Encoding\n",
      "Decoding\n",
      "\n",
      "\n",
      "Current input_text: Learn abou\n",
      "Creating input ids.\n",
      "Encoding\n",
      "Decoding\n",
      "\n",
      "\n",
      "Current input_text: Tom works \n",
      "Creating input ids.\n",
      "Encoding\n",
      "Decoding\n",
      "\n",
      "\n",
      "Current input_text: Threat act\n",
      "Creating input ids.\n",
      "Encoding\n",
      "Decoding\n",
      "\n",
      "\n",
      "Current input_text: Google has\n",
      "Creating input ids.\n",
      "Encoding\n",
      "Decoding\n",
      "\n",
      "\n",
      "Current input_text: 2.5 millio\n",
      "Creating input ids.\n",
      "Encoding\n",
      "Decoding\n",
      "\n",
      "\n",
      "Current input_text: Researcher\n",
      "Creating input ids.\n",
      "Encoding\n",
      "Decoding\n",
      "\n",
      "\n",
      "Current input_text: Targeted a\n",
      "Creating input ids.\n",
      "Encoding\n",
      "Decoding\n",
      "\n",
      "\n",
      "Current input_text: Lockbit is\n",
      "Creating input ids.\n",
      "Encoding\n",
      "Decoding\n",
      "\n",
      "\n",
      "Current input_text: New resear\n",
      "Creating input ids.\n",
      "Encoding\n",
      "Decoding\n",
      "\n",
      "\n",
      "Current input_text: Twitter is\n",
      "Creating input ids.\n",
      "Encoding\n",
      "Decoding\n",
      "\n",
      "\n",
      "Current input_text: CISA is wa\n",
      "Creating input ids.\n",
      "Encoding\n",
      "Decoding\n",
      "\n",
      "\n",
      "Current input_text: Fake trave\n",
      "Creating input ids.\n",
      "Encoding\n",
      "Decoding\n",
      "\n",
      "\n",
      "Current input_text: Separate f\n",
      "Creating input ids.\n",
      "Encoding\n",
      "Decoding\n",
      "\n",
      "\n",
      "Current input_text: An insuffi\n",
      "Creating input ids.\n",
      "Encoding\n",
      "Decoding\n",
      "\n",
      "\n",
      "Current input_text: ASUS has s\n",
      "Creating input ids.\n",
      "Encoding\n",
      "Decoding\n",
      "\n",
      "\n",
      "Current input_text: A suspecte\n",
      "Creating input ids.\n",
      "Encoding\n",
      "Decoding\n",
      "\n",
      "\n",
      "Current input_text: Traditiona\n",
      "Creating input ids.\n",
      "Encoding\n",
      "Decoding\n",
      "\n",
      "\n",
      "Current input_text: Legitimate\n",
      "Creating input ids.\n",
      "Encoding\n",
      "Decoding\n",
      "\n",
      "\n",
      "Current input_text: Threat act\n",
      "Creating input ids.\n",
      "Encoding\n",
      "Decoding\n",
      "\n",
      "\n",
      "Current input_text: Law enforc\n",
      "Creating input ids.\n",
      "Encoding\n",
      "Decoding\n",
      "\n",
      "\n",
      "Current input_text: Pakistan h\n",
      "Creating input ids.\n",
      "Encoding\n",
      "Decoding\n",
      "\n",
      "\n",
      "Current input_text: A suspecte\n",
      "Creating input ids.\n",
      "Encoding\n",
      "Decoding\n",
      "\n",
      "\n",
      "Current input_text: Meta on Fr\n",
      "Creating input ids.\n",
      "Encoding\n",
      "Decoding\n",
      "\n",
      "\n",
      "Current input_text: Google's p\n",
      "Creating input ids.\n",
      "Encoding\n",
      "Decoding\n",
      "\n",
      "\n",
      "Current input_text: Data is gr\n",
      "Creating input ids.\n",
      "Encoding\n",
      "Decoding\n",
      "\n",
      "\n",
      "Current input_text: As cyber t\n",
      "Creating input ids.\n",
      "Encoding\n",
      "Decoding\n",
      "\n",
      "\n",
      "Current input_text: An analysi\n",
      "Creating input ids.\n",
      "Encoding\n",
      "Decoding\n",
      "\n",
      "\n",
      "Current input_text: Threat act\n",
      "Creating input ids.\n",
      "Encoding\n",
      "Decoding\n",
      "\n",
      "\n",
      "Current input_text: Microsoft \n",
      "Creating input ids.\n",
      "Encoding\n",
      "Decoding\n",
      "\n",
      "\n",
      "Current input_text: The securi\n",
      "Creating input ids.\n",
      "Encoding\n",
      "Decoding\n",
      "\n",
      "\n",
      "Current input_text: The threat\n",
      "Creating input ids.\n",
      "Encoding\n",
      "Decoding\n",
      "\n",
      "\n",
      "Current input_text: Recent sup\n",
      "Creating input ids.\n",
      "Encoding\n",
      "Decoding\n",
      "\n",
      "\n",
      "Current input_text: Threat act\n",
      "Creating input ids.\n",
      "Encoding\n",
      "Decoding\n",
      "\n",
      "\n",
      "Current input_text: The nascen\n",
      "Creating input ids.\n",
      "Encoding\n",
      "Decoding\n",
      "\n",
      "\n",
      "Current input_text: The Cyber \n",
      "Creating input ids.\n",
      "Encoding\n",
      "Decoding\n",
      "\n",
      "\n",
      "Current input_text: Google has\n",
      "Creating input ids.\n",
      "Encoding\n",
      "Decoding\n",
      "\n",
      "\n",
      "Current input_text: A previous\n",
      "Creating input ids.\n",
      "Encoding\n",
      "Decoding\n",
      "\n",
      "\n",
      "Current input_text: Cybersecur\n",
      "Creating input ids.\n",
      "Encoding\n",
      "Decoding\n",
      "\n",
      "\n",
      "Current input_text: Last week,\n",
      "Creating input ids.\n",
      "Encoding\n",
      "Decoding\n",
      "\n",
      "\n",
      "Current input_text: Threat act\n",
      "Creating input ids.\n",
      "Encoding\n",
      "Decoding\n",
      "\n",
      "\n",
      "Current input_text: Cybersecur\n",
      "Creating input ids.\n",
      "Encoding\n",
      "Decoding\n",
      "\n",
      "\n",
      "Current input_text: State-spon\n",
      "Creating input ids.\n",
      "Encoding\n",
      "Decoding\n",
      "\n",
      "\n",
      "Current input_text: Microsoft \n",
      "Creating input ids.\n",
      "Encoding\n",
      "Decoding\n",
      "\n",
      "\n",
      "Current input_text: Managed se\n",
      "Creating input ids.\n",
      "Encoding\n",
      "Decoding\n",
      "\n",
      "\n",
      "Current input_text: Cybersecur\n",
      "Creating input ids.\n",
      "Encoding\n",
      "Decoding\n",
      "\n",
      "\n",
      "Current input_text: One of the\n",
      "Creating input ids.\n",
      "Encoding\n",
      "Decoding\n",
      "\n",
      "\n",
      "Current input_text: Apple has \n",
      "Creating input ids.\n",
      "Encoding\n",
      "Decoding\n",
      "\n",
      "\n",
      "Current input_text: Cybersecur\n",
      "Creating input ids.\n",
      "Encoding\n",
      "Decoding\n",
      "\n",
      "\n",
      "Current input_text: As many as\n",
      "Creating input ids.\n",
      "Encoding\n",
      "Decoding\n",
      "\n",
      "\n",
      "Current input_text: Arm is war\n",
      "Creating input ids.\n",
      "Encoding\n",
      "Decoding\n",
      "\n",
      "\n",
      "Current input_text: Cybersecur\n",
      "Creating input ids.\n",
      "Encoding\n",
      "Decoding\n",
      "\n",
      "\n",
      "Current input_text: Staying Sh\n",
      "Creating input ids.\n",
      "Encoding\n",
      "Decoding\n",
      "\n",
      "\n",
      "Current input_text: Microsoft \n",
      "Creating input ids.\n",
      "Encoding\n",
      "Decoding\n",
      "\n",
      "\n",
      "Current input_text: Google has\n",
      "Creating input ids.\n",
      "Encoding\n",
      "Decoding\n",
      "\n",
      "\n",
      "Current input_text: Cybersecur\n",
      "Creating input ids.\n",
      "Encoding\n",
      "Decoding\n",
      "\n",
      "\n",
      "Current input_text: Details ha\n",
      "Creating input ids.\n",
      "Encoding\n",
      "Decoding\n",
      "\n",
      "\n",
      "Current input_text: Microsoft \n",
      "Creating input ids.\n",
      "Encoding\n",
      "Decoding\n",
      "\n",
      "\n",
      "Current input_text: 2023 was a\n",
      "Creating input ids.\n",
      "Encoding\n",
      "Decoding\n",
      "\n",
      "\n",
      "Current input_text: Cybersecur\n",
      "Creating input ids.\n",
      "Encoding\n",
      "Decoding\n",
      "\n",
      "\n",
      "Current input_text: Traditiona\n",
      "Creating input ids.\n",
      "Encoding\n",
      "Decoding\n",
      "\n",
      "\n",
      "Current input_text: Google is \n",
      "Creating input ids.\n",
      "Encoding\n",
      "Decoding\n",
      "\n",
      "\n",
      "Current input_text: The U.S. F\n",
      "Creating input ids.\n",
      "Encoding\n",
      "Decoding\n",
      "\n",
      "\n",
      "Current input_text: The Comput\n",
      "Creating input ids.\n",
      "Encoding\n",
      "Decoding\n",
      "\n",
      "\n",
      "Current input_text: The threat\n",
      "Creating input ids.\n",
      "Encoding\n",
      "Decoding\n",
      "\n",
      "\n",
      "Current input_text: 2.5 millio\n",
      "Creating input ids.\n",
      "Encoding\n",
      "Decoding\n",
      "\n",
      "\n",
      "Current input_text: Researcher\n",
      "Creating input ids.\n",
      "Encoding\n",
      "Decoding\n",
      "\n",
      "\n",
      "Current input_text: Targeted a\n",
      "Creating input ids.\n",
      "Encoding\n",
      "Decoding\n",
      "\n",
      "\n",
      "Current input_text: Lockbit is\n",
      "Creating input ids.\n",
      "Encoding\n",
      "Decoding\n",
      "\n",
      "\n",
      "Current input_text: New resear\n",
      "Creating input ids.\n",
      "Encoding\n",
      "Decoding\n",
      "\n",
      "\n",
      "Current input_text: Twitter is\n",
      "Creating input ids.\n",
      "Encoding\n",
      "Decoding\n",
      "\n",
      "\n",
      "Current input_text: CISA is wa\n",
      "Creating input ids.\n",
      "Encoding\n",
      "Decoding\n",
      "\n",
      "\n",
      "Current input_text: Fake trave\n",
      "Creating input ids.\n",
      "Encoding\n",
      "Decoding\n",
      "\n",
      "\n",
      "Current input_text: Separate f\n",
      "Creating input ids.\n",
      "Encoding\n",
      "Decoding\n",
      "\n",
      "\n",
      "Current input_text: An insuffi\n",
      "Creating input ids.\n",
      "Encoding\n",
      "Decoding\n",
      "\n",
      "\n",
      "Current input_text: A controve\n",
      "Creating input ids.\n",
      "Encoding\n",
      "Decoding\n",
      "\n",
      "\n",
      "Current input_text: Threat act\n",
      "Creating input ids.\n",
      "Encoding\n",
      "Decoding\n",
      "\n",
      "\n",
      "Current input_text: Seventy pe\n",
      "Creating input ids.\n",
      "Encoding\n",
      "Decoding\n",
      "\n",
      "\n",
      "Current input_text: Cybersecur\n",
      "Creating input ids.\n",
      "Encoding\n",
      "Decoding\n",
      "\n",
      "\n",
      "Current input_text: VMware has\n",
      "Creating input ids.\n",
      "Encoding\n",
      "Decoding\n",
      "\n",
      "\n",
      "Current input_text: The Singap\n",
      "Creating input ids.\n",
      "Encoding\n",
      "Decoding\n",
      "\n",
      "\n",
      "Current input_text: ASUS has s\n",
      "Creating input ids.\n",
      "Encoding\n",
      "Decoding\n",
      "\n",
      "\n",
      "Current input_text: A suspecte\n",
      "Creating input ids.\n",
      "Encoding\n",
      "Decoding\n",
      "\n",
      "\n",
      "Current input_text: Traditiona\n",
      "Creating input ids.\n",
      "Encoding\n",
      "Decoding\n",
      "\n",
      "\n",
      "Current input_text: Legitimate\n",
      "Creating input ids.\n",
      "Encoding\n",
      "Decoding\n",
      "\n",
      "\n",
      "Current input_text: Threat act\n",
      "Creating input ids.\n",
      "Encoding\n",
      "Decoding\n",
      "\n",
      "\n",
      "Current input_text: Law enforc\n",
      "Creating input ids.\n",
      "Encoding\n",
      "Decoding\n",
      "\n",
      "\n",
      "Current input_text: Pakistan h\n",
      "Creating input ids.\n",
      "Encoding\n",
      "Decoding\n",
      "\n",
      "\n",
      "Current input_text: A suspecte\n",
      "Creating input ids.\n",
      "Encoding\n",
      "Decoding\n",
      "\n",
      "\n",
      "Current input_text: Meta on Fr\n",
      "Creating input ids.\n",
      "Encoding\n",
      "Decoding\n",
      "\n",
      "\n",
      "Current input_text: Google's p\n",
      "Creating input ids.\n",
      "Encoding\n",
      "Decoding\n",
      "\n",
      "\n",
      "Current input_text: Data is gr\n",
      "Creating input ids.\n",
      "Encoding\n",
      "Decoding\n",
      "\n",
      "\n",
      "Current input_text: As cyber t\n",
      "Creating input ids.\n",
      "Encoding\n",
      "Decoding\n",
      "\n",
      "\n",
      "Current input_text: An analysi\n",
      "Creating input ids.\n",
      "Encoding\n",
      "Decoding\n",
      "\n",
      "\n",
      "Current input_text: Threat act\n",
      "Creating input ids.\n",
      "Encoding\n",
      "Decoding\n",
      "\n",
      "\n",
      "Current input_text: Microsoft \n",
      "Creating input ids.\n",
      "Encoding\n",
      "Decoding\n",
      "\n",
      "\n",
      "Current input_text: The securi\n",
      "Creating input ids.\n",
      "Encoding\n",
      "Decoding\n",
      "\n",
      "\n",
      "Current input_text: The threat\n",
      "Creating input ids.\n",
      "Encoding\n",
      "Decoding\n",
      "\n",
      "\n",
      "Current input_text: Recent sup\n",
      "Creating input ids.\n",
      "Encoding\n",
      "Decoding\n",
      "\n",
      "\n",
      "Current input_text: Threat act\n",
      "Creating input ids.\n",
      "Encoding\n",
      "Decoding\n",
      "\n",
      "\n",
      "Current input_text: The nascen\n",
      "Creating input ids.\n",
      "Encoding\n",
      "Decoding\n",
      "\n",
      "\n",
      "Current input_text: The Cyber \n",
      "Creating input ids.\n",
      "Encoding\n",
      "Decoding\n",
      "\n",
      "\n",
      "Current input_text: Google has\n",
      "Creating input ids.\n",
      "Encoding\n",
      "Decoding\n",
      "\n",
      "\n",
      "Current input_text: A previous\n",
      "Creating input ids.\n",
      "Encoding\n",
      "Decoding\n",
      "\n",
      "\n",
      "Current input_text: Cybersecur\n",
      "Creating input ids.\n",
      "Encoding\n",
      "Decoding\n",
      "\n",
      "\n",
      "Current input_text: Last week,\n",
      "Creating input ids.\n",
      "Encoding\n",
      "Decoding\n",
      "\n",
      "\n",
      "Current input_text: Threat act\n",
      "Creating input ids.\n",
      "Encoding\n",
      "Decoding\n",
      "\n",
      "\n",
      "Current input_text: Cybersecur\n",
      "Creating input ids.\n",
      "Encoding\n",
      "Decoding\n",
      "\n",
      "\n",
      "Current input_text: State-spon\n",
      "Creating input ids.\n",
      "Encoding\n",
      "Decoding\n",
      "\n",
      "\n",
      "Current input_text: Microsoft \n",
      "Creating input ids.\n",
      "Encoding\n",
      "Decoding\n",
      "\n",
      "\n",
      "Current input_text: Managed se\n",
      "Creating input ids.\n",
      "Encoding\n",
      "Decoding\n",
      "\n",
      "\n",
      "Current input_text: Cybersecur\n",
      "Creating input ids.\n",
      "Encoding\n",
      "Decoding\n",
      "\n",
      "\n",
      "Current input_text: One of the\n",
      "Creating input ids.\n",
      "Encoding\n",
      "Decoding\n",
      "\n",
      "\n",
      "Current input_text: Apple has \n",
      "Creating input ids.\n",
      "Encoding\n",
      "Decoding\n",
      "\n",
      "\n",
      "Current input_text: Cybersecur\n",
      "Creating input ids.\n",
      "Encoding\n",
      "Decoding\n",
      "\n",
      "\n",
      "Current input_text: As many as\n",
      "Creating input ids.\n",
      "Encoding\n",
      "Decoding\n",
      "\n",
      "\n",
      "Current input_text: Arm is war\n",
      "Creating input ids.\n",
      "Encoding\n",
      "Decoding\n",
      "\n",
      "\n",
      "Current input_text: Cybersecur\n",
      "Creating input ids.\n",
      "Encoding\n",
      "Decoding\n",
      "\n",
      "\n",
      "Current input_text: Staying Sh\n",
      "Creating input ids.\n",
      "Encoding\n",
      "Decoding\n",
      "\n",
      "\n",
      "Current input_text: Microsoft \n",
      "Creating input ids.\n",
      "Encoding\n",
      "Decoding\n",
      "\n",
      "\n",
      "Current input_text: Google has\n",
      "Creating input ids.\n",
      "Encoding\n",
      "Decoding\n",
      "\n",
      "\n",
      "Current input_text: Cybersecur\n",
      "Creating input ids.\n",
      "Encoding\n",
      "Decoding\n",
      "\n",
      "\n",
      "Current input_text: Details ha\n",
      "Creating input ids.\n",
      "Encoding\n",
      "Decoding\n",
      "\n",
      "\n",
      "Current input_text: Microsoft \n",
      "Creating input ids.\n",
      "Encoding\n",
      "Decoding\n",
      "\n",
      "\n",
      "Current input_text: 2023 was a\n",
      "Creating input ids.\n",
      "Encoding\n",
      "Decoding\n",
      "\n",
      "\n",
      "Current input_text: 2.5 millio\n",
      "Creating input ids.\n",
      "Encoding\n",
      "Decoding\n",
      "\n",
      "\n",
      "Current input_text: Researcher\n",
      "Creating input ids.\n",
      "Encoding\n",
      "Decoding\n",
      "\n",
      "\n",
      "Current input_text: Targeted a\n",
      "Creating input ids.\n",
      "Encoding\n",
      "Decoding\n",
      "\n",
      "\n",
      "Current input_text: Lockbit is\n",
      "Creating input ids.\n",
      "Encoding\n",
      "Decoding\n",
      "\n",
      "\n",
      "Current input_text: New resear\n",
      "Creating input ids.\n",
      "Encoding\n",
      "Decoding\n",
      "\n",
      "\n",
      "Current input_text: Twitter is\n",
      "Creating input ids.\n",
      "Encoding\n",
      "Decoding\n",
      "\n",
      "\n",
      "Current input_text: CISA is wa\n",
      "Creating input ids.\n",
      "Encoding\n",
      "Decoding\n",
      "\n",
      "\n",
      "Current input_text: Fake trave\n",
      "Creating input ids.\n",
      "Encoding\n",
      "Decoding\n",
      "\n",
      "\n",
      "Current input_text: Separate f\n",
      "Creating input ids.\n",
      "Encoding\n",
      "Decoding\n",
      "\n",
      "\n",
      "Current input_text: An insuffi\n",
      "Creating input ids.\n",
      "Encoding\n",
      "Decoding\n",
      "\n",
      "\n",
      "Current input_text: Crypto exc\n",
      "Creating input ids.\n",
      "Encoding\n",
      "Decoding\n",
      "\n",
      "\n",
      "Current input_text: The China-\n",
      "Creating input ids.\n",
      "Encoding\n",
      "Decoding\n",
      "\n",
      "\n",
      "Current input_text: Are your t\n",
      "Creating input ids.\n",
      "Encoding\n",
      "Decoding\n",
      "\n",
      "\n",
      "Current input_text: Chinese-sp\n",
      "Creating input ids.\n",
      "Encoding\n",
      "Decoding\n",
      "\n",
      "\n",
      "Current input_text: A threat a\n",
      "Creating input ids.\n",
      "Encoding\n",
      "Decoding\n",
      "\n",
      "\n",
      "Current input_text: Two securi\n",
      "Creating input ids.\n",
      "Encoding\n",
      "Decoding\n",
      "\n",
      "\n",
      "Current input_text: A controve\n",
      "Creating input ids.\n",
      "Encoding\n",
      "Decoding\n",
      "\n",
      "\n",
      "Current input_text: Threat act\n",
      "Creating input ids.\n",
      "Encoding\n",
      "Decoding\n",
      "\n",
      "\n",
      "Current input_text: Seventy pe\n",
      "Creating input ids.\n",
      "Encoding\n",
      "Decoding\n",
      "\n",
      "\n",
      "Current input_text: Cybersecur\n",
      "Creating input ids.\n",
      "Encoding\n",
      "Decoding\n",
      "\n",
      "\n",
      "Current input_text: VMware has\n",
      "Creating input ids.\n",
      "Encoding\n",
      "Decoding\n",
      "\n",
      "\n",
      "Current input_text: The Singap\n",
      "Creating input ids.\n",
      "Encoding\n",
      "Decoding\n",
      "\n",
      "\n",
      "Current input_text: ASUS has s\n",
      "Creating input ids.\n",
      "Encoding\n",
      "Decoding\n",
      "\n",
      "\n",
      "Current input_text: A suspecte\n",
      "Creating input ids.\n",
      "Encoding\n",
      "Decoding\n",
      "\n",
      "\n",
      "Current input_text: Traditiona\n",
      "Creating input ids.\n",
      "Encoding\n",
      "Decoding\n",
      "\n",
      "\n",
      "Current input_text: Legitimate\n",
      "Creating input ids.\n",
      "Encoding\n",
      "Decoding\n",
      "\n",
      "\n",
      "Current input_text: Threat act\n",
      "Creating input ids.\n",
      "Encoding\n",
      "Decoding\n",
      "\n",
      "\n",
      "Current input_text: Law enforc\n",
      "Creating input ids.\n",
      "Encoding\n",
      "Decoding\n",
      "\n",
      "\n",
      "Current input_text: Pakistan h\n",
      "Creating input ids.\n",
      "Encoding\n",
      "Decoding\n",
      "\n",
      "\n",
      "Current input_text: A suspecte\n",
      "Creating input ids.\n",
      "Encoding\n",
      "Decoding\n",
      "\n",
      "\n",
      "Current input_text: Meta on Fr\n",
      "Creating input ids.\n",
      "Encoding\n",
      "Decoding\n",
      "\n",
      "\n",
      "Current input_text: Google's p\n",
      "Creating input ids.\n",
      "Encoding\n",
      "Decoding\n",
      "\n",
      "\n",
      "Current input_text: Data is gr\n",
      "Creating input ids.\n",
      "Encoding\n",
      "Decoding\n",
      "\n",
      "\n",
      "Current input_text: As cyber t\n",
      "Creating input ids.\n",
      "Encoding\n",
      "Decoding\n",
      "\n",
      "\n",
      "Current input_text: An analysi\n",
      "Creating input ids.\n",
      "Encoding\n",
      "Decoding\n",
      "\n",
      "\n",
      "Current input_text: Threat act\n",
      "Creating input ids.\n",
      "Encoding\n",
      "Decoding\n",
      "\n",
      "\n",
      "Current input_text: Microsoft \n",
      "Creating input ids.\n",
      "Encoding\n",
      "Decoding\n",
      "\n",
      "\n",
      "Current input_text: The securi\n",
      "Creating input ids.\n",
      "Encoding\n",
      "Decoding\n",
      "\n",
      "\n",
      "Current input_text: The threat\n",
      "Creating input ids.\n",
      "Encoding\n",
      "Decoding\n",
      "\n",
      "\n",
      "Current input_text: Recent sup\n",
      "Creating input ids.\n",
      "Encoding\n",
      "Decoding\n",
      "\n",
      "\n",
      "Current input_text: Threat act\n",
      "Creating input ids.\n",
      "Encoding\n",
      "Decoding\n",
      "\n",
      "\n",
      "Current input_text: The nascen\n",
      "Creating input ids.\n",
      "Encoding\n",
      "Decoding\n",
      "\n",
      "\n",
      "Current input_text: The Cyber \n",
      "Creating input ids.\n",
      "Encoding\n",
      "Decoding\n",
      "\n",
      "\n",
      "Current input_text: Google has\n",
      "Creating input ids.\n",
      "Encoding\n",
      "Decoding\n",
      "\n",
      "\n",
      "Current input_text: A previous\n",
      "Creating input ids.\n",
      "Encoding\n",
      "Decoding\n",
      "\n",
      "\n",
      "Current input_text: Cybersecur\n",
      "Creating input ids.\n",
      "Encoding\n",
      "Decoding\n",
      "\n",
      "\n",
      "Current input_text: Last week,\n",
      "Creating input ids.\n",
      "Encoding\n",
      "Decoding\n",
      "\n",
      "\n",
      "Current input_text: Threat act\n",
      "Creating input ids.\n",
      "Encoding\n",
      "Decoding\n",
      "\n",
      "\n",
      "Current input_text: Cybersecur\n",
      "Creating input ids.\n",
      "Encoding\n",
      "Decoding\n",
      "\n",
      "\n",
      "Current input_text: State-spon\n",
      "Creating input ids.\n",
      "Encoding\n",
      "Decoding\n",
      "\n",
      "\n",
      "Current input_text: Microsoft \n",
      "Creating input ids.\n",
      "Encoding\n",
      "Decoding\n",
      "\n",
      "\n",
      "Current input_text: Managed se\n",
      "Creating input ids.\n",
      "Encoding\n",
      "Decoding\n",
      "\n",
      "\n",
      "Current input_text: Cybersecur\n",
      "Creating input ids.\n",
      "Encoding\n",
      "Decoding\n",
      "\n",
      "\n",
      "Current input_text: One of the\n",
      "Creating input ids.\n",
      "Encoding\n",
      "Decoding\n",
      "\n",
      "\n",
      "Current input_text: Apple has \n",
      "Creating input ids.\n",
      "Encoding\n",
      "Decoding\n",
      "\n",
      "\n",
      "Current input_text: Cybersecur\n",
      "Creating input ids.\n",
      "Encoding\n",
      "Decoding\n",
      "\n",
      "\n",
      "Current input_text: As many as\n",
      "Creating input ids.\n",
      "Encoding\n",
      "Decoding\n",
      "\n",
      "\n",
      "Current input_text: Arm is war\n",
      "Creating input ids.\n",
      "Encoding\n",
      "Decoding\n",
      "\n",
      "\n",
      "Current input_text: Cybersecur\n",
      "Creating input ids.\n",
      "Encoding\n",
      "Decoding\n",
      "\n",
      "\n",
      "Current input_text: Staying Sh\n",
      "Creating input ids.\n",
      "Encoding\n",
      "Decoding\n",
      "\n",
      "\n",
      "Current input_text: 2.5 millio\n",
      "Creating input ids.\n",
      "Encoding\n",
      "Decoding\n",
      "\n",
      "\n",
      "Current input_text: Researcher\n",
      "Creating input ids.\n",
      "Encoding\n",
      "Decoding\n",
      "\n",
      "\n",
      "Current input_text: Targeted a\n",
      "Creating input ids.\n",
      "Encoding\n",
      "Decoding\n",
      "\n",
      "\n",
      "Current input_text: Lockbit is\n",
      "Creating input ids.\n",
      "Encoding\n",
      "Decoding\n",
      "\n",
      "\n",
      "Current input_text: New resear\n",
      "Creating input ids.\n",
      "Encoding\n",
      "Decoding\n",
      "\n",
      "\n",
      "Current input_text: Twitter is\n",
      "Creating input ids.\n",
      "Encoding\n",
      "Decoding\n",
      "\n",
      "\n",
      "Current input_text: CISA is wa\n",
      "Creating input ids.\n",
      "Encoding\n",
      "Decoding\n",
      "\n",
      "\n",
      "Current input_text: Fake trave\n",
      "Creating input ids.\n",
      "Encoding\n",
      "Decoding\n",
      "\n",
      "\n",
      "Current input_text: Separate f\n",
      "Creating input ids.\n",
      "Encoding\n",
      "Decoding\n",
      "\n",
      "\n",
      "Current input_text: An insuffi\n",
      "Creating input ids.\n",
      "Encoding\n",
      "Decoding\n",
      "\n",
      "\n",
      "Current input_text: Cybersecur\n",
      "Creating input ids.\n",
      "Encoding\n",
      "Decoding\n",
      "\n",
      "\n",
      "Current input_text: State-spon\n",
      "Creating input ids.\n",
      "Encoding\n",
      "Decoding\n",
      "\n",
      "\n",
      "Current input_text: Highlights\n",
      "Creating input ids.\n",
      "Encoding\n",
      "Decoding\n",
      "\n",
      "\n",
      "Current input_text: Cyber espi\n",
      "Creating input ids.\n",
      "Encoding\n",
      "Decoding\n",
      "\n",
      "\n",
      "Current input_text: A new Rust\n",
      "Creating input ids.\n",
      "Encoding\n",
      "Decoding\n",
      "\n",
      "\n",
      "Current input_text: Cybersecur\n",
      "Creating input ids.\n",
      "Encoding\n",
      "Decoding\n",
      "\n",
      "\n",
      "Current input_text: Crypto exc\n",
      "Creating input ids.\n",
      "Encoding\n",
      "Decoding\n",
      "\n",
      "\n",
      "Current input_text: The China-\n",
      "Creating input ids.\n",
      "Encoding\n",
      "Decoding\n",
      "\n",
      "\n",
      "Current input_text: Are your t\n",
      "Creating input ids.\n",
      "Encoding\n",
      "Decoding\n",
      "\n",
      "\n",
      "Current input_text: Chinese-sp\n",
      "Creating input ids.\n",
      "Encoding\n",
      "Decoding\n",
      "\n",
      "\n",
      "Current input_text: A threat a\n",
      "Creating input ids.\n",
      "Encoding\n",
      "Decoding\n",
      "\n",
      "\n",
      "Current input_text: Two securi\n",
      "Creating input ids.\n",
      "Encoding\n",
      "Decoding\n",
      "\n",
      "\n",
      "Current input_text: A controve\n",
      "Creating input ids.\n",
      "Encoding\n",
      "Decoding\n",
      "\n",
      "\n",
      "Current input_text: Threat act\n",
      "Creating input ids.\n",
      "Encoding\n",
      "Decoding\n",
      "\n",
      "\n",
      "Current input_text: Seventy pe\n",
      "Creating input ids.\n",
      "Encoding\n",
      "Decoding\n",
      "\n",
      "\n",
      "Current input_text: Cybersecur\n",
      "Creating input ids.\n",
      "Encoding\n",
      "Decoding\n",
      "\n",
      "\n",
      "Current input_text: VMware has\n",
      "Creating input ids.\n",
      "Encoding\n",
      "Decoding\n",
      "\n",
      "\n",
      "Current input_text: The Singap\n",
      "Creating input ids.\n",
      "Encoding\n",
      "Decoding\n",
      "\n",
      "\n",
      "Current input_text: ASUS has s\n",
      "Creating input ids.\n",
      "Encoding\n",
      "Decoding\n",
      "\n",
      "\n",
      "Current input_text: A suspecte\n",
      "Creating input ids.\n",
      "Encoding\n",
      "Decoding\n",
      "\n",
      "\n",
      "Current input_text: Traditiona\n",
      "Creating input ids.\n",
      "Encoding\n",
      "Decoding\n",
      "\n",
      "\n",
      "Current input_text: Legitimate\n",
      "Creating input ids.\n",
      "Encoding\n",
      "Decoding\n",
      "\n",
      "\n",
      "Current input_text: Threat act\n",
      "Creating input ids.\n",
      "Encoding\n",
      "Decoding\n",
      "\n",
      "\n",
      "Current input_text: Law enforc\n",
      "Creating input ids.\n",
      "Encoding\n",
      "Decoding\n",
      "\n",
      "\n",
      "Current input_text: Pakistan h\n",
      "Creating input ids.\n",
      "Encoding\n",
      "Decoding\n",
      "\n",
      "\n",
      "Current input_text: A suspecte\n",
      "Creating input ids.\n",
      "Encoding\n",
      "Decoding\n",
      "\n",
      "\n",
      "Current input_text: Meta on Fr\n",
      "Creating input ids.\n",
      "Encoding\n",
      "Decoding\n",
      "\n",
      "\n",
      "Current input_text: Google's p\n",
      "Creating input ids.\n",
      "Encoding\n",
      "Decoding\n",
      "\n",
      "\n",
      "Current input_text: Data is gr\n",
      "Creating input ids.\n",
      "Encoding\n",
      "Decoding\n",
      "\n",
      "\n",
      "Current input_text: As cyber t\n",
      "Creating input ids.\n",
      "Encoding\n",
      "Decoding\n",
      "\n",
      "\n",
      "Current input_text: An analysi\n",
      "Creating input ids.\n",
      "Encoding\n",
      "Decoding\n",
      "\n",
      "\n",
      "Current input_text: Threat act\n",
      "Creating input ids.\n",
      "Encoding\n",
      "Decoding\n",
      "\n",
      "\n",
      "Current input_text: Microsoft \n",
      "Creating input ids.\n",
      "Encoding\n",
      "Decoding\n",
      "\n",
      "\n",
      "Current input_text: The securi\n",
      "Creating input ids.\n",
      "Encoding\n",
      "Decoding\n",
      "\n",
      "\n",
      "Current input_text: The threat\n",
      "Creating input ids.\n",
      "Encoding\n",
      "Decoding\n",
      "\n",
      "\n",
      "Current input_text: Recent sup\n",
      "Creating input ids.\n",
      "Encoding\n",
      "Decoding\n",
      "\n",
      "\n",
      "Current input_text: Threat act\n",
      "Creating input ids.\n",
      "Encoding\n",
      "Decoding\n",
      "\n",
      "\n",
      "Current input_text: The nascen\n",
      "Creating input ids.\n",
      "Encoding\n",
      "Decoding\n",
      "\n",
      "\n",
      "Current input_text: The Cyber \n",
      "Creating input ids.\n",
      "Encoding\n",
      "Decoding\n",
      "\n",
      "\n",
      "Current input_text: Google has\n",
      "Creating input ids.\n",
      "Encoding\n",
      "Decoding\n",
      "\n",
      "\n",
      "Current input_text: A previous\n",
      "Creating input ids.\n",
      "Encoding\n",
      "Decoding\n",
      "\n",
      "\n",
      "Current input_text: Cybersecur\n",
      "Creating input ids.\n",
      "Encoding\n",
      "Decoding\n",
      "\n",
      "\n",
      "Current input_text: Last week,\n",
      "Creating input ids.\n",
      "Encoding\n",
      "Decoding\n",
      "\n",
      "\n",
      "Current input_text: Threat act\n",
      "Creating input ids.\n",
      "Encoding\n",
      "Decoding\n",
      "\n",
      "\n",
      "Current input_text: Cybersecur\n",
      "Creating input ids.\n",
      "Encoding\n",
      "Decoding\n",
      "\n",
      "\n",
      "Current input_text: State-spon\n",
      "Creating input ids.\n",
      "Encoding\n",
      "Decoding\n",
      "\n",
      "\n",
      "Current input_text: Microsoft \n",
      "Creating input ids.\n",
      "Encoding\n",
      "Decoding\n",
      "\n",
      "\n",
      "Current input_text: Managed se\n",
      "Creating input ids.\n",
      "Encoding\n",
      "Decoding\n",
      "\n",
      "\n",
      "Current input_text: Cybersecur\n",
      "Creating input ids.\n",
      "Encoding\n",
      "Decoding\n",
      "\n",
      "\n",
      "Current input_text: One of the\n",
      "Creating input ids.\n",
      "Encoding\n",
      "Decoding\n",
      "\n",
      "\n",
      "Current input_text: 2.5 millio\n",
      "Creating input ids.\n",
      "Encoding\n",
      "Decoding\n",
      "\n",
      "\n",
      "Current input_text: Researcher\n",
      "Creating input ids.\n",
      "Encoding\n",
      "Decoding\n",
      "\n",
      "\n",
      "Current input_text: Targeted a\n",
      "Creating input ids.\n",
      "Encoding\n",
      "Decoding\n",
      "\n",
      "\n",
      "Current input_text: Lockbit is\n",
      "Creating input ids.\n",
      "Encoding\n",
      "Decoding\n",
      "\n",
      "\n",
      "Current input_text: New resear\n",
      "Creating input ids.\n",
      "Encoding\n",
      "Decoding\n",
      "\n",
      "\n",
      "Current input_text: Twitter is\n",
      "Creating input ids.\n",
      "Encoding\n",
      "Decoding\n",
      "\n",
      "\n",
      "Current input_text: CISA is wa\n",
      "Creating input ids.\n",
      "Encoding\n",
      "Decoding\n",
      "\n",
      "\n",
      "Current input_text: Fake trave\n",
      "Creating input ids.\n",
      "Encoding\n",
      "Decoding\n",
      "\n",
      "\n",
      "Current input_text: Separate f\n",
      "Creating input ids.\n",
      "Encoding\n",
      "Decoding\n",
      "\n",
      "\n",
      "Current input_text: An insuffi\n",
      "Creating input ids.\n",
      "Encoding\n",
      "Decoding\n",
      "\n",
      "\n",
      "Current input_text: A previous\n",
      "Creating input ids.\n",
      "Encoding\n",
      "Decoding\n",
      "\n",
      "\n",
      "Current input_text: Cybersecur\n",
      "Creating input ids.\n",
      "Encoding\n",
      "Decoding\n",
      "\n",
      "\n",
      "Current input_text: Created by\n",
      "Creating input ids.\n",
      "Encoding\n",
      "Decoding\n",
      "\n",
      "\n",
      "Current input_text: A malverti\n",
      "Creating input ids.\n",
      "Encoding\n",
      "Decoding\n",
      "\n",
      "\n",
      "Current input_text: A recently\n",
      "Creating input ids.\n",
      "Encoding\n",
      "Decoding\n",
      "\n",
      "\n",
      "Current input_text: The U.S. D\n",
      "Creating input ids.\n",
      "Encoding\n",
      "Decoding\n",
      "\n",
      "\n",
      "Current input_text: Cybersecur\n",
      "Creating input ids.\n",
      "Encoding\n",
      "Decoding\n",
      "\n",
      "\n",
      "Current input_text: State-spon\n",
      "Creating input ids.\n",
      "Encoding\n",
      "Decoding\n",
      "\n",
      "\n",
      "Current input_text: Highlights\n",
      "Creating input ids.\n",
      "Encoding\n",
      "Decoding\n",
      "\n",
      "\n",
      "Current input_text: Cyber espi\n",
      "Creating input ids.\n",
      "Encoding\n",
      "Decoding\n",
      "\n",
      "\n",
      "Current input_text: A new Rust\n",
      "Creating input ids.\n",
      "Encoding\n",
      "Decoding\n",
      "\n",
      "\n",
      "Current input_text: Cybersecur\n",
      "Creating input ids.\n",
      "Encoding\n",
      "Decoding\n",
      "\n",
      "\n",
      "Current input_text: Crypto exc\n",
      "Creating input ids.\n",
      "Encoding\n",
      "Decoding\n",
      "\n",
      "\n",
      "Current input_text: The China-\n",
      "Creating input ids.\n",
      "Encoding\n",
      "Decoding\n",
      "\n",
      "\n",
      "Current input_text: Are your t\n",
      "Creating input ids.\n",
      "Encoding\n",
      "Decoding\n",
      "\n",
      "\n",
      "Current input_text: Chinese-sp\n",
      "Creating input ids.\n",
      "Encoding\n",
      "Decoding\n",
      "\n",
      "\n",
      "Current input_text: A threat a\n",
      "Creating input ids.\n",
      "Encoding\n",
      "Decoding\n",
      "\n",
      "\n",
      "Current input_text: Two securi\n",
      "Creating input ids.\n",
      "Encoding\n",
      "Decoding\n",
      "\n",
      "\n",
      "Current input_text: A controve\n",
      "Creating input ids.\n",
      "Encoding\n",
      "Decoding\n",
      "\n",
      "\n",
      "Current input_text: Threat act\n",
      "Creating input ids.\n",
      "Encoding\n",
      "Decoding\n",
      "\n",
      "\n",
      "Current input_text: Seventy pe\n",
      "Creating input ids.\n",
      "Encoding\n",
      "Decoding\n",
      "\n",
      "\n",
      "Current input_text: Cybersecur\n",
      "Creating input ids.\n",
      "Encoding\n",
      "Decoding\n",
      "\n",
      "\n",
      "Current input_text: VMware has\n",
      "Creating input ids.\n",
      "Encoding\n",
      "Decoding\n",
      "\n",
      "\n",
      "Current input_text: The Singap\n",
      "Creating input ids.\n",
      "Encoding\n",
      "Decoding\n",
      "\n",
      "\n",
      "Current input_text: ASUS has s\n",
      "Creating input ids.\n",
      "Encoding\n",
      "Decoding\n",
      "\n",
      "\n",
      "Current input_text: A suspecte\n",
      "Creating input ids.\n",
      "Encoding\n",
      "Decoding\n",
      "\n",
      "\n",
      "Current input_text: Traditiona\n",
      "Creating input ids.\n",
      "Encoding\n",
      "Decoding\n",
      "\n",
      "\n",
      "Current input_text: Legitimate\n",
      "Creating input ids.\n",
      "Encoding\n",
      "Decoding\n",
      "\n",
      "\n",
      "Current input_text: Threat act\n",
      "Creating input ids.\n",
      "Encoding\n",
      "Decoding\n",
      "\n",
      "\n",
      "Current input_text: Law enforc\n",
      "Creating input ids.\n",
      "Encoding\n",
      "Decoding\n",
      "\n",
      "\n",
      "Current input_text: Pakistan h\n",
      "Creating input ids.\n",
      "Encoding\n",
      "Decoding\n",
      "\n",
      "\n",
      "Current input_text: A suspecte\n",
      "Creating input ids.\n",
      "Encoding\n",
      "Decoding\n",
      "\n",
      "\n",
      "Current input_text: Meta on Fr\n",
      "Creating input ids.\n",
      "Encoding\n",
      "Decoding\n",
      "\n",
      "\n",
      "Current input_text: Google's p\n",
      "Creating input ids.\n",
      "Encoding\n",
      "Decoding\n",
      "\n",
      "\n",
      "Current input_text: Data is gr\n",
      "Creating input ids.\n",
      "Encoding\n",
      "Decoding\n",
      "\n",
      "\n",
      "Current input_text: As cyber t\n",
      "Creating input ids.\n",
      "Encoding\n",
      "Decoding\n",
      "\n",
      "\n",
      "Current input_text: An analysi\n",
      "Creating input ids.\n",
      "Encoding\n",
      "Decoding\n",
      "\n",
      "\n",
      "Current input_text: Threat act\n",
      "Creating input ids.\n",
      "Encoding\n",
      "Decoding\n",
      "\n",
      "\n",
      "Current input_text: Microsoft \n",
      "Creating input ids.\n",
      "Encoding\n",
      "Decoding\n",
      "\n",
      "\n",
      "Current input_text: The securi\n",
      "Creating input ids.\n",
      "Encoding\n",
      "Decoding\n",
      "\n",
      "\n",
      "Current input_text: The threat\n",
      "Creating input ids.\n",
      "Encoding\n",
      "Decoding\n",
      "\n",
      "\n",
      "Current input_text: Recent sup\n",
      "Creating input ids.\n",
      "Encoding\n",
      "Decoding\n",
      "\n",
      "\n",
      "Current input_text: Threat act\n",
      "Creating input ids.\n",
      "Encoding\n",
      "Decoding\n",
      "\n",
      "\n",
      "Current input_text: The nascen\n",
      "Creating input ids.\n",
      "Encoding\n",
      "Decoding\n",
      "\n",
      "\n",
      "Current input_text: The Cyber \n",
      "Creating input ids.\n",
      "Encoding\n",
      "Decoding\n",
      "\n",
      "\n",
      "Current input_text: Google has\n",
      "Creating input ids.\n",
      "Encoding\n",
      "Decoding\n",
      "\n",
      "\n",
      "Current input_text: A previous\n",
      "Creating input ids.\n",
      "Encoding\n",
      "Decoding\n",
      "\n",
      "\n",
      "Current input_text: Cybersecur\n",
      "Creating input ids.\n",
      "Encoding\n",
      "Decoding\n",
      "\n",
      "\n",
      "Current input_text: Last week,\n",
      "Creating input ids.\n",
      "Encoding\n",
      "Decoding\n",
      "\n",
      "\n",
      "Current input_text: Threat act\n",
      "Creating input ids.\n",
      "Encoding\n",
      "Decoding\n",
      "\n",
      "\n",
      "Current input_text: 2.5 millio\n",
      "Creating input ids.\n",
      "Encoding\n",
      "Decoding\n",
      "\n",
      "\n",
      "Current input_text: Researcher\n",
      "Creating input ids.\n",
      "Encoding\n",
      "Decoding\n",
      "\n",
      "\n",
      "Current input_text: Targeted a\n",
      "Creating input ids.\n",
      "Encoding\n",
      "Decoding\n",
      "\n",
      "\n",
      "Current input_text: Lockbit is\n",
      "Creating input ids.\n",
      "Encoding\n",
      "Decoding\n",
      "\n",
      "\n",
      "Current input_text: New resear\n",
      "Creating input ids.\n",
      "Encoding\n",
      "Decoding\n",
      "\n",
      "\n",
      "Current input_text: Twitter is\n",
      "Creating input ids.\n",
      "Encoding\n",
      "Decoding\n",
      "\n",
      "\n",
      "Current input_text: CISA is wa\n",
      "Creating input ids.\n",
      "Encoding\n",
      "Decoding\n",
      "\n",
      "\n",
      "Current input_text: Fake trave\n",
      "Creating input ids.\n",
      "Encoding\n",
      "Decoding\n",
      "\n",
      "\n",
      "Current input_text: Separate f\n",
      "Creating input ids.\n",
      "Encoding\n",
      "Decoding\n",
      "\n",
      "\n",
      "Current input_text: An insuffi\n",
      "Creating input ids.\n",
      "Encoding\n",
      "Decoding\n",
      "\n",
      "\n",
      "Current input_text: Russian or\n",
      "Creating input ids.\n",
      "Encoding\n",
      "Decoding\n",
      "\n",
      "\n",
      "Current input_text: A new camp\n",
      "Creating input ids.\n",
      "Encoding\n",
      "Decoding\n",
      "\n",
      "\n",
      "Current input_text: The U.S. D\n",
      "Creating input ids.\n",
      "Encoding\n",
      "Decoding\n",
      "\n",
      "\n",
      "Current input_text: A previous\n",
      "Creating input ids.\n",
      "Encoding\n",
      "Decoding\n",
      "\n",
      "\n",
      "Current input_text: Cybersecur\n",
      "Creating input ids.\n",
      "Encoding\n",
      "Decoding\n",
      "\n",
      "\n",
      "Current input_text: Created by\n",
      "Creating input ids.\n",
      "Encoding\n",
      "Decoding\n",
      "\n",
      "\n",
      "Current input_text: A malverti\n",
      "Creating input ids.\n",
      "Encoding\n",
      "Decoding\n",
      "\n",
      "\n",
      "Current input_text: A recently\n",
      "Creating input ids.\n",
      "Encoding\n",
      "Decoding\n",
      "\n",
      "\n",
      "Current input_text: The U.S. D\n",
      "Creating input ids.\n",
      "Encoding\n",
      "Decoding\n",
      "\n",
      "\n",
      "Current input_text: Cybersecur\n",
      "Creating input ids.\n",
      "Encoding\n",
      "Decoding\n",
      "\n",
      "\n",
      "Current input_text: State-spon\n",
      "Creating input ids.\n",
      "Encoding\n",
      "Decoding\n",
      "\n",
      "\n",
      "Current input_text: Highlights\n",
      "Creating input ids.\n",
      "Encoding\n",
      "Decoding\n",
      "\n",
      "\n",
      "Current input_text: Cyber espi\n",
      "Creating input ids.\n",
      "Encoding\n",
      "Decoding\n",
      "\n",
      "\n",
      "Current input_text: A new Rust\n",
      "Creating input ids.\n",
      "Encoding\n",
      "Decoding\n",
      "\n",
      "\n",
      "Current input_text: Cybersecur\n",
      "Creating input ids.\n",
      "Encoding\n",
      "Decoding\n",
      "\n",
      "\n",
      "Current input_text: Crypto exc\n",
      "Creating input ids.\n",
      "Encoding\n",
      "Decoding\n",
      "\n",
      "\n",
      "Current input_text: The China-\n",
      "Creating input ids.\n",
      "Encoding\n",
      "Decoding\n",
      "\n",
      "\n",
      "Current input_text: Are your t\n",
      "Creating input ids.\n",
      "Encoding\n",
      "Decoding\n",
      "\n",
      "\n",
      "Current input_text: Chinese-sp\n",
      "Creating input ids.\n",
      "Encoding\n",
      "Decoding\n",
      "\n",
      "\n",
      "Current input_text: A threat a\n",
      "Creating input ids.\n",
      "Encoding\n",
      "Decoding\n",
      "\n",
      "\n",
      "Current input_text: Two securi\n",
      "Creating input ids.\n",
      "Encoding\n",
      "Decoding\n",
      "\n",
      "\n",
      "Current input_text: A controve\n",
      "Creating input ids.\n",
      "Encoding\n",
      "Decoding\n",
      "\n",
      "\n",
      "Current input_text: Threat act\n",
      "Creating input ids.\n",
      "Encoding\n",
      "Decoding\n",
      "\n",
      "\n",
      "Current input_text: Seventy pe\n",
      "Creating input ids.\n",
      "Encoding\n",
      "Decoding\n",
      "\n",
      "\n",
      "Current input_text: Cybersecur\n",
      "Creating input ids.\n",
      "Encoding\n",
      "Decoding\n",
      "\n",
      "\n",
      "Current input_text: VMware has\n",
      "Creating input ids.\n",
      "Encoding\n",
      "Decoding\n",
      "\n",
      "\n",
      "Current input_text: The Singap\n",
      "Creating input ids.\n",
      "Encoding\n",
      "Decoding\n",
      "\n",
      "\n",
      "Current input_text: ASUS has s\n",
      "Creating input ids.\n",
      "Encoding\n",
      "Decoding\n",
      "\n",
      "\n",
      "Current input_text: A suspecte\n",
      "Creating input ids.\n",
      "Encoding\n",
      "Decoding\n",
      "\n",
      "\n",
      "Current input_text: Traditiona\n",
      "Creating input ids.\n",
      "Encoding\n",
      "Decoding\n",
      "\n",
      "\n",
      "Current input_text: Legitimate\n",
      "Creating input ids.\n",
      "Encoding\n",
      "Decoding\n",
      "\n",
      "\n",
      "Current input_text: Threat act\n",
      "Creating input ids.\n",
      "Encoding\n",
      "Decoding\n",
      "\n",
      "\n",
      "Current input_text: Law enforc\n",
      "Creating input ids.\n",
      "Encoding\n",
      "Decoding\n",
      "\n",
      "\n",
      "Current input_text: Pakistan h\n",
      "Creating input ids.\n",
      "Encoding\n",
      "Decoding\n",
      "\n",
      "\n",
      "Current input_text: A suspecte\n",
      "Creating input ids.\n",
      "Encoding\n",
      "Decoding\n",
      "\n",
      "\n",
      "Current input_text: Meta on Fr\n",
      "Creating input ids.\n",
      "Encoding\n",
      "Decoding\n",
      "\n",
      "\n",
      "Current input_text: Google's p\n",
      "Creating input ids.\n",
      "Encoding\n",
      "Decoding\n",
      "\n",
      "\n",
      "Current input_text: Data is gr\n",
      "Creating input ids.\n",
      "Encoding\n",
      "Decoding\n",
      "\n",
      "\n",
      "Current input_text: As cyber t\n",
      "Creating input ids.\n",
      "Encoding\n",
      "Decoding\n",
      "\n",
      "\n",
      "Current input_text: An analysi\n",
      "Creating input ids.\n",
      "Encoding\n",
      "Decoding\n",
      "\n",
      "\n",
      "Current input_text: Threat act\n",
      "Creating input ids.\n",
      "Encoding\n",
      "Decoding\n",
      "\n",
      "\n",
      "Current input_text: Microsoft \n",
      "Creating input ids.\n",
      "Encoding\n",
      "Decoding\n",
      "\n",
      "\n",
      "Current input_text: The securi\n",
      "Creating input ids.\n",
      "Encoding\n",
      "Decoding\n",
      "\n",
      "\n",
      "Current input_text: The threat\n",
      "Creating input ids.\n",
      "Encoding\n",
      "Decoding\n",
      "\n",
      "\n",
      "Current input_text: Recent sup\n",
      "Creating input ids.\n",
      "Encoding\n",
      "Decoding\n",
      "\n",
      "\n",
      "Current input_text: Threat act\n",
      "Creating input ids.\n",
      "Encoding\n",
      "Decoding\n",
      "\n",
      "\n",
      "Current input_text: The nascen\n",
      "Creating input ids.\n",
      "Encoding\n",
      "Decoding\n",
      "\n",
      "\n",
      "Current input_text: The Cyber \n",
      "Creating input ids.\n",
      "Encoding\n",
      "Decoding\n",
      "\n",
      "\n",
      "Current input_text: Google has\n",
      "Creating input ids.\n",
      "Encoding\n",
      "Decoding\n",
      "\n",
      "\n",
      "Current input_text: A previous\n",
      "Creating input ids.\n",
      "Encoding\n",
      "Decoding\n",
      "\n",
      "\n",
      "Current input_text: 2.5 millio\n",
      "Creating input ids.\n",
      "Encoding\n",
      "Decoding\n",
      "\n",
      "\n",
      "Current input_text: Researcher\n",
      "Creating input ids.\n",
      "Encoding\n",
      "Decoding\n",
      "\n",
      "\n",
      "Current input_text: Targeted a\n",
      "Creating input ids.\n",
      "Encoding\n",
      "Decoding\n",
      "\n",
      "\n",
      "Current input_text: Lockbit is\n",
      "Creating input ids.\n",
      "Encoding\n",
      "Decoding\n",
      "\n",
      "\n",
      "Current input_text: New resear\n",
      "Creating input ids.\n",
      "Encoding\n",
      "Decoding\n",
      "\n",
      "\n",
      "Current input_text: Twitter is\n",
      "Creating input ids.\n",
      "Encoding\n",
      "Decoding\n",
      "\n",
      "\n",
      "Current input_text: CISA is wa\n",
      "Creating input ids.\n",
      "Encoding\n",
      "Decoding\n",
      "\n",
      "\n",
      "Current input_text: Fake trave\n",
      "Creating input ids.\n",
      "Encoding\n",
      "Decoding\n",
      "\n",
      "\n",
      "Current input_text: Separate f\n",
      "Creating input ids.\n",
      "Encoding\n",
      "Decoding\n",
      "\n",
      "\n",
      "Current input_text: An insuffi\n",
      "Creating input ids.\n",
      "Encoding\n",
      "Decoding\n",
      "\n",
      "\n",
      "Current input_text: Russian or\n",
      "Creating input ids.\n",
      "Encoding\n",
      "Decoding\n",
      "\n",
      "\n",
      "Current input_text: A new camp\n",
      "Creating input ids.\n",
      "Encoding\n",
      "Decoding\n",
      "\n",
      "\n",
      "Current input_text: The U.S. D\n",
      "Creating input ids.\n",
      "Encoding\n",
      "Decoding\n",
      "\n",
      "\n",
      "Current input_text: A previous\n",
      "Creating input ids.\n",
      "Encoding\n",
      "Decoding\n",
      "\n",
      "\n",
      "Current input_text: Cybersecur\n",
      "Creating input ids.\n",
      "Encoding\n",
      "Decoding\n",
      "\n",
      "\n",
      "Current input_text: Created by\n",
      "Creating input ids.\n",
      "Encoding\n",
      "Decoding\n",
      "\n",
      "\n",
      "Current input_text: A malverti\n",
      "Creating input ids.\n",
      "Encoding\n",
      "Decoding\n",
      "\n",
      "\n",
      "Current input_text: A recently\n",
      "Creating input ids.\n",
      "Encoding\n",
      "Decoding\n",
      "\n",
      "\n",
      "Current input_text: The U.S. D\n",
      "Creating input ids.\n",
      "Encoding\n",
      "Decoding\n",
      "\n",
      "\n",
      "Current input_text: Cybersecur\n",
      "Creating input ids.\n",
      "Encoding\n",
      "Decoding\n",
      "\n",
      "\n",
      "Current input_text: State-spon\n",
      "Creating input ids.\n",
      "Encoding\n",
      "Decoding\n",
      "\n",
      "\n",
      "Current input_text: Highlights\n",
      "Creating input ids.\n",
      "Encoding\n",
      "Decoding\n",
      "\n",
      "\n",
      "Current input_text: Cyber espi\n",
      "Creating input ids.\n",
      "Encoding\n",
      "Decoding\n",
      "\n",
      "\n",
      "Current input_text: A new Rust\n",
      "Creating input ids.\n",
      "Encoding\n",
      "Decoding\n",
      "\n",
      "\n",
      "Current input_text: Cybersecur\n",
      "Creating input ids.\n",
      "Encoding\n",
      "Decoding\n",
      "\n",
      "\n",
      "Current input_text: Crypto exc\n",
      "Creating input ids.\n",
      "Encoding\n",
      "Decoding\n",
      "\n",
      "\n",
      "Current input_text: The China-\n",
      "Creating input ids.\n",
      "Encoding\n",
      "Decoding\n",
      "\n",
      "\n",
      "Current input_text: Are your t\n",
      "Creating input ids.\n",
      "Encoding\n",
      "Decoding\n",
      "\n",
      "\n",
      "Current input_text: Chinese-sp\n",
      "Creating input ids.\n",
      "Encoding\n",
      "Decoding\n",
      "\n",
      "\n",
      "Current input_text: A threat a\n",
      "Creating input ids.\n",
      "Encoding\n",
      "Decoding\n",
      "\n",
      "\n",
      "Current input_text: Two securi\n",
      "Creating input ids.\n",
      "Encoding\n",
      "Decoding\n",
      "\n",
      "\n",
      "Current input_text: A controve\n",
      "Creating input ids.\n",
      "Encoding\n",
      "Decoding\n",
      "\n",
      "\n",
      "Current input_text: Threat act\n",
      "Creating input ids.\n",
      "Encoding\n",
      "Decoding\n",
      "\n",
      "\n",
      "Current input_text: Seventy pe\n",
      "Creating input ids.\n",
      "Encoding\n",
      "Decoding\n",
      "\n",
      "\n",
      "Current input_text: Cybersecur\n",
      "Creating input ids.\n",
      "Encoding\n",
      "Decoding\n",
      "\n",
      "\n",
      "Current input_text: VMware has\n",
      "Creating input ids.\n",
      "Encoding\n",
      "Decoding\n",
      "\n",
      "\n",
      "Current input_text: The Singap\n",
      "Creating input ids.\n",
      "Encoding\n",
      "Decoding\n",
      "\n",
      "\n",
      "Current input_text: ASUS has s\n",
      "Creating input ids.\n",
      "Encoding\n",
      "Decoding\n",
      "\n",
      "\n",
      "Current input_text: A suspecte\n",
      "Creating input ids.\n",
      "Encoding\n",
      "Decoding\n",
      "\n",
      "\n",
      "Current input_text: Traditiona\n",
      "Creating input ids.\n",
      "Encoding\n",
      "Decoding\n",
      "\n",
      "\n",
      "Current input_text: Legitimate\n",
      "Creating input ids.\n",
      "Encoding\n",
      "Decoding\n",
      "\n",
      "\n",
      "Current input_text: Threat act\n",
      "Creating input ids.\n",
      "Encoding\n",
      "Decoding\n",
      "\n",
      "\n",
      "Current input_text: Law enforc\n",
      "Creating input ids.\n",
      "Encoding\n",
      "Decoding\n",
      "\n",
      "\n",
      "Current input_text: Pakistan h\n",
      "Creating input ids.\n",
      "Encoding\n",
      "Decoding\n",
      "\n",
      "\n",
      "Current input_text: A suspecte\n",
      "Creating input ids.\n",
      "Encoding\n",
      "Decoding\n",
      "\n",
      "\n",
      "Current input_text: Meta on Fr\n",
      "Creating input ids.\n",
      "Encoding\n",
      "Decoding\n",
      "\n",
      "\n",
      "Current input_text: Google's p\n",
      "Creating input ids.\n",
      "Encoding\n",
      "Decoding\n",
      "\n",
      "\n",
      "Current input_text: Data is gr\n",
      "Creating input ids.\n",
      "Encoding\n",
      "Decoding\n",
      "\n",
      "\n",
      "Current input_text: As cyber t\n",
      "Creating input ids.\n",
      "Encoding\n",
      "Decoding\n",
      "\n",
      "\n",
      "Current input_text: An analysi\n",
      "Creating input ids.\n",
      "Encoding\n",
      "Decoding\n",
      "\n",
      "\n",
      "Current input_text: Threat act\n",
      "Creating input ids.\n",
      "Encoding\n",
      "Decoding\n",
      "\n",
      "\n",
      "Current input_text: Microsoft \n",
      "Creating input ids.\n",
      "Encoding\n",
      "Decoding\n",
      "\n",
      "\n",
      "Current input_text: The securi\n",
      "Creating input ids.\n",
      "Encoding\n",
      "Decoding\n",
      "\n",
      "\n",
      "Current input_text: The threat\n",
      "Creating input ids.\n",
      "Encoding\n",
      "Decoding\n",
      "\n",
      "\n",
      "Current input_text: Recent sup\n",
      "Creating input ids.\n",
      "Encoding\n",
      "Decoding\n",
      "\n",
      "\n",
      "Current input_text: Threat act\n",
      "Creating input ids.\n",
      "Encoding\n",
      "Decoding\n",
      "\n",
      "\n",
      "Current input_text: The nascen\n",
      "Creating input ids.\n",
      "Encoding\n",
      "Decoding\n",
      "\n",
      "\n",
      "Current input_text: The Cyber \n",
      "Creating input ids.\n",
      "Encoding\n",
      "Decoding\n",
      "\n",
      "\n",
      "Current input_text: Google has\n",
      "Creating input ids.\n",
      "Encoding\n",
      "Decoding\n",
      "\n",
      "\n",
      "Current input_text: A previous\n",
      "Creating input ids.\n",
      "Encoding\n",
      "Decoding\n",
      "\n",
      "\n",
      "Current input_text: 2.5 millio\n",
      "Creating input ids.\n",
      "Encoding\n",
      "Decoding\n",
      "\n",
      "\n",
      "Current input_text: Researcher\n",
      "Creating input ids.\n",
      "Encoding\n",
      "Decoding\n",
      "\n",
      "\n",
      "Current input_text: Targeted a\n",
      "Creating input ids.\n",
      "Encoding\n",
      "Decoding\n",
      "\n",
      "\n",
      "Current input_text: Lockbit is\n",
      "Creating input ids.\n",
      "Encoding\n",
      "Decoding\n",
      "\n",
      "\n",
      "Current input_text: New resear\n",
      "Creating input ids.\n",
      "Encoding\n",
      "Decoding\n",
      "\n",
      "\n",
      "Current input_text: Twitter is\n",
      "Creating input ids.\n",
      "Encoding\n",
      "Decoding\n",
      "\n",
      "\n",
      "Current input_text: CISA is wa\n",
      "Creating input ids.\n",
      "Encoding\n",
      "Decoding\n",
      "\n",
      "\n",
      "Current input_text: Fake trave\n",
      "Creating input ids.\n",
      "Encoding\n",
      "Decoding\n",
      "\n",
      "\n",
      "Current input_text: Separate f\n",
      "Creating input ids.\n",
      "Encoding\n",
      "Decoding\n",
      "\n",
      "\n",
      "Current input_text: An insuffi\n",
      "Creating input ids.\n",
      "Encoding\n",
      "Decoding\n",
      "\n",
      "\n",
      "Current input_text: Four Vietn\n",
      "Creating input ids.\n",
      "Encoding\n",
      "Decoding\n",
      "\n",
      "\n",
      "Current input_text: Multiple W\n",
      "Creating input ids.\n",
      "Encoding\n",
      "Decoding\n",
      "\n",
      "\n",
      "Current input_text: Google has\n",
      "Creating input ids.\n",
      "Encoding\n",
      "Decoding\n",
      "\n",
      "\n",
      "Current input_text: Cybersecur\n",
      "Creating input ids.\n",
      "Encoding\n",
      "Decoding\n",
      "\n",
      "\n",
      "Current input_text: Learn abou\n",
      "Creating input ids.\n",
      "Encoding\n",
      "Decoding\n",
      "\n",
      "\n",
      "Current input_text: A likely C\n",
      "Creating input ids.\n",
      "Encoding\n",
      "Decoding\n",
      "\n",
      "\n",
      "Current input_text: Multiple t\n",
      "Creating input ids.\n",
      "Encoding\n",
      "Decoding\n",
      "\n",
      "\n",
      "Current input_text: Russian or\n",
      "Creating input ids.\n",
      "Encoding\n",
      "Decoding\n",
      "\n",
      "\n",
      "Current input_text: A new camp\n",
      "Creating input ids.\n",
      "Encoding\n",
      "Decoding\n",
      "\n",
      "\n",
      "Current input_text: The U.S. D\n",
      "Creating input ids.\n",
      "Encoding\n",
      "Decoding\n",
      "\n",
      "\n",
      "Current input_text: A previous\n",
      "Creating input ids.\n",
      "Encoding\n",
      "Decoding\n",
      "\n",
      "\n",
      "Current input_text: Cybersecur\n",
      "Creating input ids.\n",
      "Encoding\n",
      "Decoding\n",
      "\n",
      "\n",
      "Current input_text: Created by\n",
      "Creating input ids.\n",
      "Encoding\n",
      "Decoding\n",
      "\n",
      "\n",
      "Current input_text: A malverti\n",
      "Creating input ids.\n",
      "Encoding\n",
      "Decoding\n",
      "\n",
      "\n",
      "Current input_text: A recently\n",
      "Creating input ids.\n",
      "Encoding\n",
      "Decoding\n",
      "\n",
      "\n",
      "Current input_text: The U.S. D\n",
      "Creating input ids.\n",
      "Encoding\n",
      "Decoding\n",
      "\n",
      "\n",
      "Current input_text: Cybersecur\n",
      "Creating input ids.\n",
      "Encoding\n",
      "Decoding\n",
      "\n",
      "\n",
      "Current input_text: State-spon\n",
      "Creating input ids.\n",
      "Encoding\n",
      "Decoding\n",
      "\n",
      "\n",
      "Current input_text: Highlights\n",
      "Creating input ids.\n",
      "Encoding\n",
      "Decoding\n",
      "\n",
      "\n",
      "Current input_text: Cyber espi\n",
      "Creating input ids.\n",
      "Encoding\n",
      "Decoding\n",
      "\n",
      "\n",
      "Current input_text: A new Rust\n",
      "Creating input ids.\n",
      "Encoding\n",
      "Decoding\n",
      "\n",
      "\n",
      "Current input_text: Cybersecur\n",
      "Creating input ids.\n",
      "Encoding\n",
      "Decoding\n",
      "\n",
      "\n",
      "Current input_text: Crypto exc\n",
      "Creating input ids.\n",
      "Encoding\n",
      "Decoding\n",
      "\n",
      "\n",
      "Current input_text: The China-\n",
      "Creating input ids.\n",
      "Encoding\n",
      "Decoding\n",
      "\n",
      "\n",
      "Current input_text: Are your t\n",
      "Creating input ids.\n",
      "Encoding\n",
      "Decoding\n",
      "\n",
      "\n",
      "Current input_text: Chinese-sp\n",
      "Creating input ids.\n",
      "Encoding\n",
      "Decoding\n",
      "\n",
      "\n",
      "Current input_text: A threat a\n",
      "Creating input ids.\n",
      "Encoding\n",
      "Decoding\n",
      "\n",
      "\n",
      "Current input_text: Two securi\n",
      "Creating input ids.\n",
      "Encoding\n",
      "Decoding\n",
      "\n",
      "\n",
      "Current input_text: A controve\n",
      "Creating input ids.\n",
      "Encoding\n",
      "Decoding\n",
      "\n",
      "\n",
      "Current input_text: Threat act\n",
      "Creating input ids.\n",
      "Encoding\n",
      "Decoding\n",
      "\n",
      "\n",
      "Current input_text: Seventy pe\n",
      "Creating input ids.\n",
      "Encoding\n",
      "Decoding\n",
      "\n",
      "\n",
      "Current input_text: Cybersecur\n",
      "Creating input ids.\n",
      "Encoding\n",
      "Decoding\n",
      "\n",
      "\n",
      "Current input_text: VMware has\n",
      "Creating input ids.\n",
      "Encoding\n",
      "Decoding\n",
      "\n",
      "\n",
      "Current input_text: The Singap\n",
      "Creating input ids.\n",
      "Encoding\n",
      "Decoding\n",
      "\n",
      "\n",
      "Current input_text: ASUS has s\n",
      "Creating input ids.\n",
      "Encoding\n",
      "Decoding\n",
      "\n",
      "\n",
      "Current input_text: A suspecte\n",
      "Creating input ids.\n",
      "Encoding\n",
      "Decoding\n",
      "\n",
      "\n",
      "Current input_text: Traditiona\n",
      "Creating input ids.\n",
      "Encoding\n",
      "Decoding\n",
      "\n",
      "\n",
      "Current input_text: Legitimate\n",
      "Creating input ids.\n",
      "Encoding\n",
      "Decoding\n",
      "\n",
      "\n",
      "Current input_text: Threat act\n",
      "Creating input ids.\n",
      "Encoding\n",
      "Decoding\n",
      "\n",
      "\n",
      "Current input_text: Law enforc\n",
      "Creating input ids.\n",
      "Encoding\n",
      "Decoding\n",
      "\n",
      "\n",
      "Current input_text: Pakistan h\n",
      "Creating input ids.\n",
      "Encoding\n",
      "Decoding\n",
      "\n",
      "\n",
      "Current input_text: A suspecte\n",
      "Creating input ids.\n",
      "Encoding\n",
      "Decoding\n",
      "\n",
      "\n",
      "Current input_text: Meta on Fr\n",
      "Creating input ids.\n",
      "Encoding\n",
      "Decoding\n",
      "\n",
      "\n",
      "Current input_text: Google's p\n",
      "Creating input ids.\n",
      "Encoding\n",
      "Decoding\n",
      "\n",
      "\n",
      "Current input_text: Data is gr\n",
      "Creating input ids.\n",
      "Encoding\n",
      "Decoding\n",
      "\n",
      "\n",
      "Current input_text: As cyber t\n",
      "Creating input ids.\n",
      "Encoding\n",
      "Decoding\n",
      "\n",
      "\n",
      "Current input_text: An analysi\n",
      "Creating input ids.\n",
      "Encoding\n",
      "Decoding\n",
      "\n",
      "\n",
      "Current input_text: Threat act\n",
      "Creating input ids.\n",
      "Encoding\n",
      "Decoding\n",
      "\n",
      "\n",
      "Current input_text: Microsoft \n",
      "Creating input ids.\n",
      "Encoding\n",
      "Decoding\n",
      "\n",
      "\n",
      "Current input_text: The securi\n",
      "Creating input ids.\n",
      "Encoding\n",
      "Decoding\n",
      "\n",
      "\n",
      "Current input_text: 2.5 millio\n",
      "Creating input ids.\n",
      "Encoding\n",
      "Decoding\n",
      "\n",
      "\n",
      "Current input_text: Researcher\n",
      "Creating input ids.\n",
      "Encoding\n",
      "Decoding\n",
      "\n",
      "\n",
      "Current input_text: Targeted a\n",
      "Creating input ids.\n",
      "Encoding\n",
      "Decoding\n",
      "\n",
      "\n",
      "Current input_text: Lockbit is\n",
      "Creating input ids.\n",
      "Encoding\n",
      "Decoding\n",
      "\n",
      "\n",
      "Current input_text: New resear\n",
      "Creating input ids.\n",
      "Encoding\n",
      "Decoding\n",
      "\n",
      "\n",
      "Current input_text: Twitter is\n",
      "Creating input ids.\n",
      "Encoding\n",
      "Decoding\n",
      "\n",
      "\n",
      "Current input_text: CISA is wa\n",
      "Creating input ids.\n",
      "Encoding\n",
      "Decoding\n",
      "\n",
      "\n",
      "Current input_text: Fake trave\n",
      "Creating input ids.\n",
      "Encoding\n",
      "Decoding\n",
      "\n",
      "\n",
      "Current input_text: Separate f\n",
      "Creating input ids.\n",
      "Encoding\n",
      "Decoding\n",
      "\n",
      "\n",
      "Current input_text: An insuffi\n",
      "Creating input ids.\n",
      "Encoding\n",
      "Decoding\n",
      "\n",
      "\n",
      "Current input_text: Threat act\n",
      "Creating input ids.\n",
      "Encoding\n",
      "Decoding\n",
      "\n",
      "\n",
      "Current input_text: Browser se\n",
      "Creating input ids.\n",
      "Encoding\n",
      "Decoding\n",
      "\n",
      "\n",
      "Current input_text: A previous\n",
      "Creating input ids.\n",
      "Encoding\n",
      "Decoding\n",
      "\n",
      "\n",
      "Current input_text: WikiLeaks \n",
      "Creating input ids.\n",
      "Encoding\n",
      "Decoding\n",
      "\n",
      "\n",
      "Current input_text: Four Vietn\n",
      "Creating input ids.\n",
      "Encoding\n",
      "Decoding\n",
      "\n",
      "\n",
      "Current input_text: Multiple W\n",
      "Creating input ids.\n",
      "Encoding\n",
      "Decoding\n",
      "\n",
      "\n",
      "Current input_text: Google has\n",
      "Creating input ids.\n",
      "Encoding\n",
      "Decoding\n",
      "\n",
      "\n",
      "Current input_text: Cybersecur\n",
      "Creating input ids.\n",
      "Encoding\n",
      "Decoding\n",
      "\n",
      "\n",
      "Current input_text: Learn abou\n",
      "Creating input ids.\n",
      "Encoding\n",
      "Decoding\n",
      "\n",
      "\n",
      "Current input_text: A likely C\n",
      "Creating input ids.\n",
      "Encoding\n",
      "Decoding\n",
      "\n",
      "\n",
      "Current input_text: Multiple t\n",
      "Creating input ids.\n",
      "Encoding\n",
      "Decoding\n",
      "\n",
      "\n",
      "Current input_text: Russian or\n",
      "Creating input ids.\n",
      "Encoding\n",
      "Decoding\n",
      "\n",
      "\n",
      "Current input_text: A new camp\n",
      "Creating input ids.\n",
      "Encoding\n",
      "Decoding\n",
      "\n",
      "\n",
      "Current input_text: The U.S. D\n",
      "Creating input ids.\n",
      "Encoding\n",
      "Decoding\n",
      "\n",
      "\n",
      "Current input_text: A previous\n",
      "Creating input ids.\n",
      "Encoding\n",
      "Decoding\n",
      "\n",
      "\n",
      "Current input_text: Cybersecur\n",
      "Creating input ids.\n",
      "Encoding\n",
      "Decoding\n",
      "\n",
      "\n",
      "Current input_text: Created by\n",
      "Creating input ids.\n",
      "Encoding\n",
      "Decoding\n",
      "\n",
      "\n",
      "Current input_text: A malverti\n",
      "Creating input ids.\n",
      "Encoding\n",
      "Decoding\n",
      "\n",
      "\n",
      "Current input_text: A recently\n",
      "Creating input ids.\n",
      "Encoding\n",
      "Decoding\n",
      "\n",
      "\n",
      "Current input_text: The U.S. D\n",
      "Creating input ids.\n",
      "Encoding\n",
      "Decoding\n",
      "\n",
      "\n",
      "Current input_text: Cybersecur\n",
      "Creating input ids.\n",
      "Encoding\n",
      "Decoding\n",
      "\n",
      "\n",
      "Current input_text: State-spon\n",
      "Creating input ids.\n",
      "Encoding\n",
      "Decoding\n",
      "\n",
      "\n",
      "Current input_text: Highlights\n",
      "Creating input ids.\n",
      "Encoding\n",
      "Decoding\n",
      "\n",
      "\n",
      "Current input_text: Cyber espi\n",
      "Creating input ids.\n",
      "Encoding\n",
      "Decoding\n",
      "\n",
      "\n",
      "Current input_text: A new Rust\n",
      "Creating input ids.\n",
      "Encoding\n",
      "Decoding\n",
      "\n",
      "\n",
      "Current input_text: Cybersecur\n",
      "Creating input ids.\n",
      "Encoding\n",
      "Decoding\n",
      "\n",
      "\n",
      "Current input_text: Crypto exc\n",
      "Creating input ids.\n",
      "Encoding\n",
      "Decoding\n",
      "\n",
      "\n",
      "Current input_text: The China-\n",
      "Creating input ids.\n",
      "Encoding\n",
      "Decoding\n",
      "\n",
      "\n",
      "Current input_text: Are your t\n",
      "Creating input ids.\n",
      "Encoding\n",
      "Decoding\n",
      "\n",
      "\n",
      "Current input_text: Chinese-sp\n",
      "Creating input ids.\n",
      "Encoding\n",
      "Decoding\n",
      "\n",
      "\n",
      "Current input_text: A threat a\n",
      "Creating input ids.\n",
      "Encoding\n",
      "Decoding\n",
      "\n",
      "\n",
      "Current input_text: Two securi\n",
      "Creating input ids.\n",
      "Encoding\n",
      "Decoding\n",
      "\n",
      "\n",
      "Current input_text: A controve\n",
      "Creating input ids.\n",
      "Encoding\n",
      "Decoding\n",
      "\n",
      "\n",
      "Current input_text: Threat act\n",
      "Creating input ids.\n",
      "Encoding\n",
      "Decoding\n",
      "\n",
      "\n",
      "Current input_text: Seventy pe\n",
      "Creating input ids.\n",
      "Encoding\n",
      "Decoding\n",
      "\n",
      "\n",
      "Current input_text: Cybersecur\n",
      "Creating input ids.\n",
      "Encoding\n",
      "Decoding\n",
      "\n",
      "\n",
      "Current input_text: VMware has\n",
      "Creating input ids.\n",
      "Encoding\n",
      "Decoding\n",
      "\n",
      "\n",
      "Current input_text: The Singap\n",
      "Creating input ids.\n",
      "Encoding\n",
      "Decoding\n",
      "\n",
      "\n",
      "Current input_text: ASUS has s\n",
      "Creating input ids.\n",
      "Encoding\n",
      "Decoding\n",
      "\n",
      "\n",
      "Current input_text: A suspecte\n",
      "Creating input ids.\n",
      "Encoding\n",
      "Decoding\n",
      "\n",
      "\n",
      "Current input_text: Traditiona\n",
      "Creating input ids.\n",
      "Encoding\n",
      "Decoding\n",
      "\n",
      "\n",
      "Current input_text: Legitimate\n",
      "Creating input ids.\n",
      "Encoding\n",
      "Decoding\n",
      "\n",
      "\n",
      "Current input_text: Threat act\n",
      "Creating input ids.\n",
      "Encoding\n",
      "Decoding\n",
      "\n",
      "\n",
      "Current input_text: Law enforc\n",
      "Creating input ids.\n",
      "Encoding\n",
      "Decoding\n",
      "\n",
      "\n",
      "Current input_text: Pakistan h\n",
      "Creating input ids.\n",
      "Encoding\n",
      "Decoding\n",
      "\n",
      "\n",
      "Current input_text: A suspecte\n",
      "Creating input ids.\n",
      "Encoding\n",
      "Decoding\n",
      "\n",
      "\n",
      "Current input_text: Meta on Fr\n",
      "Creating input ids.\n",
      "Encoding\n",
      "Decoding\n",
      "\n",
      "\n",
      "Current input_text: Google's p\n",
      "Creating input ids.\n",
      "Encoding\n",
      "Decoding\n",
      "\n",
      "\n",
      "Current input_text: Data is gr\n",
      "Creating input ids.\n",
      "Encoding\n",
      "Decoding\n",
      "\n",
      "\n",
      "Current input_text: As cyber t\n",
      "Creating input ids.\n",
      "Encoding\n",
      "Decoding\n",
      "\n",
      "\n",
      "Current input_text: 2.5 millio\n",
      "Creating input ids.\n",
      "Encoding\n",
      "Decoding\n",
      "\n",
      "\n",
      "Current input_text: Researcher\n",
      "Creating input ids.\n",
      "Encoding\n",
      "Decoding\n",
      "\n",
      "\n",
      "Current input_text: Targeted a\n",
      "Creating input ids.\n",
      "Encoding\n",
      "Decoding\n",
      "\n",
      "\n",
      "Current input_text: Lockbit is\n",
      "Creating input ids.\n",
      "Encoding\n",
      "Decoding\n",
      "\n",
      "\n",
      "Current input_text: New resear\n",
      "Creating input ids.\n",
      "Encoding\n",
      "Decoding\n",
      "\n",
      "\n",
      "Current input_text: Twitter is\n",
      "Creating input ids.\n",
      "Encoding\n",
      "Decoding\n",
      "\n",
      "\n",
      "Current input_text: CISA is wa\n",
      "Creating input ids.\n",
      "Encoding\n",
      "Decoding\n",
      "\n",
      "\n",
      "Current input_text: Fake trave\n",
      "Creating input ids.\n",
      "Encoding\n",
      "Decoding\n",
      "\n",
      "\n",
      "Current input_text: Separate f\n",
      "Creating input ids.\n",
      "Encoding\n",
      "Decoding\n",
      "\n",
      "\n",
      "Current input_text: An insuffi\n",
      "Creating input ids.\n",
      "Encoding\n",
      "Decoding\n",
      "\n",
      "\n",
      "Current input_text: A newly di\n",
      "Creating input ids.\n",
      "Encoding\n",
      "Decoding\n",
      "\n",
      "\n",
      "Current input_text: Threat act\n",
      "Creating input ids.\n",
      "Encoding\n",
      "Decoding\n",
      "\n",
      "\n",
      "Current input_text: The height\n",
      "Creating input ids.\n",
      "Encoding\n",
      "Decoding\n",
      "\n",
      "\n",
      "Current input_text: Apple has \n",
      "Creating input ids.\n",
      "Encoding\n",
      "Decoding\n",
      "\n",
      "\n",
      "Current input_text: Multiple c\n",
      "Creating input ids.\n",
      "Encoding\n",
      "Decoding\n",
      "\n",
      "\n",
      "Current input_text: Cybersecur\n",
      "Creating input ids.\n",
      "Encoding\n",
      "Decoding\n",
      "\n",
      "\n",
      "Current input_text: Google has\n",
      "Creating input ids.\n",
      "Encoding\n",
      "Decoding\n",
      "\n",
      "\n",
      "Current input_text: Threat act\n",
      "Creating input ids.\n",
      "Encoding\n",
      "Decoding\n",
      "\n",
      "\n",
      "Current input_text: Browser se\n",
      "Creating input ids.\n",
      "Encoding\n",
      "Decoding\n",
      "\n",
      "\n",
      "Current input_text: A previous\n",
      "Creating input ids.\n",
      "Encoding\n",
      "Decoding\n",
      "\n",
      "\n",
      "Current input_text: WikiLeaks \n",
      "Creating input ids.\n",
      "Encoding\n",
      "Decoding\n",
      "\n",
      "\n",
      "Current input_text: Four Vietn\n",
      "Creating input ids.\n",
      "Encoding\n",
      "Decoding\n",
      "\n",
      "\n",
      "Current input_text: Multiple W\n",
      "Creating input ids.\n",
      "Encoding\n",
      "Decoding\n",
      "\n",
      "\n",
      "Current input_text: Google has\n",
      "Creating input ids.\n",
      "Encoding\n",
      "Decoding\n",
      "\n",
      "\n",
      "Current input_text: Cybersecur\n",
      "Creating input ids.\n",
      "Encoding\n",
      "Decoding\n",
      "\n",
      "\n",
      "Current input_text: Learn abou\n",
      "Creating input ids.\n",
      "Encoding\n",
      "Decoding\n",
      "\n",
      "\n",
      "Current input_text: A likely C\n",
      "Creating input ids.\n",
      "Encoding\n",
      "Decoding\n",
      "\n",
      "\n",
      "Current input_text: Multiple t\n",
      "Creating input ids.\n",
      "Encoding\n",
      "Decoding\n",
      "\n",
      "\n",
      "Current input_text: Russian or\n",
      "Creating input ids.\n",
      "Encoding\n",
      "Decoding\n",
      "\n",
      "\n",
      "Current input_text: A new camp\n",
      "Creating input ids.\n",
      "Encoding\n",
      "Decoding\n",
      "\n",
      "\n",
      "Current input_text: The U.S. D\n",
      "Creating input ids.\n",
      "Encoding\n",
      "Decoding\n",
      "\n",
      "\n",
      "Current input_text: A previous\n",
      "Creating input ids.\n",
      "Encoding\n",
      "Decoding\n",
      "\n",
      "\n",
      "Current input_text: Cybersecur\n",
      "Creating input ids.\n",
      "Encoding\n",
      "Decoding\n",
      "\n",
      "\n",
      "Current input_text: Created by\n",
      "Creating input ids.\n",
      "Encoding\n",
      "Decoding\n",
      "\n",
      "\n",
      "Current input_text: A malverti\n",
      "Creating input ids.\n",
      "Encoding\n",
      "Decoding\n",
      "\n",
      "\n",
      "Current input_text: A recently\n",
      "Creating input ids.\n",
      "Encoding\n",
      "Decoding\n",
      "\n",
      "\n",
      "Current input_text: The U.S. D\n",
      "Creating input ids.\n",
      "Encoding\n",
      "Decoding\n",
      "\n",
      "\n",
      "Current input_text: Cybersecur\n",
      "Creating input ids.\n",
      "Encoding\n",
      "Decoding\n",
      "\n",
      "\n",
      "Current input_text: State-spon\n",
      "Creating input ids.\n",
      "Encoding\n",
      "Decoding\n",
      "\n",
      "\n",
      "Current input_text: Highlights\n",
      "Creating input ids.\n",
      "Encoding\n",
      "Decoding\n",
      "\n",
      "\n",
      "Current input_text: Cyber espi\n",
      "Creating input ids.\n",
      "Encoding\n",
      "Decoding\n",
      "\n",
      "\n",
      "Current input_text: A new Rust\n",
      "Creating input ids.\n",
      "Encoding\n",
      "Decoding\n",
      "\n",
      "\n",
      "Current input_text: Cybersecur\n",
      "Creating input ids.\n",
      "Encoding\n",
      "Decoding\n",
      "\n",
      "\n",
      "Current input_text: Crypto exc\n",
      "Creating input ids.\n",
      "Encoding\n",
      "Decoding\n",
      "\n",
      "\n",
      "Current input_text: The China-\n",
      "Creating input ids.\n",
      "Encoding\n",
      "Decoding\n",
      "\n",
      "\n",
      "Current input_text: Are your t\n",
      "Creating input ids.\n",
      "Encoding\n",
      "Decoding\n",
      "\n",
      "\n",
      "Current input_text: Chinese-sp\n",
      "Creating input ids.\n",
      "Encoding\n",
      "Decoding\n",
      "\n",
      "\n",
      "Current input_text: A threat a\n",
      "Creating input ids.\n",
      "Encoding\n",
      "Decoding\n",
      "\n",
      "\n",
      "Current input_text: Two securi\n",
      "Creating input ids.\n",
      "Encoding\n",
      "Decoding\n",
      "\n",
      "\n",
      "Current input_text: A controve\n",
      "Creating input ids.\n",
      "Encoding\n",
      "Decoding\n",
      "\n",
      "\n",
      "Current input_text: Threat act\n",
      "Creating input ids.\n",
      "Encoding\n",
      "Decoding\n",
      "\n",
      "\n",
      "Current input_text: Seventy pe\n",
      "Creating input ids.\n",
      "Encoding\n",
      "Decoding\n",
      "\n",
      "\n",
      "Current input_text: Cybersecur\n",
      "Creating input ids.\n",
      "Encoding\n",
      "Decoding\n",
      "\n",
      "\n",
      "Current input_text: VMware has\n",
      "Creating input ids.\n",
      "Encoding\n",
      "Decoding\n",
      "\n",
      "\n",
      "Current input_text: The Singap\n",
      "Creating input ids.\n",
      "Encoding\n",
      "Decoding\n",
      "\n",
      "\n",
      "Current input_text: ASUS has s\n",
      "Creating input ids.\n",
      "Encoding\n",
      "Decoding\n",
      "\n",
      "\n",
      "Current input_text: A suspecte\n",
      "Creating input ids.\n",
      "Encoding\n",
      "Decoding\n",
      "\n",
      "\n",
      "Current input_text: Traditiona\n",
      "Creating input ids.\n",
      "Encoding\n",
      "Decoding\n",
      "\n",
      "\n",
      "Current input_text: Legitimate\n",
      "Creating input ids.\n",
      "Encoding\n",
      "Decoding\n",
      "\n",
      "\n",
      "Current input_text: Threat act\n",
      "Creating input ids.\n",
      "Encoding\n",
      "Decoding\n",
      "\n",
      "\n",
      "Current input_text: 2.5 millio\n",
      "Creating input ids.\n",
      "Encoding\n",
      "Decoding\n",
      "\n",
      "\n",
      "Current input_text: Researcher\n",
      "Creating input ids.\n",
      "Encoding\n",
      "Decoding\n",
      "\n",
      "\n",
      "Current input_text: Targeted a\n",
      "Creating input ids.\n",
      "Encoding\n",
      "Decoding\n",
      "\n",
      "\n",
      "Current input_text: Lockbit is\n",
      "Creating input ids.\n",
      "Encoding\n",
      "Decoding\n",
      "\n",
      "\n",
      "Current input_text: New resear\n",
      "Creating input ids.\n",
      "Encoding\n",
      "Decoding\n",
      "\n",
      "\n",
      "Current input_text: Twitter is\n",
      "Creating input ids.\n",
      "Encoding\n",
      "Decoding\n",
      "\n",
      "\n",
      "Current input_text: CISA is wa\n",
      "Creating input ids.\n",
      "Encoding\n",
      "Decoding\n",
      "\n",
      "\n",
      "Current input_text: Fake trave\n",
      "Creating input ids.\n",
      "Encoding\n",
      "Decoding\n",
      "\n",
      "\n",
      "Current input_text: Separate f\n",
      "Creating input ids.\n",
      "Encoding\n",
      "Decoding\n",
      "\n",
      "\n",
      "Current input_text: An insuffi\n",
      "Creating input ids.\n",
      "Encoding\n",
      "Decoding\n",
      "\n",
      "\n",
      "Current input_text: The peer-t\n",
      "Creating input ids.\n",
      "Encoding\n",
      "Decoding\n",
      "\n",
      "\n",
      "Current input_text: While some\n",
      "Creating input ids.\n",
      "Encoding\n",
      "Decoding\n",
      "\n",
      "\n",
      "Current input_text: Cybersecur\n",
      "Creating input ids.\n",
      "Encoding\n",
      "Decoding\n",
      "\n",
      "\n",
      "Current input_text: Did you kn\n",
      "Creating input ids.\n",
      "Encoding\n",
      "Decoding\n",
      "\n",
      "\n",
      "Current input_text: A 22-year-\n",
      "Creating input ids.\n",
      "Encoding\n",
      "Decoding\n",
      "\n",
      "\n",
      "Current input_text: A critical\n",
      "Creating input ids.\n",
      "Encoding\n",
      "Decoding\n",
      "\n",
      "\n",
      "Current input_text: A newly di\n",
      "Creating input ids.\n",
      "Encoding\n",
      "Decoding\n",
      "\n",
      "\n",
      "Current input_text: Threat act\n",
      "Creating input ids.\n",
      "Encoding\n",
      "Decoding\n",
      "\n",
      "\n",
      "Current input_text: The height\n",
      "Creating input ids.\n",
      "Encoding\n",
      "Decoding\n",
      "\n",
      "\n",
      "Current input_text: Apple has \n",
      "Creating input ids.\n",
      "Encoding\n",
      "Decoding\n",
      "\n",
      "\n",
      "Current input_text: Multiple c\n",
      "Creating input ids.\n",
      "Encoding\n",
      "Decoding\n",
      "\n",
      "\n",
      "Current input_text: Cybersecur\n",
      "Creating input ids.\n",
      "Encoding\n",
      "Decoding\n",
      "\n",
      "\n",
      "Current input_text: Google has\n",
      "Creating input ids.\n",
      "Encoding\n",
      "Decoding\n",
      "\n",
      "\n",
      "Current input_text: Threat act\n",
      "Creating input ids.\n",
      "Encoding\n",
      "Decoding\n",
      "\n",
      "\n",
      "Current input_text: Browser se\n",
      "Creating input ids.\n",
      "Encoding\n",
      "Decoding\n",
      "\n",
      "\n",
      "Current input_text: A previous\n",
      "Creating input ids.\n",
      "Encoding\n",
      "Decoding\n",
      "\n",
      "\n",
      "Current input_text: WikiLeaks \n",
      "Creating input ids.\n",
      "Encoding\n",
      "Decoding\n",
      "\n",
      "\n",
      "Current input_text: Four Vietn\n",
      "Creating input ids.\n",
      "Encoding\n",
      "Decoding\n",
      "\n",
      "\n",
      "Current input_text: Multiple W\n",
      "Creating input ids.\n",
      "Encoding\n",
      "Decoding\n",
      "\n",
      "\n",
      "Current input_text: Google has\n",
      "Creating input ids.\n",
      "Encoding\n",
      "Decoding\n",
      "\n",
      "\n",
      "Current input_text: Cybersecur\n",
      "Creating input ids.\n",
      "Encoding\n",
      "Decoding\n",
      "\n",
      "\n",
      "Current input_text: Learn abou\n",
      "Creating input ids.\n",
      "Encoding\n",
      "Decoding\n",
      "\n",
      "\n",
      "Current input_text: A likely C\n",
      "Creating input ids.\n",
      "Encoding\n",
      "Decoding\n",
      "\n",
      "\n",
      "Current input_text: Multiple t\n",
      "Creating input ids.\n",
      "Encoding\n",
      "Decoding\n",
      "\n",
      "\n",
      "Current input_text: Russian or\n",
      "Creating input ids.\n",
      "Encoding\n",
      "Decoding\n",
      "\n",
      "\n",
      "Current input_text: A new camp\n",
      "Creating input ids.\n",
      "Encoding\n",
      "Decoding\n",
      "\n",
      "\n",
      "Current input_text: The U.S. D\n",
      "Creating input ids.\n",
      "Encoding\n",
      "Decoding\n",
      "\n",
      "\n",
      "Current input_text: A previous\n",
      "Creating input ids.\n",
      "Encoding\n",
      "Decoding\n",
      "\n",
      "\n",
      "Current input_text: Cybersecur\n",
      "Creating input ids.\n",
      "Encoding\n",
      "Decoding\n",
      "\n",
      "\n",
      "Current input_text: Created by\n",
      "Creating input ids.\n",
      "Encoding\n",
      "Decoding\n",
      "\n",
      "\n",
      "Current input_text: A malverti\n",
      "Creating input ids.\n",
      "Encoding\n",
      "Decoding\n",
      "\n",
      "\n",
      "Current input_text: A recently\n",
      "Creating input ids.\n",
      "Encoding\n",
      "Decoding\n",
      "\n",
      "\n",
      "Current input_text: The U.S. D\n",
      "Creating input ids.\n",
      "Encoding\n",
      "Decoding\n",
      "\n",
      "\n",
      "Current input_text: Cybersecur\n",
      "Creating input ids.\n",
      "Encoding\n",
      "Decoding\n",
      "\n",
      "\n",
      "Current input_text: State-spon\n",
      "Creating input ids.\n",
      "Encoding\n",
      "Decoding\n",
      "\n",
      "\n",
      "Current input_text: Highlights\n",
      "Creating input ids.\n",
      "Encoding\n",
      "Decoding\n",
      "\n",
      "\n",
      "Current input_text: Cyber espi\n",
      "Creating input ids.\n",
      "Encoding\n",
      "Decoding\n",
      "\n",
      "\n",
      "Current input_text: A new Rust\n",
      "Creating input ids.\n",
      "Encoding\n",
      "Decoding\n",
      "\n",
      "\n",
      "Current input_text: Cybersecur\n",
      "Creating input ids.\n",
      "Encoding\n",
      "Decoding\n",
      "\n",
      "\n",
      "Current input_text: Crypto exc\n",
      "Creating input ids.\n",
      "Encoding\n",
      "Decoding\n",
      "\n",
      "\n",
      "Current input_text: The China-\n",
      "Creating input ids.\n",
      "Encoding\n",
      "Decoding\n",
      "\n",
      "\n",
      "Current input_text: Are your t\n",
      "Creating input ids.\n",
      "Encoding\n",
      "Decoding\n",
      "\n",
      "\n",
      "Current input_text: Chinese-sp\n",
      "Creating input ids.\n",
      "Encoding\n",
      "Decoding\n",
      "\n",
      "\n",
      "Current input_text: A threat a\n",
      "Creating input ids.\n",
      "Encoding\n",
      "Decoding\n",
      "\n",
      "\n",
      "Current input_text: Two securi\n",
      "Creating input ids.\n",
      "Encoding\n",
      "Decoding\n",
      "\n",
      "\n",
      "Current input_text: A controve\n",
      "Creating input ids.\n",
      "Encoding\n",
      "Decoding\n",
      "\n",
      "\n",
      "Current input_text: Threat act\n",
      "Creating input ids.\n",
      "Encoding\n",
      "Decoding\n",
      "\n",
      "\n",
      "Current input_text: Seventy pe\n",
      "Creating input ids.\n",
      "Encoding\n",
      "Decoding\n",
      "\n",
      "\n",
      "Current input_text: Cybersecur\n",
      "Creating input ids.\n",
      "Encoding\n",
      "Decoding\n",
      "\n",
      "\n",
      "Current input_text: VMware has\n",
      "Creating input ids.\n",
      "Encoding\n",
      "Decoding\n",
      "\n",
      "\n",
      "Current input_text: 2.5 millio\n",
      "Creating input ids.\n",
      "Encoding\n",
      "Decoding\n",
      "\n",
      "\n",
      "Current input_text: Researcher\n",
      "Creating input ids.\n",
      "Encoding\n",
      "Decoding\n",
      "\n",
      "\n",
      "Current input_text: Targeted a\n",
      "Creating input ids.\n",
      "Encoding\n",
      "Decoding\n",
      "\n",
      "\n",
      "Current input_text: Lockbit is\n",
      "Creating input ids.\n",
      "Encoding\n",
      "Decoding\n",
      "\n",
      "\n",
      "Current input_text: New resear\n",
      "Creating input ids.\n",
      "Encoding\n",
      "Decoding\n",
      "\n",
      "\n",
      "Current input_text: Twitter is\n",
      "Creating input ids.\n",
      "Encoding\n",
      "Decoding\n",
      "\n",
      "\n",
      "Current input_text: CISA is wa\n",
      "Creating input ids.\n",
      "Encoding\n",
      "Decoding\n",
      "\n",
      "\n",
      "Current input_text: Fake trave\n",
      "Creating input ids.\n",
      "Encoding\n",
      "Decoding\n",
      "\n",
      "\n",
      "Current input_text: Separate f\n",
      "Creating input ids.\n",
      "Encoding\n",
      "Decoding\n",
      "\n",
      "\n",
      "Current input_text: An insuffi\n",
      "Creating input ids.\n",
      "Encoding\n",
      "Decoding\n",
      "\n",
      "\n",
      "Current input_text: The North \n",
      "Creating input ids.\n",
      "Encoding\n",
      "Decoding\n",
      "\n",
      "\n",
      "Current input_text: GitLab has\n",
      "Creating input ids.\n",
      "Encoding\n",
      "Decoding\n",
      "\n",
      "\n",
      "Current input_text: Security r\n",
      "Creating input ids.\n",
      "Encoding\n",
      "Decoding\n",
      "\n",
      "\n",
      "Current input_text: The modern\n",
      "Creating input ids.\n",
      "Encoding\n",
      "Decoding\n",
      "\n",
      "\n",
      "Current input_text: A group of\n",
      "Creating input ids.\n",
      "Encoding\n",
      "Decoding\n",
      "\n",
      "\n",
      "Current input_text: Multiple s\n",
      "Creating input ids.\n",
      "Encoding\n",
      "Decoding\n",
      "\n",
      "\n",
      "Current input_text: TeamViewer\n",
      "Creating input ids.\n",
      "Encoding\n",
      "Decoding\n",
      "\n",
      "\n",
      "Current input_text: The peer-t\n",
      "Creating input ids.\n",
      "Encoding\n",
      "Decoding\n",
      "\n",
      "\n",
      "Current input_text: While some\n",
      "Creating input ids.\n",
      "Encoding\n",
      "Decoding\n",
      "\n",
      "\n",
      "Current input_text: Cybersecur\n",
      "Creating input ids.\n",
      "Encoding\n",
      "Decoding\n",
      "\n",
      "\n",
      "Current input_text: Did you kn\n",
      "Creating input ids.\n",
      "Encoding\n",
      "Decoding\n",
      "\n",
      "\n",
      "Current input_text: A 22-year-\n",
      "Creating input ids.\n",
      "Encoding\n",
      "Decoding\n",
      "\n",
      "\n",
      "Current input_text: A critical\n",
      "Creating input ids.\n",
      "Encoding\n",
      "Decoding\n",
      "\n",
      "\n",
      "Current input_text: A newly di\n",
      "Creating input ids.\n",
      "Encoding\n",
      "Decoding\n",
      "\n",
      "\n",
      "Current input_text: Threat act\n",
      "Creating input ids.\n",
      "Encoding\n",
      "Decoding\n",
      "\n",
      "\n",
      "Current input_text: The height\n",
      "Creating input ids.\n",
      "Encoding\n",
      "Decoding\n",
      "\n",
      "\n",
      "Current input_text: Apple has \n",
      "Creating input ids.\n",
      "Encoding\n",
      "Decoding\n",
      "\n",
      "\n",
      "Current input_text: Multiple c\n",
      "Creating input ids.\n",
      "Encoding\n",
      "Decoding\n",
      "\n",
      "\n",
      "Current input_text: Cybersecur\n",
      "Creating input ids.\n",
      "Encoding\n",
      "Decoding\n",
      "\n",
      "\n",
      "Current input_text: Google has\n",
      "Creating input ids.\n",
      "Encoding\n",
      "Decoding\n",
      "\n",
      "\n",
      "Current input_text: Threat act\n",
      "Creating input ids.\n",
      "Encoding\n",
      "Decoding\n",
      "\n",
      "\n",
      "Current input_text: Browser se\n",
      "Creating input ids.\n",
      "Encoding\n",
      "Decoding\n",
      "\n",
      "\n",
      "Current input_text: A previous\n",
      "Creating input ids.\n",
      "Encoding\n",
      "Decoding\n",
      "\n",
      "\n",
      "Current input_text: WikiLeaks \n",
      "Creating input ids.\n",
      "Encoding\n",
      "Decoding\n",
      "\n",
      "\n",
      "Current input_text: Four Vietn\n",
      "Creating input ids.\n",
      "Encoding\n",
      "Decoding\n",
      "\n",
      "\n",
      "Current input_text: Multiple W\n",
      "Creating input ids.\n",
      "Encoding\n",
      "Decoding\n",
      "\n",
      "\n",
      "Current input_text: Google has\n",
      "Creating input ids.\n",
      "Encoding\n",
      "Decoding\n",
      "\n",
      "\n",
      "Current input_text: Cybersecur\n",
      "Creating input ids.\n",
      "Encoding\n",
      "Decoding\n",
      "\n",
      "\n",
      "Current input_text: Learn abou\n",
      "Creating input ids.\n",
      "Encoding\n",
      "Decoding\n",
      "\n",
      "\n",
      "Current input_text: A likely C\n",
      "Creating input ids.\n",
      "Encoding\n",
      "Decoding\n",
      "\n",
      "\n",
      "Current input_text: Multiple t\n",
      "Creating input ids.\n",
      "Encoding\n",
      "Decoding\n",
      "\n",
      "\n",
      "Current input_text: Russian or\n",
      "Creating input ids.\n",
      "Encoding\n",
      "Decoding\n",
      "\n",
      "\n",
      "Current input_text: A new camp\n",
      "Creating input ids.\n",
      "Encoding\n",
      "Decoding\n",
      "\n",
      "\n",
      "Current input_text: The U.S. D\n",
      "Creating input ids.\n",
      "Encoding\n",
      "Decoding\n",
      "\n",
      "\n",
      "Current input_text: A previous\n",
      "Creating input ids.\n",
      "Encoding\n",
      "Decoding\n",
      "\n",
      "\n",
      "Current input_text: Cybersecur\n",
      "Creating input ids.\n",
      "Encoding\n",
      "Decoding\n",
      "\n",
      "\n",
      "Current input_text: Created by\n",
      "Creating input ids.\n",
      "Encoding\n",
      "Decoding\n",
      "\n",
      "\n",
      "Current input_text: A malverti\n",
      "Creating input ids.\n",
      "Encoding\n",
      "Decoding\n",
      "\n",
      "\n",
      "Current input_text: A recently\n",
      "Creating input ids.\n",
      "Encoding\n",
      "Decoding\n",
      "\n",
      "\n",
      "Current input_text: The U.S. D\n",
      "Creating input ids.\n",
      "Encoding\n",
      "Decoding\n"
     ]
    },
    {
     "name": "stderr",
     "output_type": "stream",
     "text": [
      "/var/folders/1v/g21wmlmd55j7xj57x9dlvjdh0000gp/T/ipykernel_26201/964080969.py:3: SettingWithCopyWarning: \n",
      "A value is trying to be set on a copy of a slice from a DataFrame.\n",
      "Try using .loc[row_indexer,col_indexer] = value instead\n",
      "\n",
      "See the caveats in the documentation: https://pandas.pydata.org/pandas-docs/stable/user_guide/indexing.html#returning-a-view-versus-a-copy\n",
      "  df_out['summary'] = df_out.apply(lambda x: apply_model(input_text=x['news_text'], model=model), axis=1)\n"
     ]
    }
   ],
   "source": [
    "# Apply model on the first 1000 articles\n",
    "df_out = df.iloc[0:1000,]\n",
    "df_out['summary'] = df_out.apply(lambda x: apply_model(input_text=x['news_text'], model=model), axis=1)"
   ]
  },
  {
   "cell_type": "code",
   "execution_count": 13,
   "metadata": {},
   "outputs": [
    {
     "data": {
      "text/html": [
       "<div>\n",
       "<style scoped>\n",
       "    .dataframe tbody tr th:only-of-type {\n",
       "        vertical-align: middle;\n",
       "    }\n",
       "\n",
       "    .dataframe tbody tr th {\n",
       "        vertical-align: top;\n",
       "    }\n",
       "\n",
       "    .dataframe thead th {\n",
       "        text-align: right;\n",
       "    }\n",
       "</style>\n",
       "<table border=\"1\" class=\"dataframe\">\n",
       "  <thead>\n",
       "    <tr style=\"text-align: right;\">\n",
       "      <th></th>\n",
       "      <th>source_id</th>\n",
       "      <th>time_publish</th>\n",
       "      <th>author</th>\n",
       "      <th>title</th>\n",
       "      <th>news_summary</th>\n",
       "      <th>news_text</th>\n",
       "      <th>news_url</th>\n",
       "      <th>crawl_id</th>\n",
       "      <th>summary</th>\n",
       "    </tr>\n",
       "  </thead>\n",
       "  <tbody>\n",
       "    <tr>\n",
       "      <th>0</th>\n",
       "      <td>6</td>\n",
       "      <td>NaN</td>\n",
       "      <td>[\"Jun\", \"The Hacker News\"]</td>\n",
       "      <td>Learn to Secure Petabyte-Scale Data in a Webin...</td>\n",
       "      <td>NaN</td>\n",
       "      <td>Data is growing faster than ever. Remember whe...</td>\n",
       "      <td>https://thehackernews.com/2024/06/learn-to-sec...</td>\n",
       "      <td>1</td>\n",
       "      <td>a panel of industry experts have not only face...</td>\n",
       "    </tr>\n",
       "    <tr>\n",
       "      <th>1</th>\n",
       "      <td>6</td>\n",
       "      <td>NaN</td>\n",
       "      <td>[\"Jun\", \"The Hacker News\"]</td>\n",
       "      <td>Why Regulated Industries are Turning to Milita...</td>\n",
       "      <td>NaN</td>\n",
       "      <td>As cyber threats loom large and data breaches ...</td>\n",
       "      <td>https://thehackernews.com/2024/06/why-regulate...</td>\n",
       "      <td>1</td>\n",
       "      <td>regulated industries are increasingly investin...</td>\n",
       "    </tr>\n",
       "    <tr>\n",
       "      <th>2</th>\n",
       "      <td>6</td>\n",
       "      <td>NaN</td>\n",
       "      <td>[\"Jun\"]</td>\n",
       "      <td>ZKTeco Biometric System Found Vulnerable to 24...</td>\n",
       "      <td>NaN</td>\n",
       "      <td>An analysis of a hybrid biometric access syste...</td>\n",
       "      <td>https://thehackernews.com/2024/06/zkteco-biome...</td>\n",
       "      <td>1</td>\n",
       "      <td>the 24 vulnerabilities span six SQL injections...</td>\n",
       "    </tr>\n",
       "    <tr>\n",
       "      <th>3</th>\n",
       "      <td>6</td>\n",
       "      <td>NaN</td>\n",
       "      <td>[\"Jun\"]</td>\n",
       "      <td>North Korean Hackers Target Brazilian Fintech ...</td>\n",
       "      <td>NaN</td>\n",
       "      <td>Threat actors linked to North Korea have accou...</td>\n",
       "      <td>https://thehackernews.com/2024/06/north-korean...</td>\n",
       "      <td>1</td>\n",
       "      <td>threat actors linked to north Korea have accou...</td>\n",
       "    </tr>\n",
       "    <tr>\n",
       "      <th>4</th>\n",
       "      <td>6</td>\n",
       "      <td>NaN</td>\n",
       "      <td>[\"Jun\"]</td>\n",
       "      <td>Microsoft Delays AI-Powered Recall Feature for...</td>\n",
       "      <td>NaN</td>\n",
       "      <td>Microsoft on Thursday revealed that it's delay...</td>\n",
       "      <td>https://thehackernews.com/2024/06/microsoft-de...</td>\n",
       "      <td>1</td>\n",
       "      <td>the company says it will shift from general av...</td>\n",
       "    </tr>\n",
       "    <tr>\n",
       "      <th>...</th>\n",
       "      <td>...</td>\n",
       "      <td>...</td>\n",
       "      <td>...</td>\n",
       "      <td>...</td>\n",
       "      <td>...</td>\n",
       "      <td>...</td>\n",
       "      <td>...</td>\n",
       "      <td>...</td>\n",
       "      <td>...</td>\n",
       "    </tr>\n",
       "    <tr>\n",
       "      <th>995</th>\n",
       "      <td>6</td>\n",
       "      <td>NaN</td>\n",
       "      <td>[\"Jun\"]</td>\n",
       "      <td>Military-themed Email Scam Spreads Malware to ...</td>\n",
       "      <td>NaN</td>\n",
       "      <td>Cybersecurity researchers have shed light on a...</td>\n",
       "      <td>https://thehackernews.com/2024/06/military-the...</td>\n",
       "      <td>1</td>\n",
       "      <td>cybersecurity researchers have identified a ne...</td>\n",
       "    </tr>\n",
       "    <tr>\n",
       "      <th>996</th>\n",
       "      <td>6</td>\n",
       "      <td>NaN</td>\n",
       "      <td>[\"Jun\", \"The Hacker News\"]</td>\n",
       "      <td>How to Use Tines's SOC Automation Capability M...</td>\n",
       "      <td>NaN</td>\n",
       "      <td>Created by John Tuckner and the team at automa...</td>\n",
       "      <td>https://thehackernews.com/2024/02/how-to-use-t...</td>\n",
       "      <td>1</td>\n",
       "      <td>the SOC Automation Capability Matrix (SOC ACM)...</td>\n",
       "    </tr>\n",
       "    <tr>\n",
       "      <th>997</th>\n",
       "      <td>6</td>\n",
       "      <td>NaN</td>\n",
       "      <td>[\"Jun\"]</td>\n",
       "      <td>Oyster Backdoor Spreading via Trojanized Popul...</td>\n",
       "      <td>NaN</td>\n",
       "      <td>A malvertising campaign is leveraging trojaniz...</td>\n",
       "      <td>https://thehackernews.com/2024/06/oyster-backd...</td>\n",
       "      <td>1</td>\n",
       "      <td>a malvertising campaign is leveraging trojaniz...</td>\n",
       "    </tr>\n",
       "    <tr>\n",
       "      <th>998</th>\n",
       "      <td>6</td>\n",
       "      <td>NaN</td>\n",
       "      <td>[\"Jun\"]</td>\n",
       "      <td>SolarWinds Serv-U Vulnerability Under Active A...</td>\n",
       "      <td>NaN</td>\n",
       "      <td>A recently patched high-severity flaw impactin...</td>\n",
       "      <td>https://thehackernews.com/2024/06/solarwinds-s...</td>\n",
       "      <td>1</td>\n",
       "      <td>vulnerability is being exploited by malicious ...</td>\n",
       "    </tr>\n",
       "    <tr>\n",
       "      <th>999</th>\n",
       "      <td>6</td>\n",
       "      <td>NaN</td>\n",
       "      <td>[\"Jun\"]</td>\n",
       "      <td>U.S. Bans Kaspersky Software, Citing National ...</td>\n",
       "      <td>NaN</td>\n",
       "      <td>The U.S. Department of Commerce's Bureau of In...</td>\n",
       "      <td>https://thehackernews.com/2024/06/us-bans-kasp...</td>\n",
       "      <td>1</td>\n",
       "      <td>the ban extends to the cybersecurity company's...</td>\n",
       "    </tr>\n",
       "  </tbody>\n",
       "</table>\n",
       "<p>1000 rows × 9 columns</p>\n",
       "</div>"
      ],
      "text/plain": [
       "    source_id time_publish                      author  \\\n",
       "0           6          NaN  [\"Jun\", \"The Hacker News\"]   \n",
       "1           6          NaN  [\"Jun\", \"The Hacker News\"]   \n",
       "2           6          NaN                     [\"Jun\"]   \n",
       "3           6          NaN                     [\"Jun\"]   \n",
       "4           6          NaN                     [\"Jun\"]   \n",
       "..        ...          ...                         ...   \n",
       "995         6          NaN                     [\"Jun\"]   \n",
       "996         6          NaN  [\"Jun\", \"The Hacker News\"]   \n",
       "997         6          NaN                     [\"Jun\"]   \n",
       "998         6          NaN                     [\"Jun\"]   \n",
       "999         6          NaN                     [\"Jun\"]   \n",
       "\n",
       "                                                 title news_summary  \\\n",
       "0    Learn to Secure Petabyte-Scale Data in a Webin...          NaN   \n",
       "1    Why Regulated Industries are Turning to Milita...          NaN   \n",
       "2    ZKTeco Biometric System Found Vulnerable to 24...          NaN   \n",
       "3    North Korean Hackers Target Brazilian Fintech ...          NaN   \n",
       "4    Microsoft Delays AI-Powered Recall Feature for...          NaN   \n",
       "..                                                 ...          ...   \n",
       "995  Military-themed Email Scam Spreads Malware to ...          NaN   \n",
       "996  How to Use Tines's SOC Automation Capability M...          NaN   \n",
       "997  Oyster Backdoor Spreading via Trojanized Popul...          NaN   \n",
       "998  SolarWinds Serv-U Vulnerability Under Active A...          NaN   \n",
       "999  U.S. Bans Kaspersky Software, Citing National ...          NaN   \n",
       "\n",
       "                                             news_text  \\\n",
       "0    Data is growing faster than ever. Remember whe...   \n",
       "1    As cyber threats loom large and data breaches ...   \n",
       "2    An analysis of a hybrid biometric access syste...   \n",
       "3    Threat actors linked to North Korea have accou...   \n",
       "4    Microsoft on Thursday revealed that it's delay...   \n",
       "..                                                 ...   \n",
       "995  Cybersecurity researchers have shed light on a...   \n",
       "996  Created by John Tuckner and the team at automa...   \n",
       "997  A malvertising campaign is leveraging trojaniz...   \n",
       "998  A recently patched high-severity flaw impactin...   \n",
       "999  The U.S. Department of Commerce's Bureau of In...   \n",
       "\n",
       "                                              news_url crawl_id  \\\n",
       "0    https://thehackernews.com/2024/06/learn-to-sec...        1   \n",
       "1    https://thehackernews.com/2024/06/why-regulate...        1   \n",
       "2    https://thehackernews.com/2024/06/zkteco-biome...        1   \n",
       "3    https://thehackernews.com/2024/06/north-korean...        1   \n",
       "4    https://thehackernews.com/2024/06/microsoft-de...        1   \n",
       "..                                                 ...      ...   \n",
       "995  https://thehackernews.com/2024/06/military-the...        1   \n",
       "996  https://thehackernews.com/2024/02/how-to-use-t...        1   \n",
       "997  https://thehackernews.com/2024/06/oyster-backd...        1   \n",
       "998  https://thehackernews.com/2024/06/solarwinds-s...        1   \n",
       "999  https://thehackernews.com/2024/06/us-bans-kasp...        1   \n",
       "\n",
       "                                               summary  \n",
       "0    a panel of industry experts have not only face...  \n",
       "1    regulated industries are increasingly investin...  \n",
       "2    the 24 vulnerabilities span six SQL injections...  \n",
       "3    threat actors linked to north Korea have accou...  \n",
       "4    the company says it will shift from general av...  \n",
       "..                                                 ...  \n",
       "995  cybersecurity researchers have identified a ne...  \n",
       "996  the SOC Automation Capability Matrix (SOC ACM)...  \n",
       "997  a malvertising campaign is leveraging trojaniz...  \n",
       "998  vulnerability is being exploited by malicious ...  \n",
       "999  the ban extends to the cybersecurity company's...  \n",
       "\n",
       "[1000 rows x 9 columns]"
      ]
     },
     "execution_count": 13,
     "metadata": {},
     "output_type": "execute_result"
    }
   ],
   "source": [
    "df_out"
   ]
  },
  {
   "cell_type": "code",
   "execution_count": 43,
   "metadata": {},
   "outputs": [],
   "source": [
    "#summary = apply_model(input_text=article,model=model)"
   ]
  },
  {
   "cell_type": "code",
   "execution_count": 75,
   "metadata": {},
   "outputs": [
    {
     "name": "stdout",
     "output_type": "stream",
     "text": [
      "Original Text:\n",
      "---------------\n",
      "Recent supply chain cyber-attacks are prompting cyber security regulations in the financial sector to tighten compliance requirements, and other industries are expected to follow. Many companies still don't have efficient methods to manage related time-sensitive SaaS security and compliance tasks. Free SaaS risk assessment tools are an easy and practical way to bring visibility and initial control to SaaS sprawl and Shadow AI. These tools now offer incremental upgrades, helping security professionals meet their company budget or maturity level.\n",
      "\n",
      "Regulatory pressure, SaaS and AI proliferation, and increased risk of breaches or data leaks through 3rd party apps, make SaaS security one of the hottest areas for practitioners to learn and adopt. New regulations will require robust third-party SaaS risk lifecycle management that begins with SaaS service discovery and third-party risk management (TPRM) and ends with the requirement from CISOs to report incidents in their supply chain within 72 hours. Financial cyber regulations like NY-DFS and DORA rely on similar risk reduction principles despite using different terminologies.\n",
      "\n",
      "Lessons to Learn from Financial SaaS Security Requirements\n",
      "\n",
      "Security professionals who understand financial sector cyber compliance requirements are better equipped to manage their SaaS risk and handle various other compliance frameworks. These underlying principles, broadly categorized into four steps, are expected to be replicated across multiple industries. They provide an excellent template for using SaaS safely, which should be learned as a security best practice.\n",
      "\n",
      "*Mapping of NY-DFS Requirements to Four SaaS Security Steps\n",
      "\n",
      "1. Third-Party Discovery and Risk Management (TPRM)\n",
      "\n",
      "The SaaS security journey starts by identifying and mapping all third-party services used by the organization. These services need to be assessed for their importance to operations and their impact on non-public information (NPI), and they should be compared to a vendor reputation score (an outside-in risk evaluation). While many companies focus only on \"sanctioned applications\" vetted during the purchasing process, this approach doesn't keep pace with the quick adoption of SaaS and how it is used in organizations. A comprehensive security policy should also cover \"shadow IT,\" which refers to the unsanctioned apps adopted by individual employees, as well as free trials used across different teams. Both types of applications commonly expose NPI and provide backdoor access to the company's most confidential assets.\n",
      "\n",
      "2. Setting and Enforcing Risk Policies\n",
      "\n",
      "After assessing risk, security teams need to establish clear policies regarding approved and non-approved SaaS suppliers and the types of data that can be shared with these cloud-hosted services. Streamlined user education is crucial to ensure everyone understands these policies. Continuous enforcement, which has a particular significance in SaaS environments, is also required. The average employee uses 29 different apps, with frequent changes. Many companies still rely on periodic reviews and manual processes that can overlook the enforcement of shadow IT and applications added even minutes after a SaaS audit. It is important to note that CISOs remain accountable for any security incidents related to these late-onboarded or employee-used SaaS applications.\n",
      "\n",
      "3. Attack Surface Reduction\n",
      "\n",
      "Next, the focus shifts to attack surface management and reducing the number of approved providers. SaaS Security Posture Management (SSPM) solutions are powerful for this complex yet critical step. This includes hardening the initial configurations of the SaaS apps, with regulatory emphasis on multi-factor authentication (MFA), onboarding, and managing access rights for human and non-human identities through User Access Reviews. Advanced teams also monitor unused tokens and over-permissive applications, and manage information sharing. These aspects are critical to SaaS security but are only partially covered by regulations.\n",
      "\n",
      "4. Incident Detection and Response\n",
      "\n",
      "Despite all risk reduction steps, third parties can still experience breaches. Research by Wing revealed that nearly all 500 reviewed companies used at least one breached application in the past year. Financial regulators require CISOs to report supply chain incidents quickly (within 72 hours under NY-DFS and by the next business day under DORA). The interpretation of these requirements still needs to be tested, leaving many CISOs reliant on their suppliers' good practices when reporting events. With a market comprising 350,000 different SaaS applications and the challenges of shadow IT, robust supporting services are necessary for speedy recovery from events and compliance.\n",
      "\n",
      "SaaS Security for Everyone\n",
      "\n",
      "Organizations vary in their levels of SaaS security maturity, risk appetites, and investments in security labor and tools. Wing Security offers a free entry-level tool to discover and assess the risk of an organization's most used SaaS applications. They recently updated their entry-level Basic Tier to automate labor-intensive tasks critical for security teams. This new tier includes deep shadow IT discovery, policy setting and enforcement, and seamless workforce education about SaaS suppliers. Starting at $3,500 a year for smaller organizations, the Basic Tier offers a cost-effective entry point into SaaS security, with further upgrades available to enhance more protection use cases and reduce regulatory task costs.\n",
      "\n",
      "For many companies not yet using full SaaS security solutions, scalable tiering models provide an easy way to uncover risks and quickly show ROI. More advanced organizations will want Pro or full Enterprise Tiers to efficiently address and manage all four of the typical compliance steps detailed above.\n",
      "\n",
      "\n",
      "Generated Summary:\n",
      "---------------\n",
      "security tools are an easy and practical way to bring visibility and initial control to SaaS sprawl and Shadow AI. new regulations will require robust third-party SaaS risk lifecycle management. new regulations will require robust third-party SaaS risk management.\n"
     ]
    }
   ],
   "source": [
    "position = 7\n",
    "print(\"Original Text:\")\n",
    "print(\"---------------\")\n",
    "print(df_out['news_text'].iloc[position])\n",
    "print(\"\\n\\nGenerated Summary:\")\n",
    "print(\"---------------\")\n",
    "print(df_out['summary'].iloc[position])"
   ]
  },
  {
   "cell_type": "markdown",
   "metadata": {},
   "source": [
    "## Evaluate"
   ]
  },
  {
   "cell_type": "code",
   "execution_count": null,
   "metadata": {},
   "outputs": [],
   "source": []
  },
  {
   "cell_type": "markdown",
   "metadata": {},
   "source": [
    "### Categorize summaries"
   ]
  },
  {
   "cell_type": "markdown",
   "metadata": {},
   "source": [
    "#### _Categorization methods_"
   ]
  },
  {
   "cell_type": "code",
   "execution_count": 25,
   "metadata": {},
   "outputs": [],
   "source": [
    "from nltk.tokenize import sent_tokenize, word_tokenize \n",
    "\n",
    "#download all nltk modules when running for the first time\n",
    "#import nltk\n",
    "#nltk.download('all')\n",
    "# a specific module can be downloaded with this code:\n",
    "#nltk.download('modulename')\n",
    "\n",
    "# Tokenization\n",
    "#nltk.download('stopwords')\n",
    "#nltk.download('punkt_tab')\n",
    "from nltk.corpus import stopwords\n",
    "from nltk.tokenize import word_tokenize\n",
    "\n",
    "# stemming\n",
    "from nltk.stem import PorterStemmer\n",
    "from nltk.tokenize import word_tokenize\n",
    "\n",
    "#nltk.download('wordnet')\n",
    "from nltk.stem import WordNetLemmatizer\n",
    "\n",
    "# named entity recognition (ner) - nltk.ne_chunk()\n",
    "#nltk.download(\"maxent_ne_chunker\")\n",
    "#nltk.download(\"words\")\n",
    "\n",
    "# frequency distribution\n",
    "from nltk import FreqDist\n",
    "\n",
    "\n",
    "#from sqlalchemy.orm import Session\n",
    "#from sqlalchemy import select, text\n",
    "\n",
    "#import pandas as pd\n",
    "\n",
    "import plotly.graph_objects as go\n",
    "import plotly.express as px\n",
    "import plotly.figure_factory as ff\n",
    "import plotly.io as pio\n",
    "\n",
    "#import smtplib\n",
    "#from email.message import EmailMessage\n",
    "\n",
    "#import sys\n",
    "#import os\n",
    "import datetime as dt\n",
    "#import pdb"
   ]
  },
  {
   "cell_type": "code",
   "execution_count": 92,
   "metadata": {},
   "outputs": [
    {
     "name": "stderr",
     "output_type": "stream",
     "text": [
      "[nltk_data] Downloading package wordnet to /Users/bernd/nltk_data...\n"
     ]
    },
    {
     "data": {
      "text/plain": [
       "True"
      ]
     },
     "execution_count": 92,
     "metadata": {},
     "output_type": "execute_result"
    }
   ],
   "source": [
    "#import nltk\n",
    "#nltk.download('stopwords')\n",
    "#nltk.download('punkt_tab')\n",
    "#nltk.download('wordnet')"
   ]
  },
  {
   "cell_type": "code",
   "execution_count": 74,
   "metadata": {},
   "outputs": [],
   "source": [
    "def process_articles(articles):\n",
    "    \"\"\"\n",
    "    Assigns mulitple pieces of text to one string and processes it:\n",
    "    - stop word removal\n",
    "    - lemmatize\n",
    "\n",
    "    Input\n",
    "    articles (list): list of strings\n",
    "    Output\n",
    "    lemmatized_text (str): proccessed body of text\n",
    "    \"\"\"\n",
    "\n",
    "    # assign articles to one string\n",
    "    text=''\n",
    "    for article in articles:\n",
    "        text = text + article\n",
    "    # cleanse line breaks    \n",
    "    text = text.replace('\\n',' ')\n",
    "\n",
    "\n",
    "    # stop words\n",
    "    tok_text = word_tokenize(text=text, language=\"english\")\n",
    "    stop_words = set(stopwords.words(\"english\"))\n",
    "    filtered_text = [word for word in tok_text if word.casefold() not in stop_words]\n",
    "\n",
    "    # lemmatize\n",
    "    lemmatizer = WordNetLemmatizer()\n",
    "    lemmatized_text = [lemmatizer.lemmatize(word) for word in filtered_text]\n",
    "    \n",
    "    return lemmatized_text\n",
    "\n",
    "\n",
    "\n",
    "def generate_search_dictionary():\n",
    "    \"\"\"\n",
    "    Provides a dictionary with Cybersecurity keywords\n",
    "    Input\n",
    "    -\n",
    "    Output\n",
    "    terms_dict (dict): dictionary with Cybersecurity keywords\n",
    "    \"\"\"\n",
    "    # define content-specific lists of search terms\n",
    "    countries = ['North Korea', 'Russia', 'USA', 'Europe', 'Germany', 'Austria',\\\n",
    "                'China','China-sponsored']\n",
    "    threat_actors = ['8Base',\\\n",
    "                    'Anonymous Sudan','Storm-1359',\\\n",
    "                    'AvosLocker',\\\n",
    "                    'APT TA423',\\\n",
    "                    'BianLian',\\\n",
    "                    'BlackByte',\\\n",
    "                    'BloodNet',\\\n",
    "                    'BlackCat',\\\n",
    "                    # affiliate of Black Cat - US/UK financially motivated\n",
    "                    'Slippy Spider','Scattered Spider','Octapus','Octo Tempest','Scatter Swine','ALPHV','Oktapus','UNC3944','ALPHV/BlackCat',\\\n",
    "                    'Cactus',\\\n",
    "                    'Conti','Hiveleaks','BlackBasta',\\\n",
    "                    'Clop','CLOP',\\\n",
    "                    'Cyclop Group',\\\n",
    "                    'DarkSide',\\\n",
    "                    'Doppelpaymer',\\\n",
    "                    'DarkSide',\\\n",
    "                    'Egregor',\\\n",
    "                    'Everest',\\\n",
    "                    'farenetwork',\\\n",
    "                    'HelloKitty',\\\n",
    "                    'Hive',\\\n",
    "                    'INC Ransom',\\\n",
    "                    'KillNet',\\\n",
    "                    'Knight Ransomware',\\\n",
    "                    # Lazarus aliases\n",
    "                    'Lazarus','Hidden Cobra','TEMP.Hermit',\\\n",
    "                    # North Korean state sponsored (Non-Lazarus or Lazarus subgroups)\n",
    "                    'Andariel','BlueNoroff',\\\n",
    "                    'APT37','ScarCruft',\\\n",
    "                    'APT43','Kimsuky',\\\n",
    "                    'APT38','CryptoCore','TraderTraitor',\\\n",
    "                    'TEMP.Hermit','AppleJeus',\\\n",
    "                    # --- NK end\n",
    "                    'LockBit','LockBit3.0',\\\n",
    "                    'Maze',\\\n",
    "                    'Medusa',\\\n",
    "                    'Metaencryptor',\\\n",
    "                    'Mirai',\\\n",
    "                    'MysteriousBangladesh',\\\n",
    "                    #Iranian nation-state actor\n",
    "                    'MuddyWater',\\\n",
    "                    #other Iranian clusters\n",
    "                    'OilRig','Lyceum','Agrius','ScarredManticore',\\\n",
    "                    'NetWalker',\\\n",
    "                    'Nokoyawa',\\\n",
    "                    'NoName',\\\n",
    "                    'PLAY',\\\n",
    "                    'Qilin',\\\n",
    "                    'Ragnar Locker',\\\n",
    "                    'RansomHouse',\\\n",
    "                    'Rhysida',\\\n",
    "                    'REvil',\\\n",
    "                    'Royal',\\\n",
    "                    'Ryuk',\\\n",
    "                    'Snatch',\\\n",
    "                    'ThreeAM',\\\n",
    "                    'UserSec',\\\n",
    "                    'Vice Society','VICE SOCIETY',\\\n",
    "                    'Void Rabisu','Storm-0978','Tropical Scorpius','UNC2596',\\\n",
    "                    'Quantum',\\\n",
    "                    'Qakbot','Qbot',\\\n",
    "                    'MedusaLocker']\n",
    "    attacks = ['ransomware','RaaS', 'phishing', 'lateral movement',\\\n",
    "               'social engineering','phishing kit','botnet',\\\n",
    "               'credential theft','identity threat','SQL injection','command injection']\n",
    "    malware = ['Berbew',\\\n",
    "               'RomCom RAT',\\\n",
    "               # North Korea state sponsored (see e.g., \"Lazarus\")\n",
    "               'RokRAT','BlueLight',\\\n",
    "               'PEAPOD',\\\n",
    "               'Cuba ransomware',\\\n",
    "               'SparkRAT']\n",
    "    industries = ['financial institution','fintech',\\\n",
    "                'hotel','tourism',\\\n",
    "                'medical','doctors','healthcare','HIPAA','pharmacy',\\\n",
    "                'lawyer',\\\n",
    "                'retail',\\\n",
    "                'small business','SME']\n",
    "    topics = ['API','threat intelligence','threat',\\\n",
    "            'OSINT','brand reputation','social media',\\\n",
    "            'forensics','security awareness',\\\n",
    "            'data science','artificial intelligence',\\\n",
    "            'password','MFA','authentication',\\\n",
    "            'incidence response','threat hunting']\n",
    "    researchers = ['Arctic Wolf',\\\n",
    "                'Certitude',\\\n",
    "                'BreachLock',\\\n",
    "                'Trend Micro',\\\n",
    "                'Cyble']\n",
    "    vulnerabilities = ['CVE','CVSS',\\\n",
    "                       'CVE-2024','CVE-2023','CVE-2022','CVE-2021','CVE-2020'\\\n",
    "                    'Atlassian','Confluence']\n",
    "    operating_systems = ['Linux','Windows','iOS','MacOS']\n",
    "\n",
    "    terms_dict = {'countries':countries,\\\n",
    "                'threat_actors':threat_actors,\\\n",
    "                'attacks':attacks,\\\n",
    "                'malware':malware,\\\n",
    "                'industries':industries,\\\n",
    "                'researchers':researchers,\\\n",
    "                'vulnerabilities':vulnerabilities,\\\n",
    "                'topics':topics,\\\n",
    "                'operating_systems': operating_systems}\n",
    "    \n",
    "    return terms_dict\n",
    "\n",
    "\n",
    "\n",
    "\n",
    "def search_dict_frequencies(articles, terms_dict):\n",
    "    \"\"\"\n",
    "    Counts the frequencies of words of a provided terms_dict in a body of text (articles)\n",
    "    - processes the input texts with process_articles\n",
    "    \n",
    "    Input\n",
    "    articles (str): body of text which is searched\n",
    "    terms_dict (dict): dictionary of keywords which are searched in the text\n",
    "    Output\n",
    "    filtered dict (dict): dictionary with matched keywords only\n",
    "    \"\"\"\n",
    "\n",
    "    print('\\n...lemmatizing text')\n",
    "    lemmatized_text = process_articles(articles)\n",
    "\n",
    "    # Join the lemmatized text into a single string for phrase searching\n",
    "    combined_text = ' '.join(lemmatized_text).lower()\n",
    "\n",
    "    # extract dictionary with frequencies of search terms\n",
    "    print('...counting frequencies of words in terms_dict')\n",
    "    out_outer_dict={}\n",
    "    for area,search_terms in terms_dict.items():\n",
    "        out_dict={}    \n",
    "        for item in search_terms:        \n",
    "            #count = len([element for element in lemmatized_text\\\n",
    "            #            if item.lower() in element.lower()])\n",
    "            \n",
    "            # Count occurrences of each term (including multi-word terms)\n",
    "            count = combined_text.count(item.lower())\n",
    "\n",
    "            out_dict[item]=count\n",
    "        out_outer_dict[area]=out_dict\n",
    "    \n",
    "\n",
    "    print('...returning terms with results')\n",
    "    filtered_dict={}\n",
    "    unfiltered_dict={}\n",
    "    for area,terms in out_outer_dict.items():\n",
    "        filtered_dict[area] = {key:value for key,value in terms.items() if value>0}\n",
    "        unfiltered_dict[area] = {key:value for key,value in terms.items()}\n",
    "    \n",
    "    return unfiltered_dict, filtered_dict"
   ]
  },
  {
   "cell_type": "code",
   "execution_count": 75,
   "metadata": {},
   "outputs": [
    {
     "data": {
      "text/plain": [
       "['a panel of industry experts have not only faced these challenges but conquered them. join us for an exclusive webinar, \"Data Security at the Petabyte Scale\"',\n",
       " 'regulated industries are increasingly investing in military-grade cyber defenses. government and finance industries are subject to strict regulatory standards. non-compliance with these regulations can result in severe penalties, legal repercussions, and damage to reputation.',\n",
       " 'the 24 vulnerabilities span six SQL injections, seven stack-based buffer overflows, five command injections, four arbitrary file writes, and two arbitrary file reads. the vulnerability is a set of arbitrary file read flaws that allows an attacker to bypass security checks and access any file on the system. the vulnerability is a set of stack-based buffer overflow flaws that allows an attacker to execute arbitrary code.',\n",
       " 'threat actors linked to north Korea have accounted for one-third of phishing activity targeting Brazil. the group has targeted the government and the aerospace, technology, and financial services sectors. the group has targeted a number of companies including a tv network.',\n",
       " 'the company says it will shift from general availability to a preview available first in the Windows Insider Program. the move highlights the growing scrutiny and caution surrounding the deployment of AI capabilities. the move comes days after apple unveiled a new methodology called Private and Private.',\n",
       " 'sleepy pickle is a stealthy and novel attack technique that targets the ML model itself. the attack method is used to package and distribute machine learning models to corrupt the model itself. the approach could be used to generate harmful outputs or misinformation.',\n",
       " 'a mobile espionage campaign has been attributed to a trojanized app. the malware is distributed through dedicated websites impersonating messaging apps. the activity is said to have spanned as many as five campaigns since 2022.',\n",
       " 'security tools are an easy and practical way to bring visibility and initial control to SaaS sprawl and Shadow AI. new regulations will require robust third-party SaaS risk lifecycle management. new regulations will require robust third-party SaaS risk management.',\n",
       " 'the threat actors have been linked to a long-running malware campaign. the attack entails the use of an Android malware called GravityRAT. the attack is attributed to an adversary it tracks under the moniker Cosmic Leopard.',\n",
       " 'the nascent malware known as SSLoad is being delivered by a previously undocumented loader called PhantomLoader. the malware is likely offered to other threat actors under a Malware-as-a-Service model. the malware has been detected since April 2024.',\n",
       " 'the unnamed 28-year-old is accused of offering their services to the Conti and Conti ransomware groups. the product is believed to have been offered to the syndicates that then used the crypter to disguise the file-encrypting malware. the defendant is expected to face up to 15 years in prison if found guilty.',\n",
       " 'the high-severity vulnerability has been described as an elevation of privilege issue. the vulnerability is tagged as CVE-2024-32896. the security update addresses a total of 50 security vulnerabilities.',\n",
       " 'a previously undocumented cross-platform malware codenamed Noodle RAT has been put to use by Chinese-speaking threat actors. the malware comes in both Windows and Linux flavors and is believed to have been put to use since at least 2016. the malware has been used by different cybercrime and espionage clusters linked to China.',\n",
       " 'cybersecurity researchers warn of ongoing cryptojacking campaign. the attack is a gruelling operation that was first documented by CrowdStrike in march 2023. the attack is an attempt to pass off as the actual \"pause\" container.',\n",
       " \"two large organizations suffered a data breach, identifying unauthorized activity. the breach could expose the personal information of a massive swath of a live event company's clientele. the cloud data company Snowflake counts among its users both organizations.\",\n",
       " 'the vulnerability is an elevation of privilege bug in the Windows Error Reporting Service. it was patched by Microsoft in march 2024. the vulnerability is known to monetize access by deploying the black Basta ransomware.',\n",
       " 'a backdoor is a phishing campaign that leverages recruiting- and job-themed lures. the backdoor comes with capabilities to fingerprint infected machines, capture screenshots, and drop more malicious programs. the company is tracking the activity under the name REF6127.',\n",
       " 'the attack paved the way for the deployment of a backdoor codenamed COATHANGER. the attack paved the way for the deployment of a backdoor codenamed COATHANGER. the attack paved the way for the deployment of a backdoor codenamed COATHANGER.',\n",
       " \"a third-party advisory tracked as CVE-2023-50868. the vulnerability is a denial-of-service issue that could cause CPU exhaustion. the most severe flaws fixed in this month's update is a critical remote code execution flaw.\",\n",
       " \"Cynet's All-in-One Cybersecurity Platform empowers MSPs to provide a full breach protection service with a single tool, backed by 24/7 expert support, for rapid profit. the single-platform approach reduces the burden of training and makes deployment easier for MSP technicians, freeing up valuable time and resources for revenue-generating priorities.\",\n",
       " 'cybersecurity researchers have shed more light on a secShow codenamed secShow. the adversary operates from the China Education and Research Network. the project is funded by the government.',\n",
       " 'vPenTest, an automated network penetration testing platform, released its annual report. the top 10 internal network pentest findings are at over 1,200 organizations. the most effective method for preventing exploitation is to disable mDNS altogether if it is not being used.',\n",
       " 'apple unveils a \"groundbreaking cloud intelligence system\" called Private Cloud Compute. the technology is designed for processing artificial intelligence (AI) tasks in a privacy-preserving manner. the technology is designed to offload complex requests that require more processing power to the cloud.',\n",
       " 'a new version of malware called ValleyRAT is being distributed as part of a new campaign. the malware is being used to capture screenshots, process filtering, forced shutdown. the malware has been assessed to be the work of a Chinese-based threat actor.',\n",
       " 'as many as 165 customers of Snowflake have had their information exposed. the campaign stems from compromised customer credentials purchased from cybercrime forums. the company has more than 9,820 global customers.',\n",
       " 'the vulnerability has been addressed in the following products. the vulnerability has been addressed in the past. the vulnerability has been addressed in the past.',\n",
       " 'cybersecurity researchers spotted a phishing attack distributing the malware. the attack targeted an unnamed company in the industrial services industry. the attack was unsuccessful, but was unsuccessful.',\n",
       " 'Continuing professional education (CPEs) is a key component of certification. Continuing professional education is a key component of certification. a Continuing Professional Education (CPE) is a key component of certification.',\n",
       " 'the vulnerability stems from the fact that some of the Azure services allow inbound traffic via a service tag. the vulnerability enables an attacker to control server-side requests. the vulnerability is not enough to secure traffic without considering the nature of the service.',\n",
       " 'google took down 1,320 YouTube channels and 1,177 Blogger blogs. the company also terminated Ads, AdSense, and Blogger accounts. the company also terminated one AdSense account and blocked 10 domains from showing up.',\n",
       " 'phishing attacks targeted pharmaceutical company, a Russian research institute. the group is believed to be active since at least April 2023. previous attacks documented by the cybersecurity firm leveraged phishing emails.',\n",
       " 'deVCORE says it has detected exploitation attempts involving the flaw. the vulnerability is a CGI argument injection vulnerability affecting all versions of PHP. the vulnerability is a vulnerability affecting all versions of PHP installed on the Windows operating system.',\n",
       " 'Microsoft will disable its artificial intelligence (AI)-powered Recall feature by default. the feature is currently in preview and coming exclusively to Copilot+ PCs on June 18, 2024. the feature was met with instantaneous backlash from the security and privacy community.',\n",
       " 'a webinar will reveal how to optimize your cyber hygiene and compliance costs. a CIS SecureSuite membership can save you time and money. register now and take first step towards a more secure future.',\n",
       " \"researchers analyzed the malware's artifacts. the malware is a previously undocumented macOS variant. the malware is likely to infect Android, iOS, Windows, macOS, Linux.\",\n",
       " 'traditional SCA tools are breaking new ground, helping organizations stay secure. a comprehensive overview of the tools of tomorrow will give the reader a deep dive into the tools of today. traditional SCA tools overlook this vector, allowing the nightmare to become a reality.',\n",
       " \"google urges third-party apps to incorporate generative artificial intelligence features. the new guidance is an effort to combat problematic content created through such tools. apps that generate content using AI must ensure they don't create Restricted Content.\",\n",
       " 'the fbi has a database of more than 7,000 decryption keys. the operation has been linked to more than 2,400 attacks globally. the gang is now in possession of more than 1,800 keyholders.',\n",
       " 'SPECTR is known to have been used by the threat actor since 2019. SPECTR is part of an espionage campaign dubbed SickSync. CERT-UA says the attack is a threat actor it tracks under the moniker.',\n",
       " 'attackers used cmd.cat/chattr docker image container to retrieve payload. the attack is characterized by the targeting of misconfigured Docker remote API servers. the binary is suspected to be ZiggyStarTux, an open-source IRC bot.',\n",
       " 'muhstik botnet exploits a critical Apache RocketMQ flaw (CVE-2023-33246) for remote code execution. infection involves executing a shell script from a remote IP. infection involves executing a shell script from a remote IP.',\n",
       " \"cybersixgill's threat experts are a leading threat to organizations. they are aimed at preventing unauthorized access to systems or networks. the threat actors can infiltrate and disrupt operations, causing cascading effects.\",\n",
       " \"threat actors are working hard to link leaked credentials back to real-life individuals. a threat actor will use his legitimate email account to send a spear-phishing link to his CEO. a common account takeover scenario where malicious attackers gain unauthorized access to the organization's systems.\",\n",
       " 'threat actors are increasingly abusing legitimate packer software such as BoxedApp. the bulk of the samples submitted to the VirusTotal malware scanning platform saw a spike around may 2023. the bulk of the samples were submitted to the Google-owned VirusTotal malware scanning platform.',\n",
       " \"Google plans to store Maps Timeline data on users' devices. the changes were originally announced by the tech giant in December 2023. the company has also said it's removing the ability to view the data on the web.\",\n",
       " 'cybersecurity researchers have discovered a malicious Python package. the package is crytic-compilers, a typosquatted version of a legitimate library. the package was downloaded 441 times before it was taken down by PyPI maintainers.',\n",
       " 'a high-profile government organization in Southeast Asia is the target of a \"complex, long-running\" cyber espionage operation. the attack is notable for the use of undocumented malware like PocoProxy. the attack is notable for the use of undocumented malware like PocoProxy.',\n",
       " 'a report from the state of SaaS security report has proven accurate. the report will address several threats and best practices in the SaaS domain. the report will address these issues and offer practical tips and best practices.',\n",
       " \"ransomware-as-a-service (RaaS) operation shut down as of late February 2024. it's an evolution of another ransomware known as Cyclops. it's operational across multiple platforms, including Windows, Linux, macOS, ESXi.\",\n",
       " \"vulnerability affecting two of its network-attached storage devices. successful exploitation of three of the five vulnerabilities could permit an unauthenticated attacker to execute operating system commands. vulnerability is a command injection vulnerability in the'setCookie' parameter.\",\n",
       " 'the breach was discovered on august 17, 2022. the breach was uncovered on august 17, 2022. the breach could spell more trouble down the line.',\n",
       " 'threat actor TA423 / Red Ladon is believed to be the china-based threat actor. the attack is likely carried out by a chinese threat actor. the attack is targeted messages that supposedly link back to australian news websites.',\n",
       " \"0ktapus attacks targeted telecommunications companies. 0ktapus attackers targeted telecommunications companies. 0ktapus' ultimate goal was to access company mailing lists or customer-facing systems.\",\n",
       " 'researchers from the NCC Group counted 198 successful ransomware campaigns in July. the resurgence is being led by old ransomware-as-a-service (RaaS) groups. the group is by far the most prolific ransomware gang in July.',\n",
       " '80,000 cameras in the world today are vulnerable to an 11 month-old command injection flaw. the exploit was given a 9.8 out of 10 rating by the nist. the vulnerability is endemic to the industry, not just Hikvision.',\n",
       " 'peiter \"mudge\" Zatko accused twitter of a litany of poor security and privacy practices. he alleges the company\\'s actions amount to a national security risk. Zatko is a respected white-hat hacker who served as Twitter\\'s head of security for roughly 15 months between 2020 and 2022.',\n",
       " 'software running Palo Alto Networks’ firewalls is under attack. federal agencies urged to patch the bug by September 9. flaw could be used by remote hackers to carry out reflected and amplified denial-of-service (RDoS) attacks without having to authenticate targeted systems.',\n",
       " 'TA558 has ramped up campaigns to exploit an uptick in travel and related airline and hotel bookings. security researchers say TA558 cybercriminals have revamped their 2018 campaigns with fake reservation emails. if clicked, the targeted victim would have to be tricked into decompressing the file archive.',\n",
       " 'apple is urging macOS, iPhone and iPad users to install respective updates this week. patches are for vulnerabilities that allow attackers to execute arbitrary code. one flaw is a kernel bug (CVE-2022-32894), which is present both in iOS and macOS.',\n",
       " 'an insufficient validation input flaw is associated with \"insufficient validation of untrusted input in Intents\" the bug is one of 11 patched in an update this week. it is one of 11 active exploited zero-day vulnerabilities discovered in chrome this year.',\n",
       " 'noyb says privacy is a better option than invasive third-party tracking. the company says it is using dark patterns to increase consent rates. noyb says it is trying to deprecate third-party cookies in its Chrome browser.',\n",
       " 'a panel of industry experts have not only faced these challenges but conquered them. join us for an exclusive webinar, \"Data Security at the Petabyte Scale\"',\n",
       " 'regulated industries are increasingly investing in military-grade cyber defenses. government and finance industries are subject to strict regulatory standards. non-compliance with these regulations can result in severe penalties, legal repercussions, and damage to reputation.',\n",
       " 'the 24 vulnerabilities span six SQL injections, seven stack-based buffer overflows, five command injections, four arbitrary file writes, and two arbitrary file reads. the vulnerability is a set of arbitrary file read flaws that allows an attacker to bypass security checks and access any file on the system. the vulnerability is a set of stack-based buffer overflow flaws that allows an attacker to execute arbitrary code.',\n",
       " 'threat actors linked to north Korea have accounted for one-third of phishing activity targeting Brazil. the group has targeted the government and the aerospace, technology, and financial services sectors. the group has targeted a number of companies including a tv network.',\n",
       " 'the company says it will shift from general availability to a preview available first in the Windows Insider Program. the move highlights the growing scrutiny and caution surrounding the deployment of AI capabilities. the move comes days after apple unveiled a new methodology called Private and Private.',\n",
       " 'sleepy pickle is a stealthy and novel attack technique that targets the ML model itself. the attack method is used to package and distribute machine learning models to corrupt the model itself. the approach could be used to generate harmful outputs or misinformation.',\n",
       " 'a mobile espionage campaign has been attributed to a trojanized app. the malware is distributed through dedicated websites impersonating messaging apps. the activity is said to have spanned as many as five campaigns since 2022.',\n",
       " 'security tools are an easy and practical way to bring visibility and initial control to SaaS sprawl and Shadow AI. new regulations will require robust third-party SaaS risk lifecycle management. new regulations will require robust third-party SaaS risk management.',\n",
       " 'the threat actors have been linked to a long-running malware campaign. the attack entails the use of an Android malware called GravityRAT. the attack is attributed to an adversary it tracks under the moniker Cosmic Leopard.',\n",
       " 'the nascent malware known as SSLoad is being delivered by a previously undocumented loader called PhantomLoader. the malware is likely offered to other threat actors under a Malware-as-a-Service model. the malware has been detected since April 2024.',\n",
       " 'the unnamed 28-year-old is accused of offering their services to the Conti and Conti ransomware groups. the product is believed to have been offered to the syndicates that then used the crypter to disguise the file-encrypting malware. the defendant is expected to face up to 15 years in prison if found guilty.',\n",
       " 'the high-severity vulnerability has been described as an elevation of privilege issue. the vulnerability is tagged as CVE-2024-32896. the security update addresses a total of 50 security vulnerabilities.',\n",
       " 'a previously undocumented cross-platform malware codenamed Noodle RAT has been put to use by Chinese-speaking threat actors. the malware comes in both Windows and Linux flavors and is believed to have been put to use since at least 2016. the malware has been used by different cybercrime and espionage clusters linked to China.',\n",
       " 'cybersecurity researchers warn of ongoing cryptojacking campaign. the attack is a gruelling operation that was first documented by CrowdStrike in march 2023. the attack is an attempt to pass off as the actual \"pause\" container.',\n",
       " \"two large organizations suffered a data breach, identifying unauthorized activity. the breach could expose the personal information of a massive swath of a live event company's clientele. the cloud data company Snowflake counts among its users both organizations.\",\n",
       " 'the vulnerability is an elevation of privilege bug in the Windows Error Reporting Service. it was patched by Microsoft in march 2024. the vulnerability is known to monetize access by deploying the black Basta ransomware.',\n",
       " 'a backdoor is a phishing campaign that leverages recruiting- and job-themed lures. the backdoor comes with capabilities to fingerprint infected machines, capture screenshots, and drop more malicious programs. the company is tracking the activity under the name REF6127.',\n",
       " 'the attack paved the way for the deployment of a backdoor codenamed COATHANGER. the attack paved the way for the deployment of a backdoor codenamed COATHANGER. the attack paved the way for the deployment of a backdoor codenamed COATHANGER.',\n",
       " \"a third-party advisory tracked as CVE-2023-50868. the vulnerability is a denial-of-service issue that could cause CPU exhaustion. the most severe flaws fixed in this month's update is a critical remote code execution flaw.\",\n",
       " \"Cynet's All-in-One Cybersecurity Platform empowers MSPs to provide a full breach protection service with a single tool, backed by 24/7 expert support, for rapid profit. the single-platform approach reduces the burden of training and makes deployment easier for MSP technicians, freeing up valuable time and resources for revenue-generating priorities.\",\n",
       " 'cybersecurity researchers have shed more light on a secShow codenamed secShow. the adversary operates from the China Education and Research Network. the project is funded by the government.',\n",
       " 'vPenTest, an automated network penetration testing platform, released its annual report. the top 10 internal network pentest findings are at over 1,200 organizations. the most effective method for preventing exploitation is to disable mDNS altogether if it is not being used.',\n",
       " 'apple unveils a \"groundbreaking cloud intelligence system\" called Private Cloud Compute. the technology is designed for processing artificial intelligence (AI) tasks in a privacy-preserving manner. the technology is designed to offload complex requests that require more processing power to the cloud.',\n",
       " 'a new version of malware called ValleyRAT is being distributed as part of a new campaign. the malware is being used to capture screenshots, process filtering, forced shutdown. the malware has been assessed to be the work of a Chinese-based threat actor.',\n",
       " 'as many as 165 customers of Snowflake have had their information exposed. the campaign stems from compromised customer credentials purchased from cybercrime forums. the company has more than 9,820 global customers.',\n",
       " 'the vulnerability has been addressed in the following products. the vulnerability has been addressed in the past. the vulnerability has been addressed in the past.',\n",
       " 'cybersecurity researchers spotted a phishing attack distributing the malware. the attack targeted an unnamed company in the industrial services industry. the attack was unsuccessful, but was unsuccessful.',\n",
       " 'Continuing professional education (CPEs) is a key component of certification. Continuing professional education is a key component of certification. a Continuing Professional Education (CPE) is a key component of certification.',\n",
       " 'the vulnerability stems from the fact that some of the Azure services allow inbound traffic via a service tag. the vulnerability enables an attacker to control server-side requests. the vulnerability is not enough to secure traffic without considering the nature of the service.',\n",
       " 'google took down 1,320 YouTube channels and 1,177 Blogger blogs. the company also terminated Ads, AdSense, and Blogger accounts. the company also terminated one AdSense account and blocked 10 domains from showing up.',\n",
       " 'phishing attacks targeted pharmaceutical company, a Russian research institute. the group is believed to be active since at least April 2023. previous attacks documented by the cybersecurity firm leveraged phishing emails.',\n",
       " 'deVCORE says it has detected exploitation attempts involving the flaw. the vulnerability is a CGI argument injection vulnerability affecting all versions of PHP. the vulnerability is a vulnerability affecting all versions of PHP installed on the Windows operating system.',\n",
       " 'Microsoft will disable its artificial intelligence (AI)-powered Recall feature by default. the feature is currently in preview and coming exclusively to Copilot+ PCs on June 18, 2024. the feature was met with instantaneous backlash from the security and privacy community.',\n",
       " 'a webinar will reveal how to optimize your cyber hygiene and compliance costs. a CIS SecureSuite membership can save you time and money. register now and take first step towards a more secure future.',\n",
       " \"researchers analyzed the malware's artifacts. the malware is a previously undocumented macOS variant. the malware is likely to infect Android, iOS, Windows, macOS, Linux.\",\n",
       " 'traditional SCA tools are breaking new ground, helping organizations stay secure. a comprehensive overview of the tools of tomorrow will give the reader a deep dive into the tools of today. traditional SCA tools overlook this vector, allowing the nightmare to become a reality.',\n",
       " \"google urges third-party apps to incorporate generative artificial intelligence features. the new guidance is an effort to combat problematic content created through such tools. apps that generate content using AI must ensure they don't create Restricted Content.\",\n",
       " 'the fbi has a database of more than 7,000 decryption keys. the operation has been linked to more than 2,400 attacks globally. the gang is now in possession of more than 1,800 keyholders.',\n",
       " 'SPECTR is known to have been used by the threat actor since 2019. SPECTR is part of an espionage campaign dubbed SickSync. CERT-UA says the attack is a threat actor it tracks under the moniker.']"
      ]
     },
     "execution_count": 75,
     "metadata": {},
     "output_type": "execute_result"
    }
   ],
   "source": [
    "# Number of articles per keyword\n",
    "# ------------------------------\n",
    "\n",
    "#df_out\n",
    "articles_list = list(df_out['summary'])\n",
    "articles_list[0:100]"
   ]
  },
  {
   "cell_type": "code",
   "execution_count": 69,
   "metadata": {},
   "outputs": [
    {
     "data": {
      "text/plain": [
       "1000"
      ]
     },
     "execution_count": 69,
     "metadata": {},
     "output_type": "execute_result"
    }
   ],
   "source": [
    "len(articles_list)"
   ]
  },
  {
   "cell_type": "code",
   "execution_count": 76,
   "metadata": {},
   "outputs": [
    {
     "name": "stdout",
     "output_type": "stream",
     "text": [
      "{'countries': ['North Korea', 'Russia', 'USA', 'Europe', 'Germany', 'Austria', 'China', 'China-sponsored'], 'threat_actors': ['8Base', 'Anonymous Sudan', 'Storm-1359', 'AvosLocker', 'APT TA423', 'BianLian', 'BlackByte', 'BloodNet', 'BlackCat', 'Slippy Spider', 'Scattered Spider', 'Octapus', 'Octo Tempest', 'Scatter Swine', 'ALPHV', 'Oktapus', 'UNC3944', 'ALPHV/BlackCat', 'Cactus', 'Conti', 'Hiveleaks', 'BlackBasta', 'Clop', 'CLOP', 'Cyclop Group', 'DarkSide', 'Doppelpaymer', 'DarkSide', 'Egregor', 'Everest', 'farenetwork', 'HelloKitty', 'Hive', 'INC Ransom', 'KillNet', 'Knight Ransomware', 'Lazarus', 'Hidden Cobra', 'TEMP.Hermit', 'Andariel', 'BlueNoroff', 'APT37', 'ScarCruft', 'APT43', 'Kimsuky', 'APT38', 'CryptoCore', 'TraderTraitor', 'TEMP.Hermit', 'AppleJeus', 'LockBit', 'LockBit3.0', 'Maze', 'Medusa', 'Metaencryptor', 'Mirai', 'MysteriousBangladesh', 'MuddyWater', 'OilRig', 'Lyceum', 'Agrius', 'ScarredManticore', 'NetWalker', 'Nokoyawa', 'NoName', 'PLAY', 'Qilin', 'Ragnar Locker', 'RansomHouse', 'Rhysida', 'REvil', 'Royal', 'Ryuk', 'Snatch', 'ThreeAM', 'UserSec', 'Vice Society', 'VICE SOCIETY', 'Void Rabisu', 'Storm-0978', 'Tropical Scorpius', 'UNC2596', 'Quantum', 'Qakbot', 'Qbot', 'MedusaLocker'], 'attacks': ['ransomware', 'RaaS', 'phishing', 'lateral movement', 'social engineering', 'phishing kit', 'botnet', 'credential theft', 'identity threat', 'SQL injection', 'command injection'], 'malware': ['Berbew', 'RomCom RAT', 'RokRAT', 'BlueLight', 'PEAPOD', 'Cuba ransomware', 'SparkRAT'], 'industries': ['financial institution', 'fintech', 'hotel', 'tourism', 'medical', 'doctors', 'healthcare', 'HIPAA', 'pharmacy', 'lawyer', 'retail', 'small business', 'SME'], 'researchers': ['Arctic Wolf', 'Certitude', 'BreachLock', 'Trend Micro', 'Cyble'], 'vulnerabilities': ['CVE', 'CVSS', 'CVE-2024', 'CVE-2023', 'CVE-2022', 'CVE-2021', 'CVE-2020Atlassian', 'Confluence'], 'topics': ['API', 'threat intelligence', 'threat', 'OSINT', 'brand reputation', 'social media', 'forensics', 'security awareness', 'data science', 'artificial intelligence', 'password', 'MFA', 'authentication', 'incidence response', 'threat hunting'], 'operating_systems': ['Linux', 'Windows', 'iOS', 'MacOS']}\n"
     ]
    }
   ],
   "source": [
    "# define search dictionary\n",
    "search_dictionary = generate_search_dictionary()\n",
    "print(search_dictionary)"
   ]
  },
  {
   "cell_type": "code",
   "execution_count": 77,
   "metadata": {},
   "outputs": [
    {
     "name": "stdout",
     "output_type": "stream",
     "text": [
      "\n",
      "...lemmatizing text\n",
      "...counting frequencies of words in terms_dict\n",
      "...returning terms with results\n",
      "{'countries': {'North Korea': 13, 'Russia': 30, 'China': 32}, 'threat_actors': {'Conti': 48, 'Clop': 2, 'CLOP': 2, 'Hive': 16, 'Kimsuky': 1}, 'attacks': {'ransomware': 79, 'RaaS': 18, 'phishing': 78, 'social engineering': 24, 'botnet': 20, 'SQL injection': 13, 'command injection': 31}, 'malware': {}, 'industries': {'hotel': 16, 'medical': 3}, 'researchers': {}, 'vulnerabilities': {'CVE': 71, 'CVSS': 24, 'CVE-2024': 41, 'CVE-2023': 14, 'CVE-2022': 16}, 'topics': {'API': 35, 'threat intelligence': 9, 'threat': 293, 'artificial intelligence': 21, 'authentication': 1}, 'operating_systems': {'Linux': 10, 'Windows': 40, 'iOS': 22, 'MacOS': 46}}\n",
      "{'countries': {'North Korea': 13, 'Russia': 30, 'USA': 0, 'Europe': 0, 'Germany': 0, 'Austria': 0, 'China': 32, 'China-sponsored': 0}, 'threat_actors': {'8Base': 0, 'Anonymous Sudan': 0, 'Storm-1359': 0, 'AvosLocker': 0, 'APT TA423': 0, 'BianLian': 0, 'BlackByte': 0, 'BloodNet': 0, 'BlackCat': 0, 'Slippy Spider': 0, 'Scattered Spider': 0, 'Octapus': 0, 'Octo Tempest': 0, 'Scatter Swine': 0, 'ALPHV': 0, 'Oktapus': 0, 'UNC3944': 0, 'ALPHV/BlackCat': 0, 'Cactus': 0, 'Conti': 48, 'Hiveleaks': 0, 'BlackBasta': 0, 'Clop': 2, 'CLOP': 2, 'Cyclop Group': 0, 'DarkSide': 0, 'Doppelpaymer': 0, 'Egregor': 0, 'Everest': 0, 'farenetwork': 0, 'HelloKitty': 0, 'Hive': 16, 'INC Ransom': 0, 'KillNet': 0, 'Knight Ransomware': 0, 'Lazarus': 0, 'Hidden Cobra': 0, 'TEMP.Hermit': 0, 'Andariel': 0, 'BlueNoroff': 0, 'APT37': 0, 'ScarCruft': 0, 'APT43': 0, 'Kimsuky': 1, 'APT38': 0, 'CryptoCore': 0, 'TraderTraitor': 0, 'AppleJeus': 0, 'LockBit': 0, 'LockBit3.0': 0, 'Maze': 0, 'Medusa': 0, 'Metaencryptor': 0, 'Mirai': 0, 'MysteriousBangladesh': 0, 'MuddyWater': 0, 'OilRig': 0, 'Lyceum': 0, 'Agrius': 0, 'ScarredManticore': 0, 'NetWalker': 0, 'Nokoyawa': 0, 'NoName': 0, 'PLAY': 0, 'Qilin': 0, 'Ragnar Locker': 0, 'RansomHouse': 0, 'Rhysida': 0, 'REvil': 0, 'Royal': 0, 'Ryuk': 0, 'Snatch': 0, 'ThreeAM': 0, 'UserSec': 0, 'Vice Society': 0, 'VICE SOCIETY': 0, 'Void Rabisu': 0, 'Storm-0978': 0, 'Tropical Scorpius': 0, 'UNC2596': 0, 'Quantum': 0, 'Qakbot': 0, 'Qbot': 0, 'MedusaLocker': 0}, 'attacks': {'ransomware': 79, 'RaaS': 18, 'phishing': 78, 'lateral movement': 0, 'social engineering': 24, 'phishing kit': 0, 'botnet': 20, 'credential theft': 0, 'identity threat': 0, 'SQL injection': 13, 'command injection': 31}, 'malware': {'Berbew': 0, 'RomCom RAT': 0, 'RokRAT': 0, 'BlueLight': 0, 'PEAPOD': 0, 'Cuba ransomware': 0, 'SparkRAT': 0}, 'industries': {'financial institution': 0, 'fintech': 0, 'hotel': 16, 'tourism': 0, 'medical': 3, 'doctors': 0, 'healthcare': 0, 'HIPAA': 0, 'pharmacy': 0, 'lawyer': 0, 'retail': 0, 'small business': 0, 'SME': 0}, 'researchers': {'Arctic Wolf': 0, 'Certitude': 0, 'BreachLock': 0, 'Trend Micro': 0, 'Cyble': 0}, 'vulnerabilities': {'CVE': 71, 'CVSS': 24, 'CVE-2024': 41, 'CVE-2023': 14, 'CVE-2022': 16, 'CVE-2021': 0, 'CVE-2020Atlassian': 0, 'Confluence': 0}, 'topics': {'API': 35, 'threat intelligence': 9, 'threat': 293, 'OSINT': 0, 'brand reputation': 0, 'social media': 0, 'forensics': 0, 'security awareness': 0, 'data science': 0, 'artificial intelligence': 21, 'password': 0, 'MFA': 0, 'authentication': 1, 'incidence response': 0, 'threat hunting': 0}, 'operating_systems': {'Linux': 10, 'Windows': 40, 'iOS': 22, 'MacOS': 46}}\n"
     ]
    }
   ],
   "source": [
    "# count frequencies    \n",
    "unfiltered_frequencies, frequencies = search_dict_frequencies(\\\n",
    "                articles=articles_list,\\\n",
    "                terms_dict=search_dictionary\\\n",
    "                )\n",
    "print(frequencies)\n",
    "print(unfiltered_frequencies)"
   ]
  },
  {
   "cell_type": "code",
   "execution_count": 67,
   "metadata": {},
   "outputs": [],
   "source": [
    "def bar_horizontal_chart(indf,\\\n",
    "                         xcol,\n",
    "                         ycol,\n",
    "                         title_text='',\\\n",
    "                         xaxis_title_text='Number',\\\n",
    "                         yaxis_title_text='',\\\n",
    "                         outfilepath=None):\n",
    "    \"\"\"\n",
    "    Horizontal bar chart\n",
    "    Plots the number of articles per source of today\n",
    "\n",
    "    Input\n",
    "    indf (pandas.DataFrame): input data\n",
    "    xcol (str): column name within DataFrame used for x-axis\n",
    "    ycol (str): column name within DataFrame used for y-axis\n",
    "    \"\"\"\n",
    "    fig = px.bar(indf,\\\n",
    "                    x = xcol,\\\n",
    "                    y = ycol)\n",
    "    \n",
    "    fig.update_yaxes(tickvals=indf[ycol],\\\n",
    "                        ticktext=indf[ycol],\\\n",
    "                        #tickangle=-45,\\\n",
    "                        tickfont=dict(size=10))\n",
    "\n",
    "\n",
    "    fig.update_traces(marker_color = 'blue',\\\n",
    "                    marker_line_color = 'black',\\\n",
    "                    marker_line_width = 2,\\\n",
    "                    opacity =1)\n",
    "\n",
    "    # Update layout\n",
    "    fig.update_layout(\n",
    "            title=title_text,\n",
    "            xaxis_title=xaxis_title_text,\n",
    "            yaxis_title=yaxis_title_text,\n",
    "            showlegend=False,\n",
    "            plot_bgcolor='white',  # Set the background color of the plot area\n",
    "            paper_bgcolor='white',  # Set the background color of the entire chart\n",
    "            xaxis=dict(linecolor='black'),  # Set x-axis line color\n",
    "            yaxis=dict(linecolor='black')   # Set y-axis line color    \n",
    "        )\n",
    "    \n",
    "    fig.show()\n",
    "\n",
    "    if outfilepath:\n",
    "        pio.write_image(fig, outfilepath)\n",
    "        print(f'Plot saved to {outfilepath}')\n"
   ]
  },
  {
   "cell_type": "code",
   "execution_count": 78,
   "metadata": {},
   "outputs": [
    {
     "name": "stdout",
     "output_type": "stream",
     "text": [
      "countries\n",
      "Outputfile: /Users/bernd/Documents/Own_Projects/articles_summarycountries.png\n"
     ]
    },
    {
     "data": {
      "application/vnd.plotly.v1+json": {
       "config": {
        "plotlyServerURL": "https://plot.ly"
       },
       "data": [
        {
         "alignmentgroup": "True",
         "hovertemplate": "count=%{x}<br>countries=%{y}<extra></extra>",
         "legendgroup": "",
         "marker": {
          "color": "blue",
          "line": {
           "color": "black",
           "width": 2
          },
          "pattern": {
           "shape": ""
          }
         },
         "name": "",
         "offsetgroup": "",
         "opacity": 1,
         "orientation": "h",
         "showlegend": false,
         "textposition": "auto",
         "type": "bar",
         "x": [
          13,
          30,
          32
         ],
         "xaxis": "x",
         "y": [
          "North Korea",
          "Russia",
          "China"
         ],
         "yaxis": "y"
        }
       ],
       "layout": {
        "barmode": "relative",
        "legend": {
         "tracegroupgap": 0
        },
        "margin": {
         "t": 60
        },
        "paper_bgcolor": "white",
        "plot_bgcolor": "white",
        "showlegend": false,
        "template": {
         "data": {
          "bar": [
           {
            "error_x": {
             "color": "#2a3f5f"
            },
            "error_y": {
             "color": "#2a3f5f"
            },
            "marker": {
             "line": {
              "color": "#E5ECF6",
              "width": 0.5
             },
             "pattern": {
              "fillmode": "overlay",
              "size": 10,
              "solidity": 0.2
             }
            },
            "type": "bar"
           }
          ],
          "barpolar": [
           {
            "marker": {
             "line": {
              "color": "#E5ECF6",
              "width": 0.5
             },
             "pattern": {
              "fillmode": "overlay",
              "size": 10,
              "solidity": 0.2
             }
            },
            "type": "barpolar"
           }
          ],
          "carpet": [
           {
            "aaxis": {
             "endlinecolor": "#2a3f5f",
             "gridcolor": "white",
             "linecolor": "white",
             "minorgridcolor": "white",
             "startlinecolor": "#2a3f5f"
            },
            "baxis": {
             "endlinecolor": "#2a3f5f",
             "gridcolor": "white",
             "linecolor": "white",
             "minorgridcolor": "white",
             "startlinecolor": "#2a3f5f"
            },
            "type": "carpet"
           }
          ],
          "choropleth": [
           {
            "colorbar": {
             "outlinewidth": 0,
             "ticks": ""
            },
            "type": "choropleth"
           }
          ],
          "contour": [
           {
            "colorbar": {
             "outlinewidth": 0,
             "ticks": ""
            },
            "colorscale": [
             [
              0,
              "#0d0887"
             ],
             [
              0.1111111111111111,
              "#46039f"
             ],
             [
              0.2222222222222222,
              "#7201a8"
             ],
             [
              0.3333333333333333,
              "#9c179e"
             ],
             [
              0.4444444444444444,
              "#bd3786"
             ],
             [
              0.5555555555555556,
              "#d8576b"
             ],
             [
              0.6666666666666666,
              "#ed7953"
             ],
             [
              0.7777777777777778,
              "#fb9f3a"
             ],
             [
              0.8888888888888888,
              "#fdca26"
             ],
             [
              1,
              "#f0f921"
             ]
            ],
            "type": "contour"
           }
          ],
          "contourcarpet": [
           {
            "colorbar": {
             "outlinewidth": 0,
             "ticks": ""
            },
            "type": "contourcarpet"
           }
          ],
          "heatmap": [
           {
            "colorbar": {
             "outlinewidth": 0,
             "ticks": ""
            },
            "colorscale": [
             [
              0,
              "#0d0887"
             ],
             [
              0.1111111111111111,
              "#46039f"
             ],
             [
              0.2222222222222222,
              "#7201a8"
             ],
             [
              0.3333333333333333,
              "#9c179e"
             ],
             [
              0.4444444444444444,
              "#bd3786"
             ],
             [
              0.5555555555555556,
              "#d8576b"
             ],
             [
              0.6666666666666666,
              "#ed7953"
             ],
             [
              0.7777777777777778,
              "#fb9f3a"
             ],
             [
              0.8888888888888888,
              "#fdca26"
             ],
             [
              1,
              "#f0f921"
             ]
            ],
            "type": "heatmap"
           }
          ],
          "heatmapgl": [
           {
            "colorbar": {
             "outlinewidth": 0,
             "ticks": ""
            },
            "colorscale": [
             [
              0,
              "#0d0887"
             ],
             [
              0.1111111111111111,
              "#46039f"
             ],
             [
              0.2222222222222222,
              "#7201a8"
             ],
             [
              0.3333333333333333,
              "#9c179e"
             ],
             [
              0.4444444444444444,
              "#bd3786"
             ],
             [
              0.5555555555555556,
              "#d8576b"
             ],
             [
              0.6666666666666666,
              "#ed7953"
             ],
             [
              0.7777777777777778,
              "#fb9f3a"
             ],
             [
              0.8888888888888888,
              "#fdca26"
             ],
             [
              1,
              "#f0f921"
             ]
            ],
            "type": "heatmapgl"
           }
          ],
          "histogram": [
           {
            "marker": {
             "pattern": {
              "fillmode": "overlay",
              "size": 10,
              "solidity": 0.2
             }
            },
            "type": "histogram"
           }
          ],
          "histogram2d": [
           {
            "colorbar": {
             "outlinewidth": 0,
             "ticks": ""
            },
            "colorscale": [
             [
              0,
              "#0d0887"
             ],
             [
              0.1111111111111111,
              "#46039f"
             ],
             [
              0.2222222222222222,
              "#7201a8"
             ],
             [
              0.3333333333333333,
              "#9c179e"
             ],
             [
              0.4444444444444444,
              "#bd3786"
             ],
             [
              0.5555555555555556,
              "#d8576b"
             ],
             [
              0.6666666666666666,
              "#ed7953"
             ],
             [
              0.7777777777777778,
              "#fb9f3a"
             ],
             [
              0.8888888888888888,
              "#fdca26"
             ],
             [
              1,
              "#f0f921"
             ]
            ],
            "type": "histogram2d"
           }
          ],
          "histogram2dcontour": [
           {
            "colorbar": {
             "outlinewidth": 0,
             "ticks": ""
            },
            "colorscale": [
             [
              0,
              "#0d0887"
             ],
             [
              0.1111111111111111,
              "#46039f"
             ],
             [
              0.2222222222222222,
              "#7201a8"
             ],
             [
              0.3333333333333333,
              "#9c179e"
             ],
             [
              0.4444444444444444,
              "#bd3786"
             ],
             [
              0.5555555555555556,
              "#d8576b"
             ],
             [
              0.6666666666666666,
              "#ed7953"
             ],
             [
              0.7777777777777778,
              "#fb9f3a"
             ],
             [
              0.8888888888888888,
              "#fdca26"
             ],
             [
              1,
              "#f0f921"
             ]
            ],
            "type": "histogram2dcontour"
           }
          ],
          "mesh3d": [
           {
            "colorbar": {
             "outlinewidth": 0,
             "ticks": ""
            },
            "type": "mesh3d"
           }
          ],
          "parcoords": [
           {
            "line": {
             "colorbar": {
              "outlinewidth": 0,
              "ticks": ""
             }
            },
            "type": "parcoords"
           }
          ],
          "pie": [
           {
            "automargin": true,
            "type": "pie"
           }
          ],
          "scatter": [
           {
            "fillpattern": {
             "fillmode": "overlay",
             "size": 10,
             "solidity": 0.2
            },
            "type": "scatter"
           }
          ],
          "scatter3d": [
           {
            "line": {
             "colorbar": {
              "outlinewidth": 0,
              "ticks": ""
             }
            },
            "marker": {
             "colorbar": {
              "outlinewidth": 0,
              "ticks": ""
             }
            },
            "type": "scatter3d"
           }
          ],
          "scattercarpet": [
           {
            "marker": {
             "colorbar": {
              "outlinewidth": 0,
              "ticks": ""
             }
            },
            "type": "scattercarpet"
           }
          ],
          "scattergeo": [
           {
            "marker": {
             "colorbar": {
              "outlinewidth": 0,
              "ticks": ""
             }
            },
            "type": "scattergeo"
           }
          ],
          "scattergl": [
           {
            "marker": {
             "colorbar": {
              "outlinewidth": 0,
              "ticks": ""
             }
            },
            "type": "scattergl"
           }
          ],
          "scattermapbox": [
           {
            "marker": {
             "colorbar": {
              "outlinewidth": 0,
              "ticks": ""
             }
            },
            "type": "scattermapbox"
           }
          ],
          "scatterpolar": [
           {
            "marker": {
             "colorbar": {
              "outlinewidth": 0,
              "ticks": ""
             }
            },
            "type": "scatterpolar"
           }
          ],
          "scatterpolargl": [
           {
            "marker": {
             "colorbar": {
              "outlinewidth": 0,
              "ticks": ""
             }
            },
            "type": "scatterpolargl"
           }
          ],
          "scatterternary": [
           {
            "marker": {
             "colorbar": {
              "outlinewidth": 0,
              "ticks": ""
             }
            },
            "type": "scatterternary"
           }
          ],
          "surface": [
           {
            "colorbar": {
             "outlinewidth": 0,
             "ticks": ""
            },
            "colorscale": [
             [
              0,
              "#0d0887"
             ],
             [
              0.1111111111111111,
              "#46039f"
             ],
             [
              0.2222222222222222,
              "#7201a8"
             ],
             [
              0.3333333333333333,
              "#9c179e"
             ],
             [
              0.4444444444444444,
              "#bd3786"
             ],
             [
              0.5555555555555556,
              "#d8576b"
             ],
             [
              0.6666666666666666,
              "#ed7953"
             ],
             [
              0.7777777777777778,
              "#fb9f3a"
             ],
             [
              0.8888888888888888,
              "#fdca26"
             ],
             [
              1,
              "#f0f921"
             ]
            ],
            "type": "surface"
           }
          ],
          "table": [
           {
            "cells": {
             "fill": {
              "color": "#EBF0F8"
             },
             "line": {
              "color": "white"
             }
            },
            "header": {
             "fill": {
              "color": "#C8D4E3"
             },
             "line": {
              "color": "white"
             }
            },
            "type": "table"
           }
          ]
         },
         "layout": {
          "annotationdefaults": {
           "arrowcolor": "#2a3f5f",
           "arrowhead": 0,
           "arrowwidth": 1
          },
          "autotypenumbers": "strict",
          "coloraxis": {
           "colorbar": {
            "outlinewidth": 0,
            "ticks": ""
           }
          },
          "colorscale": {
           "diverging": [
            [
             0,
             "#8e0152"
            ],
            [
             0.1,
             "#c51b7d"
            ],
            [
             0.2,
             "#de77ae"
            ],
            [
             0.3,
             "#f1b6da"
            ],
            [
             0.4,
             "#fde0ef"
            ],
            [
             0.5,
             "#f7f7f7"
            ],
            [
             0.6,
             "#e6f5d0"
            ],
            [
             0.7,
             "#b8e186"
            ],
            [
             0.8,
             "#7fbc41"
            ],
            [
             0.9,
             "#4d9221"
            ],
            [
             1,
             "#276419"
            ]
           ],
           "sequential": [
            [
             0,
             "#0d0887"
            ],
            [
             0.1111111111111111,
             "#46039f"
            ],
            [
             0.2222222222222222,
             "#7201a8"
            ],
            [
             0.3333333333333333,
             "#9c179e"
            ],
            [
             0.4444444444444444,
             "#bd3786"
            ],
            [
             0.5555555555555556,
             "#d8576b"
            ],
            [
             0.6666666666666666,
             "#ed7953"
            ],
            [
             0.7777777777777778,
             "#fb9f3a"
            ],
            [
             0.8888888888888888,
             "#fdca26"
            ],
            [
             1,
             "#f0f921"
            ]
           ],
           "sequentialminus": [
            [
             0,
             "#0d0887"
            ],
            [
             0.1111111111111111,
             "#46039f"
            ],
            [
             0.2222222222222222,
             "#7201a8"
            ],
            [
             0.3333333333333333,
             "#9c179e"
            ],
            [
             0.4444444444444444,
             "#bd3786"
            ],
            [
             0.5555555555555556,
             "#d8576b"
            ],
            [
             0.6666666666666666,
             "#ed7953"
            ],
            [
             0.7777777777777778,
             "#fb9f3a"
            ],
            [
             0.8888888888888888,
             "#fdca26"
            ],
            [
             1,
             "#f0f921"
            ]
           ]
          },
          "colorway": [
           "#636efa",
           "#EF553B",
           "#00cc96",
           "#ab63fa",
           "#FFA15A",
           "#19d3f3",
           "#FF6692",
           "#B6E880",
           "#FF97FF",
           "#FECB52"
          ],
          "font": {
           "color": "#2a3f5f"
          },
          "geo": {
           "bgcolor": "white",
           "lakecolor": "white",
           "landcolor": "#E5ECF6",
           "showlakes": true,
           "showland": true,
           "subunitcolor": "white"
          },
          "hoverlabel": {
           "align": "left"
          },
          "hovermode": "closest",
          "mapbox": {
           "style": "light"
          },
          "paper_bgcolor": "white",
          "plot_bgcolor": "#E5ECF6",
          "polar": {
           "angularaxis": {
            "gridcolor": "white",
            "linecolor": "white",
            "ticks": ""
           },
           "bgcolor": "#E5ECF6",
           "radialaxis": {
            "gridcolor": "white",
            "linecolor": "white",
            "ticks": ""
           }
          },
          "scene": {
           "xaxis": {
            "backgroundcolor": "#E5ECF6",
            "gridcolor": "white",
            "gridwidth": 2,
            "linecolor": "white",
            "showbackground": true,
            "ticks": "",
            "zerolinecolor": "white"
           },
           "yaxis": {
            "backgroundcolor": "#E5ECF6",
            "gridcolor": "white",
            "gridwidth": 2,
            "linecolor": "white",
            "showbackground": true,
            "ticks": "",
            "zerolinecolor": "white"
           },
           "zaxis": {
            "backgroundcolor": "#E5ECF6",
            "gridcolor": "white",
            "gridwidth": 2,
            "linecolor": "white",
            "showbackground": true,
            "ticks": "",
            "zerolinecolor": "white"
           }
          },
          "shapedefaults": {
           "line": {
            "color": "#2a3f5f"
           }
          },
          "ternary": {
           "aaxis": {
            "gridcolor": "white",
            "linecolor": "white",
            "ticks": ""
           },
           "baxis": {
            "gridcolor": "white",
            "linecolor": "white",
            "ticks": ""
           },
           "bgcolor": "#E5ECF6",
           "caxis": {
            "gridcolor": "white",
            "linecolor": "white",
            "ticks": ""
           }
          },
          "title": {
           "x": 0.05
          },
          "xaxis": {
           "automargin": true,
           "gridcolor": "white",
           "linecolor": "white",
           "ticks": "",
           "title": {
            "standoff": 15
           },
           "zerolinecolor": "white",
           "zerolinewidth": 2
          },
          "yaxis": {
           "automargin": true,
           "gridcolor": "white",
           "linecolor": "white",
           "ticks": "",
           "title": {
            "standoff": 15
           },
           "zerolinecolor": "white",
           "zerolinewidth": 2
          }
         }
        },
        "title": {
         "text": "countries"
        },
        "xaxis": {
         "anchor": "y",
         "domain": [
          0,
          1
         ],
         "linecolor": "black",
         "title": {
          "text": "Number"
         }
        },
        "yaxis": {
         "anchor": "x",
         "domain": [
          0,
          1
         ],
         "linecolor": "black",
         "tickfont": {
          "size": 10
         },
         "ticktext": [
          "North Korea",
          "Russia",
          "China"
         ],
         "tickvals": [
          "North Korea",
          "Russia",
          "China"
         ],
         "title": {
          "text": "countries"
         }
        }
       }
      }
     },
     "metadata": {},
     "output_type": "display_data"
    },
    {
     "name": "stdout",
     "output_type": "stream",
     "text": [
      "threat_actors\n",
      "Outputfile: /Users/bernd/Documents/Own_Projects/articles_summarythreat_actors.png\n"
     ]
    },
    {
     "data": {
      "application/vnd.plotly.v1+json": {
       "config": {
        "plotlyServerURL": "https://plot.ly"
       },
       "data": [
        {
         "alignmentgroup": "True",
         "hovertemplate": "count=%{x}<br>threat_actors=%{y}<extra></extra>",
         "legendgroup": "",
         "marker": {
          "color": "blue",
          "line": {
           "color": "black",
           "width": 2
          },
          "pattern": {
           "shape": ""
          }
         },
         "name": "",
         "offsetgroup": "",
         "opacity": 1,
         "orientation": "h",
         "showlegend": false,
         "textposition": "auto",
         "type": "bar",
         "x": [
          48,
          2,
          2,
          16,
          1
         ],
         "xaxis": "x",
         "y": [
          "Conti",
          "Clop",
          "CLOP",
          "Hive",
          "Kimsuky"
         ],
         "yaxis": "y"
        }
       ],
       "layout": {
        "barmode": "relative",
        "legend": {
         "tracegroupgap": 0
        },
        "margin": {
         "t": 60
        },
        "paper_bgcolor": "white",
        "plot_bgcolor": "white",
        "showlegend": false,
        "template": {
         "data": {
          "bar": [
           {
            "error_x": {
             "color": "#2a3f5f"
            },
            "error_y": {
             "color": "#2a3f5f"
            },
            "marker": {
             "line": {
              "color": "#E5ECF6",
              "width": 0.5
             },
             "pattern": {
              "fillmode": "overlay",
              "size": 10,
              "solidity": 0.2
             }
            },
            "type": "bar"
           }
          ],
          "barpolar": [
           {
            "marker": {
             "line": {
              "color": "#E5ECF6",
              "width": 0.5
             },
             "pattern": {
              "fillmode": "overlay",
              "size": 10,
              "solidity": 0.2
             }
            },
            "type": "barpolar"
           }
          ],
          "carpet": [
           {
            "aaxis": {
             "endlinecolor": "#2a3f5f",
             "gridcolor": "white",
             "linecolor": "white",
             "minorgridcolor": "white",
             "startlinecolor": "#2a3f5f"
            },
            "baxis": {
             "endlinecolor": "#2a3f5f",
             "gridcolor": "white",
             "linecolor": "white",
             "minorgridcolor": "white",
             "startlinecolor": "#2a3f5f"
            },
            "type": "carpet"
           }
          ],
          "choropleth": [
           {
            "colorbar": {
             "outlinewidth": 0,
             "ticks": ""
            },
            "type": "choropleth"
           }
          ],
          "contour": [
           {
            "colorbar": {
             "outlinewidth": 0,
             "ticks": ""
            },
            "colorscale": [
             [
              0,
              "#0d0887"
             ],
             [
              0.1111111111111111,
              "#46039f"
             ],
             [
              0.2222222222222222,
              "#7201a8"
             ],
             [
              0.3333333333333333,
              "#9c179e"
             ],
             [
              0.4444444444444444,
              "#bd3786"
             ],
             [
              0.5555555555555556,
              "#d8576b"
             ],
             [
              0.6666666666666666,
              "#ed7953"
             ],
             [
              0.7777777777777778,
              "#fb9f3a"
             ],
             [
              0.8888888888888888,
              "#fdca26"
             ],
             [
              1,
              "#f0f921"
             ]
            ],
            "type": "contour"
           }
          ],
          "contourcarpet": [
           {
            "colorbar": {
             "outlinewidth": 0,
             "ticks": ""
            },
            "type": "contourcarpet"
           }
          ],
          "heatmap": [
           {
            "colorbar": {
             "outlinewidth": 0,
             "ticks": ""
            },
            "colorscale": [
             [
              0,
              "#0d0887"
             ],
             [
              0.1111111111111111,
              "#46039f"
             ],
             [
              0.2222222222222222,
              "#7201a8"
             ],
             [
              0.3333333333333333,
              "#9c179e"
             ],
             [
              0.4444444444444444,
              "#bd3786"
             ],
             [
              0.5555555555555556,
              "#d8576b"
             ],
             [
              0.6666666666666666,
              "#ed7953"
             ],
             [
              0.7777777777777778,
              "#fb9f3a"
             ],
             [
              0.8888888888888888,
              "#fdca26"
             ],
             [
              1,
              "#f0f921"
             ]
            ],
            "type": "heatmap"
           }
          ],
          "heatmapgl": [
           {
            "colorbar": {
             "outlinewidth": 0,
             "ticks": ""
            },
            "colorscale": [
             [
              0,
              "#0d0887"
             ],
             [
              0.1111111111111111,
              "#46039f"
             ],
             [
              0.2222222222222222,
              "#7201a8"
             ],
             [
              0.3333333333333333,
              "#9c179e"
             ],
             [
              0.4444444444444444,
              "#bd3786"
             ],
             [
              0.5555555555555556,
              "#d8576b"
             ],
             [
              0.6666666666666666,
              "#ed7953"
             ],
             [
              0.7777777777777778,
              "#fb9f3a"
             ],
             [
              0.8888888888888888,
              "#fdca26"
             ],
             [
              1,
              "#f0f921"
             ]
            ],
            "type": "heatmapgl"
           }
          ],
          "histogram": [
           {
            "marker": {
             "pattern": {
              "fillmode": "overlay",
              "size": 10,
              "solidity": 0.2
             }
            },
            "type": "histogram"
           }
          ],
          "histogram2d": [
           {
            "colorbar": {
             "outlinewidth": 0,
             "ticks": ""
            },
            "colorscale": [
             [
              0,
              "#0d0887"
             ],
             [
              0.1111111111111111,
              "#46039f"
             ],
             [
              0.2222222222222222,
              "#7201a8"
             ],
             [
              0.3333333333333333,
              "#9c179e"
             ],
             [
              0.4444444444444444,
              "#bd3786"
             ],
             [
              0.5555555555555556,
              "#d8576b"
             ],
             [
              0.6666666666666666,
              "#ed7953"
             ],
             [
              0.7777777777777778,
              "#fb9f3a"
             ],
             [
              0.8888888888888888,
              "#fdca26"
             ],
             [
              1,
              "#f0f921"
             ]
            ],
            "type": "histogram2d"
           }
          ],
          "histogram2dcontour": [
           {
            "colorbar": {
             "outlinewidth": 0,
             "ticks": ""
            },
            "colorscale": [
             [
              0,
              "#0d0887"
             ],
             [
              0.1111111111111111,
              "#46039f"
             ],
             [
              0.2222222222222222,
              "#7201a8"
             ],
             [
              0.3333333333333333,
              "#9c179e"
             ],
             [
              0.4444444444444444,
              "#bd3786"
             ],
             [
              0.5555555555555556,
              "#d8576b"
             ],
             [
              0.6666666666666666,
              "#ed7953"
             ],
             [
              0.7777777777777778,
              "#fb9f3a"
             ],
             [
              0.8888888888888888,
              "#fdca26"
             ],
             [
              1,
              "#f0f921"
             ]
            ],
            "type": "histogram2dcontour"
           }
          ],
          "mesh3d": [
           {
            "colorbar": {
             "outlinewidth": 0,
             "ticks": ""
            },
            "type": "mesh3d"
           }
          ],
          "parcoords": [
           {
            "line": {
             "colorbar": {
              "outlinewidth": 0,
              "ticks": ""
             }
            },
            "type": "parcoords"
           }
          ],
          "pie": [
           {
            "automargin": true,
            "type": "pie"
           }
          ],
          "scatter": [
           {
            "fillpattern": {
             "fillmode": "overlay",
             "size": 10,
             "solidity": 0.2
            },
            "type": "scatter"
           }
          ],
          "scatter3d": [
           {
            "line": {
             "colorbar": {
              "outlinewidth": 0,
              "ticks": ""
             }
            },
            "marker": {
             "colorbar": {
              "outlinewidth": 0,
              "ticks": ""
             }
            },
            "type": "scatter3d"
           }
          ],
          "scattercarpet": [
           {
            "marker": {
             "colorbar": {
              "outlinewidth": 0,
              "ticks": ""
             }
            },
            "type": "scattercarpet"
           }
          ],
          "scattergeo": [
           {
            "marker": {
             "colorbar": {
              "outlinewidth": 0,
              "ticks": ""
             }
            },
            "type": "scattergeo"
           }
          ],
          "scattergl": [
           {
            "marker": {
             "colorbar": {
              "outlinewidth": 0,
              "ticks": ""
             }
            },
            "type": "scattergl"
           }
          ],
          "scattermapbox": [
           {
            "marker": {
             "colorbar": {
              "outlinewidth": 0,
              "ticks": ""
             }
            },
            "type": "scattermapbox"
           }
          ],
          "scatterpolar": [
           {
            "marker": {
             "colorbar": {
              "outlinewidth": 0,
              "ticks": ""
             }
            },
            "type": "scatterpolar"
           }
          ],
          "scatterpolargl": [
           {
            "marker": {
             "colorbar": {
              "outlinewidth": 0,
              "ticks": ""
             }
            },
            "type": "scatterpolargl"
           }
          ],
          "scatterternary": [
           {
            "marker": {
             "colorbar": {
              "outlinewidth": 0,
              "ticks": ""
             }
            },
            "type": "scatterternary"
           }
          ],
          "surface": [
           {
            "colorbar": {
             "outlinewidth": 0,
             "ticks": ""
            },
            "colorscale": [
             [
              0,
              "#0d0887"
             ],
             [
              0.1111111111111111,
              "#46039f"
             ],
             [
              0.2222222222222222,
              "#7201a8"
             ],
             [
              0.3333333333333333,
              "#9c179e"
             ],
             [
              0.4444444444444444,
              "#bd3786"
             ],
             [
              0.5555555555555556,
              "#d8576b"
             ],
             [
              0.6666666666666666,
              "#ed7953"
             ],
             [
              0.7777777777777778,
              "#fb9f3a"
             ],
             [
              0.8888888888888888,
              "#fdca26"
             ],
             [
              1,
              "#f0f921"
             ]
            ],
            "type": "surface"
           }
          ],
          "table": [
           {
            "cells": {
             "fill": {
              "color": "#EBF0F8"
             },
             "line": {
              "color": "white"
             }
            },
            "header": {
             "fill": {
              "color": "#C8D4E3"
             },
             "line": {
              "color": "white"
             }
            },
            "type": "table"
           }
          ]
         },
         "layout": {
          "annotationdefaults": {
           "arrowcolor": "#2a3f5f",
           "arrowhead": 0,
           "arrowwidth": 1
          },
          "autotypenumbers": "strict",
          "coloraxis": {
           "colorbar": {
            "outlinewidth": 0,
            "ticks": ""
           }
          },
          "colorscale": {
           "diverging": [
            [
             0,
             "#8e0152"
            ],
            [
             0.1,
             "#c51b7d"
            ],
            [
             0.2,
             "#de77ae"
            ],
            [
             0.3,
             "#f1b6da"
            ],
            [
             0.4,
             "#fde0ef"
            ],
            [
             0.5,
             "#f7f7f7"
            ],
            [
             0.6,
             "#e6f5d0"
            ],
            [
             0.7,
             "#b8e186"
            ],
            [
             0.8,
             "#7fbc41"
            ],
            [
             0.9,
             "#4d9221"
            ],
            [
             1,
             "#276419"
            ]
           ],
           "sequential": [
            [
             0,
             "#0d0887"
            ],
            [
             0.1111111111111111,
             "#46039f"
            ],
            [
             0.2222222222222222,
             "#7201a8"
            ],
            [
             0.3333333333333333,
             "#9c179e"
            ],
            [
             0.4444444444444444,
             "#bd3786"
            ],
            [
             0.5555555555555556,
             "#d8576b"
            ],
            [
             0.6666666666666666,
             "#ed7953"
            ],
            [
             0.7777777777777778,
             "#fb9f3a"
            ],
            [
             0.8888888888888888,
             "#fdca26"
            ],
            [
             1,
             "#f0f921"
            ]
           ],
           "sequentialminus": [
            [
             0,
             "#0d0887"
            ],
            [
             0.1111111111111111,
             "#46039f"
            ],
            [
             0.2222222222222222,
             "#7201a8"
            ],
            [
             0.3333333333333333,
             "#9c179e"
            ],
            [
             0.4444444444444444,
             "#bd3786"
            ],
            [
             0.5555555555555556,
             "#d8576b"
            ],
            [
             0.6666666666666666,
             "#ed7953"
            ],
            [
             0.7777777777777778,
             "#fb9f3a"
            ],
            [
             0.8888888888888888,
             "#fdca26"
            ],
            [
             1,
             "#f0f921"
            ]
           ]
          },
          "colorway": [
           "#636efa",
           "#EF553B",
           "#00cc96",
           "#ab63fa",
           "#FFA15A",
           "#19d3f3",
           "#FF6692",
           "#B6E880",
           "#FF97FF",
           "#FECB52"
          ],
          "font": {
           "color": "#2a3f5f"
          },
          "geo": {
           "bgcolor": "white",
           "lakecolor": "white",
           "landcolor": "#E5ECF6",
           "showlakes": true,
           "showland": true,
           "subunitcolor": "white"
          },
          "hoverlabel": {
           "align": "left"
          },
          "hovermode": "closest",
          "mapbox": {
           "style": "light"
          },
          "paper_bgcolor": "white",
          "plot_bgcolor": "#E5ECF6",
          "polar": {
           "angularaxis": {
            "gridcolor": "white",
            "linecolor": "white",
            "ticks": ""
           },
           "bgcolor": "#E5ECF6",
           "radialaxis": {
            "gridcolor": "white",
            "linecolor": "white",
            "ticks": ""
           }
          },
          "scene": {
           "xaxis": {
            "backgroundcolor": "#E5ECF6",
            "gridcolor": "white",
            "gridwidth": 2,
            "linecolor": "white",
            "showbackground": true,
            "ticks": "",
            "zerolinecolor": "white"
           },
           "yaxis": {
            "backgroundcolor": "#E5ECF6",
            "gridcolor": "white",
            "gridwidth": 2,
            "linecolor": "white",
            "showbackground": true,
            "ticks": "",
            "zerolinecolor": "white"
           },
           "zaxis": {
            "backgroundcolor": "#E5ECF6",
            "gridcolor": "white",
            "gridwidth": 2,
            "linecolor": "white",
            "showbackground": true,
            "ticks": "",
            "zerolinecolor": "white"
           }
          },
          "shapedefaults": {
           "line": {
            "color": "#2a3f5f"
           }
          },
          "ternary": {
           "aaxis": {
            "gridcolor": "white",
            "linecolor": "white",
            "ticks": ""
           },
           "baxis": {
            "gridcolor": "white",
            "linecolor": "white",
            "ticks": ""
           },
           "bgcolor": "#E5ECF6",
           "caxis": {
            "gridcolor": "white",
            "linecolor": "white",
            "ticks": ""
           }
          },
          "title": {
           "x": 0.05
          },
          "xaxis": {
           "automargin": true,
           "gridcolor": "white",
           "linecolor": "white",
           "ticks": "",
           "title": {
            "standoff": 15
           },
           "zerolinecolor": "white",
           "zerolinewidth": 2
          },
          "yaxis": {
           "automargin": true,
           "gridcolor": "white",
           "linecolor": "white",
           "ticks": "",
           "title": {
            "standoff": 15
           },
           "zerolinecolor": "white",
           "zerolinewidth": 2
          }
         }
        },
        "title": {
         "text": "threat_actors"
        },
        "xaxis": {
         "anchor": "y",
         "domain": [
          0,
          1
         ],
         "linecolor": "black",
         "title": {
          "text": "Number"
         }
        },
        "yaxis": {
         "anchor": "x",
         "domain": [
          0,
          1
         ],
         "linecolor": "black",
         "tickfont": {
          "size": 10
         },
         "ticktext": [
          "Conti",
          "Clop",
          "CLOP",
          "Hive",
          "Kimsuky"
         ],
         "tickvals": [
          "Conti",
          "Clop",
          "CLOP",
          "Hive",
          "Kimsuky"
         ],
         "title": {
          "text": "threat_actors"
         }
        }
       }
      }
     },
     "metadata": {},
     "output_type": "display_data"
    },
    {
     "name": "stdout",
     "output_type": "stream",
     "text": [
      "attacks\n",
      "Outputfile: /Users/bernd/Documents/Own_Projects/articles_summaryattacks.png\n"
     ]
    },
    {
     "data": {
      "application/vnd.plotly.v1+json": {
       "config": {
        "plotlyServerURL": "https://plot.ly"
       },
       "data": [
        {
         "alignmentgroup": "True",
         "hovertemplate": "count=%{x}<br>attacks=%{y}<extra></extra>",
         "legendgroup": "",
         "marker": {
          "color": "blue",
          "line": {
           "color": "black",
           "width": 2
          },
          "pattern": {
           "shape": ""
          }
         },
         "name": "",
         "offsetgroup": "",
         "opacity": 1,
         "orientation": "h",
         "showlegend": false,
         "textposition": "auto",
         "type": "bar",
         "x": [
          79,
          18,
          78,
          24,
          20,
          13,
          31
         ],
         "xaxis": "x",
         "y": [
          "ransomware",
          "RaaS",
          "phishing",
          "social engineering",
          "botnet",
          "SQL injection",
          "command injection"
         ],
         "yaxis": "y"
        }
       ],
       "layout": {
        "barmode": "relative",
        "legend": {
         "tracegroupgap": 0
        },
        "margin": {
         "t": 60
        },
        "paper_bgcolor": "white",
        "plot_bgcolor": "white",
        "showlegend": false,
        "template": {
         "data": {
          "bar": [
           {
            "error_x": {
             "color": "#2a3f5f"
            },
            "error_y": {
             "color": "#2a3f5f"
            },
            "marker": {
             "line": {
              "color": "#E5ECF6",
              "width": 0.5
             },
             "pattern": {
              "fillmode": "overlay",
              "size": 10,
              "solidity": 0.2
             }
            },
            "type": "bar"
           }
          ],
          "barpolar": [
           {
            "marker": {
             "line": {
              "color": "#E5ECF6",
              "width": 0.5
             },
             "pattern": {
              "fillmode": "overlay",
              "size": 10,
              "solidity": 0.2
             }
            },
            "type": "barpolar"
           }
          ],
          "carpet": [
           {
            "aaxis": {
             "endlinecolor": "#2a3f5f",
             "gridcolor": "white",
             "linecolor": "white",
             "minorgridcolor": "white",
             "startlinecolor": "#2a3f5f"
            },
            "baxis": {
             "endlinecolor": "#2a3f5f",
             "gridcolor": "white",
             "linecolor": "white",
             "minorgridcolor": "white",
             "startlinecolor": "#2a3f5f"
            },
            "type": "carpet"
           }
          ],
          "choropleth": [
           {
            "colorbar": {
             "outlinewidth": 0,
             "ticks": ""
            },
            "type": "choropleth"
           }
          ],
          "contour": [
           {
            "colorbar": {
             "outlinewidth": 0,
             "ticks": ""
            },
            "colorscale": [
             [
              0,
              "#0d0887"
             ],
             [
              0.1111111111111111,
              "#46039f"
             ],
             [
              0.2222222222222222,
              "#7201a8"
             ],
             [
              0.3333333333333333,
              "#9c179e"
             ],
             [
              0.4444444444444444,
              "#bd3786"
             ],
             [
              0.5555555555555556,
              "#d8576b"
             ],
             [
              0.6666666666666666,
              "#ed7953"
             ],
             [
              0.7777777777777778,
              "#fb9f3a"
             ],
             [
              0.8888888888888888,
              "#fdca26"
             ],
             [
              1,
              "#f0f921"
             ]
            ],
            "type": "contour"
           }
          ],
          "contourcarpet": [
           {
            "colorbar": {
             "outlinewidth": 0,
             "ticks": ""
            },
            "type": "contourcarpet"
           }
          ],
          "heatmap": [
           {
            "colorbar": {
             "outlinewidth": 0,
             "ticks": ""
            },
            "colorscale": [
             [
              0,
              "#0d0887"
             ],
             [
              0.1111111111111111,
              "#46039f"
             ],
             [
              0.2222222222222222,
              "#7201a8"
             ],
             [
              0.3333333333333333,
              "#9c179e"
             ],
             [
              0.4444444444444444,
              "#bd3786"
             ],
             [
              0.5555555555555556,
              "#d8576b"
             ],
             [
              0.6666666666666666,
              "#ed7953"
             ],
             [
              0.7777777777777778,
              "#fb9f3a"
             ],
             [
              0.8888888888888888,
              "#fdca26"
             ],
             [
              1,
              "#f0f921"
             ]
            ],
            "type": "heatmap"
           }
          ],
          "heatmapgl": [
           {
            "colorbar": {
             "outlinewidth": 0,
             "ticks": ""
            },
            "colorscale": [
             [
              0,
              "#0d0887"
             ],
             [
              0.1111111111111111,
              "#46039f"
             ],
             [
              0.2222222222222222,
              "#7201a8"
             ],
             [
              0.3333333333333333,
              "#9c179e"
             ],
             [
              0.4444444444444444,
              "#bd3786"
             ],
             [
              0.5555555555555556,
              "#d8576b"
             ],
             [
              0.6666666666666666,
              "#ed7953"
             ],
             [
              0.7777777777777778,
              "#fb9f3a"
             ],
             [
              0.8888888888888888,
              "#fdca26"
             ],
             [
              1,
              "#f0f921"
             ]
            ],
            "type": "heatmapgl"
           }
          ],
          "histogram": [
           {
            "marker": {
             "pattern": {
              "fillmode": "overlay",
              "size": 10,
              "solidity": 0.2
             }
            },
            "type": "histogram"
           }
          ],
          "histogram2d": [
           {
            "colorbar": {
             "outlinewidth": 0,
             "ticks": ""
            },
            "colorscale": [
             [
              0,
              "#0d0887"
             ],
             [
              0.1111111111111111,
              "#46039f"
             ],
             [
              0.2222222222222222,
              "#7201a8"
             ],
             [
              0.3333333333333333,
              "#9c179e"
             ],
             [
              0.4444444444444444,
              "#bd3786"
             ],
             [
              0.5555555555555556,
              "#d8576b"
             ],
             [
              0.6666666666666666,
              "#ed7953"
             ],
             [
              0.7777777777777778,
              "#fb9f3a"
             ],
             [
              0.8888888888888888,
              "#fdca26"
             ],
             [
              1,
              "#f0f921"
             ]
            ],
            "type": "histogram2d"
           }
          ],
          "histogram2dcontour": [
           {
            "colorbar": {
             "outlinewidth": 0,
             "ticks": ""
            },
            "colorscale": [
             [
              0,
              "#0d0887"
             ],
             [
              0.1111111111111111,
              "#46039f"
             ],
             [
              0.2222222222222222,
              "#7201a8"
             ],
             [
              0.3333333333333333,
              "#9c179e"
             ],
             [
              0.4444444444444444,
              "#bd3786"
             ],
             [
              0.5555555555555556,
              "#d8576b"
             ],
             [
              0.6666666666666666,
              "#ed7953"
             ],
             [
              0.7777777777777778,
              "#fb9f3a"
             ],
             [
              0.8888888888888888,
              "#fdca26"
             ],
             [
              1,
              "#f0f921"
             ]
            ],
            "type": "histogram2dcontour"
           }
          ],
          "mesh3d": [
           {
            "colorbar": {
             "outlinewidth": 0,
             "ticks": ""
            },
            "type": "mesh3d"
           }
          ],
          "parcoords": [
           {
            "line": {
             "colorbar": {
              "outlinewidth": 0,
              "ticks": ""
             }
            },
            "type": "parcoords"
           }
          ],
          "pie": [
           {
            "automargin": true,
            "type": "pie"
           }
          ],
          "scatter": [
           {
            "fillpattern": {
             "fillmode": "overlay",
             "size": 10,
             "solidity": 0.2
            },
            "type": "scatter"
           }
          ],
          "scatter3d": [
           {
            "line": {
             "colorbar": {
              "outlinewidth": 0,
              "ticks": ""
             }
            },
            "marker": {
             "colorbar": {
              "outlinewidth": 0,
              "ticks": ""
             }
            },
            "type": "scatter3d"
           }
          ],
          "scattercarpet": [
           {
            "marker": {
             "colorbar": {
              "outlinewidth": 0,
              "ticks": ""
             }
            },
            "type": "scattercarpet"
           }
          ],
          "scattergeo": [
           {
            "marker": {
             "colorbar": {
              "outlinewidth": 0,
              "ticks": ""
             }
            },
            "type": "scattergeo"
           }
          ],
          "scattergl": [
           {
            "marker": {
             "colorbar": {
              "outlinewidth": 0,
              "ticks": ""
             }
            },
            "type": "scattergl"
           }
          ],
          "scattermapbox": [
           {
            "marker": {
             "colorbar": {
              "outlinewidth": 0,
              "ticks": ""
             }
            },
            "type": "scattermapbox"
           }
          ],
          "scatterpolar": [
           {
            "marker": {
             "colorbar": {
              "outlinewidth": 0,
              "ticks": ""
             }
            },
            "type": "scatterpolar"
           }
          ],
          "scatterpolargl": [
           {
            "marker": {
             "colorbar": {
              "outlinewidth": 0,
              "ticks": ""
             }
            },
            "type": "scatterpolargl"
           }
          ],
          "scatterternary": [
           {
            "marker": {
             "colorbar": {
              "outlinewidth": 0,
              "ticks": ""
             }
            },
            "type": "scatterternary"
           }
          ],
          "surface": [
           {
            "colorbar": {
             "outlinewidth": 0,
             "ticks": ""
            },
            "colorscale": [
             [
              0,
              "#0d0887"
             ],
             [
              0.1111111111111111,
              "#46039f"
             ],
             [
              0.2222222222222222,
              "#7201a8"
             ],
             [
              0.3333333333333333,
              "#9c179e"
             ],
             [
              0.4444444444444444,
              "#bd3786"
             ],
             [
              0.5555555555555556,
              "#d8576b"
             ],
             [
              0.6666666666666666,
              "#ed7953"
             ],
             [
              0.7777777777777778,
              "#fb9f3a"
             ],
             [
              0.8888888888888888,
              "#fdca26"
             ],
             [
              1,
              "#f0f921"
             ]
            ],
            "type": "surface"
           }
          ],
          "table": [
           {
            "cells": {
             "fill": {
              "color": "#EBF0F8"
             },
             "line": {
              "color": "white"
             }
            },
            "header": {
             "fill": {
              "color": "#C8D4E3"
             },
             "line": {
              "color": "white"
             }
            },
            "type": "table"
           }
          ]
         },
         "layout": {
          "annotationdefaults": {
           "arrowcolor": "#2a3f5f",
           "arrowhead": 0,
           "arrowwidth": 1
          },
          "autotypenumbers": "strict",
          "coloraxis": {
           "colorbar": {
            "outlinewidth": 0,
            "ticks": ""
           }
          },
          "colorscale": {
           "diverging": [
            [
             0,
             "#8e0152"
            ],
            [
             0.1,
             "#c51b7d"
            ],
            [
             0.2,
             "#de77ae"
            ],
            [
             0.3,
             "#f1b6da"
            ],
            [
             0.4,
             "#fde0ef"
            ],
            [
             0.5,
             "#f7f7f7"
            ],
            [
             0.6,
             "#e6f5d0"
            ],
            [
             0.7,
             "#b8e186"
            ],
            [
             0.8,
             "#7fbc41"
            ],
            [
             0.9,
             "#4d9221"
            ],
            [
             1,
             "#276419"
            ]
           ],
           "sequential": [
            [
             0,
             "#0d0887"
            ],
            [
             0.1111111111111111,
             "#46039f"
            ],
            [
             0.2222222222222222,
             "#7201a8"
            ],
            [
             0.3333333333333333,
             "#9c179e"
            ],
            [
             0.4444444444444444,
             "#bd3786"
            ],
            [
             0.5555555555555556,
             "#d8576b"
            ],
            [
             0.6666666666666666,
             "#ed7953"
            ],
            [
             0.7777777777777778,
             "#fb9f3a"
            ],
            [
             0.8888888888888888,
             "#fdca26"
            ],
            [
             1,
             "#f0f921"
            ]
           ],
           "sequentialminus": [
            [
             0,
             "#0d0887"
            ],
            [
             0.1111111111111111,
             "#46039f"
            ],
            [
             0.2222222222222222,
             "#7201a8"
            ],
            [
             0.3333333333333333,
             "#9c179e"
            ],
            [
             0.4444444444444444,
             "#bd3786"
            ],
            [
             0.5555555555555556,
             "#d8576b"
            ],
            [
             0.6666666666666666,
             "#ed7953"
            ],
            [
             0.7777777777777778,
             "#fb9f3a"
            ],
            [
             0.8888888888888888,
             "#fdca26"
            ],
            [
             1,
             "#f0f921"
            ]
           ]
          },
          "colorway": [
           "#636efa",
           "#EF553B",
           "#00cc96",
           "#ab63fa",
           "#FFA15A",
           "#19d3f3",
           "#FF6692",
           "#B6E880",
           "#FF97FF",
           "#FECB52"
          ],
          "font": {
           "color": "#2a3f5f"
          },
          "geo": {
           "bgcolor": "white",
           "lakecolor": "white",
           "landcolor": "#E5ECF6",
           "showlakes": true,
           "showland": true,
           "subunitcolor": "white"
          },
          "hoverlabel": {
           "align": "left"
          },
          "hovermode": "closest",
          "mapbox": {
           "style": "light"
          },
          "paper_bgcolor": "white",
          "plot_bgcolor": "#E5ECF6",
          "polar": {
           "angularaxis": {
            "gridcolor": "white",
            "linecolor": "white",
            "ticks": ""
           },
           "bgcolor": "#E5ECF6",
           "radialaxis": {
            "gridcolor": "white",
            "linecolor": "white",
            "ticks": ""
           }
          },
          "scene": {
           "xaxis": {
            "backgroundcolor": "#E5ECF6",
            "gridcolor": "white",
            "gridwidth": 2,
            "linecolor": "white",
            "showbackground": true,
            "ticks": "",
            "zerolinecolor": "white"
           },
           "yaxis": {
            "backgroundcolor": "#E5ECF6",
            "gridcolor": "white",
            "gridwidth": 2,
            "linecolor": "white",
            "showbackground": true,
            "ticks": "",
            "zerolinecolor": "white"
           },
           "zaxis": {
            "backgroundcolor": "#E5ECF6",
            "gridcolor": "white",
            "gridwidth": 2,
            "linecolor": "white",
            "showbackground": true,
            "ticks": "",
            "zerolinecolor": "white"
           }
          },
          "shapedefaults": {
           "line": {
            "color": "#2a3f5f"
           }
          },
          "ternary": {
           "aaxis": {
            "gridcolor": "white",
            "linecolor": "white",
            "ticks": ""
           },
           "baxis": {
            "gridcolor": "white",
            "linecolor": "white",
            "ticks": ""
           },
           "bgcolor": "#E5ECF6",
           "caxis": {
            "gridcolor": "white",
            "linecolor": "white",
            "ticks": ""
           }
          },
          "title": {
           "x": 0.05
          },
          "xaxis": {
           "automargin": true,
           "gridcolor": "white",
           "linecolor": "white",
           "ticks": "",
           "title": {
            "standoff": 15
           },
           "zerolinecolor": "white",
           "zerolinewidth": 2
          },
          "yaxis": {
           "automargin": true,
           "gridcolor": "white",
           "linecolor": "white",
           "ticks": "",
           "title": {
            "standoff": 15
           },
           "zerolinecolor": "white",
           "zerolinewidth": 2
          }
         }
        },
        "title": {
         "text": "attacks"
        },
        "xaxis": {
         "anchor": "y",
         "domain": [
          0,
          1
         ],
         "linecolor": "black",
         "title": {
          "text": "Number"
         }
        },
        "yaxis": {
         "anchor": "x",
         "domain": [
          0,
          1
         ],
         "linecolor": "black",
         "tickfont": {
          "size": 10
         },
         "ticktext": [
          "ransomware",
          "RaaS",
          "phishing",
          "social engineering",
          "botnet",
          "SQL injection",
          "command injection"
         ],
         "tickvals": [
          "ransomware",
          "RaaS",
          "phishing",
          "social engineering",
          "botnet",
          "SQL injection",
          "command injection"
         ],
         "title": {
          "text": "attacks"
         }
        }
       }
      }
     },
     "metadata": {},
     "output_type": "display_data"
    },
    {
     "name": "stdout",
     "output_type": "stream",
     "text": [
      "malware\n",
      "Outputfile: /Users/bernd/Documents/Own_Projects/articles_summarymalware.png\n"
     ]
    },
    {
     "data": {
      "application/vnd.plotly.v1+json": {
       "config": {
        "plotlyServerURL": "https://plot.ly"
       },
       "data": [
        {
         "alignmentgroup": "True",
         "hovertemplate": "count=%{x}<br>malware=%{y}<extra></extra>",
         "legendgroup": "",
         "marker": {
          "color": "blue",
          "line": {
           "color": "black",
           "width": 2
          },
          "pattern": {
           "shape": ""
          }
         },
         "name": "",
         "offsetgroup": "",
         "opacity": 1,
         "orientation": "v",
         "showlegend": false,
         "textposition": "auto",
         "type": "bar",
         "x": [],
         "xaxis": "x",
         "y": [],
         "yaxis": "y"
        }
       ],
       "layout": {
        "barmode": "relative",
        "legend": {
         "tracegroupgap": 0
        },
        "margin": {
         "t": 60
        },
        "paper_bgcolor": "white",
        "plot_bgcolor": "white",
        "showlegend": false,
        "template": {
         "data": {
          "bar": [
           {
            "error_x": {
             "color": "#2a3f5f"
            },
            "error_y": {
             "color": "#2a3f5f"
            },
            "marker": {
             "line": {
              "color": "#E5ECF6",
              "width": 0.5
             },
             "pattern": {
              "fillmode": "overlay",
              "size": 10,
              "solidity": 0.2
             }
            },
            "type": "bar"
           }
          ],
          "barpolar": [
           {
            "marker": {
             "line": {
              "color": "#E5ECF6",
              "width": 0.5
             },
             "pattern": {
              "fillmode": "overlay",
              "size": 10,
              "solidity": 0.2
             }
            },
            "type": "barpolar"
           }
          ],
          "carpet": [
           {
            "aaxis": {
             "endlinecolor": "#2a3f5f",
             "gridcolor": "white",
             "linecolor": "white",
             "minorgridcolor": "white",
             "startlinecolor": "#2a3f5f"
            },
            "baxis": {
             "endlinecolor": "#2a3f5f",
             "gridcolor": "white",
             "linecolor": "white",
             "minorgridcolor": "white",
             "startlinecolor": "#2a3f5f"
            },
            "type": "carpet"
           }
          ],
          "choropleth": [
           {
            "colorbar": {
             "outlinewidth": 0,
             "ticks": ""
            },
            "type": "choropleth"
           }
          ],
          "contour": [
           {
            "colorbar": {
             "outlinewidth": 0,
             "ticks": ""
            },
            "colorscale": [
             [
              0,
              "#0d0887"
             ],
             [
              0.1111111111111111,
              "#46039f"
             ],
             [
              0.2222222222222222,
              "#7201a8"
             ],
             [
              0.3333333333333333,
              "#9c179e"
             ],
             [
              0.4444444444444444,
              "#bd3786"
             ],
             [
              0.5555555555555556,
              "#d8576b"
             ],
             [
              0.6666666666666666,
              "#ed7953"
             ],
             [
              0.7777777777777778,
              "#fb9f3a"
             ],
             [
              0.8888888888888888,
              "#fdca26"
             ],
             [
              1,
              "#f0f921"
             ]
            ],
            "type": "contour"
           }
          ],
          "contourcarpet": [
           {
            "colorbar": {
             "outlinewidth": 0,
             "ticks": ""
            },
            "type": "contourcarpet"
           }
          ],
          "heatmap": [
           {
            "colorbar": {
             "outlinewidth": 0,
             "ticks": ""
            },
            "colorscale": [
             [
              0,
              "#0d0887"
             ],
             [
              0.1111111111111111,
              "#46039f"
             ],
             [
              0.2222222222222222,
              "#7201a8"
             ],
             [
              0.3333333333333333,
              "#9c179e"
             ],
             [
              0.4444444444444444,
              "#bd3786"
             ],
             [
              0.5555555555555556,
              "#d8576b"
             ],
             [
              0.6666666666666666,
              "#ed7953"
             ],
             [
              0.7777777777777778,
              "#fb9f3a"
             ],
             [
              0.8888888888888888,
              "#fdca26"
             ],
             [
              1,
              "#f0f921"
             ]
            ],
            "type": "heatmap"
           }
          ],
          "heatmapgl": [
           {
            "colorbar": {
             "outlinewidth": 0,
             "ticks": ""
            },
            "colorscale": [
             [
              0,
              "#0d0887"
             ],
             [
              0.1111111111111111,
              "#46039f"
             ],
             [
              0.2222222222222222,
              "#7201a8"
             ],
             [
              0.3333333333333333,
              "#9c179e"
             ],
             [
              0.4444444444444444,
              "#bd3786"
             ],
             [
              0.5555555555555556,
              "#d8576b"
             ],
             [
              0.6666666666666666,
              "#ed7953"
             ],
             [
              0.7777777777777778,
              "#fb9f3a"
             ],
             [
              0.8888888888888888,
              "#fdca26"
             ],
             [
              1,
              "#f0f921"
             ]
            ],
            "type": "heatmapgl"
           }
          ],
          "histogram": [
           {
            "marker": {
             "pattern": {
              "fillmode": "overlay",
              "size": 10,
              "solidity": 0.2
             }
            },
            "type": "histogram"
           }
          ],
          "histogram2d": [
           {
            "colorbar": {
             "outlinewidth": 0,
             "ticks": ""
            },
            "colorscale": [
             [
              0,
              "#0d0887"
             ],
             [
              0.1111111111111111,
              "#46039f"
             ],
             [
              0.2222222222222222,
              "#7201a8"
             ],
             [
              0.3333333333333333,
              "#9c179e"
             ],
             [
              0.4444444444444444,
              "#bd3786"
             ],
             [
              0.5555555555555556,
              "#d8576b"
             ],
             [
              0.6666666666666666,
              "#ed7953"
             ],
             [
              0.7777777777777778,
              "#fb9f3a"
             ],
             [
              0.8888888888888888,
              "#fdca26"
             ],
             [
              1,
              "#f0f921"
             ]
            ],
            "type": "histogram2d"
           }
          ],
          "histogram2dcontour": [
           {
            "colorbar": {
             "outlinewidth": 0,
             "ticks": ""
            },
            "colorscale": [
             [
              0,
              "#0d0887"
             ],
             [
              0.1111111111111111,
              "#46039f"
             ],
             [
              0.2222222222222222,
              "#7201a8"
             ],
             [
              0.3333333333333333,
              "#9c179e"
             ],
             [
              0.4444444444444444,
              "#bd3786"
             ],
             [
              0.5555555555555556,
              "#d8576b"
             ],
             [
              0.6666666666666666,
              "#ed7953"
             ],
             [
              0.7777777777777778,
              "#fb9f3a"
             ],
             [
              0.8888888888888888,
              "#fdca26"
             ],
             [
              1,
              "#f0f921"
             ]
            ],
            "type": "histogram2dcontour"
           }
          ],
          "mesh3d": [
           {
            "colorbar": {
             "outlinewidth": 0,
             "ticks": ""
            },
            "type": "mesh3d"
           }
          ],
          "parcoords": [
           {
            "line": {
             "colorbar": {
              "outlinewidth": 0,
              "ticks": ""
             }
            },
            "type": "parcoords"
           }
          ],
          "pie": [
           {
            "automargin": true,
            "type": "pie"
           }
          ],
          "scatter": [
           {
            "fillpattern": {
             "fillmode": "overlay",
             "size": 10,
             "solidity": 0.2
            },
            "type": "scatter"
           }
          ],
          "scatter3d": [
           {
            "line": {
             "colorbar": {
              "outlinewidth": 0,
              "ticks": ""
             }
            },
            "marker": {
             "colorbar": {
              "outlinewidth": 0,
              "ticks": ""
             }
            },
            "type": "scatter3d"
           }
          ],
          "scattercarpet": [
           {
            "marker": {
             "colorbar": {
              "outlinewidth": 0,
              "ticks": ""
             }
            },
            "type": "scattercarpet"
           }
          ],
          "scattergeo": [
           {
            "marker": {
             "colorbar": {
              "outlinewidth": 0,
              "ticks": ""
             }
            },
            "type": "scattergeo"
           }
          ],
          "scattergl": [
           {
            "marker": {
             "colorbar": {
              "outlinewidth": 0,
              "ticks": ""
             }
            },
            "type": "scattergl"
           }
          ],
          "scattermapbox": [
           {
            "marker": {
             "colorbar": {
              "outlinewidth": 0,
              "ticks": ""
             }
            },
            "type": "scattermapbox"
           }
          ],
          "scatterpolar": [
           {
            "marker": {
             "colorbar": {
              "outlinewidth": 0,
              "ticks": ""
             }
            },
            "type": "scatterpolar"
           }
          ],
          "scatterpolargl": [
           {
            "marker": {
             "colorbar": {
              "outlinewidth": 0,
              "ticks": ""
             }
            },
            "type": "scatterpolargl"
           }
          ],
          "scatterternary": [
           {
            "marker": {
             "colorbar": {
              "outlinewidth": 0,
              "ticks": ""
             }
            },
            "type": "scatterternary"
           }
          ],
          "surface": [
           {
            "colorbar": {
             "outlinewidth": 0,
             "ticks": ""
            },
            "colorscale": [
             [
              0,
              "#0d0887"
             ],
             [
              0.1111111111111111,
              "#46039f"
             ],
             [
              0.2222222222222222,
              "#7201a8"
             ],
             [
              0.3333333333333333,
              "#9c179e"
             ],
             [
              0.4444444444444444,
              "#bd3786"
             ],
             [
              0.5555555555555556,
              "#d8576b"
             ],
             [
              0.6666666666666666,
              "#ed7953"
             ],
             [
              0.7777777777777778,
              "#fb9f3a"
             ],
             [
              0.8888888888888888,
              "#fdca26"
             ],
             [
              1,
              "#f0f921"
             ]
            ],
            "type": "surface"
           }
          ],
          "table": [
           {
            "cells": {
             "fill": {
              "color": "#EBF0F8"
             },
             "line": {
              "color": "white"
             }
            },
            "header": {
             "fill": {
              "color": "#C8D4E3"
             },
             "line": {
              "color": "white"
             }
            },
            "type": "table"
           }
          ]
         },
         "layout": {
          "annotationdefaults": {
           "arrowcolor": "#2a3f5f",
           "arrowhead": 0,
           "arrowwidth": 1
          },
          "autotypenumbers": "strict",
          "coloraxis": {
           "colorbar": {
            "outlinewidth": 0,
            "ticks": ""
           }
          },
          "colorscale": {
           "diverging": [
            [
             0,
             "#8e0152"
            ],
            [
             0.1,
             "#c51b7d"
            ],
            [
             0.2,
             "#de77ae"
            ],
            [
             0.3,
             "#f1b6da"
            ],
            [
             0.4,
             "#fde0ef"
            ],
            [
             0.5,
             "#f7f7f7"
            ],
            [
             0.6,
             "#e6f5d0"
            ],
            [
             0.7,
             "#b8e186"
            ],
            [
             0.8,
             "#7fbc41"
            ],
            [
             0.9,
             "#4d9221"
            ],
            [
             1,
             "#276419"
            ]
           ],
           "sequential": [
            [
             0,
             "#0d0887"
            ],
            [
             0.1111111111111111,
             "#46039f"
            ],
            [
             0.2222222222222222,
             "#7201a8"
            ],
            [
             0.3333333333333333,
             "#9c179e"
            ],
            [
             0.4444444444444444,
             "#bd3786"
            ],
            [
             0.5555555555555556,
             "#d8576b"
            ],
            [
             0.6666666666666666,
             "#ed7953"
            ],
            [
             0.7777777777777778,
             "#fb9f3a"
            ],
            [
             0.8888888888888888,
             "#fdca26"
            ],
            [
             1,
             "#f0f921"
            ]
           ],
           "sequentialminus": [
            [
             0,
             "#0d0887"
            ],
            [
             0.1111111111111111,
             "#46039f"
            ],
            [
             0.2222222222222222,
             "#7201a8"
            ],
            [
             0.3333333333333333,
             "#9c179e"
            ],
            [
             0.4444444444444444,
             "#bd3786"
            ],
            [
             0.5555555555555556,
             "#d8576b"
            ],
            [
             0.6666666666666666,
             "#ed7953"
            ],
            [
             0.7777777777777778,
             "#fb9f3a"
            ],
            [
             0.8888888888888888,
             "#fdca26"
            ],
            [
             1,
             "#f0f921"
            ]
           ]
          },
          "colorway": [
           "#636efa",
           "#EF553B",
           "#00cc96",
           "#ab63fa",
           "#FFA15A",
           "#19d3f3",
           "#FF6692",
           "#B6E880",
           "#FF97FF",
           "#FECB52"
          ],
          "font": {
           "color": "#2a3f5f"
          },
          "geo": {
           "bgcolor": "white",
           "lakecolor": "white",
           "landcolor": "#E5ECF6",
           "showlakes": true,
           "showland": true,
           "subunitcolor": "white"
          },
          "hoverlabel": {
           "align": "left"
          },
          "hovermode": "closest",
          "mapbox": {
           "style": "light"
          },
          "paper_bgcolor": "white",
          "plot_bgcolor": "#E5ECF6",
          "polar": {
           "angularaxis": {
            "gridcolor": "white",
            "linecolor": "white",
            "ticks": ""
           },
           "bgcolor": "#E5ECF6",
           "radialaxis": {
            "gridcolor": "white",
            "linecolor": "white",
            "ticks": ""
           }
          },
          "scene": {
           "xaxis": {
            "backgroundcolor": "#E5ECF6",
            "gridcolor": "white",
            "gridwidth": 2,
            "linecolor": "white",
            "showbackground": true,
            "ticks": "",
            "zerolinecolor": "white"
           },
           "yaxis": {
            "backgroundcolor": "#E5ECF6",
            "gridcolor": "white",
            "gridwidth": 2,
            "linecolor": "white",
            "showbackground": true,
            "ticks": "",
            "zerolinecolor": "white"
           },
           "zaxis": {
            "backgroundcolor": "#E5ECF6",
            "gridcolor": "white",
            "gridwidth": 2,
            "linecolor": "white",
            "showbackground": true,
            "ticks": "",
            "zerolinecolor": "white"
           }
          },
          "shapedefaults": {
           "line": {
            "color": "#2a3f5f"
           }
          },
          "ternary": {
           "aaxis": {
            "gridcolor": "white",
            "linecolor": "white",
            "ticks": ""
           },
           "baxis": {
            "gridcolor": "white",
            "linecolor": "white",
            "ticks": ""
           },
           "bgcolor": "#E5ECF6",
           "caxis": {
            "gridcolor": "white",
            "linecolor": "white",
            "ticks": ""
           }
          },
          "title": {
           "x": 0.05
          },
          "xaxis": {
           "automargin": true,
           "gridcolor": "white",
           "linecolor": "white",
           "ticks": "",
           "title": {
            "standoff": 15
           },
           "zerolinecolor": "white",
           "zerolinewidth": 2
          },
          "yaxis": {
           "automargin": true,
           "gridcolor": "white",
           "linecolor": "white",
           "ticks": "",
           "title": {
            "standoff": 15
           },
           "zerolinecolor": "white",
           "zerolinewidth": 2
          }
         }
        },
        "title": {
         "text": "malware"
        },
        "xaxis": {
         "anchor": "y",
         "domain": [
          0,
          1
         ],
         "linecolor": "black",
         "title": {
          "text": "Number"
         }
        },
        "yaxis": {
         "anchor": "x",
         "domain": [
          0,
          1
         ],
         "linecolor": "black",
         "tickfont": {
          "size": 10
         },
         "ticktext": [],
         "tickvals": [],
         "title": {
          "text": "malware"
         }
        }
       }
      }
     },
     "metadata": {},
     "output_type": "display_data"
    },
    {
     "name": "stdout",
     "output_type": "stream",
     "text": [
      "industries\n",
      "Outputfile: /Users/bernd/Documents/Own_Projects/articles_summaryindustries.png\n"
     ]
    },
    {
     "data": {
      "application/vnd.plotly.v1+json": {
       "config": {
        "plotlyServerURL": "https://plot.ly"
       },
       "data": [
        {
         "alignmentgroup": "True",
         "hovertemplate": "count=%{x}<br>industries=%{y}<extra></extra>",
         "legendgroup": "",
         "marker": {
          "color": "blue",
          "line": {
           "color": "black",
           "width": 2
          },
          "pattern": {
           "shape": ""
          }
         },
         "name": "",
         "offsetgroup": "",
         "opacity": 1,
         "orientation": "h",
         "showlegend": false,
         "textposition": "auto",
         "type": "bar",
         "x": [
          16,
          3
         ],
         "xaxis": "x",
         "y": [
          "hotel",
          "medical"
         ],
         "yaxis": "y"
        }
       ],
       "layout": {
        "barmode": "relative",
        "legend": {
         "tracegroupgap": 0
        },
        "margin": {
         "t": 60
        },
        "paper_bgcolor": "white",
        "plot_bgcolor": "white",
        "showlegend": false,
        "template": {
         "data": {
          "bar": [
           {
            "error_x": {
             "color": "#2a3f5f"
            },
            "error_y": {
             "color": "#2a3f5f"
            },
            "marker": {
             "line": {
              "color": "#E5ECF6",
              "width": 0.5
             },
             "pattern": {
              "fillmode": "overlay",
              "size": 10,
              "solidity": 0.2
             }
            },
            "type": "bar"
           }
          ],
          "barpolar": [
           {
            "marker": {
             "line": {
              "color": "#E5ECF6",
              "width": 0.5
             },
             "pattern": {
              "fillmode": "overlay",
              "size": 10,
              "solidity": 0.2
             }
            },
            "type": "barpolar"
           }
          ],
          "carpet": [
           {
            "aaxis": {
             "endlinecolor": "#2a3f5f",
             "gridcolor": "white",
             "linecolor": "white",
             "minorgridcolor": "white",
             "startlinecolor": "#2a3f5f"
            },
            "baxis": {
             "endlinecolor": "#2a3f5f",
             "gridcolor": "white",
             "linecolor": "white",
             "minorgridcolor": "white",
             "startlinecolor": "#2a3f5f"
            },
            "type": "carpet"
           }
          ],
          "choropleth": [
           {
            "colorbar": {
             "outlinewidth": 0,
             "ticks": ""
            },
            "type": "choropleth"
           }
          ],
          "contour": [
           {
            "colorbar": {
             "outlinewidth": 0,
             "ticks": ""
            },
            "colorscale": [
             [
              0,
              "#0d0887"
             ],
             [
              0.1111111111111111,
              "#46039f"
             ],
             [
              0.2222222222222222,
              "#7201a8"
             ],
             [
              0.3333333333333333,
              "#9c179e"
             ],
             [
              0.4444444444444444,
              "#bd3786"
             ],
             [
              0.5555555555555556,
              "#d8576b"
             ],
             [
              0.6666666666666666,
              "#ed7953"
             ],
             [
              0.7777777777777778,
              "#fb9f3a"
             ],
             [
              0.8888888888888888,
              "#fdca26"
             ],
             [
              1,
              "#f0f921"
             ]
            ],
            "type": "contour"
           }
          ],
          "contourcarpet": [
           {
            "colorbar": {
             "outlinewidth": 0,
             "ticks": ""
            },
            "type": "contourcarpet"
           }
          ],
          "heatmap": [
           {
            "colorbar": {
             "outlinewidth": 0,
             "ticks": ""
            },
            "colorscale": [
             [
              0,
              "#0d0887"
             ],
             [
              0.1111111111111111,
              "#46039f"
             ],
             [
              0.2222222222222222,
              "#7201a8"
             ],
             [
              0.3333333333333333,
              "#9c179e"
             ],
             [
              0.4444444444444444,
              "#bd3786"
             ],
             [
              0.5555555555555556,
              "#d8576b"
             ],
             [
              0.6666666666666666,
              "#ed7953"
             ],
             [
              0.7777777777777778,
              "#fb9f3a"
             ],
             [
              0.8888888888888888,
              "#fdca26"
             ],
             [
              1,
              "#f0f921"
             ]
            ],
            "type": "heatmap"
           }
          ],
          "heatmapgl": [
           {
            "colorbar": {
             "outlinewidth": 0,
             "ticks": ""
            },
            "colorscale": [
             [
              0,
              "#0d0887"
             ],
             [
              0.1111111111111111,
              "#46039f"
             ],
             [
              0.2222222222222222,
              "#7201a8"
             ],
             [
              0.3333333333333333,
              "#9c179e"
             ],
             [
              0.4444444444444444,
              "#bd3786"
             ],
             [
              0.5555555555555556,
              "#d8576b"
             ],
             [
              0.6666666666666666,
              "#ed7953"
             ],
             [
              0.7777777777777778,
              "#fb9f3a"
             ],
             [
              0.8888888888888888,
              "#fdca26"
             ],
             [
              1,
              "#f0f921"
             ]
            ],
            "type": "heatmapgl"
           }
          ],
          "histogram": [
           {
            "marker": {
             "pattern": {
              "fillmode": "overlay",
              "size": 10,
              "solidity": 0.2
             }
            },
            "type": "histogram"
           }
          ],
          "histogram2d": [
           {
            "colorbar": {
             "outlinewidth": 0,
             "ticks": ""
            },
            "colorscale": [
             [
              0,
              "#0d0887"
             ],
             [
              0.1111111111111111,
              "#46039f"
             ],
             [
              0.2222222222222222,
              "#7201a8"
             ],
             [
              0.3333333333333333,
              "#9c179e"
             ],
             [
              0.4444444444444444,
              "#bd3786"
             ],
             [
              0.5555555555555556,
              "#d8576b"
             ],
             [
              0.6666666666666666,
              "#ed7953"
             ],
             [
              0.7777777777777778,
              "#fb9f3a"
             ],
             [
              0.8888888888888888,
              "#fdca26"
             ],
             [
              1,
              "#f0f921"
             ]
            ],
            "type": "histogram2d"
           }
          ],
          "histogram2dcontour": [
           {
            "colorbar": {
             "outlinewidth": 0,
             "ticks": ""
            },
            "colorscale": [
             [
              0,
              "#0d0887"
             ],
             [
              0.1111111111111111,
              "#46039f"
             ],
             [
              0.2222222222222222,
              "#7201a8"
             ],
             [
              0.3333333333333333,
              "#9c179e"
             ],
             [
              0.4444444444444444,
              "#bd3786"
             ],
             [
              0.5555555555555556,
              "#d8576b"
             ],
             [
              0.6666666666666666,
              "#ed7953"
             ],
             [
              0.7777777777777778,
              "#fb9f3a"
             ],
             [
              0.8888888888888888,
              "#fdca26"
             ],
             [
              1,
              "#f0f921"
             ]
            ],
            "type": "histogram2dcontour"
           }
          ],
          "mesh3d": [
           {
            "colorbar": {
             "outlinewidth": 0,
             "ticks": ""
            },
            "type": "mesh3d"
           }
          ],
          "parcoords": [
           {
            "line": {
             "colorbar": {
              "outlinewidth": 0,
              "ticks": ""
             }
            },
            "type": "parcoords"
           }
          ],
          "pie": [
           {
            "automargin": true,
            "type": "pie"
           }
          ],
          "scatter": [
           {
            "fillpattern": {
             "fillmode": "overlay",
             "size": 10,
             "solidity": 0.2
            },
            "type": "scatter"
           }
          ],
          "scatter3d": [
           {
            "line": {
             "colorbar": {
              "outlinewidth": 0,
              "ticks": ""
             }
            },
            "marker": {
             "colorbar": {
              "outlinewidth": 0,
              "ticks": ""
             }
            },
            "type": "scatter3d"
           }
          ],
          "scattercarpet": [
           {
            "marker": {
             "colorbar": {
              "outlinewidth": 0,
              "ticks": ""
             }
            },
            "type": "scattercarpet"
           }
          ],
          "scattergeo": [
           {
            "marker": {
             "colorbar": {
              "outlinewidth": 0,
              "ticks": ""
             }
            },
            "type": "scattergeo"
           }
          ],
          "scattergl": [
           {
            "marker": {
             "colorbar": {
              "outlinewidth": 0,
              "ticks": ""
             }
            },
            "type": "scattergl"
           }
          ],
          "scattermapbox": [
           {
            "marker": {
             "colorbar": {
              "outlinewidth": 0,
              "ticks": ""
             }
            },
            "type": "scattermapbox"
           }
          ],
          "scatterpolar": [
           {
            "marker": {
             "colorbar": {
              "outlinewidth": 0,
              "ticks": ""
             }
            },
            "type": "scatterpolar"
           }
          ],
          "scatterpolargl": [
           {
            "marker": {
             "colorbar": {
              "outlinewidth": 0,
              "ticks": ""
             }
            },
            "type": "scatterpolargl"
           }
          ],
          "scatterternary": [
           {
            "marker": {
             "colorbar": {
              "outlinewidth": 0,
              "ticks": ""
             }
            },
            "type": "scatterternary"
           }
          ],
          "surface": [
           {
            "colorbar": {
             "outlinewidth": 0,
             "ticks": ""
            },
            "colorscale": [
             [
              0,
              "#0d0887"
             ],
             [
              0.1111111111111111,
              "#46039f"
             ],
             [
              0.2222222222222222,
              "#7201a8"
             ],
             [
              0.3333333333333333,
              "#9c179e"
             ],
             [
              0.4444444444444444,
              "#bd3786"
             ],
             [
              0.5555555555555556,
              "#d8576b"
             ],
             [
              0.6666666666666666,
              "#ed7953"
             ],
             [
              0.7777777777777778,
              "#fb9f3a"
             ],
             [
              0.8888888888888888,
              "#fdca26"
             ],
             [
              1,
              "#f0f921"
             ]
            ],
            "type": "surface"
           }
          ],
          "table": [
           {
            "cells": {
             "fill": {
              "color": "#EBF0F8"
             },
             "line": {
              "color": "white"
             }
            },
            "header": {
             "fill": {
              "color": "#C8D4E3"
             },
             "line": {
              "color": "white"
             }
            },
            "type": "table"
           }
          ]
         },
         "layout": {
          "annotationdefaults": {
           "arrowcolor": "#2a3f5f",
           "arrowhead": 0,
           "arrowwidth": 1
          },
          "autotypenumbers": "strict",
          "coloraxis": {
           "colorbar": {
            "outlinewidth": 0,
            "ticks": ""
           }
          },
          "colorscale": {
           "diverging": [
            [
             0,
             "#8e0152"
            ],
            [
             0.1,
             "#c51b7d"
            ],
            [
             0.2,
             "#de77ae"
            ],
            [
             0.3,
             "#f1b6da"
            ],
            [
             0.4,
             "#fde0ef"
            ],
            [
             0.5,
             "#f7f7f7"
            ],
            [
             0.6,
             "#e6f5d0"
            ],
            [
             0.7,
             "#b8e186"
            ],
            [
             0.8,
             "#7fbc41"
            ],
            [
             0.9,
             "#4d9221"
            ],
            [
             1,
             "#276419"
            ]
           ],
           "sequential": [
            [
             0,
             "#0d0887"
            ],
            [
             0.1111111111111111,
             "#46039f"
            ],
            [
             0.2222222222222222,
             "#7201a8"
            ],
            [
             0.3333333333333333,
             "#9c179e"
            ],
            [
             0.4444444444444444,
             "#bd3786"
            ],
            [
             0.5555555555555556,
             "#d8576b"
            ],
            [
             0.6666666666666666,
             "#ed7953"
            ],
            [
             0.7777777777777778,
             "#fb9f3a"
            ],
            [
             0.8888888888888888,
             "#fdca26"
            ],
            [
             1,
             "#f0f921"
            ]
           ],
           "sequentialminus": [
            [
             0,
             "#0d0887"
            ],
            [
             0.1111111111111111,
             "#46039f"
            ],
            [
             0.2222222222222222,
             "#7201a8"
            ],
            [
             0.3333333333333333,
             "#9c179e"
            ],
            [
             0.4444444444444444,
             "#bd3786"
            ],
            [
             0.5555555555555556,
             "#d8576b"
            ],
            [
             0.6666666666666666,
             "#ed7953"
            ],
            [
             0.7777777777777778,
             "#fb9f3a"
            ],
            [
             0.8888888888888888,
             "#fdca26"
            ],
            [
             1,
             "#f0f921"
            ]
           ]
          },
          "colorway": [
           "#636efa",
           "#EF553B",
           "#00cc96",
           "#ab63fa",
           "#FFA15A",
           "#19d3f3",
           "#FF6692",
           "#B6E880",
           "#FF97FF",
           "#FECB52"
          ],
          "font": {
           "color": "#2a3f5f"
          },
          "geo": {
           "bgcolor": "white",
           "lakecolor": "white",
           "landcolor": "#E5ECF6",
           "showlakes": true,
           "showland": true,
           "subunitcolor": "white"
          },
          "hoverlabel": {
           "align": "left"
          },
          "hovermode": "closest",
          "mapbox": {
           "style": "light"
          },
          "paper_bgcolor": "white",
          "plot_bgcolor": "#E5ECF6",
          "polar": {
           "angularaxis": {
            "gridcolor": "white",
            "linecolor": "white",
            "ticks": ""
           },
           "bgcolor": "#E5ECF6",
           "radialaxis": {
            "gridcolor": "white",
            "linecolor": "white",
            "ticks": ""
           }
          },
          "scene": {
           "xaxis": {
            "backgroundcolor": "#E5ECF6",
            "gridcolor": "white",
            "gridwidth": 2,
            "linecolor": "white",
            "showbackground": true,
            "ticks": "",
            "zerolinecolor": "white"
           },
           "yaxis": {
            "backgroundcolor": "#E5ECF6",
            "gridcolor": "white",
            "gridwidth": 2,
            "linecolor": "white",
            "showbackground": true,
            "ticks": "",
            "zerolinecolor": "white"
           },
           "zaxis": {
            "backgroundcolor": "#E5ECF6",
            "gridcolor": "white",
            "gridwidth": 2,
            "linecolor": "white",
            "showbackground": true,
            "ticks": "",
            "zerolinecolor": "white"
           }
          },
          "shapedefaults": {
           "line": {
            "color": "#2a3f5f"
           }
          },
          "ternary": {
           "aaxis": {
            "gridcolor": "white",
            "linecolor": "white",
            "ticks": ""
           },
           "baxis": {
            "gridcolor": "white",
            "linecolor": "white",
            "ticks": ""
           },
           "bgcolor": "#E5ECF6",
           "caxis": {
            "gridcolor": "white",
            "linecolor": "white",
            "ticks": ""
           }
          },
          "title": {
           "x": 0.05
          },
          "xaxis": {
           "automargin": true,
           "gridcolor": "white",
           "linecolor": "white",
           "ticks": "",
           "title": {
            "standoff": 15
           },
           "zerolinecolor": "white",
           "zerolinewidth": 2
          },
          "yaxis": {
           "automargin": true,
           "gridcolor": "white",
           "linecolor": "white",
           "ticks": "",
           "title": {
            "standoff": 15
           },
           "zerolinecolor": "white",
           "zerolinewidth": 2
          }
         }
        },
        "title": {
         "text": "industries"
        },
        "xaxis": {
         "anchor": "y",
         "domain": [
          0,
          1
         ],
         "linecolor": "black",
         "title": {
          "text": "Number"
         }
        },
        "yaxis": {
         "anchor": "x",
         "domain": [
          0,
          1
         ],
         "linecolor": "black",
         "tickfont": {
          "size": 10
         },
         "ticktext": [
          "hotel",
          "medical"
         ],
         "tickvals": [
          "hotel",
          "medical"
         ],
         "title": {
          "text": "industries"
         }
        }
       }
      }
     },
     "metadata": {},
     "output_type": "display_data"
    },
    {
     "name": "stdout",
     "output_type": "stream",
     "text": [
      "researchers\n",
      "Outputfile: /Users/bernd/Documents/Own_Projects/articles_summaryresearchers.png\n"
     ]
    },
    {
     "data": {
      "application/vnd.plotly.v1+json": {
       "config": {
        "plotlyServerURL": "https://plot.ly"
       },
       "data": [
        {
         "alignmentgroup": "True",
         "hovertemplate": "count=%{x}<br>researchers=%{y}<extra></extra>",
         "legendgroup": "",
         "marker": {
          "color": "blue",
          "line": {
           "color": "black",
           "width": 2
          },
          "pattern": {
           "shape": ""
          }
         },
         "name": "",
         "offsetgroup": "",
         "opacity": 1,
         "orientation": "v",
         "showlegend": false,
         "textposition": "auto",
         "type": "bar",
         "x": [],
         "xaxis": "x",
         "y": [],
         "yaxis": "y"
        }
       ],
       "layout": {
        "barmode": "relative",
        "legend": {
         "tracegroupgap": 0
        },
        "margin": {
         "t": 60
        },
        "paper_bgcolor": "white",
        "plot_bgcolor": "white",
        "showlegend": false,
        "template": {
         "data": {
          "bar": [
           {
            "error_x": {
             "color": "#2a3f5f"
            },
            "error_y": {
             "color": "#2a3f5f"
            },
            "marker": {
             "line": {
              "color": "#E5ECF6",
              "width": 0.5
             },
             "pattern": {
              "fillmode": "overlay",
              "size": 10,
              "solidity": 0.2
             }
            },
            "type": "bar"
           }
          ],
          "barpolar": [
           {
            "marker": {
             "line": {
              "color": "#E5ECF6",
              "width": 0.5
             },
             "pattern": {
              "fillmode": "overlay",
              "size": 10,
              "solidity": 0.2
             }
            },
            "type": "barpolar"
           }
          ],
          "carpet": [
           {
            "aaxis": {
             "endlinecolor": "#2a3f5f",
             "gridcolor": "white",
             "linecolor": "white",
             "minorgridcolor": "white",
             "startlinecolor": "#2a3f5f"
            },
            "baxis": {
             "endlinecolor": "#2a3f5f",
             "gridcolor": "white",
             "linecolor": "white",
             "minorgridcolor": "white",
             "startlinecolor": "#2a3f5f"
            },
            "type": "carpet"
           }
          ],
          "choropleth": [
           {
            "colorbar": {
             "outlinewidth": 0,
             "ticks": ""
            },
            "type": "choropleth"
           }
          ],
          "contour": [
           {
            "colorbar": {
             "outlinewidth": 0,
             "ticks": ""
            },
            "colorscale": [
             [
              0,
              "#0d0887"
             ],
             [
              0.1111111111111111,
              "#46039f"
             ],
             [
              0.2222222222222222,
              "#7201a8"
             ],
             [
              0.3333333333333333,
              "#9c179e"
             ],
             [
              0.4444444444444444,
              "#bd3786"
             ],
             [
              0.5555555555555556,
              "#d8576b"
             ],
             [
              0.6666666666666666,
              "#ed7953"
             ],
             [
              0.7777777777777778,
              "#fb9f3a"
             ],
             [
              0.8888888888888888,
              "#fdca26"
             ],
             [
              1,
              "#f0f921"
             ]
            ],
            "type": "contour"
           }
          ],
          "contourcarpet": [
           {
            "colorbar": {
             "outlinewidth": 0,
             "ticks": ""
            },
            "type": "contourcarpet"
           }
          ],
          "heatmap": [
           {
            "colorbar": {
             "outlinewidth": 0,
             "ticks": ""
            },
            "colorscale": [
             [
              0,
              "#0d0887"
             ],
             [
              0.1111111111111111,
              "#46039f"
             ],
             [
              0.2222222222222222,
              "#7201a8"
             ],
             [
              0.3333333333333333,
              "#9c179e"
             ],
             [
              0.4444444444444444,
              "#bd3786"
             ],
             [
              0.5555555555555556,
              "#d8576b"
             ],
             [
              0.6666666666666666,
              "#ed7953"
             ],
             [
              0.7777777777777778,
              "#fb9f3a"
             ],
             [
              0.8888888888888888,
              "#fdca26"
             ],
             [
              1,
              "#f0f921"
             ]
            ],
            "type": "heatmap"
           }
          ],
          "heatmapgl": [
           {
            "colorbar": {
             "outlinewidth": 0,
             "ticks": ""
            },
            "colorscale": [
             [
              0,
              "#0d0887"
             ],
             [
              0.1111111111111111,
              "#46039f"
             ],
             [
              0.2222222222222222,
              "#7201a8"
             ],
             [
              0.3333333333333333,
              "#9c179e"
             ],
             [
              0.4444444444444444,
              "#bd3786"
             ],
             [
              0.5555555555555556,
              "#d8576b"
             ],
             [
              0.6666666666666666,
              "#ed7953"
             ],
             [
              0.7777777777777778,
              "#fb9f3a"
             ],
             [
              0.8888888888888888,
              "#fdca26"
             ],
             [
              1,
              "#f0f921"
             ]
            ],
            "type": "heatmapgl"
           }
          ],
          "histogram": [
           {
            "marker": {
             "pattern": {
              "fillmode": "overlay",
              "size": 10,
              "solidity": 0.2
             }
            },
            "type": "histogram"
           }
          ],
          "histogram2d": [
           {
            "colorbar": {
             "outlinewidth": 0,
             "ticks": ""
            },
            "colorscale": [
             [
              0,
              "#0d0887"
             ],
             [
              0.1111111111111111,
              "#46039f"
             ],
             [
              0.2222222222222222,
              "#7201a8"
             ],
             [
              0.3333333333333333,
              "#9c179e"
             ],
             [
              0.4444444444444444,
              "#bd3786"
             ],
             [
              0.5555555555555556,
              "#d8576b"
             ],
             [
              0.6666666666666666,
              "#ed7953"
             ],
             [
              0.7777777777777778,
              "#fb9f3a"
             ],
             [
              0.8888888888888888,
              "#fdca26"
             ],
             [
              1,
              "#f0f921"
             ]
            ],
            "type": "histogram2d"
           }
          ],
          "histogram2dcontour": [
           {
            "colorbar": {
             "outlinewidth": 0,
             "ticks": ""
            },
            "colorscale": [
             [
              0,
              "#0d0887"
             ],
             [
              0.1111111111111111,
              "#46039f"
             ],
             [
              0.2222222222222222,
              "#7201a8"
             ],
             [
              0.3333333333333333,
              "#9c179e"
             ],
             [
              0.4444444444444444,
              "#bd3786"
             ],
             [
              0.5555555555555556,
              "#d8576b"
             ],
             [
              0.6666666666666666,
              "#ed7953"
             ],
             [
              0.7777777777777778,
              "#fb9f3a"
             ],
             [
              0.8888888888888888,
              "#fdca26"
             ],
             [
              1,
              "#f0f921"
             ]
            ],
            "type": "histogram2dcontour"
           }
          ],
          "mesh3d": [
           {
            "colorbar": {
             "outlinewidth": 0,
             "ticks": ""
            },
            "type": "mesh3d"
           }
          ],
          "parcoords": [
           {
            "line": {
             "colorbar": {
              "outlinewidth": 0,
              "ticks": ""
             }
            },
            "type": "parcoords"
           }
          ],
          "pie": [
           {
            "automargin": true,
            "type": "pie"
           }
          ],
          "scatter": [
           {
            "fillpattern": {
             "fillmode": "overlay",
             "size": 10,
             "solidity": 0.2
            },
            "type": "scatter"
           }
          ],
          "scatter3d": [
           {
            "line": {
             "colorbar": {
              "outlinewidth": 0,
              "ticks": ""
             }
            },
            "marker": {
             "colorbar": {
              "outlinewidth": 0,
              "ticks": ""
             }
            },
            "type": "scatter3d"
           }
          ],
          "scattercarpet": [
           {
            "marker": {
             "colorbar": {
              "outlinewidth": 0,
              "ticks": ""
             }
            },
            "type": "scattercarpet"
           }
          ],
          "scattergeo": [
           {
            "marker": {
             "colorbar": {
              "outlinewidth": 0,
              "ticks": ""
             }
            },
            "type": "scattergeo"
           }
          ],
          "scattergl": [
           {
            "marker": {
             "colorbar": {
              "outlinewidth": 0,
              "ticks": ""
             }
            },
            "type": "scattergl"
           }
          ],
          "scattermapbox": [
           {
            "marker": {
             "colorbar": {
              "outlinewidth": 0,
              "ticks": ""
             }
            },
            "type": "scattermapbox"
           }
          ],
          "scatterpolar": [
           {
            "marker": {
             "colorbar": {
              "outlinewidth": 0,
              "ticks": ""
             }
            },
            "type": "scatterpolar"
           }
          ],
          "scatterpolargl": [
           {
            "marker": {
             "colorbar": {
              "outlinewidth": 0,
              "ticks": ""
             }
            },
            "type": "scatterpolargl"
           }
          ],
          "scatterternary": [
           {
            "marker": {
             "colorbar": {
              "outlinewidth": 0,
              "ticks": ""
             }
            },
            "type": "scatterternary"
           }
          ],
          "surface": [
           {
            "colorbar": {
             "outlinewidth": 0,
             "ticks": ""
            },
            "colorscale": [
             [
              0,
              "#0d0887"
             ],
             [
              0.1111111111111111,
              "#46039f"
             ],
             [
              0.2222222222222222,
              "#7201a8"
             ],
             [
              0.3333333333333333,
              "#9c179e"
             ],
             [
              0.4444444444444444,
              "#bd3786"
             ],
             [
              0.5555555555555556,
              "#d8576b"
             ],
             [
              0.6666666666666666,
              "#ed7953"
             ],
             [
              0.7777777777777778,
              "#fb9f3a"
             ],
             [
              0.8888888888888888,
              "#fdca26"
             ],
             [
              1,
              "#f0f921"
             ]
            ],
            "type": "surface"
           }
          ],
          "table": [
           {
            "cells": {
             "fill": {
              "color": "#EBF0F8"
             },
             "line": {
              "color": "white"
             }
            },
            "header": {
             "fill": {
              "color": "#C8D4E3"
             },
             "line": {
              "color": "white"
             }
            },
            "type": "table"
           }
          ]
         },
         "layout": {
          "annotationdefaults": {
           "arrowcolor": "#2a3f5f",
           "arrowhead": 0,
           "arrowwidth": 1
          },
          "autotypenumbers": "strict",
          "coloraxis": {
           "colorbar": {
            "outlinewidth": 0,
            "ticks": ""
           }
          },
          "colorscale": {
           "diverging": [
            [
             0,
             "#8e0152"
            ],
            [
             0.1,
             "#c51b7d"
            ],
            [
             0.2,
             "#de77ae"
            ],
            [
             0.3,
             "#f1b6da"
            ],
            [
             0.4,
             "#fde0ef"
            ],
            [
             0.5,
             "#f7f7f7"
            ],
            [
             0.6,
             "#e6f5d0"
            ],
            [
             0.7,
             "#b8e186"
            ],
            [
             0.8,
             "#7fbc41"
            ],
            [
             0.9,
             "#4d9221"
            ],
            [
             1,
             "#276419"
            ]
           ],
           "sequential": [
            [
             0,
             "#0d0887"
            ],
            [
             0.1111111111111111,
             "#46039f"
            ],
            [
             0.2222222222222222,
             "#7201a8"
            ],
            [
             0.3333333333333333,
             "#9c179e"
            ],
            [
             0.4444444444444444,
             "#bd3786"
            ],
            [
             0.5555555555555556,
             "#d8576b"
            ],
            [
             0.6666666666666666,
             "#ed7953"
            ],
            [
             0.7777777777777778,
             "#fb9f3a"
            ],
            [
             0.8888888888888888,
             "#fdca26"
            ],
            [
             1,
             "#f0f921"
            ]
           ],
           "sequentialminus": [
            [
             0,
             "#0d0887"
            ],
            [
             0.1111111111111111,
             "#46039f"
            ],
            [
             0.2222222222222222,
             "#7201a8"
            ],
            [
             0.3333333333333333,
             "#9c179e"
            ],
            [
             0.4444444444444444,
             "#bd3786"
            ],
            [
             0.5555555555555556,
             "#d8576b"
            ],
            [
             0.6666666666666666,
             "#ed7953"
            ],
            [
             0.7777777777777778,
             "#fb9f3a"
            ],
            [
             0.8888888888888888,
             "#fdca26"
            ],
            [
             1,
             "#f0f921"
            ]
           ]
          },
          "colorway": [
           "#636efa",
           "#EF553B",
           "#00cc96",
           "#ab63fa",
           "#FFA15A",
           "#19d3f3",
           "#FF6692",
           "#B6E880",
           "#FF97FF",
           "#FECB52"
          ],
          "font": {
           "color": "#2a3f5f"
          },
          "geo": {
           "bgcolor": "white",
           "lakecolor": "white",
           "landcolor": "#E5ECF6",
           "showlakes": true,
           "showland": true,
           "subunitcolor": "white"
          },
          "hoverlabel": {
           "align": "left"
          },
          "hovermode": "closest",
          "mapbox": {
           "style": "light"
          },
          "paper_bgcolor": "white",
          "plot_bgcolor": "#E5ECF6",
          "polar": {
           "angularaxis": {
            "gridcolor": "white",
            "linecolor": "white",
            "ticks": ""
           },
           "bgcolor": "#E5ECF6",
           "radialaxis": {
            "gridcolor": "white",
            "linecolor": "white",
            "ticks": ""
           }
          },
          "scene": {
           "xaxis": {
            "backgroundcolor": "#E5ECF6",
            "gridcolor": "white",
            "gridwidth": 2,
            "linecolor": "white",
            "showbackground": true,
            "ticks": "",
            "zerolinecolor": "white"
           },
           "yaxis": {
            "backgroundcolor": "#E5ECF6",
            "gridcolor": "white",
            "gridwidth": 2,
            "linecolor": "white",
            "showbackground": true,
            "ticks": "",
            "zerolinecolor": "white"
           },
           "zaxis": {
            "backgroundcolor": "#E5ECF6",
            "gridcolor": "white",
            "gridwidth": 2,
            "linecolor": "white",
            "showbackground": true,
            "ticks": "",
            "zerolinecolor": "white"
           }
          },
          "shapedefaults": {
           "line": {
            "color": "#2a3f5f"
           }
          },
          "ternary": {
           "aaxis": {
            "gridcolor": "white",
            "linecolor": "white",
            "ticks": ""
           },
           "baxis": {
            "gridcolor": "white",
            "linecolor": "white",
            "ticks": ""
           },
           "bgcolor": "#E5ECF6",
           "caxis": {
            "gridcolor": "white",
            "linecolor": "white",
            "ticks": ""
           }
          },
          "title": {
           "x": 0.05
          },
          "xaxis": {
           "automargin": true,
           "gridcolor": "white",
           "linecolor": "white",
           "ticks": "",
           "title": {
            "standoff": 15
           },
           "zerolinecolor": "white",
           "zerolinewidth": 2
          },
          "yaxis": {
           "automargin": true,
           "gridcolor": "white",
           "linecolor": "white",
           "ticks": "",
           "title": {
            "standoff": 15
           },
           "zerolinecolor": "white",
           "zerolinewidth": 2
          }
         }
        },
        "title": {
         "text": "researchers"
        },
        "xaxis": {
         "anchor": "y",
         "domain": [
          0,
          1
         ],
         "linecolor": "black",
         "title": {
          "text": "Number"
         }
        },
        "yaxis": {
         "anchor": "x",
         "domain": [
          0,
          1
         ],
         "linecolor": "black",
         "tickfont": {
          "size": 10
         },
         "ticktext": [],
         "tickvals": [],
         "title": {
          "text": "researchers"
         }
        }
       }
      }
     },
     "metadata": {},
     "output_type": "display_data"
    },
    {
     "name": "stdout",
     "output_type": "stream",
     "text": [
      "vulnerabilities\n",
      "Outputfile: /Users/bernd/Documents/Own_Projects/articles_summaryvulnerabilities.png\n"
     ]
    },
    {
     "data": {
      "application/vnd.plotly.v1+json": {
       "config": {
        "plotlyServerURL": "https://plot.ly"
       },
       "data": [
        {
         "alignmentgroup": "True",
         "hovertemplate": "count=%{x}<br>vulnerabilities=%{y}<extra></extra>",
         "legendgroup": "",
         "marker": {
          "color": "blue",
          "line": {
           "color": "black",
           "width": 2
          },
          "pattern": {
           "shape": ""
          }
         },
         "name": "",
         "offsetgroup": "",
         "opacity": 1,
         "orientation": "h",
         "showlegend": false,
         "textposition": "auto",
         "type": "bar",
         "x": [
          71,
          24,
          41,
          14,
          16
         ],
         "xaxis": "x",
         "y": [
          "CVE",
          "CVSS",
          "CVE-2024",
          "CVE-2023",
          "CVE-2022"
         ],
         "yaxis": "y"
        }
       ],
       "layout": {
        "barmode": "relative",
        "legend": {
         "tracegroupgap": 0
        },
        "margin": {
         "t": 60
        },
        "paper_bgcolor": "white",
        "plot_bgcolor": "white",
        "showlegend": false,
        "template": {
         "data": {
          "bar": [
           {
            "error_x": {
             "color": "#2a3f5f"
            },
            "error_y": {
             "color": "#2a3f5f"
            },
            "marker": {
             "line": {
              "color": "#E5ECF6",
              "width": 0.5
             },
             "pattern": {
              "fillmode": "overlay",
              "size": 10,
              "solidity": 0.2
             }
            },
            "type": "bar"
           }
          ],
          "barpolar": [
           {
            "marker": {
             "line": {
              "color": "#E5ECF6",
              "width": 0.5
             },
             "pattern": {
              "fillmode": "overlay",
              "size": 10,
              "solidity": 0.2
             }
            },
            "type": "barpolar"
           }
          ],
          "carpet": [
           {
            "aaxis": {
             "endlinecolor": "#2a3f5f",
             "gridcolor": "white",
             "linecolor": "white",
             "minorgridcolor": "white",
             "startlinecolor": "#2a3f5f"
            },
            "baxis": {
             "endlinecolor": "#2a3f5f",
             "gridcolor": "white",
             "linecolor": "white",
             "minorgridcolor": "white",
             "startlinecolor": "#2a3f5f"
            },
            "type": "carpet"
           }
          ],
          "choropleth": [
           {
            "colorbar": {
             "outlinewidth": 0,
             "ticks": ""
            },
            "type": "choropleth"
           }
          ],
          "contour": [
           {
            "colorbar": {
             "outlinewidth": 0,
             "ticks": ""
            },
            "colorscale": [
             [
              0,
              "#0d0887"
             ],
             [
              0.1111111111111111,
              "#46039f"
             ],
             [
              0.2222222222222222,
              "#7201a8"
             ],
             [
              0.3333333333333333,
              "#9c179e"
             ],
             [
              0.4444444444444444,
              "#bd3786"
             ],
             [
              0.5555555555555556,
              "#d8576b"
             ],
             [
              0.6666666666666666,
              "#ed7953"
             ],
             [
              0.7777777777777778,
              "#fb9f3a"
             ],
             [
              0.8888888888888888,
              "#fdca26"
             ],
             [
              1,
              "#f0f921"
             ]
            ],
            "type": "contour"
           }
          ],
          "contourcarpet": [
           {
            "colorbar": {
             "outlinewidth": 0,
             "ticks": ""
            },
            "type": "contourcarpet"
           }
          ],
          "heatmap": [
           {
            "colorbar": {
             "outlinewidth": 0,
             "ticks": ""
            },
            "colorscale": [
             [
              0,
              "#0d0887"
             ],
             [
              0.1111111111111111,
              "#46039f"
             ],
             [
              0.2222222222222222,
              "#7201a8"
             ],
             [
              0.3333333333333333,
              "#9c179e"
             ],
             [
              0.4444444444444444,
              "#bd3786"
             ],
             [
              0.5555555555555556,
              "#d8576b"
             ],
             [
              0.6666666666666666,
              "#ed7953"
             ],
             [
              0.7777777777777778,
              "#fb9f3a"
             ],
             [
              0.8888888888888888,
              "#fdca26"
             ],
             [
              1,
              "#f0f921"
             ]
            ],
            "type": "heatmap"
           }
          ],
          "heatmapgl": [
           {
            "colorbar": {
             "outlinewidth": 0,
             "ticks": ""
            },
            "colorscale": [
             [
              0,
              "#0d0887"
             ],
             [
              0.1111111111111111,
              "#46039f"
             ],
             [
              0.2222222222222222,
              "#7201a8"
             ],
             [
              0.3333333333333333,
              "#9c179e"
             ],
             [
              0.4444444444444444,
              "#bd3786"
             ],
             [
              0.5555555555555556,
              "#d8576b"
             ],
             [
              0.6666666666666666,
              "#ed7953"
             ],
             [
              0.7777777777777778,
              "#fb9f3a"
             ],
             [
              0.8888888888888888,
              "#fdca26"
             ],
             [
              1,
              "#f0f921"
             ]
            ],
            "type": "heatmapgl"
           }
          ],
          "histogram": [
           {
            "marker": {
             "pattern": {
              "fillmode": "overlay",
              "size": 10,
              "solidity": 0.2
             }
            },
            "type": "histogram"
           }
          ],
          "histogram2d": [
           {
            "colorbar": {
             "outlinewidth": 0,
             "ticks": ""
            },
            "colorscale": [
             [
              0,
              "#0d0887"
             ],
             [
              0.1111111111111111,
              "#46039f"
             ],
             [
              0.2222222222222222,
              "#7201a8"
             ],
             [
              0.3333333333333333,
              "#9c179e"
             ],
             [
              0.4444444444444444,
              "#bd3786"
             ],
             [
              0.5555555555555556,
              "#d8576b"
             ],
             [
              0.6666666666666666,
              "#ed7953"
             ],
             [
              0.7777777777777778,
              "#fb9f3a"
             ],
             [
              0.8888888888888888,
              "#fdca26"
             ],
             [
              1,
              "#f0f921"
             ]
            ],
            "type": "histogram2d"
           }
          ],
          "histogram2dcontour": [
           {
            "colorbar": {
             "outlinewidth": 0,
             "ticks": ""
            },
            "colorscale": [
             [
              0,
              "#0d0887"
             ],
             [
              0.1111111111111111,
              "#46039f"
             ],
             [
              0.2222222222222222,
              "#7201a8"
             ],
             [
              0.3333333333333333,
              "#9c179e"
             ],
             [
              0.4444444444444444,
              "#bd3786"
             ],
             [
              0.5555555555555556,
              "#d8576b"
             ],
             [
              0.6666666666666666,
              "#ed7953"
             ],
             [
              0.7777777777777778,
              "#fb9f3a"
             ],
             [
              0.8888888888888888,
              "#fdca26"
             ],
             [
              1,
              "#f0f921"
             ]
            ],
            "type": "histogram2dcontour"
           }
          ],
          "mesh3d": [
           {
            "colorbar": {
             "outlinewidth": 0,
             "ticks": ""
            },
            "type": "mesh3d"
           }
          ],
          "parcoords": [
           {
            "line": {
             "colorbar": {
              "outlinewidth": 0,
              "ticks": ""
             }
            },
            "type": "parcoords"
           }
          ],
          "pie": [
           {
            "automargin": true,
            "type": "pie"
           }
          ],
          "scatter": [
           {
            "fillpattern": {
             "fillmode": "overlay",
             "size": 10,
             "solidity": 0.2
            },
            "type": "scatter"
           }
          ],
          "scatter3d": [
           {
            "line": {
             "colorbar": {
              "outlinewidth": 0,
              "ticks": ""
             }
            },
            "marker": {
             "colorbar": {
              "outlinewidth": 0,
              "ticks": ""
             }
            },
            "type": "scatter3d"
           }
          ],
          "scattercarpet": [
           {
            "marker": {
             "colorbar": {
              "outlinewidth": 0,
              "ticks": ""
             }
            },
            "type": "scattercarpet"
           }
          ],
          "scattergeo": [
           {
            "marker": {
             "colorbar": {
              "outlinewidth": 0,
              "ticks": ""
             }
            },
            "type": "scattergeo"
           }
          ],
          "scattergl": [
           {
            "marker": {
             "colorbar": {
              "outlinewidth": 0,
              "ticks": ""
             }
            },
            "type": "scattergl"
           }
          ],
          "scattermapbox": [
           {
            "marker": {
             "colorbar": {
              "outlinewidth": 0,
              "ticks": ""
             }
            },
            "type": "scattermapbox"
           }
          ],
          "scatterpolar": [
           {
            "marker": {
             "colorbar": {
              "outlinewidth": 0,
              "ticks": ""
             }
            },
            "type": "scatterpolar"
           }
          ],
          "scatterpolargl": [
           {
            "marker": {
             "colorbar": {
              "outlinewidth": 0,
              "ticks": ""
             }
            },
            "type": "scatterpolargl"
           }
          ],
          "scatterternary": [
           {
            "marker": {
             "colorbar": {
              "outlinewidth": 0,
              "ticks": ""
             }
            },
            "type": "scatterternary"
           }
          ],
          "surface": [
           {
            "colorbar": {
             "outlinewidth": 0,
             "ticks": ""
            },
            "colorscale": [
             [
              0,
              "#0d0887"
             ],
             [
              0.1111111111111111,
              "#46039f"
             ],
             [
              0.2222222222222222,
              "#7201a8"
             ],
             [
              0.3333333333333333,
              "#9c179e"
             ],
             [
              0.4444444444444444,
              "#bd3786"
             ],
             [
              0.5555555555555556,
              "#d8576b"
             ],
             [
              0.6666666666666666,
              "#ed7953"
             ],
             [
              0.7777777777777778,
              "#fb9f3a"
             ],
             [
              0.8888888888888888,
              "#fdca26"
             ],
             [
              1,
              "#f0f921"
             ]
            ],
            "type": "surface"
           }
          ],
          "table": [
           {
            "cells": {
             "fill": {
              "color": "#EBF0F8"
             },
             "line": {
              "color": "white"
             }
            },
            "header": {
             "fill": {
              "color": "#C8D4E3"
             },
             "line": {
              "color": "white"
             }
            },
            "type": "table"
           }
          ]
         },
         "layout": {
          "annotationdefaults": {
           "arrowcolor": "#2a3f5f",
           "arrowhead": 0,
           "arrowwidth": 1
          },
          "autotypenumbers": "strict",
          "coloraxis": {
           "colorbar": {
            "outlinewidth": 0,
            "ticks": ""
           }
          },
          "colorscale": {
           "diverging": [
            [
             0,
             "#8e0152"
            ],
            [
             0.1,
             "#c51b7d"
            ],
            [
             0.2,
             "#de77ae"
            ],
            [
             0.3,
             "#f1b6da"
            ],
            [
             0.4,
             "#fde0ef"
            ],
            [
             0.5,
             "#f7f7f7"
            ],
            [
             0.6,
             "#e6f5d0"
            ],
            [
             0.7,
             "#b8e186"
            ],
            [
             0.8,
             "#7fbc41"
            ],
            [
             0.9,
             "#4d9221"
            ],
            [
             1,
             "#276419"
            ]
           ],
           "sequential": [
            [
             0,
             "#0d0887"
            ],
            [
             0.1111111111111111,
             "#46039f"
            ],
            [
             0.2222222222222222,
             "#7201a8"
            ],
            [
             0.3333333333333333,
             "#9c179e"
            ],
            [
             0.4444444444444444,
             "#bd3786"
            ],
            [
             0.5555555555555556,
             "#d8576b"
            ],
            [
             0.6666666666666666,
             "#ed7953"
            ],
            [
             0.7777777777777778,
             "#fb9f3a"
            ],
            [
             0.8888888888888888,
             "#fdca26"
            ],
            [
             1,
             "#f0f921"
            ]
           ],
           "sequentialminus": [
            [
             0,
             "#0d0887"
            ],
            [
             0.1111111111111111,
             "#46039f"
            ],
            [
             0.2222222222222222,
             "#7201a8"
            ],
            [
             0.3333333333333333,
             "#9c179e"
            ],
            [
             0.4444444444444444,
             "#bd3786"
            ],
            [
             0.5555555555555556,
             "#d8576b"
            ],
            [
             0.6666666666666666,
             "#ed7953"
            ],
            [
             0.7777777777777778,
             "#fb9f3a"
            ],
            [
             0.8888888888888888,
             "#fdca26"
            ],
            [
             1,
             "#f0f921"
            ]
           ]
          },
          "colorway": [
           "#636efa",
           "#EF553B",
           "#00cc96",
           "#ab63fa",
           "#FFA15A",
           "#19d3f3",
           "#FF6692",
           "#B6E880",
           "#FF97FF",
           "#FECB52"
          ],
          "font": {
           "color": "#2a3f5f"
          },
          "geo": {
           "bgcolor": "white",
           "lakecolor": "white",
           "landcolor": "#E5ECF6",
           "showlakes": true,
           "showland": true,
           "subunitcolor": "white"
          },
          "hoverlabel": {
           "align": "left"
          },
          "hovermode": "closest",
          "mapbox": {
           "style": "light"
          },
          "paper_bgcolor": "white",
          "plot_bgcolor": "#E5ECF6",
          "polar": {
           "angularaxis": {
            "gridcolor": "white",
            "linecolor": "white",
            "ticks": ""
           },
           "bgcolor": "#E5ECF6",
           "radialaxis": {
            "gridcolor": "white",
            "linecolor": "white",
            "ticks": ""
           }
          },
          "scene": {
           "xaxis": {
            "backgroundcolor": "#E5ECF6",
            "gridcolor": "white",
            "gridwidth": 2,
            "linecolor": "white",
            "showbackground": true,
            "ticks": "",
            "zerolinecolor": "white"
           },
           "yaxis": {
            "backgroundcolor": "#E5ECF6",
            "gridcolor": "white",
            "gridwidth": 2,
            "linecolor": "white",
            "showbackground": true,
            "ticks": "",
            "zerolinecolor": "white"
           },
           "zaxis": {
            "backgroundcolor": "#E5ECF6",
            "gridcolor": "white",
            "gridwidth": 2,
            "linecolor": "white",
            "showbackground": true,
            "ticks": "",
            "zerolinecolor": "white"
           }
          },
          "shapedefaults": {
           "line": {
            "color": "#2a3f5f"
           }
          },
          "ternary": {
           "aaxis": {
            "gridcolor": "white",
            "linecolor": "white",
            "ticks": ""
           },
           "baxis": {
            "gridcolor": "white",
            "linecolor": "white",
            "ticks": ""
           },
           "bgcolor": "#E5ECF6",
           "caxis": {
            "gridcolor": "white",
            "linecolor": "white",
            "ticks": ""
           }
          },
          "title": {
           "x": 0.05
          },
          "xaxis": {
           "automargin": true,
           "gridcolor": "white",
           "linecolor": "white",
           "ticks": "",
           "title": {
            "standoff": 15
           },
           "zerolinecolor": "white",
           "zerolinewidth": 2
          },
          "yaxis": {
           "automargin": true,
           "gridcolor": "white",
           "linecolor": "white",
           "ticks": "",
           "title": {
            "standoff": 15
           },
           "zerolinecolor": "white",
           "zerolinewidth": 2
          }
         }
        },
        "title": {
         "text": "vulnerabilities"
        },
        "xaxis": {
         "anchor": "y",
         "domain": [
          0,
          1
         ],
         "linecolor": "black",
         "title": {
          "text": "Number"
         }
        },
        "yaxis": {
         "anchor": "x",
         "domain": [
          0,
          1
         ],
         "linecolor": "black",
         "tickfont": {
          "size": 10
         },
         "ticktext": [
          "CVE",
          "CVSS",
          "CVE-2024",
          "CVE-2023",
          "CVE-2022"
         ],
         "tickvals": [
          "CVE",
          "CVSS",
          "CVE-2024",
          "CVE-2023",
          "CVE-2022"
         ],
         "title": {
          "text": "vulnerabilities"
         }
        }
       }
      }
     },
     "metadata": {},
     "output_type": "display_data"
    },
    {
     "name": "stdout",
     "output_type": "stream",
     "text": [
      "topics\n",
      "Outputfile: /Users/bernd/Documents/Own_Projects/articles_summarytopics.png\n"
     ]
    },
    {
     "data": {
      "application/vnd.plotly.v1+json": {
       "config": {
        "plotlyServerURL": "https://plot.ly"
       },
       "data": [
        {
         "alignmentgroup": "True",
         "hovertemplate": "count=%{x}<br>topics=%{y}<extra></extra>",
         "legendgroup": "",
         "marker": {
          "color": "blue",
          "line": {
           "color": "black",
           "width": 2
          },
          "pattern": {
           "shape": ""
          }
         },
         "name": "",
         "offsetgroup": "",
         "opacity": 1,
         "orientation": "h",
         "showlegend": false,
         "textposition": "auto",
         "type": "bar",
         "x": [
          35,
          9,
          293,
          21,
          1
         ],
         "xaxis": "x",
         "y": [
          "API",
          "threat intelligence",
          "threat",
          "artificial intelligence",
          "authentication"
         ],
         "yaxis": "y"
        }
       ],
       "layout": {
        "barmode": "relative",
        "legend": {
         "tracegroupgap": 0
        },
        "margin": {
         "t": 60
        },
        "paper_bgcolor": "white",
        "plot_bgcolor": "white",
        "showlegend": false,
        "template": {
         "data": {
          "bar": [
           {
            "error_x": {
             "color": "#2a3f5f"
            },
            "error_y": {
             "color": "#2a3f5f"
            },
            "marker": {
             "line": {
              "color": "#E5ECF6",
              "width": 0.5
             },
             "pattern": {
              "fillmode": "overlay",
              "size": 10,
              "solidity": 0.2
             }
            },
            "type": "bar"
           }
          ],
          "barpolar": [
           {
            "marker": {
             "line": {
              "color": "#E5ECF6",
              "width": 0.5
             },
             "pattern": {
              "fillmode": "overlay",
              "size": 10,
              "solidity": 0.2
             }
            },
            "type": "barpolar"
           }
          ],
          "carpet": [
           {
            "aaxis": {
             "endlinecolor": "#2a3f5f",
             "gridcolor": "white",
             "linecolor": "white",
             "minorgridcolor": "white",
             "startlinecolor": "#2a3f5f"
            },
            "baxis": {
             "endlinecolor": "#2a3f5f",
             "gridcolor": "white",
             "linecolor": "white",
             "minorgridcolor": "white",
             "startlinecolor": "#2a3f5f"
            },
            "type": "carpet"
           }
          ],
          "choropleth": [
           {
            "colorbar": {
             "outlinewidth": 0,
             "ticks": ""
            },
            "type": "choropleth"
           }
          ],
          "contour": [
           {
            "colorbar": {
             "outlinewidth": 0,
             "ticks": ""
            },
            "colorscale": [
             [
              0,
              "#0d0887"
             ],
             [
              0.1111111111111111,
              "#46039f"
             ],
             [
              0.2222222222222222,
              "#7201a8"
             ],
             [
              0.3333333333333333,
              "#9c179e"
             ],
             [
              0.4444444444444444,
              "#bd3786"
             ],
             [
              0.5555555555555556,
              "#d8576b"
             ],
             [
              0.6666666666666666,
              "#ed7953"
             ],
             [
              0.7777777777777778,
              "#fb9f3a"
             ],
             [
              0.8888888888888888,
              "#fdca26"
             ],
             [
              1,
              "#f0f921"
             ]
            ],
            "type": "contour"
           }
          ],
          "contourcarpet": [
           {
            "colorbar": {
             "outlinewidth": 0,
             "ticks": ""
            },
            "type": "contourcarpet"
           }
          ],
          "heatmap": [
           {
            "colorbar": {
             "outlinewidth": 0,
             "ticks": ""
            },
            "colorscale": [
             [
              0,
              "#0d0887"
             ],
             [
              0.1111111111111111,
              "#46039f"
             ],
             [
              0.2222222222222222,
              "#7201a8"
             ],
             [
              0.3333333333333333,
              "#9c179e"
             ],
             [
              0.4444444444444444,
              "#bd3786"
             ],
             [
              0.5555555555555556,
              "#d8576b"
             ],
             [
              0.6666666666666666,
              "#ed7953"
             ],
             [
              0.7777777777777778,
              "#fb9f3a"
             ],
             [
              0.8888888888888888,
              "#fdca26"
             ],
             [
              1,
              "#f0f921"
             ]
            ],
            "type": "heatmap"
           }
          ],
          "heatmapgl": [
           {
            "colorbar": {
             "outlinewidth": 0,
             "ticks": ""
            },
            "colorscale": [
             [
              0,
              "#0d0887"
             ],
             [
              0.1111111111111111,
              "#46039f"
             ],
             [
              0.2222222222222222,
              "#7201a8"
             ],
             [
              0.3333333333333333,
              "#9c179e"
             ],
             [
              0.4444444444444444,
              "#bd3786"
             ],
             [
              0.5555555555555556,
              "#d8576b"
             ],
             [
              0.6666666666666666,
              "#ed7953"
             ],
             [
              0.7777777777777778,
              "#fb9f3a"
             ],
             [
              0.8888888888888888,
              "#fdca26"
             ],
             [
              1,
              "#f0f921"
             ]
            ],
            "type": "heatmapgl"
           }
          ],
          "histogram": [
           {
            "marker": {
             "pattern": {
              "fillmode": "overlay",
              "size": 10,
              "solidity": 0.2
             }
            },
            "type": "histogram"
           }
          ],
          "histogram2d": [
           {
            "colorbar": {
             "outlinewidth": 0,
             "ticks": ""
            },
            "colorscale": [
             [
              0,
              "#0d0887"
             ],
             [
              0.1111111111111111,
              "#46039f"
             ],
             [
              0.2222222222222222,
              "#7201a8"
             ],
             [
              0.3333333333333333,
              "#9c179e"
             ],
             [
              0.4444444444444444,
              "#bd3786"
             ],
             [
              0.5555555555555556,
              "#d8576b"
             ],
             [
              0.6666666666666666,
              "#ed7953"
             ],
             [
              0.7777777777777778,
              "#fb9f3a"
             ],
             [
              0.8888888888888888,
              "#fdca26"
             ],
             [
              1,
              "#f0f921"
             ]
            ],
            "type": "histogram2d"
           }
          ],
          "histogram2dcontour": [
           {
            "colorbar": {
             "outlinewidth": 0,
             "ticks": ""
            },
            "colorscale": [
             [
              0,
              "#0d0887"
             ],
             [
              0.1111111111111111,
              "#46039f"
             ],
             [
              0.2222222222222222,
              "#7201a8"
             ],
             [
              0.3333333333333333,
              "#9c179e"
             ],
             [
              0.4444444444444444,
              "#bd3786"
             ],
             [
              0.5555555555555556,
              "#d8576b"
             ],
             [
              0.6666666666666666,
              "#ed7953"
             ],
             [
              0.7777777777777778,
              "#fb9f3a"
             ],
             [
              0.8888888888888888,
              "#fdca26"
             ],
             [
              1,
              "#f0f921"
             ]
            ],
            "type": "histogram2dcontour"
           }
          ],
          "mesh3d": [
           {
            "colorbar": {
             "outlinewidth": 0,
             "ticks": ""
            },
            "type": "mesh3d"
           }
          ],
          "parcoords": [
           {
            "line": {
             "colorbar": {
              "outlinewidth": 0,
              "ticks": ""
             }
            },
            "type": "parcoords"
           }
          ],
          "pie": [
           {
            "automargin": true,
            "type": "pie"
           }
          ],
          "scatter": [
           {
            "fillpattern": {
             "fillmode": "overlay",
             "size": 10,
             "solidity": 0.2
            },
            "type": "scatter"
           }
          ],
          "scatter3d": [
           {
            "line": {
             "colorbar": {
              "outlinewidth": 0,
              "ticks": ""
             }
            },
            "marker": {
             "colorbar": {
              "outlinewidth": 0,
              "ticks": ""
             }
            },
            "type": "scatter3d"
           }
          ],
          "scattercarpet": [
           {
            "marker": {
             "colorbar": {
              "outlinewidth": 0,
              "ticks": ""
             }
            },
            "type": "scattercarpet"
           }
          ],
          "scattergeo": [
           {
            "marker": {
             "colorbar": {
              "outlinewidth": 0,
              "ticks": ""
             }
            },
            "type": "scattergeo"
           }
          ],
          "scattergl": [
           {
            "marker": {
             "colorbar": {
              "outlinewidth": 0,
              "ticks": ""
             }
            },
            "type": "scattergl"
           }
          ],
          "scattermapbox": [
           {
            "marker": {
             "colorbar": {
              "outlinewidth": 0,
              "ticks": ""
             }
            },
            "type": "scattermapbox"
           }
          ],
          "scatterpolar": [
           {
            "marker": {
             "colorbar": {
              "outlinewidth": 0,
              "ticks": ""
             }
            },
            "type": "scatterpolar"
           }
          ],
          "scatterpolargl": [
           {
            "marker": {
             "colorbar": {
              "outlinewidth": 0,
              "ticks": ""
             }
            },
            "type": "scatterpolargl"
           }
          ],
          "scatterternary": [
           {
            "marker": {
             "colorbar": {
              "outlinewidth": 0,
              "ticks": ""
             }
            },
            "type": "scatterternary"
           }
          ],
          "surface": [
           {
            "colorbar": {
             "outlinewidth": 0,
             "ticks": ""
            },
            "colorscale": [
             [
              0,
              "#0d0887"
             ],
             [
              0.1111111111111111,
              "#46039f"
             ],
             [
              0.2222222222222222,
              "#7201a8"
             ],
             [
              0.3333333333333333,
              "#9c179e"
             ],
             [
              0.4444444444444444,
              "#bd3786"
             ],
             [
              0.5555555555555556,
              "#d8576b"
             ],
             [
              0.6666666666666666,
              "#ed7953"
             ],
             [
              0.7777777777777778,
              "#fb9f3a"
             ],
             [
              0.8888888888888888,
              "#fdca26"
             ],
             [
              1,
              "#f0f921"
             ]
            ],
            "type": "surface"
           }
          ],
          "table": [
           {
            "cells": {
             "fill": {
              "color": "#EBF0F8"
             },
             "line": {
              "color": "white"
             }
            },
            "header": {
             "fill": {
              "color": "#C8D4E3"
             },
             "line": {
              "color": "white"
             }
            },
            "type": "table"
           }
          ]
         },
         "layout": {
          "annotationdefaults": {
           "arrowcolor": "#2a3f5f",
           "arrowhead": 0,
           "arrowwidth": 1
          },
          "autotypenumbers": "strict",
          "coloraxis": {
           "colorbar": {
            "outlinewidth": 0,
            "ticks": ""
           }
          },
          "colorscale": {
           "diverging": [
            [
             0,
             "#8e0152"
            ],
            [
             0.1,
             "#c51b7d"
            ],
            [
             0.2,
             "#de77ae"
            ],
            [
             0.3,
             "#f1b6da"
            ],
            [
             0.4,
             "#fde0ef"
            ],
            [
             0.5,
             "#f7f7f7"
            ],
            [
             0.6,
             "#e6f5d0"
            ],
            [
             0.7,
             "#b8e186"
            ],
            [
             0.8,
             "#7fbc41"
            ],
            [
             0.9,
             "#4d9221"
            ],
            [
             1,
             "#276419"
            ]
           ],
           "sequential": [
            [
             0,
             "#0d0887"
            ],
            [
             0.1111111111111111,
             "#46039f"
            ],
            [
             0.2222222222222222,
             "#7201a8"
            ],
            [
             0.3333333333333333,
             "#9c179e"
            ],
            [
             0.4444444444444444,
             "#bd3786"
            ],
            [
             0.5555555555555556,
             "#d8576b"
            ],
            [
             0.6666666666666666,
             "#ed7953"
            ],
            [
             0.7777777777777778,
             "#fb9f3a"
            ],
            [
             0.8888888888888888,
             "#fdca26"
            ],
            [
             1,
             "#f0f921"
            ]
           ],
           "sequentialminus": [
            [
             0,
             "#0d0887"
            ],
            [
             0.1111111111111111,
             "#46039f"
            ],
            [
             0.2222222222222222,
             "#7201a8"
            ],
            [
             0.3333333333333333,
             "#9c179e"
            ],
            [
             0.4444444444444444,
             "#bd3786"
            ],
            [
             0.5555555555555556,
             "#d8576b"
            ],
            [
             0.6666666666666666,
             "#ed7953"
            ],
            [
             0.7777777777777778,
             "#fb9f3a"
            ],
            [
             0.8888888888888888,
             "#fdca26"
            ],
            [
             1,
             "#f0f921"
            ]
           ]
          },
          "colorway": [
           "#636efa",
           "#EF553B",
           "#00cc96",
           "#ab63fa",
           "#FFA15A",
           "#19d3f3",
           "#FF6692",
           "#B6E880",
           "#FF97FF",
           "#FECB52"
          ],
          "font": {
           "color": "#2a3f5f"
          },
          "geo": {
           "bgcolor": "white",
           "lakecolor": "white",
           "landcolor": "#E5ECF6",
           "showlakes": true,
           "showland": true,
           "subunitcolor": "white"
          },
          "hoverlabel": {
           "align": "left"
          },
          "hovermode": "closest",
          "mapbox": {
           "style": "light"
          },
          "paper_bgcolor": "white",
          "plot_bgcolor": "#E5ECF6",
          "polar": {
           "angularaxis": {
            "gridcolor": "white",
            "linecolor": "white",
            "ticks": ""
           },
           "bgcolor": "#E5ECF6",
           "radialaxis": {
            "gridcolor": "white",
            "linecolor": "white",
            "ticks": ""
           }
          },
          "scene": {
           "xaxis": {
            "backgroundcolor": "#E5ECF6",
            "gridcolor": "white",
            "gridwidth": 2,
            "linecolor": "white",
            "showbackground": true,
            "ticks": "",
            "zerolinecolor": "white"
           },
           "yaxis": {
            "backgroundcolor": "#E5ECF6",
            "gridcolor": "white",
            "gridwidth": 2,
            "linecolor": "white",
            "showbackground": true,
            "ticks": "",
            "zerolinecolor": "white"
           },
           "zaxis": {
            "backgroundcolor": "#E5ECF6",
            "gridcolor": "white",
            "gridwidth": 2,
            "linecolor": "white",
            "showbackground": true,
            "ticks": "",
            "zerolinecolor": "white"
           }
          },
          "shapedefaults": {
           "line": {
            "color": "#2a3f5f"
           }
          },
          "ternary": {
           "aaxis": {
            "gridcolor": "white",
            "linecolor": "white",
            "ticks": ""
           },
           "baxis": {
            "gridcolor": "white",
            "linecolor": "white",
            "ticks": ""
           },
           "bgcolor": "#E5ECF6",
           "caxis": {
            "gridcolor": "white",
            "linecolor": "white",
            "ticks": ""
           }
          },
          "title": {
           "x": 0.05
          },
          "xaxis": {
           "automargin": true,
           "gridcolor": "white",
           "linecolor": "white",
           "ticks": "",
           "title": {
            "standoff": 15
           },
           "zerolinecolor": "white",
           "zerolinewidth": 2
          },
          "yaxis": {
           "automargin": true,
           "gridcolor": "white",
           "linecolor": "white",
           "ticks": "",
           "title": {
            "standoff": 15
           },
           "zerolinecolor": "white",
           "zerolinewidth": 2
          }
         }
        },
        "title": {
         "text": "topics"
        },
        "xaxis": {
         "anchor": "y",
         "domain": [
          0,
          1
         ],
         "linecolor": "black",
         "title": {
          "text": "Number"
         }
        },
        "yaxis": {
         "anchor": "x",
         "domain": [
          0,
          1
         ],
         "linecolor": "black",
         "tickfont": {
          "size": 10
         },
         "ticktext": [
          "API",
          "threat intelligence",
          "threat",
          "artificial intelligence",
          "authentication"
         ],
         "tickvals": [
          "API",
          "threat intelligence",
          "threat",
          "artificial intelligence",
          "authentication"
         ],
         "title": {
          "text": "topics"
         }
        }
       }
      }
     },
     "metadata": {},
     "output_type": "display_data"
    },
    {
     "name": "stdout",
     "output_type": "stream",
     "text": [
      "operating_systems\n",
      "Outputfile: /Users/bernd/Documents/Own_Projects/articles_summaryoperating_systems.png\n"
     ]
    },
    {
     "data": {
      "application/vnd.plotly.v1+json": {
       "config": {
        "plotlyServerURL": "https://plot.ly"
       },
       "data": [
        {
         "alignmentgroup": "True",
         "hovertemplate": "count=%{x}<br>operating_systems=%{y}<extra></extra>",
         "legendgroup": "",
         "marker": {
          "color": "blue",
          "line": {
           "color": "black",
           "width": 2
          },
          "pattern": {
           "shape": ""
          }
         },
         "name": "",
         "offsetgroup": "",
         "opacity": 1,
         "orientation": "h",
         "showlegend": false,
         "textposition": "auto",
         "type": "bar",
         "x": [
          10,
          40,
          22,
          46
         ],
         "xaxis": "x",
         "y": [
          "Linux",
          "Windows",
          "iOS",
          "MacOS"
         ],
         "yaxis": "y"
        }
       ],
       "layout": {
        "barmode": "relative",
        "legend": {
         "tracegroupgap": 0
        },
        "margin": {
         "t": 60
        },
        "paper_bgcolor": "white",
        "plot_bgcolor": "white",
        "showlegend": false,
        "template": {
         "data": {
          "bar": [
           {
            "error_x": {
             "color": "#2a3f5f"
            },
            "error_y": {
             "color": "#2a3f5f"
            },
            "marker": {
             "line": {
              "color": "#E5ECF6",
              "width": 0.5
             },
             "pattern": {
              "fillmode": "overlay",
              "size": 10,
              "solidity": 0.2
             }
            },
            "type": "bar"
           }
          ],
          "barpolar": [
           {
            "marker": {
             "line": {
              "color": "#E5ECF6",
              "width": 0.5
             },
             "pattern": {
              "fillmode": "overlay",
              "size": 10,
              "solidity": 0.2
             }
            },
            "type": "barpolar"
           }
          ],
          "carpet": [
           {
            "aaxis": {
             "endlinecolor": "#2a3f5f",
             "gridcolor": "white",
             "linecolor": "white",
             "minorgridcolor": "white",
             "startlinecolor": "#2a3f5f"
            },
            "baxis": {
             "endlinecolor": "#2a3f5f",
             "gridcolor": "white",
             "linecolor": "white",
             "minorgridcolor": "white",
             "startlinecolor": "#2a3f5f"
            },
            "type": "carpet"
           }
          ],
          "choropleth": [
           {
            "colorbar": {
             "outlinewidth": 0,
             "ticks": ""
            },
            "type": "choropleth"
           }
          ],
          "contour": [
           {
            "colorbar": {
             "outlinewidth": 0,
             "ticks": ""
            },
            "colorscale": [
             [
              0,
              "#0d0887"
             ],
             [
              0.1111111111111111,
              "#46039f"
             ],
             [
              0.2222222222222222,
              "#7201a8"
             ],
             [
              0.3333333333333333,
              "#9c179e"
             ],
             [
              0.4444444444444444,
              "#bd3786"
             ],
             [
              0.5555555555555556,
              "#d8576b"
             ],
             [
              0.6666666666666666,
              "#ed7953"
             ],
             [
              0.7777777777777778,
              "#fb9f3a"
             ],
             [
              0.8888888888888888,
              "#fdca26"
             ],
             [
              1,
              "#f0f921"
             ]
            ],
            "type": "contour"
           }
          ],
          "contourcarpet": [
           {
            "colorbar": {
             "outlinewidth": 0,
             "ticks": ""
            },
            "type": "contourcarpet"
           }
          ],
          "heatmap": [
           {
            "colorbar": {
             "outlinewidth": 0,
             "ticks": ""
            },
            "colorscale": [
             [
              0,
              "#0d0887"
             ],
             [
              0.1111111111111111,
              "#46039f"
             ],
             [
              0.2222222222222222,
              "#7201a8"
             ],
             [
              0.3333333333333333,
              "#9c179e"
             ],
             [
              0.4444444444444444,
              "#bd3786"
             ],
             [
              0.5555555555555556,
              "#d8576b"
             ],
             [
              0.6666666666666666,
              "#ed7953"
             ],
             [
              0.7777777777777778,
              "#fb9f3a"
             ],
             [
              0.8888888888888888,
              "#fdca26"
             ],
             [
              1,
              "#f0f921"
             ]
            ],
            "type": "heatmap"
           }
          ],
          "heatmapgl": [
           {
            "colorbar": {
             "outlinewidth": 0,
             "ticks": ""
            },
            "colorscale": [
             [
              0,
              "#0d0887"
             ],
             [
              0.1111111111111111,
              "#46039f"
             ],
             [
              0.2222222222222222,
              "#7201a8"
             ],
             [
              0.3333333333333333,
              "#9c179e"
             ],
             [
              0.4444444444444444,
              "#bd3786"
             ],
             [
              0.5555555555555556,
              "#d8576b"
             ],
             [
              0.6666666666666666,
              "#ed7953"
             ],
             [
              0.7777777777777778,
              "#fb9f3a"
             ],
             [
              0.8888888888888888,
              "#fdca26"
             ],
             [
              1,
              "#f0f921"
             ]
            ],
            "type": "heatmapgl"
           }
          ],
          "histogram": [
           {
            "marker": {
             "pattern": {
              "fillmode": "overlay",
              "size": 10,
              "solidity": 0.2
             }
            },
            "type": "histogram"
           }
          ],
          "histogram2d": [
           {
            "colorbar": {
             "outlinewidth": 0,
             "ticks": ""
            },
            "colorscale": [
             [
              0,
              "#0d0887"
             ],
             [
              0.1111111111111111,
              "#46039f"
             ],
             [
              0.2222222222222222,
              "#7201a8"
             ],
             [
              0.3333333333333333,
              "#9c179e"
             ],
             [
              0.4444444444444444,
              "#bd3786"
             ],
             [
              0.5555555555555556,
              "#d8576b"
             ],
             [
              0.6666666666666666,
              "#ed7953"
             ],
             [
              0.7777777777777778,
              "#fb9f3a"
             ],
             [
              0.8888888888888888,
              "#fdca26"
             ],
             [
              1,
              "#f0f921"
             ]
            ],
            "type": "histogram2d"
           }
          ],
          "histogram2dcontour": [
           {
            "colorbar": {
             "outlinewidth": 0,
             "ticks": ""
            },
            "colorscale": [
             [
              0,
              "#0d0887"
             ],
             [
              0.1111111111111111,
              "#46039f"
             ],
             [
              0.2222222222222222,
              "#7201a8"
             ],
             [
              0.3333333333333333,
              "#9c179e"
             ],
             [
              0.4444444444444444,
              "#bd3786"
             ],
             [
              0.5555555555555556,
              "#d8576b"
             ],
             [
              0.6666666666666666,
              "#ed7953"
             ],
             [
              0.7777777777777778,
              "#fb9f3a"
             ],
             [
              0.8888888888888888,
              "#fdca26"
             ],
             [
              1,
              "#f0f921"
             ]
            ],
            "type": "histogram2dcontour"
           }
          ],
          "mesh3d": [
           {
            "colorbar": {
             "outlinewidth": 0,
             "ticks": ""
            },
            "type": "mesh3d"
           }
          ],
          "parcoords": [
           {
            "line": {
             "colorbar": {
              "outlinewidth": 0,
              "ticks": ""
             }
            },
            "type": "parcoords"
           }
          ],
          "pie": [
           {
            "automargin": true,
            "type": "pie"
           }
          ],
          "scatter": [
           {
            "fillpattern": {
             "fillmode": "overlay",
             "size": 10,
             "solidity": 0.2
            },
            "type": "scatter"
           }
          ],
          "scatter3d": [
           {
            "line": {
             "colorbar": {
              "outlinewidth": 0,
              "ticks": ""
             }
            },
            "marker": {
             "colorbar": {
              "outlinewidth": 0,
              "ticks": ""
             }
            },
            "type": "scatter3d"
           }
          ],
          "scattercarpet": [
           {
            "marker": {
             "colorbar": {
              "outlinewidth": 0,
              "ticks": ""
             }
            },
            "type": "scattercarpet"
           }
          ],
          "scattergeo": [
           {
            "marker": {
             "colorbar": {
              "outlinewidth": 0,
              "ticks": ""
             }
            },
            "type": "scattergeo"
           }
          ],
          "scattergl": [
           {
            "marker": {
             "colorbar": {
              "outlinewidth": 0,
              "ticks": ""
             }
            },
            "type": "scattergl"
           }
          ],
          "scattermapbox": [
           {
            "marker": {
             "colorbar": {
              "outlinewidth": 0,
              "ticks": ""
             }
            },
            "type": "scattermapbox"
           }
          ],
          "scatterpolar": [
           {
            "marker": {
             "colorbar": {
              "outlinewidth": 0,
              "ticks": ""
             }
            },
            "type": "scatterpolar"
           }
          ],
          "scatterpolargl": [
           {
            "marker": {
             "colorbar": {
              "outlinewidth": 0,
              "ticks": ""
             }
            },
            "type": "scatterpolargl"
           }
          ],
          "scatterternary": [
           {
            "marker": {
             "colorbar": {
              "outlinewidth": 0,
              "ticks": ""
             }
            },
            "type": "scatterternary"
           }
          ],
          "surface": [
           {
            "colorbar": {
             "outlinewidth": 0,
             "ticks": ""
            },
            "colorscale": [
             [
              0,
              "#0d0887"
             ],
             [
              0.1111111111111111,
              "#46039f"
             ],
             [
              0.2222222222222222,
              "#7201a8"
             ],
             [
              0.3333333333333333,
              "#9c179e"
             ],
             [
              0.4444444444444444,
              "#bd3786"
             ],
             [
              0.5555555555555556,
              "#d8576b"
             ],
             [
              0.6666666666666666,
              "#ed7953"
             ],
             [
              0.7777777777777778,
              "#fb9f3a"
             ],
             [
              0.8888888888888888,
              "#fdca26"
             ],
             [
              1,
              "#f0f921"
             ]
            ],
            "type": "surface"
           }
          ],
          "table": [
           {
            "cells": {
             "fill": {
              "color": "#EBF0F8"
             },
             "line": {
              "color": "white"
             }
            },
            "header": {
             "fill": {
              "color": "#C8D4E3"
             },
             "line": {
              "color": "white"
             }
            },
            "type": "table"
           }
          ]
         },
         "layout": {
          "annotationdefaults": {
           "arrowcolor": "#2a3f5f",
           "arrowhead": 0,
           "arrowwidth": 1
          },
          "autotypenumbers": "strict",
          "coloraxis": {
           "colorbar": {
            "outlinewidth": 0,
            "ticks": ""
           }
          },
          "colorscale": {
           "diverging": [
            [
             0,
             "#8e0152"
            ],
            [
             0.1,
             "#c51b7d"
            ],
            [
             0.2,
             "#de77ae"
            ],
            [
             0.3,
             "#f1b6da"
            ],
            [
             0.4,
             "#fde0ef"
            ],
            [
             0.5,
             "#f7f7f7"
            ],
            [
             0.6,
             "#e6f5d0"
            ],
            [
             0.7,
             "#b8e186"
            ],
            [
             0.8,
             "#7fbc41"
            ],
            [
             0.9,
             "#4d9221"
            ],
            [
             1,
             "#276419"
            ]
           ],
           "sequential": [
            [
             0,
             "#0d0887"
            ],
            [
             0.1111111111111111,
             "#46039f"
            ],
            [
             0.2222222222222222,
             "#7201a8"
            ],
            [
             0.3333333333333333,
             "#9c179e"
            ],
            [
             0.4444444444444444,
             "#bd3786"
            ],
            [
             0.5555555555555556,
             "#d8576b"
            ],
            [
             0.6666666666666666,
             "#ed7953"
            ],
            [
             0.7777777777777778,
             "#fb9f3a"
            ],
            [
             0.8888888888888888,
             "#fdca26"
            ],
            [
             1,
             "#f0f921"
            ]
           ],
           "sequentialminus": [
            [
             0,
             "#0d0887"
            ],
            [
             0.1111111111111111,
             "#46039f"
            ],
            [
             0.2222222222222222,
             "#7201a8"
            ],
            [
             0.3333333333333333,
             "#9c179e"
            ],
            [
             0.4444444444444444,
             "#bd3786"
            ],
            [
             0.5555555555555556,
             "#d8576b"
            ],
            [
             0.6666666666666666,
             "#ed7953"
            ],
            [
             0.7777777777777778,
             "#fb9f3a"
            ],
            [
             0.8888888888888888,
             "#fdca26"
            ],
            [
             1,
             "#f0f921"
            ]
           ]
          },
          "colorway": [
           "#636efa",
           "#EF553B",
           "#00cc96",
           "#ab63fa",
           "#FFA15A",
           "#19d3f3",
           "#FF6692",
           "#B6E880",
           "#FF97FF",
           "#FECB52"
          ],
          "font": {
           "color": "#2a3f5f"
          },
          "geo": {
           "bgcolor": "white",
           "lakecolor": "white",
           "landcolor": "#E5ECF6",
           "showlakes": true,
           "showland": true,
           "subunitcolor": "white"
          },
          "hoverlabel": {
           "align": "left"
          },
          "hovermode": "closest",
          "mapbox": {
           "style": "light"
          },
          "paper_bgcolor": "white",
          "plot_bgcolor": "#E5ECF6",
          "polar": {
           "angularaxis": {
            "gridcolor": "white",
            "linecolor": "white",
            "ticks": ""
           },
           "bgcolor": "#E5ECF6",
           "radialaxis": {
            "gridcolor": "white",
            "linecolor": "white",
            "ticks": ""
           }
          },
          "scene": {
           "xaxis": {
            "backgroundcolor": "#E5ECF6",
            "gridcolor": "white",
            "gridwidth": 2,
            "linecolor": "white",
            "showbackground": true,
            "ticks": "",
            "zerolinecolor": "white"
           },
           "yaxis": {
            "backgroundcolor": "#E5ECF6",
            "gridcolor": "white",
            "gridwidth": 2,
            "linecolor": "white",
            "showbackground": true,
            "ticks": "",
            "zerolinecolor": "white"
           },
           "zaxis": {
            "backgroundcolor": "#E5ECF6",
            "gridcolor": "white",
            "gridwidth": 2,
            "linecolor": "white",
            "showbackground": true,
            "ticks": "",
            "zerolinecolor": "white"
           }
          },
          "shapedefaults": {
           "line": {
            "color": "#2a3f5f"
           }
          },
          "ternary": {
           "aaxis": {
            "gridcolor": "white",
            "linecolor": "white",
            "ticks": ""
           },
           "baxis": {
            "gridcolor": "white",
            "linecolor": "white",
            "ticks": ""
           },
           "bgcolor": "#E5ECF6",
           "caxis": {
            "gridcolor": "white",
            "linecolor": "white",
            "ticks": ""
           }
          },
          "title": {
           "x": 0.05
          },
          "xaxis": {
           "automargin": true,
           "gridcolor": "white",
           "linecolor": "white",
           "ticks": "",
           "title": {
            "standoff": 15
           },
           "zerolinecolor": "white",
           "zerolinewidth": 2
          },
          "yaxis": {
           "automargin": true,
           "gridcolor": "white",
           "linecolor": "white",
           "ticks": "",
           "title": {
            "standoff": 15
           },
           "zerolinecolor": "white",
           "zerolinewidth": 2
          }
         }
        },
        "title": {
         "text": "operating_systems"
        },
        "xaxis": {
         "anchor": "y",
         "domain": [
          0,
          1
         ],
         "linecolor": "black",
         "title": {
          "text": "Number"
         }
        },
        "yaxis": {
         "anchor": "x",
         "domain": [
          0,
          1
         ],
         "linecolor": "black",
         "tickfont": {
          "size": 10
         },
         "ticktext": [
          "Linux",
          "Windows",
          "iOS",
          "MacOS"
         ],
         "tickvals": [
          "Linux",
          "Windows",
          "iOS",
          "MacOS"
         ],
         "title": {
          "text": "operating_systems"
         }
        }
       }
      }
     },
     "metadata": {},
     "output_type": "display_data"
    }
   ],
   "source": [
    "\n",
    "\n",
    "# Topics:\n",
    "#----------\n",
    "\n",
    "# Countries\n",
    "# Threat Actors\n",
    "# Attacks\n",
    "# Malware\n",
    "# Industries\n",
    "# Topics\n",
    "\n",
    "# define local output path\n",
    "file_root=\"/Users/bernd/Documents/Own_Projects/articles_summary\"\n",
    "\n",
    "# extract available topics\n",
    "topics = [key for key,values in frequencies.items()]\n",
    "\n",
    "file_ext = '.png'      \n",
    "for topic in topics:    \n",
    "    print(topic)\n",
    "\n",
    "    # extract dataframe per topic, counting the number of occurences\n",
    "    topic_df = pd.DataFrame(frequencies[topic],index=['0',])\\\n",
    "                .transpose()\\\n",
    "                .reset_index()\\\n",
    "                .rename(columns={'index':topic,'0':'count'})\n",
    "\n",
    "    filename = file_root + topic\n",
    "    outputfile=os.path.join(filename+file_ext)\n",
    "    #chartpaths.append(outputfile)\n",
    "    print(f'Outputfile: {outputfile}')\n",
    "\n",
    "    bar_horizontal_chart(indf=topic_df,\\\n",
    "                        xcol='count',\n",
    "                        ycol=topic,\n",
    "                        title_text=topic,\\\n",
    "                        xaxis_title_text='Number',\\\n",
    "                        yaxis_title_text=topic)\n",
    "                        #outfilepath=outputfile)\n",
    "        "
   ]
  },
  {
   "cell_type": "code",
   "execution_count": null,
   "metadata": {},
   "outputs": [],
   "source": []
  }
 ],
 "metadata": {
  "kernelspec": {
   "display_name": "nlpenv",
   "language": "python",
   "name": "python3"
  },
  "language_info": {
   "codemirror_mode": {
    "name": "ipython",
    "version": 3
   },
   "file_extension": ".py",
   "mimetype": "text/x-python",
   "name": "python",
   "nbconvert_exporter": "python",
   "pygments_lexer": "ipython3",
   "version": "3.9.6"
  }
 },
 "nbformat": 4,
 "nbformat_minor": 2
}

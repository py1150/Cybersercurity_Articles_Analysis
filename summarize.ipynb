{
 "cells": [
  {
   "cell_type": "markdown",
   "metadata": {},
   "source": [
    "# Summarize"
   ]
  },
  {
   "cell_type": "markdown",
   "metadata": {},
   "source": [
    "## Import Libraries"
   ]
  },
  {
   "cell_type": "code",
   "execution_count": 15,
   "metadata": {},
   "outputs": [],
   "source": [
    "import boto3\n",
    "from transformers import AutoTokenizer, AutoModelForSeq2SeqLM\n",
    "\n",
    "import importlib.util\n",
    "\n",
    "import pandas as pd\n",
    "\n",
    "import configparser\n",
    "import sys\n",
    "import os"
   ]
  },
  {
   "cell_type": "markdown",
   "metadata": {},
   "source": [
    "## Functions"
   ]
  },
  {
   "cell_type": "markdown",
   "metadata": {},
   "source": [
    "### Create an aws session"
   ]
  },
  {
   "cell_type": "code",
   "execution_count": null,
   "metadata": {},
   "outputs": [],
   "source": [
    "def create_aws_session(profile_name='py_admin'):\n",
    "    try:\n",
    "        session = boto3.Session(profile_name=profile_name)\n",
    "        return session\n",
    "    except Exception as e:\n",
    "        print(f\"Error creating session for profile {profile_name}: {e}\")\n",
    "        return None\n",
    "\n",
    "# Use the py_admin profile\n",
    "session = create_aws_session()"
   ]
  },
  {
   "cell_type": "markdown",
   "metadata": {},
   "source": [
    "### Import custom functions"
   ]
  },
  {
   "cell_type": "code",
   "execution_count": 18,
   "metadata": {},
   "outputs": [
    {
     "name": "stdout",
     "output_type": "stream",
     "text": [
      "Module csv_methods imported.\n"
     ]
    }
   ],
   "source": [
    "# Initialize S3 client\n",
    "#s3 = boto3.client('s3')\n",
    "s3 = session.client('s3')\n",
    "\n",
    "\n",
    "def import_module_from_s3(bucket, key, module_name):    \n",
    "    obj = s3.get_object(Bucket=bucket, Key=key)\n",
    "    code = obj['Body'].read()\n",
    "\n",
    "    # Create a temporary module and load the code\n",
    "    spec = importlib.util.spec_from_loader(module_name, loader=None)\n",
    "    module = importlib.util.module_from_spec(spec)\n",
    "    exec(code, module.__dict__)\n",
    "\n",
    "    # Register the module so it can be imported\n",
    "    sys.modules[module_name] = module\n",
    "\n",
    "    return module\n",
    "\n",
    "\n",
    "# get common methods location\n",
    "cm_bucket = 'cloudius-aurelius-config'\n",
    "cm_key = 'common_methods/csv_methods.py'\n",
    "#cm_bucket=os.getenv('CM_BUCKET')\n",
    "#cm_key=os.getenv('CM_KEY')\n",
    "\n",
    "cm = import_module_from_s3(bucket=cm_bucket,\\\n",
    "                           key=cm_key,\\\n",
    "                           module_name='csv_methods') \n"
   ]
  },
  {
   "cell_type": "markdown",
   "metadata": {},
   "source": [
    "## Load Data"
   ]
  },
  {
   "cell_type": "code",
   "execution_count": 19,
   "metadata": {},
   "outputs": [],
   "source": [
    "# set aws bucket and key \n",
    "aws_bucket = \"py-secnews-landing\"\n",
    "aws_key = \"news/1/ArchiveNews_2024-06-14:13:23_split.csv\"\n",
    "\n",
    "# download csv content\n",
    "csv_content = cm.download_csv_content_from_s3(bucket=aws_bucket,\\\n",
    "                key=aws_key,\\\n",
    "                encoding='utf-8',\\\n",
    "                s3_client=s3)"
   ]
  },
  {
   "cell_type": "code",
   "execution_count": null,
   "metadata": {},
   "outputs": [],
   "source": [
    "# aggregate data (but ideally this is only done in the data lake)\n",
    "\"\"\"\n",
    "import boto3\n",
    "import pandas as pd\n",
    "from io import BytesIO\n",
    "\n",
    "# Initialize your S3 client\n",
    "session = create_aws_session()\n",
    "s3_client = session.client('s3')\n",
    "\n",
    "# Define bucket name and base folder path\n",
    "bucket_name = 'py-secnews-landing'\n",
    "base_folder = 'news/'\n",
    "\n",
    "def merge_csvs_in_folders(bucket, base_folder):\n",
    "    merged_dataframes = []\n",
    "    \n",
    "    # List all folders in the base path\n",
    "    for folder_num in range(1, 11):  # Folders 1 to 10\n",
    "        folder_path = f\"{base_folder}{folder_num}/\"\n",
    "        \n",
    "        # List all CSV files in the current folder\n",
    "        response = s3_client.list_objects_v2(Bucket=bucket, Prefix=folder_path)\n",
    "        \n",
    "        # Iterate through the CSV files in the folder\n",
    "        for obj in response.get('Contents', []):\n",
    "            if obj['Key'].endswith('.csv'):\n",
    "                # Download and load the CSV file into a DataFrame\n",
    "                csv_obj = s3_client.get_object(Bucket=bucket, Key=obj['Key'])\n",
    "                csv_content = csv_obj['Body'].read()\n",
    "                df = pd.read_csv(BytesIO(csv_content))\n",
    "                \n",
    "                # Append to the list of dataframes to merge\n",
    "                merged_dataframes.append(df)\n",
    "\n",
    "    # Concatenate all DataFrames into one\n",
    "    combined_df = pd.concat(merged_dataframes, ignore_index=True)\n",
    "    return combined_df\n",
    "\n",
    "# Execute the function and merge the CSVs\n",
    "merged_df = merge_csvs_in_folders(bucket_name, base_folder)\n",
    "\n",
    "# Optional: Save to a CSV (local or upload to S3)\n",
    "# merged_df.to_csv('merged_output.csv', index=False)\n",
    "\"\"\""
   ]
  },
  {
   "cell_type": "code",
   "execution_count": 23,
   "metadata": {},
   "outputs": [],
   "source": [
    "meta_dict={'delimiter':','}\n",
    "df = cm.csv_str_to_df(csv_content=csv_content,\\\n",
    "                      metadata_dict=meta_dict)"
   ]
  },
  {
   "cell_type": "code",
   "execution_count": 25,
   "metadata": {},
   "outputs": [
    {
     "data": {
      "text/html": [
       "<div>\n",
       "<style scoped>\n",
       "    .dataframe tbody tr th:only-of-type {\n",
       "        vertical-align: middle;\n",
       "    }\n",
       "\n",
       "    .dataframe tbody tr th {\n",
       "        vertical-align: top;\n",
       "    }\n",
       "\n",
       "    .dataframe thead th {\n",
       "        text-align: right;\n",
       "    }\n",
       "</style>\n",
       "<table border=\"1\" class=\"dataframe\">\n",
       "  <thead>\n",
       "    <tr style=\"text-align: right;\">\n",
       "      <th></th>\n",
       "      <th>source_id</th>\n",
       "      <th>time_publish</th>\n",
       "      <th>author</th>\n",
       "      <th>title</th>\n",
       "      <th>news_summary</th>\n",
       "      <th>news_text</th>\n",
       "      <th>news_url</th>\n",
       "      <th>crawl_id</th>\n",
       "    </tr>\n",
       "  </thead>\n",
       "  <tbody>\n",
       "    <tr>\n",
       "      <th>0</th>\n",
       "      <td>6</td>\n",
       "      <td>NaN</td>\n",
       "      <td>[\"Jun\", \"The Hacker News\"]</td>\n",
       "      <td>Learn to Secure Petabyte-Scale Data in a Webin...</td>\n",
       "      <td>NaN</td>\n",
       "      <td>Data is growing faster than ever. Remember whe...</td>\n",
       "      <td>https://thehackernews.com/2024/06/learn-to-sec...</td>\n",
       "      <td>1</td>\n",
       "    </tr>\n",
       "    <tr>\n",
       "      <th>1</th>\n",
       "      <td>6</td>\n",
       "      <td>NaN</td>\n",
       "      <td>[\"Jun\", \"The Hacker News\"]</td>\n",
       "      <td>Why Regulated Industries are Turning to Milita...</td>\n",
       "      <td>NaN</td>\n",
       "      <td>As cyber threats loom large and data breaches ...</td>\n",
       "      <td>https://thehackernews.com/2024/06/why-regulate...</td>\n",
       "      <td>1</td>\n",
       "    </tr>\n",
       "    <tr>\n",
       "      <th>2</th>\n",
       "      <td>6</td>\n",
       "      <td>NaN</td>\n",
       "      <td>[\"Jun\"]</td>\n",
       "      <td>ZKTeco Biometric System Found Vulnerable to 24...</td>\n",
       "      <td>NaN</td>\n",
       "      <td>An analysis of a hybrid biometric access syste...</td>\n",
       "      <td>https://thehackernews.com/2024/06/zkteco-biome...</td>\n",
       "      <td>1</td>\n",
       "    </tr>\n",
       "    <tr>\n",
       "      <th>3</th>\n",
       "      <td>6</td>\n",
       "      <td>NaN</td>\n",
       "      <td>[\"Jun\"]</td>\n",
       "      <td>North Korean Hackers Target Brazilian Fintech ...</td>\n",
       "      <td>NaN</td>\n",
       "      <td>Threat actors linked to North Korea have accou...</td>\n",
       "      <td>https://thehackernews.com/2024/06/north-korean...</td>\n",
       "      <td>1</td>\n",
       "    </tr>\n",
       "    <tr>\n",
       "      <th>4</th>\n",
       "      <td>6</td>\n",
       "      <td>NaN</td>\n",
       "      <td>[\"Jun\"]</td>\n",
       "      <td>Microsoft Delays AI-Powered Recall Feature for...</td>\n",
       "      <td>NaN</td>\n",
       "      <td>Microsoft on Thursday revealed that it's delay...</td>\n",
       "      <td>https://thehackernews.com/2024/06/microsoft-de...</td>\n",
       "      <td>1</td>\n",
       "    </tr>\n",
       "  </tbody>\n",
       "</table>\n",
       "</div>"
      ],
      "text/plain": [
       "   source_id  time_publish                      author  \\\n",
       "0          6           NaN  [\"Jun\", \"The Hacker News\"]   \n",
       "1          6           NaN  [\"Jun\", \"The Hacker News\"]   \n",
       "2          6           NaN                     [\"Jun\"]   \n",
       "3          6           NaN                     [\"Jun\"]   \n",
       "4          6           NaN                     [\"Jun\"]   \n",
       "\n",
       "                                               title  news_summary  \\\n",
       "0  Learn to Secure Petabyte-Scale Data in a Webin...           NaN   \n",
       "1  Why Regulated Industries are Turning to Milita...           NaN   \n",
       "2  ZKTeco Biometric System Found Vulnerable to 24...           NaN   \n",
       "3  North Korean Hackers Target Brazilian Fintech ...           NaN   \n",
       "4  Microsoft Delays AI-Powered Recall Feature for...           NaN   \n",
       "\n",
       "                                           news_text  \\\n",
       "0  Data is growing faster than ever. Remember whe...   \n",
       "1  As cyber threats loom large and data breaches ...   \n",
       "2  An analysis of a hybrid biometric access syste...   \n",
       "3  Threat actors linked to North Korea have accou...   \n",
       "4  Microsoft on Thursday revealed that it's delay...   \n",
       "\n",
       "                                            news_url  crawl_id  \n",
       "0  https://thehackernews.com/2024/06/learn-to-sec...         1  \n",
       "1  https://thehackernews.com/2024/06/why-regulate...         1  \n",
       "2  https://thehackernews.com/2024/06/zkteco-biome...         1  \n",
       "3  https://thehackernews.com/2024/06/north-korean...         1  \n",
       "4  https://thehackernews.com/2024/06/microsoft-de...         1  "
      ]
     },
     "execution_count": 25,
     "metadata": {},
     "output_type": "execute_result"
    }
   ],
   "source": [
    "df.head(5)"
   ]
  },
  {
   "cell_type": "code",
   "execution_count": 39,
   "metadata": {},
   "outputs": [],
   "source": [
    "# store input data\n",
    "article = df['news_text'][3]"
   ]
  },
  {
   "cell_type": "markdown",
   "metadata": {},
   "source": [
    "## Apply Model"
   ]
  },
  {
   "cell_type": "code",
   "execution_count": 27,
   "metadata": {},
   "outputs": [],
   "source": [
    "# initialize model\n",
    "def model_init(model_name=\"t5-small\"):\n",
    "    tokenizer = AutoTokenizer.from_pretrained(model_name)\n",
    "    model = AutoModelForSeq2SeqLM.from_pretrained(model_name)\n",
    "    return model\n",
    "model_init(\"t5-small\")"
   ]
  },
  {
   "cell_type": "code",
   "execution_count": 36,
   "metadata": {},
   "outputs": [],
   "source": [
    "def apply_model(input_text, model):\n",
    "    \"\"\"\n",
    "    Creates a summary of a given input text with a given model\n",
    "    input_text (str): input text to apply the model on\n",
    "    model (transformers.models): the model initialized with model_init\n",
    "    \"\"\"\n",
    "\n",
    "    input_ids = tokenizer.encode( \"summarize: \" + input_text,\n",
    "        return_tensors=\"pt\",\\\n",
    "        max_length=512,\\\n",
    "        truncation=True)\n",
    "    \n",
    "    summary_ids = model.generate(input_ids, max_length=150)\n",
    "\n",
    "    summary = tokenizer.decode(\n",
    "        summary_ids[0],\\\n",
    "        skip_special_tokens=True)\n",
    "\n",
    "    return summary\n"
   ]
  },
  {
   "cell_type": "code",
   "execution_count": 40,
   "metadata": {},
   "outputs": [],
   "source": [
    "summary = apply_model(input_text=article,model=model)"
   ]
  },
  {
   "cell_type": "code",
   "execution_count": 41,
   "metadata": {},
   "outputs": [
    {
     "name": "stdout",
     "output_type": "stream",
     "text": [
      "Original Text:\n",
      "---------------\n",
      "Threat actors linked to North Korea have accounted for one-third of all the phishing activity targeting Brazil since 2020, as the country's emergence as an influential power has drawn the attention of cyber espionage groups.\n",
      "\n",
      "\"North Korean government-backed actors have targeted the Brazilian government and Brazil's aerospace, technology, and financial services sectors,\" Google's Mandiant and Threat Analysis Group (TAG) divisions said in a joint report published this week.\n",
      "\n",
      "\"Similar to their targeting interests in other regions, cryptocurrency and financial technology firms have been a particular focus, and at least three North Korean groups have targeted Brazilian cryptocurrency and fintech companies.\"\n",
      "\n",
      "Prominent among those groups is a threat actor tracked as UNC4899 (aka Jade Sleet, PUKCHONG, and TraderTraitor), which has targeted cryptocurrency professionals with a malware-laced trojanized Python app.\n",
      "\n",
      "The attack chains involve reaching out to potential targets via social media and sending a benign PDF document containing a job description for an alleged job opportunity at a well-known cryptocurrency firm.\n",
      "\n",
      "Should the target express interest in the job offer, the threat actor follows it up by sending a second harmless PDF document with a skills questionnaire and instructions to complete a coding assignment by downloading a project from GitHub.\n",
      "\n",
      "\"The project was a trojanized Python app for retrieving cryptocurrency prices that was modified to reach out to an attacker-controlled domain to retrieve a second stage payload if specific conditions were met,\" Mandiant and TAG researchers said.\n",
      "\n",
      "This is not the first time UNC4899, which has been attributed to the 2023 JumpCloud hack, has leveraged this approach. In July 2023, GitHub warned of a social engineering attack that sought to trick employees working at blockchain, cryptocurrency, online gambling, and cybersecurity companies into executing code hosted in a GitHub repository using bogus npm packages.\n",
      "\n",
      "Job-themed social engineering campaigns are a recurring theme among North Korean hacking groups, with the tech giant also spotting a campaign orchestrated by a group it tracks as PAEKTUSAN to deliver a C++ downloader malware referred to as AGAMEMNON via Microsoft Word attachments embedded in phishing emails.\n",
      "\n",
      "\"In one example, PAEKTUSAN created an account impersonating an HR director at a Brazilian aerospace firm and used it to send phishing emails to employees at a second Brazilian aerospace firm,\" the researchers noted, adding the campaigns are consistent with a long-running activity tracked as Operation Dream Job.\n",
      "\n",
      "\"In a separate campaign, PAEKTUSAN masqueraded as a recruiter at a major US aerospace company and reached out to professionals in Brazil and other regions via email and social media about prospective job opportunities.\"\n",
      "\n",
      "Google further said it blocked attempts by another North Korean group dubbed PRONTO to target diplomats with denuclearization- and news-related decoys to trick them into visiting credential harvesting pages or providing their login information in order to view a supposed PDF document.\n",
      "\n",
      "The development comes weeks after Microsoft shed light on a previously undocumented threat actor of North Korean origin, codenamed Moonstone Sleet, which has singled out individuals and organizations in the software and information technology, education, and defense industrial base sectors with both ransomware and espionage attacks.\n",
      "\n",
      "Among Moonstone Sleet's noteworthy tactics is the distribution of malware through counterfeit npm packages published on the npm registry, mirroring that of UNC4899. The said, the packages associated with the two clusters bear distinct code styles and structures.\n",
      "\n",
      "\"Jade Sleet's packages, discovered throughout summer 2023, were designed to work in pairs, with each pair being published by a separate npm user account to distribute their malicious functionality,\" Checkmarx researchers Tzachi Zornstein and Yehuda Gelb said.\n",
      "\n",
      "\"In contrast, the packages published throughout late 2023 and early 2024 adopted a more streamlined single-package approach which would execute its payload immediately upon installation. In the second quarter of 2024, the packages increased in complexity, with the attackers adding obfuscation and having it target Linux systems as well.\"\n",
      "\n",
      "Regardless of the differences, the tactic abuses the trust users place in open-source repositories, allowing the threat actors to reach a broader audience and increasing the likelihood that one of their malicious packages could be inadvertently installed by unwitting developers.\n",
      "\n",
      "The disclosure is significant, not least because it marks an expansion of Moonstone Sleet's malware distribution mechanism, which previously relied on spreading the bogus npm packages using LinkedIn and freelancer websites.\n",
      "\n",
      "The findings also follow the discovery of a new social engineering campaign undertaken by the North Korea-linked Kimsuky group wherein it impersonated the Reuters news agency to target North Korean human rights activists to deliver information-stealing malware under the guise of an interview request, according to Genians.\n",
      "\n",
      "\n",
      "Generated Summary:\n",
      "---------------\n",
      "threat actors linked to north Korea have accounted for one-third of phishing activity targeting Brazil. the group has targeted the government and the aerospace, technology, and financial services sectors. the group has targeted a number of companies including a tv network.\n"
     ]
    }
   ],
   "source": [
    "print(\"Original Text:\")\n",
    "print(\"---------------\")\n",
    "print(article)\n",
    "print(\"\\n\\nGenerated Summary:\")\n",
    "print(\"---------------\")\n",
    "print(summary)"
   ]
  },
  {
   "cell_type": "markdown",
   "metadata": {},
   "source": [
    "## Evaluate"
   ]
  },
  {
   "cell_type": "code",
   "execution_count": null,
   "metadata": {},
   "outputs": [],
   "source": []
  }
 ],
 "metadata": {
  "kernelspec": {
   "display_name": "nlpenv",
   "language": "python",
   "name": "python3"
  },
  "language_info": {
   "codemirror_mode": {
    "name": "ipython",
    "version": 3
   },
   "file_extension": ".py",
   "mimetype": "text/x-python",
   "name": "python",
   "nbconvert_exporter": "python",
   "pygments_lexer": "ipython3",
   "version": "3.9.6"
  }
 },
 "nbformat": 4,
 "nbformat_minor": 2
}
